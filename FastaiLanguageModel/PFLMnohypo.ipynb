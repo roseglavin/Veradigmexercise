{
  "nbformat": 4,
  "nbformat_minor": 0,
  "metadata": {
    "kernelspec": {
      "display_name": "Python 3",
      "language": "python",
      "name": "python3"
    },
    "colab": {
      "name": "PFLMnohypo.ipynb",
      "provenance": [],
      "collapsed_sections": []
    }
  },
  "cells": [
    {
      "cell_type": "markdown",
      "metadata": {
        "id": "reuFr2JDffao"
      },
      "source": [
        "# Practice Fusion (fast.ai) Language Model and Hypothyroid Classifier\r\n",
        "\r\n",
        "*   Takes in Practice Fusion diagnosis and lab text and creates a language model\r\n",
        "*   Builds a classifier on top of the (transfer learned) LM.  \r\n",
        "Written by Rose Glavin. Feb 18th 2021\r\n",
        "\r\n"
      ]
    },
    {
      "cell_type": "markdown",
      "metadata": {
        "id": "wiP5NbKIAgeD"
      },
      "source": [
        "INITIAL SETUP "
      ]
    },
    {
      "cell_type": "code",
      "metadata": {
        "id": "nIzjcswNAjyp",
        "colab": {
          "base_uri": "https://localhost:8080/"
        },
        "outputId": "97dafd6f-bb1a-4145-8643-ac3c21afaa80"
      },
      "source": [
        "from google.colab import auth\n",
        "auth.authenticate_user()\n",
        "project_id = 'hashi-nlp'\n",
        "!gcloud config set project {project_id}\n",
        "bucket_name = 'roseglavinhashi'\n",
        "\n",
        "TASK = 'LanguageModel' #@param {type:\"string\"}\n",
        "\n",
        "TASK_DATA_DIR =  TASK\n",
        "print('***** Task data directory: {} *****'.format(TASK_DATA_DIR))\n",
        "!mkdir -p $TASK_DATA_DIR\n",
        "!ls $TASK_DATA_DIR\n",
        "\n",
        "BUCKET = 'roseglavinhashi' #@param {type:\"string\"}\n",
        "\n",
        "OUTPUT_DIR = 'gs://{}/models/{}'.format(BUCKET, TASK)\n",
        "!mkdir -p  OUTPUT_DIR \n",
        "print('***** Model output directory: {} *****'.format(OUTPUT_DIR))\n",
        "\n",
        "\n",
        "import bs4 as bs\n",
        "import pandas as pd\n",
        "import numpy as np\n",
        "import matplotlib.pyplot as plt\n",
        "import seaborn as sns\n",
        "import os as matplotlib\n",
        "import requests as requests\n",
        "import csv\n"
      ],
      "execution_count": null,
      "outputs": [
        {
          "output_type": "stream",
          "text": [
            "Updated property [core/project].\n",
            "***** Task data directory: LanguageModel *****\n",
            "***** Model output directory: gs://roseglavinhashi/models/LanguageModel *****\n"
          ],
          "name": "stdout"
        }
      ]
    },
    {
      "cell_type": "code",
      "metadata": {
        "colab": {
          "base_uri": "https://localhost:8080/"
        },
        "id": "I-cAfyrp3djV",
        "outputId": "d373187f-b1ac-45ce-c6d8-22446f0ca7d4"
      },
      "source": [
        "!gsutil -m cp  gs://roseglavinhashi/Dtext.csv . \r\n",
        "!gsutil -m cp  gs://roseglavinhashi/Ltext.csv . \r\n",
        "!gsutil -m cp  gs://roseglavinhashi/Mtext.csv . \r\n",
        "\r\n",
        "!gsutil -m cp  gs://roseglavinhashi/PFModelInHypo.csv .\r\n",
        "!gsutil -m cp  gs://roseglavinhashi/PFModelInOmitHypo.csv .\r\n",
        "!gsutil -m cp  gs://roseglavinhashi/TestInHypo.csv .\r\n",
        "!gsutil -m cp  gs://roseglavinhashi/TestInOmitHypo.csv ."
      ],
      "execution_count": null,
      "outputs": [
        {
          "output_type": "stream",
          "text": [
            "Copying gs://roseglavinhashi/Dtext.csv...\n",
            "- [1/1 files][  5.7 MiB/  5.7 MiB] 100% Done                                    \n",
            "Operation completed over 1 objects/5.7 MiB.                                      \n",
            "Copying gs://roseglavinhashi/Ltext.csv...\n",
            "/ [1/1 files][630.2 KiB/630.2 KiB] 100% Done                                    \n",
            "Operation completed over 1 objects/630.2 KiB.                                    \n",
            "Copying gs://roseglavinhashi/Mtext.csv...\n",
            "/ [1/1 files][  2.3 MiB/  2.3 MiB] 100% Done                                    \n",
            "Operation completed over 1 objects/2.3 MiB.                                      \n",
            "Copying gs://roseglavinhashi/PFModelInHypo.csv...\n",
            "/ [1/1 files][  1.2 MiB/  1.2 MiB] 100% Done                                    \n",
            "Operation completed over 1 objects/1.2 MiB.                                      \n",
            "Copying gs://roseglavinhashi/PFModelInOmitHypo.csv...\n",
            "/ [1/1 files][  1.1 MiB/  1.1 MiB] 100% Done                                    \n",
            "Operation completed over 1 objects/1.1 MiB.                                      \n",
            "Copying gs://roseglavinhashi/TestInHypo.csv...\n",
            "/ [1/1 files][ 58.1 KiB/ 58.1 KiB] 100% Done                                    \n",
            "Operation completed over 1 objects/58.1 KiB.                                     \n",
            "Copying gs://roseglavinhashi/TestInOmitHypo.csv...\n",
            "/ [1/1 files][ 58.0 KiB/ 58.0 KiB] 100% Done                                    \n",
            "Operation completed over 1 objects/58.0 KiB.                                     \n"
          ],
          "name": "stdout"
        }
      ]
    },
    {
      "cell_type": "code",
      "metadata": {
        "colab": {
          "base_uri": "https://localhost:8080/"
        },
        "id": "fg7QOi7Y3qbe",
        "outputId": "4e83d3d4-6962-46ef-c719-4b007f0631ac"
      },
      "source": [
        "!ls\r\n"
      ],
      "execution_count": null,
      "outputs": [
        {
          "output_type": "stream",
          "text": [
            "adc.json       Ltext.csv   PFModelInHypo.csv\t  TestInHypo.csv\n",
            "Dtext.csv      Mtext.csv   PFModelInOmitHypo.csv  TestInOmitHypo.csv\n",
            "LanguageModel  OUTPUT_DIR  sample_data\n"
          ],
          "name": "stdout"
        }
      ]
    },
    {
      "cell_type": "code",
      "metadata": {
        "id": "642cgvgsffaq"
      },
      "source": [
        "%reload_ext autoreload\n",
        "%autoreload 2\n",
        "%matplotlib inline"
      ],
      "execution_count": null,
      "outputs": []
    },
    {
      "cell_type": "code",
      "metadata": {
        "id": "FP9MHLB7ffat"
      },
      "source": [
        "import fastai\n",
        "from fastai import * \n",
        "from fastai.text import *\n",
        "from fastai.datasets import URLs"
      ],
      "execution_count": null,
      "outputs": []
    },
    {
      "cell_type": "code",
      "metadata": {
        "id": "D7RyRyEJ1fP6"
      },
      "source": [
        ""
      ],
      "execution_count": null,
      "outputs": []
    },
    {
      "cell_type": "markdown",
      "metadata": {
        "id": "BxBbPOW31f7Y"
      },
      "source": [
        "Add all the diagnosis descriptions and lab results to train the LM\r\n",
        "It contains a row for each patient with either all of the diagnosis description text or the Lab description text (HL7Text). Will be shuffled before batched."
      ]
    },
    {
      "cell_type": "code",
      "metadata": {
        "id": "DwdGo6kJ0kGt"
      },
      "source": [
        "diagdf = pd.read_csv('Dtext.csv')\r\n",
        "labsdf = pd.read_csv('Ltext.csv')\r\n",
        "df = pd.concat ([diagdf,labsdf])\r\n",
        "f=open(\"medtxt.csv\",mode='w', newline='')\r\n",
        "df.to_csv(f, encoding='utf-8', index=False)\r\n"
      ],
      "execution_count": null,
      "outputs": []
    },
    {
      "cell_type": "code",
      "metadata": {
        "colab": {
          "base_uri": "https://localhost:8080/",
          "height": 419
        },
        "id": "Twa71nQQ04a0",
        "outputId": "1e6c4eb0-f965-466e-f8a2-bed2e57ce537"
      },
      "source": [
        "df"
      ],
      "execution_count": null,
      "outputs": [
        {
          "output_type": "execute_result",
          "data": {
            "text/html": [
              "<div>\n",
              "<style scoped>\n",
              "    .dataframe tbody tr th:only-of-type {\n",
              "        vertical-align: middle;\n",
              "    }\n",
              "\n",
              "    .dataframe tbody tr th {\n",
              "        vertical-align: top;\n",
              "    }\n",
              "\n",
              "    .dataframe thead th {\n",
              "        text-align: right;\n",
              "    }\n",
              "</style>\n",
              "<table border=\"1\" class=\"dataframe\">\n",
              "  <thead>\n",
              "    <tr style=\"text-align: right;\">\n",
              "      <th></th>\n",
              "      <th>Unnamed: 0</th>\n",
              "      <th>MedicalText</th>\n",
              "    </tr>\n",
              "  </thead>\n",
              "  <tbody>\n",
              "    <tr>\n",
              "      <th>0</th>\n",
              "      <td>1</td>\n",
              "      <td>Fracture of calcaneus, closed</td>\n",
              "    </tr>\n",
              "    <tr>\n",
              "      <th>1</th>\n",
              "      <td>2</td>\n",
              "      <td>Headache</td>\n",
              "    </tr>\n",
              "    <tr>\n",
              "      <th>2</th>\n",
              "      <td>3</td>\n",
              "      <td>Acute sinusitis, unspecified</td>\n",
              "    </tr>\n",
              "    <tr>\n",
              "      <th>3</th>\n",
              "      <td>4</td>\n",
              "      <td>Routine gynecological examination</td>\n",
              "    </tr>\n",
              "    <tr>\n",
              "      <th>4</th>\n",
              "      <td>5</td>\n",
              "      <td>Epilepsy, unspecified, without mention of intr...</td>\n",
              "    </tr>\n",
              "    <tr>\n",
              "      <th>...</th>\n",
              "      <td>...</td>\n",
              "      <td>...</td>\n",
              "    </tr>\n",
              "    <tr>\n",
              "      <th>29009</th>\n",
              "      <td>29010</td>\n",
              "      <td>Sex Hormone Binding Globulin</td>\n",
              "    </tr>\n",
              "    <tr>\n",
              "      <th>29010</th>\n",
              "      <td>29011</td>\n",
              "      <td>Sex Hormone Binding Globulin</td>\n",
              "    </tr>\n",
              "    <tr>\n",
              "      <th>29011</th>\n",
              "      <td>29012</td>\n",
              "      <td>Sex Hormone Binding Globulin</td>\n",
              "    </tr>\n",
              "    <tr>\n",
              "      <th>29012</th>\n",
              "      <td>29013</td>\n",
              "      <td>T3, Free</td>\n",
              "    </tr>\n",
              "    <tr>\n",
              "      <th>29013</th>\n",
              "      <td>29014</td>\n",
              "      <td>T3, Free</td>\n",
              "    </tr>\n",
              "  </tbody>\n",
              "</table>\n",
              "<p>123844 rows × 2 columns</p>\n",
              "</div>"
            ],
            "text/plain": [
              "       Unnamed: 0                                        MedicalText\n",
              "0               1                      Fracture of calcaneus, closed\n",
              "1               2                                           Headache\n",
              "2               3                       Acute sinusitis, unspecified\n",
              "3               4                  Routine gynecological examination\n",
              "4               5  Epilepsy, unspecified, without mention of intr...\n",
              "...           ...                                                ...\n",
              "29009       29010                       Sex Hormone Binding Globulin\n",
              "29010       29011                       Sex Hormone Binding Globulin\n",
              "29011       29012                       Sex Hormone Binding Globulin\n",
              "29012       29013                                           T3, Free\n",
              "29013       29014                                           T3, Free\n",
              "\n",
              "[123844 rows x 2 columns]"
            ]
          },
          "metadata": {
            "tags": []
          },
          "execution_count": 7
        }
      ]
    },
    {
      "cell_type": "code",
      "metadata": {
        "id": "P9ClDVV2CIg1"
      },
      "source": [
        ""
      ],
      "execution_count": null,
      "outputs": []
    },
    {
      "cell_type": "code",
      "metadata": {
        "id": "9PkFlt7Z4vm2",
        "colab": {
          "base_uri": "https://localhost:8080/",
          "height": 35
        },
        "outputId": "1f9abc7f-1b0f-4960-f2b7-48f3938fe773"
      },
      "source": [
        "path = %pwd\n",
        "path"
      ],
      "execution_count": null,
      "outputs": [
        {
          "output_type": "execute_result",
          "data": {
            "application/vnd.google.colaboratory.intrinsic+json": {
              "type": "string"
            },
            "text/plain": [
              "'/content'"
            ]
          },
          "metadata": {
            "tags": []
          },
          "execution_count": 8
        }
      ]
    },
    {
      "cell_type": "markdown",
      "metadata": {
        "id": "0iJuMosxffbB"
      },
      "source": [
        "### Tokenization"
      ]
    },
    {
      "cell_type": "code",
      "metadata": {
        "id": "6ldhOQCPffbC",
        "colab": {
          "base_uri": "https://localhost:8080/",
          "height": 445
        },
        "outputId": "fabfd54b-cdb3-4221-917f-d8d22fd72185"
      },
      "source": [
        "data = TextLMDataBunch.from_csv(path, 'medtxt.csv')\n",
        "data.show_batch()"
      ],
      "execution_count": null,
      "outputs": [
        {
          "output_type": "display_data",
          "data": {
            "text/html": [
              ""
            ],
            "text/plain": [
              "<IPython.core.display.HTML object>"
            ]
          },
          "metadata": {
            "tags": []
          }
        },
        {
          "output_type": "stream",
          "text": [
            "/usr/local/lib/python3.6/dist-packages/fastai/core.py:302: VisibleDeprecationWarning: Creating an ndarray from ragged nested sequences (which is a list-or-tuple of lists-or-tuples-or ndarrays with different lengths or shapes) is deprecated. If you meant to do this, you must specify 'dtype=object' when creating the ndarray\n",
            "  return np.array(a, dtype=dtype, **kwargs)\n"
          ],
          "name": "stderr"
        },
        {
          "output_type": "display_data",
          "data": {
            "text/html": [
              ""
            ],
            "text/plain": [
              "<IPython.core.display.HTML object>"
            ]
          },
          "metadata": {
            "tags": []
          }
        },
        {
          "output_type": "stream",
          "text": [
            "/usr/local/lib/python3.6/dist-packages/fastai/text/data.py:339: UserWarning: This overload of nonzero is deprecated:\n",
            "\tnonzero()\n",
            "Consider using one of the following signatures instead:\n",
            "\tnonzero(*, bool as_tuple) (Triggered internally at  /pytorch/torch/csrc/utils/python_arg_parser.cpp:882.)\n",
            "  idx_min = (t != self.pad_idx).nonzero().min()\n"
          ],
          "name": "stderr"
        },
        {
          "output_type": "display_data",
          "data": {
            "text/html": [
              "<table border=\"1\" class=\"dataframe\">\n",
              "  <thead>\n",
              "    <tr style=\"text-align: right;\">\n",
              "      <th>idx</th>\n",
              "      <th>text</th>\n",
              "    </tr>\n",
              "  </thead>\n",
              "  <tbody>\n",
              "    <tr>\n",
              "      <td>0</td>\n",
              "      <td>xxbos xxmaj urinary tract infection , site not specified xxbos xxmaj hypertrophy ( benign ) of prostate without urinary obstruction and other lower urinary tract symptoms ( xxup luts ) xxbos xxmaj neutrophils xxbos xxmaj other acne xxbos xxmaj potassium xxbos xxmaj excessive or frequent menstruation xxbos xxup wbc xxbos xxmaj insomnia , unspecified xxbos xxmaj other and unspecified hyperlipidemia xxbos xxmaj chronic kidney disease , xxmaj stage xxup iii</td>\n",
              "    </tr>\n",
              "    <tr>\n",
              "      <td>1</td>\n",
              "      <td>of anticoagulants xxbos xxmaj routine infant or child health check xxbos xxmaj pure hypercholesterolemia xxbos xxmaj unspecified hypothyroidism xxbos xxmaj esophageal reflux xxbos xxmaj dermatophytosis of the body xxbos xxmaj essential hypertension xxbos xxup wbc xxbos monocytes(absolute ) xxbos xxmaj albumin / xxmaj globulin xxbos xxmaj degeneration of lumbar or lumbosacral intervertebral disc xxbos xxmaj unspecified disorder of skin and subcutaneous tissue xxbos xxmaj allergic rhinitis , cause unspecified xxbos</td>\n",
              "    </tr>\n",
              "    <tr>\n",
              "      <td>2</td>\n",
              "      <td>without exacerbation xxbos xxmaj acute cystitis xxbos xxmaj anemia , unspecified xxbos xxmaj polymyalgia rheumatica xxbos xxmaj hemoglobin xxbos xxmaj bilirubin , xxmaj total xxbos xxmaj bilirubin xxbos xxmaj calcifying tendinitis of shoulder xxbos xxmaj senile osteoporosis xxbos xxmaj neutrophils xxbos xxmaj cellulitis and abscess of upper arm and forearm xxbos xxmaj globulin xxbos xxmaj routine general medical examination at a health care facility xxbos xxmaj congestive heart failure ,</td>\n",
              "    </tr>\n",
              "    <tr>\n",
              "      <td>3</td>\n",
              "      <td>mild mental retardation xxbos xxmaj anxiety state , unspecified xxbos xxmaj orthostatic hypotension xxbos xxmaj mixed hyperlipidemia xxbos xxmaj other abnormal blood chemistry xxbos xxmaj other chest pain xxbos xxmaj allergic rhinitis xxbos xxmaj unspecified functional disorder of stomach xxbos xxmaj neutrophils xxbos xxmaj other abnormal glucose xxbos xxmaj estimated xxup gfr ( egfr ) xxbos xxmaj abnormal loss of weight xxbos xxmaj insect bite , nonvenomous , of hip</td>\n",
              "    </tr>\n",
              "    <tr>\n",
              "      <td>4</td>\n",
              "      <td>xxmaj insomnia , unspecified xxbos xxmaj other abnormal glucose xxbos xxmaj proteinuria xxbos xxmaj screening for malignant neoplasms of colon xxbos xxmaj dysphonia xxbos xxmaj pityriasis versicolor xxbos xxmaj asthma , unspecified type , with acute exacerbation xxbos xxmaj other specified visual disturbances xxbos xxmaj unspecified hypothyroidism xxbos xxmaj hemoglobin xxbos xxmaj plantar fascial fibromatosis xxbos xxmaj thyroxine xxbos xxmaj need for prophylactic vaccination and inoculation against influenza xxbos xxmaj</td>\n",
              "    </tr>\n",
              "  </tbody>\n",
              "</table>"
            ],
            "text/plain": [
              "<IPython.core.display.HTML object>"
            ]
          },
          "metadata": {
            "tags": []
          }
        }
      ]
    },
    {
      "cell_type": "markdown",
      "metadata": {
        "id": "4sY7vENXffbF"
      },
      "source": [
        "### Numericalization"
      ]
    },
    {
      "cell_type": "code",
      "metadata": {
        "id": "Dorrr7nqffbG",
        "colab": {
          "base_uri": "https://localhost:8080/"
        },
        "outputId": "a13bfb14-ce6e-449e-bcf4-3cec4f9ef8c8"
      },
      "source": [
        "data.vocab.itos[:10]"
      ],
      "execution_count": null,
      "outputs": [
        {
          "output_type": "execute_result",
          "data": {
            "text/plain": [
              "['xxunk',\n",
              " 'xxpad',\n",
              " 'xxbos',\n",
              " 'xxeos',\n",
              " 'xxfld',\n",
              " 'xxmaj',\n",
              " 'xxup',\n",
              " 'xxrep',\n",
              " 'xxwrep',\n",
              " ',']"
            ]
          },
          "metadata": {
            "tags": []
          },
          "execution_count": 10
        }
      ]
    },
    {
      "cell_type": "code",
      "metadata": {
        "id": "cH5WM9etffbI",
        "colab": {
          "base_uri": "https://localhost:8080/"
        },
        "outputId": "fe66cf7a-3c3d-4e16-f6fb-a22b74798f8f"
      },
      "source": [
        "data.train_ds[0][0]"
      ],
      "execution_count": null,
      "outputs": [
        {
          "output_type": "execute_result",
          "data": {
            "text/plain": [
              "Text [ 2  5 29 17 15]"
            ]
          },
          "metadata": {
            "tags": []
          },
          "execution_count": 11
        }
      ]
    },
    {
      "cell_type": "markdown",
      "metadata": {
        "id": "kD2HxxJCffbP"
      },
      "source": [
        "## Language model"
      ]
    },
    {
      "cell_type": "code",
      "metadata": {
        "id": "2fFSb6pRffbQ"
      },
      "source": [
        "bs=48"
      ],
      "execution_count": null,
      "outputs": []
    },
    {
      "cell_type": "code",
      "metadata": {
        "id": "r9Kaszs5Ws62"
      },
      "source": [
        "data.save('data_lm.pkl')"
      ],
      "execution_count": null,
      "outputs": []
    },
    {
      "cell_type": "code",
      "metadata": {
        "id": "Wlo37sNQffbb"
      },
      "source": [
        "data_lm = load_data(path, 'data_lm.pkl', bs=bs)"
      ],
      "execution_count": null,
      "outputs": []
    },
    {
      "cell_type": "code",
      "metadata": {
        "id": "eGOalCQRffbc",
        "colab": {
          "base_uri": "https://localhost:8080/",
          "height": 306
        },
        "outputId": "a36193c8-eb44-4911-8556-84d0cbd12a6f"
      },
      "source": [
        "data_lm.show_batch()"
      ],
      "execution_count": null,
      "outputs": [
        {
          "output_type": "display_data",
          "data": {
            "text/html": [
              "<table border=\"1\" class=\"dataframe\">\n",
              "  <thead>\n",
              "    <tr style=\"text-align: right;\">\n",
              "      <th>idx</th>\n",
              "      <th>text</th>\n",
              "    </tr>\n",
              "  </thead>\n",
              "  <tbody>\n",
              "    <tr>\n",
              "      <td>0</td>\n",
              "      <td>xxbos xxmaj urinary tract infection , site not specified xxbos xxmaj hypertrophy ( benign ) of prostate without urinary obstruction and other lower urinary tract symptoms ( xxup luts ) xxbos xxmaj neutrophils xxbos xxmaj other acne xxbos xxmaj potassium xxbos xxmaj excessive or frequent menstruation xxbos xxup wbc xxbos xxmaj insomnia , unspecified xxbos xxmaj other and unspecified hyperlipidemia xxbos xxmaj chronic kidney disease , xxmaj stage xxup iii</td>\n",
              "    </tr>\n",
              "    <tr>\n",
              "      <td>1</td>\n",
              "      <td>xxbos xxmaj degeneration of lumbar or lumbosacral intervertebral disc xxbos xxmaj chronic sinusitis xxbos xxmaj tonsillitis , acute xxbos xxmaj hematocrit xxbos xxmaj cervicalgia xxbos xxmaj bilirubin xxbos xxmaj other abnormal glucose xxbos xxmaj globulin xxbos xxmaj acute mucoid otitis media xxbos xxmaj mixed hyperlipidemia xxbos xxmaj decubitus ulcer , buttock xxbos xxmaj streptococcal sore throat xxbos xxmaj urobilinogen xxbos xxmaj thrombocytopenia , unspecified xxbos xxmaj headache xxbos xxmaj subjective</td>\n",
              "    </tr>\n",
              "    <tr>\n",
              "      <td>2</td>\n",
              "      <td>conjunctivitis , unspecified xxbos xxmaj creatinine , xxmaj serum xxbos xxmaj neutrophils - xxmaj absolute xxbos xxmaj malignant neoplasm of prostate xxbos xxmaj pure hypercholesterolemia xxbos xxmaj suppurative and unspecified otitis media xxbos xxmaj gout , unspecified xxbos xxmaj neutrophils ( xxmaj absolute ) xxbos xxmaj hematocrit xxbos xxmaj unspecified chest pain xxbos xxmaj allergic rhinitis , cause unspecified xxbos xxmaj acute upper respiratory infections of unspecified site xxbos xxmaj</td>\n",
              "    </tr>\n",
              "    <tr>\n",
              "      <td>3</td>\n",
              "      <td>xxmaj insomnia , unspecified xxbos xxmaj other abnormal glucose xxbos xxmaj proteinuria xxbos xxmaj screening for malignant neoplasms of colon xxbos xxmaj dysphonia xxbos xxmaj pityriasis versicolor xxbos xxmaj asthma , unspecified type , with acute exacerbation xxbos xxmaj other specified visual disturbances xxbos xxmaj unspecified hypothyroidism xxbos xxmaj hemoglobin xxbos xxmaj plantar fascial fibromatosis xxbos xxmaj thyroxine xxbos xxmaj need for prophylactic vaccination and inoculation against influenza xxbos xxmaj</td>\n",
              "    </tr>\n",
              "    <tr>\n",
              "      <td>4</td>\n",
              "      <td>moderate degree xxbos xxmaj abdominal pain , left lower quadrant xxbos xxmaj routine general medical examination at a health care facility xxbos xxmaj shortness of breath xxbos xxmaj other malaise and fatigue xxbos xxmaj malignant neoplasm of colon , unspecified xxbos xxmaj appearance xxbos xxmaj xxunk disorder xxbos xxmaj unspecified essential hypertension xxbos xxmaj carpal tunnel syndrome xxbos xxmaj leukocytopenia , unspecified xxbos xxmaj acute conjunctivitis , unspecified xxbos xxmaj</td>\n",
              "    </tr>\n",
              "  </tbody>\n",
              "</table>"
            ],
            "text/plain": [
              "<IPython.core.display.HTML object>"
            ]
          },
          "metadata": {
            "tags": []
          }
        }
      ]
    },
    {
      "cell_type": "markdown",
      "metadata": {
        "id": "zRgo0OG1ffbf"
      },
      "source": [
        "We can then put this in a learner object very easily with a model loaded with the pretrained weights. They'll be downloaded the first time you'll execute the following line and stored in `~/.fastai/models/` (or elsewhere if you specified different paths in your config file)."
      ]
    },
    {
      "cell_type": "code",
      "metadata": {
        "id": "Kqa9kr5Offbg",
        "colab": {
          "base_uri": "https://localhost:8080/",
          "height": 34
        },
        "outputId": "7ac1a6b6-2330-4dc3-ac8a-f634c1e89566"
      },
      "source": [
        "learn = language_model_learner(data, AWD_LSTM, drop_mult=0.3)"
      ],
      "execution_count": null,
      "outputs": [
        {
          "output_type": "stream",
          "text": [
            "Downloading https://s3.amazonaws.com/fast-ai-modelzoo/wt103-fwd.tgz\n"
          ],
          "name": "stdout"
        },
        {
          "output_type": "display_data",
          "data": {
            "text/html": [
              ""
            ],
            "text/plain": [
              "<IPython.core.display.HTML object>"
            ]
          },
          "metadata": {
            "tags": []
          }
        }
      ]
    },
    {
      "cell_type": "code",
      "metadata": {
        "id": "w0lUJGo0ffbh",
        "colab": {
          "base_uri": "https://localhost:8080/",
          "height": 112
        },
        "outputId": "cfe3928f-8030-42b5-edd3-38d1fe3a13c6"
      },
      "source": [
        "learn.lr_find()"
      ],
      "execution_count": null,
      "outputs": [
        {
          "output_type": "display_data",
          "data": {
            "text/html": [
              "\n",
              "    <div>\n",
              "        <style>\n",
              "            /* Turns off some styling */\n",
              "            progress {\n",
              "                /* gets rid of default border in Firefox and Opera. */\n",
              "                border: none;\n",
              "                /* Needs to be in here for Safari polyfill so background images work as expected. */\n",
              "                background-size: auto;\n",
              "            }\n",
              "            .progress-bar-interrupted, .progress-bar-interrupted::-webkit-progress-bar {\n",
              "                background: #F44336;\n",
              "            }\n",
              "        </style>\n",
              "      <progress value='0' class='' max='1' style='width:300px; height:20px; vertical-align: middle;'></progress>\n",
              "      0.00% [0/1 00:00<00:00]\n",
              "    </div>\n",
              "    \n",
              "<table border=\"1\" class=\"dataframe\">\n",
              "  <thead>\n",
              "    <tr style=\"text-align: left;\">\n",
              "      <th>epoch</th>\n",
              "      <th>train_loss</th>\n",
              "      <th>valid_loss</th>\n",
              "      <th>accuracy</th>\n",
              "      <th>time</th>\n",
              "    </tr>\n",
              "  </thead>\n",
              "  <tbody>\n",
              "  </tbody>\n",
              "</table><p>\n",
              "\n",
              "    <div>\n",
              "        <style>\n",
              "            /* Turns off some styling */\n",
              "            progress {\n",
              "                /* gets rid of default border in Firefox and Opera. */\n",
              "                border: none;\n",
              "                /* Needs to be in here for Safari polyfill so background images work as expected. */\n",
              "                background-size: auto;\n",
              "            }\n",
              "            .progress-bar-interrupted, .progress-bar-interrupted::-webkit-progress-bar {\n",
              "                background: #F44336;\n",
              "            }\n",
              "        </style>\n",
              "      <progress value='99' class='' max='131' style='width:300px; height:20px; vertical-align: middle;'></progress>\n",
              "      75.57% [99/131 12:58<04:11 4.9237]\n",
              "    </div>\n",
              "    "
            ],
            "text/plain": [
              "<IPython.core.display.HTML object>"
            ]
          },
          "metadata": {
            "tags": []
          }
        },
        {
          "output_type": "stream",
          "text": [
            "LR Finder is complete, type {learner_name}.recorder.plot() to see the graph.\n"
          ],
          "name": "stdout"
        }
      ]
    },
    {
      "cell_type": "code",
      "metadata": {
        "id": "SyfNBE_Rffbj",
        "colab": {
          "base_uri": "https://localhost:8080/",
          "height": 279
        },
        "outputId": "d15bde18-1374-44da-edc1-0debdff5b8ce"
      },
      "source": [
        "learn.recorder.plot(skip_end=15)"
      ],
      "execution_count": null,
      "outputs": [
        {
          "output_type": "display_data",
          "data": {
            "image/png": "[encoded data removed]",
            "text/plain": [
              "<Figure size 432x288 with 1 Axes>"
            ]
          },
          "metadata": {
            "tags": [],
            "needs_background": "light"
          }
        }
      ]
    },
    {
      "cell_type": "code",
      "metadata": {
        "id": "uvuIXFOHffbl",
        "colab": {
          "base_uri": "https://localhost:8080/",
          "height": 80
        },
        "outputId": "2f072fe0-72d0-4d77-8e08-5f57cce0b26a"
      },
      "source": [
        "learn.fit_one_cycle(1, 1e-2, moms=(0.8,0.7))"
      ],
      "execution_count": null,
      "outputs": [
        {
          "output_type": "display_data",
          "data": {
            "text/html": [
              "<table border=\"1\" class=\"dataframe\">\n",
              "  <thead>\n",
              "    <tr style=\"text-align: left;\">\n",
              "      <th>epoch</th>\n",
              "      <th>train_loss</th>\n",
              "      <th>valid_loss</th>\n",
              "      <th>accuracy</th>\n",
              "      <th>time</th>\n",
              "    </tr>\n",
              "  </thead>\n",
              "  <tbody>\n",
              "    <tr>\n",
              "      <td>0</td>\n",
              "      <td>1.792426</td>\n",
              "      <td>1.361697</td>\n",
              "      <td>0.732095</td>\n",
              "      <td>18:35</td>\n",
              "    </tr>\n",
              "  </tbody>\n",
              "</table>"
            ],
            "text/plain": [
              "<IPython.core.display.HTML object>"
            ]
          },
          "metadata": {
            "tags": []
          }
        }
      ]
    },
    {
      "cell_type": "code",
      "metadata": {
        "id": "iBxiLREvffbn"
      },
      "source": [
        "learn.save('fit_head')"
      ],
      "execution_count": null,
      "outputs": []
    },
    {
      "cell_type": "code",
      "metadata": {
        "id": "mQOIR1uAffbp"
      },
      "source": [
        "learn.load('fit_head');"
      ],
      "execution_count": null,
      "outputs": []
    },
    {
      "cell_type": "markdown",
      "metadata": {
        "id": "CDi2_oY-ffbr"
      },
      "source": [
        "To complete the fine-tuning, we can then unfeeze and launch a new training."
      ]
    },
    {
      "cell_type": "code",
      "metadata": {
        "id": "kg2AXur2ffbs"
      },
      "source": [
        "learn.unfreeze()"
      ],
      "execution_count": null,
      "outputs": []
    },
    {
      "cell_type": "markdown",
      "metadata": {
        "id": "VNo-NKwEg9OV"
      },
      "source": [
        "THis time change to only train the whole model for 2 epochs"
      ]
    },
    {
      "cell_type": "code",
      "metadata": {
        "id": "zS0a-FH-ffbv",
        "colab": {
          "base_uri": "https://localhost:8080/",
          "height": 111
        },
        "outputId": "d0c92ccf-c3ad-482a-b2c0-94a4ea984df2"
      },
      "source": [
        "learn.fit_one_cycle(2, 1e-3, moms=(0.8,0.7))"
      ],
      "execution_count": null,
      "outputs": [
        {
          "output_type": "display_data",
          "data": {
            "text/html": [
              "<table border=\"1\" class=\"dataframe\">\n",
              "  <thead>\n",
              "    <tr style=\"text-align: left;\">\n",
              "      <th>epoch</th>\n",
              "      <th>train_loss</th>\n",
              "      <th>valid_loss</th>\n",
              "      <th>accuracy</th>\n",
              "      <th>time</th>\n",
              "    </tr>\n",
              "  </thead>\n",
              "  <tbody>\n",
              "    <tr>\n",
              "      <td>0</td>\n",
              "      <td>1.328573</td>\n",
              "      <td>1.230075</td>\n",
              "      <td>0.753632</td>\n",
              "      <td>28:43</td>\n",
              "    </tr>\n",
              "    <tr>\n",
              "      <td>1</td>\n",
              "      <td>1.237270</td>\n",
              "      <td>1.195637</td>\n",
              "      <td>0.758455</td>\n",
              "      <td>28:40</td>\n",
              "    </tr>\n",
              "  </tbody>\n",
              "</table>"
            ],
            "text/plain": [
              "<IPython.core.display.HTML object>"
            ]
          },
          "metadata": {
            "tags": []
          }
        }
      ]
    },
    {
      "cell_type": "code",
      "metadata": {
        "id": "x5ifELOdffbx"
      },
      "source": [
        "learn.save('fine_tuned')\n",
        "learn.save_encoder('fine_tuned_enc')"
      ],
      "execution_count": null,
      "outputs": []
    },
    {
      "cell_type": "markdown",
      "metadata": {
        "id": "scEXkDP6ffby"
      },
      "source": [
        "How good is our model? Well let's try to see what it predicts after a few given words."
      ]
    },
    {
      "cell_type": "code",
      "metadata": {
        "id": "abbxz5Qzffby"
      },
      "source": [
        "learn.load('fine_tuned');"
      ],
      "execution_count": null,
      "outputs": []
    },
    {
      "cell_type": "code",
      "metadata": {
        "id": "_GoW8FQ0ffb0"
      },
      "source": [
        "TEXT = \"Pain in the lower leg. Fungal Infection. UTI \"\n",
        "N_WORDS = 20\n",
        "N_SENTENCES = 2"
      ],
      "execution_count": null,
      "outputs": []
    },
    {
      "cell_type": "code",
      "metadata": {
        "id": "Wzo4WsQOffb1",
        "colab": {
          "base_uri": "https://localhost:8080/"
        },
        "outputId": "e5d3fdae-279c-46e7-ddee-df8a4ad11d52"
      },
      "source": [
        "print(\"\\n\".join(learn.predict(TEXT, N_WORDS, temperature=0.8) for _ in range(N_SENTENCES)))"
      ],
      "execution_count": null,
      "outputs": [
        {
          "output_type": "stream",
          "text": [
            "Pain in the lower leg. Fungal Infection. UTI  : Acute maxillary sinusitis xxbos Encounter for long - term ( current ) use of anticoagulants xxbos Anxiety state , unspecified xxbos Other specified idiopathic peripheral neuropathy xxbos Depressive disorder , NOS xxbos\n",
            "Pain in the lower leg. Fungal Infection. UTI  WHITE CELL COUNT xxbos Other specified visual disturbances xxbos Appearance xxbos Routine general medical examination at a health care facility xxbos Chloride xxbos Benign essential hypertension xxbos Other and unspecified hyperlipidemia\n"
          ],
          "name": "stdout"
        }
      ]
    },
    {
      "cell_type": "code",
      "metadata": {
        "id": "_6BpTBeXwYcH",
        "colab": {
          "base_uri": "https://localhost:8080/"
        },
        "outputId": "fa3662b7-2f2b-4fdb-cd7a-d69c7b9e7897"
      },
      "source": [
        "TEXT = \"essential hypertension   \"\n",
        "print(\"\\n\".join(learn.predict(TEXT, N_WORDS, temperature=0.7) for _ in range(N_SENTENCES)))\n"
      ],
      "execution_count": null,
      "outputs": [
        {
          "output_type": "stream",
          "text": [
            "essential hypertension    xxbos Acute bronchitis xxbos Routine general medical examination at a health care facility xxbos Benign essential hypertension xxbos Triglyceride xxbos Globulin xxbos Dysphagia , unspecified xxbos Hemoglobin xxbos Encounter for long -\n",
            "essential hypertension    xxbos Unspecified essential hypertension xxbos Carpal tunnel syndrome xxbos COMPLETE BLOOD COUNT xxbos Anxiety state , unspecified xxbos Cough xxbos Coronary atherosclerosis of native coronary artery xxbos Chloride xxbos Prophylactic\n"
          ],
          "name": "stdout"
        }
      ]
    },
    {
      "cell_type": "code",
      "metadata": {
        "colab": {
          "base_uri": "https://localhost:8080/"
        },
        "id": "bqeAXxaOb9mY",
        "outputId": "bd986187-1d0c-445a-b524-a2f07073b949"
      },
      "source": [
        "TEXT = \"Urinary Tract Infection  lower leg \"\r\n",
        "print(\"\\n\".join(learn.predict(TEXT, N_WORDS, temperature=0.7) for _ in range(N_SENTENCES)))"
      ],
      "execution_count": null,
      "outputs": [
        {
          "output_type": "stream",
          "text": [
            "Urinary Tract Infection  lower leg  xxbos Acute bronchitis xxbos Dermatophytosis of nail xxbos Other specified acquired hypothyroidism xxbos Headache xxbos Acute bronchitis xxbos Unspecified essential hypertension xxbos Meniere 's disease xxbos Globulin xxbos Chloride xxbos\n",
            "Urinary Tract Infection  lower leg  , not specified xxbos Protein xxbos Other and unspecified hyperlipidemia xxbos Dermatophytosis of foot xxbos Globulin xxbos COPD , NOS xxbos Other colitis xxbos Protein xxbos Vaginitis and vulvovaginitis xxbos\n"
          ],
          "name": "stdout"
        }
      ]
    },
    {
      "cell_type": "code",
      "metadata": {
        "id": "rVoPqHhDffb3"
      },
      "source": [
        "learn.save_encoder('fine_tuned_enc')"
      ],
      "execution_count": null,
      "outputs": []
    },
    {
      "cell_type": "markdown",
      "metadata": {
        "id": "KPoA4Ffaffb4"
      },
      "source": [
        "## Classifier"
      ]
    },
    {
      "cell_type": "code",
      "metadata": {
        "colab": {
          "base_uri": "https://localhost:8080/"
        },
        "id": "7k_HJw_qp52Q",
        "outputId": "d6219007-4ea2-4136-e99c-2ef9488853e0"
      },
      "source": [
        "!gsutil -m cp    gs://roseglavinhashi/PFModelIN.csv .\r\n"
      ],
      "execution_count": null,
      "outputs": [
        {
          "output_type": "stream",
          "text": [
            "Copying gs://roseglavinhashi/PFModelIN.csv...\n",
            "/ [1/1 files][  1.2 MiB/  1.2 MiB] 100% Done                                    \n",
            "Operation completed over 1 objects/1.2 MiB.                                      \n"
          ],
          "name": "stdout"
        }
      ]
    },
    {
      "cell_type": "code",
      "metadata": {
        "colab": {
          "base_uri": "https://localhost:8080/",
          "height": 419
        },
        "id": "hGLqPJPlq14-",
        "outputId": "ebb0f81e-4d79-482a-e06c-332b72cd98ba"
      },
      "source": [
        "PFindf = pd.read_csv('PFModelInOmitHypo.csv')\r\n",
        "PFindf"
      ],
      "execution_count": null,
      "outputs": [
        {
          "output_type": "execute_result",
          "data": {
            "text/html": [
              "<div>\n",
              "<style scoped>\n",
              "    .dataframe tbody tr th:only-of-type {\n",
              "        vertical-align: middle;\n",
              "    }\n",
              "\n",
              "    .dataframe tbody tr th {\n",
              "        vertical-align: top;\n",
              "    }\n",
              "\n",
              "    .dataframe thead th {\n",
              "        text-align: right;\n",
              "    }\n",
              "</style>\n",
              "<table border=\"1\" class=\"dataframe\">\n",
              "  <thead>\n",
              "    <tr style=\"text-align: right;\">\n",
              "      <th></th>\n",
              "      <th>Y_Label</th>\n",
              "      <th>MedicalText</th>\n",
              "    </tr>\n",
              "  </thead>\n",
              "  <tbody>\n",
              "    <tr>\n",
              "      <th>0</th>\n",
              "      <td>1</td>\n",
              "      <td>Pure hypercholesterolemia.Premenstrual tension...</td>\n",
              "    </tr>\n",
              "    <tr>\n",
              "      <th>1</th>\n",
              "      <td>0</td>\n",
              "      <td>Obesity, unspecified</td>\n",
              "    </tr>\n",
              "    <tr>\n",
              "      <th>2</th>\n",
              "      <td>1</td>\n",
              "      <td>Infertility, female, of unspecified origin.Fla...</td>\n",
              "    </tr>\n",
              "    <tr>\n",
              "      <th>3</th>\n",
              "      <td>0</td>\n",
              "      <td>Diarrhea.Encounter for long-term (current) use...</td>\n",
              "    </tr>\n",
              "    <tr>\n",
              "      <th>4</th>\n",
              "      <td>0</td>\n",
              "      <td>Lumbago.Scoliosis [and kyphoscoliosis], idiopa...</td>\n",
              "    </tr>\n",
              "    <tr>\n",
              "      <th>...</th>\n",
              "      <td>...</td>\n",
              "      <td>...</td>\n",
              "    </tr>\n",
              "    <tr>\n",
              "      <th>2059</th>\n",
              "      <td>1</td>\n",
              "      <td>Dysthymic disorder.Mixed hyperlipidemia.Iron d...</td>\n",
              "    </tr>\n",
              "    <tr>\n",
              "      <th>2060</th>\n",
              "      <td>1</td>\n",
              "      <td>Benign essential hypertension.Fever, unspecifi...</td>\n",
              "    </tr>\n",
              "    <tr>\n",
              "      <th>2061</th>\n",
              "      <td>0</td>\n",
              "      <td>Flatulence, eructation, and gas pain.Abdominal...</td>\n",
              "    </tr>\n",
              "    <tr>\n",
              "      <th>2062</th>\n",
              "      <td>0</td>\n",
              "      <td>Supervision of normal first pregnancy.Group B ...</td>\n",
              "    </tr>\n",
              "    <tr>\n",
              "      <th>2063</th>\n",
              "      <td>1</td>\n",
              "      <td>Hirsutism.Pain in joint involving shoulder reg...</td>\n",
              "    </tr>\n",
              "  </tbody>\n",
              "</table>\n",
              "<p>2064 rows × 2 columns</p>\n",
              "</div>"
            ],
            "text/plain": [
              "      Y_Label                                        MedicalText\n",
              "0           1  Pure hypercholesterolemia.Premenstrual tension...\n",
              "1           0                               Obesity, unspecified\n",
              "2           1  Infertility, female, of unspecified origin.Fla...\n",
              "3           0  Diarrhea.Encounter for long-term (current) use...\n",
              "4           0  Lumbago.Scoliosis [and kyphoscoliosis], idiopa...\n",
              "...       ...                                                ...\n",
              "2059        1  Dysthymic disorder.Mixed hyperlipidemia.Iron d...\n",
              "2060        1  Benign essential hypertension.Fever, unspecifi...\n",
              "2061        0  Flatulence, eructation, and gas pain.Abdominal...\n",
              "2062        0  Supervision of normal first pregnancy.Group B ...\n",
              "2063        1  Hirsutism.Pain in joint involving shoulder reg...\n",
              "\n",
              "[2064 rows x 2 columns]"
            ]
          },
          "metadata": {
            "tags": []
          },
          "execution_count": 32
        }
      ]
    },
    {
      "cell_type": "code",
      "metadata": {
        "id": "QUw_uwCK7mct",
        "colab": {
          "base_uri": "https://localhost:8080/",
          "height": 122
        },
        "outputId": "f462406e-f7a3-40e1-b49c-a537d8162773"
      },
      "source": [
        "\n",
        "data_clas = TextClasDataBunch.from_csv(path, 'PFModelInOmitHypo.csv', vocab=data_lm.train_ds.vocab, bs=bs)"
      ],
      "execution_count": null,
      "outputs": [
        {
          "output_type": "display_data",
          "data": {
            "text/html": [
              ""
            ],
            "text/plain": [
              "<IPython.core.display.HTML object>"
            ]
          },
          "metadata": {
            "tags": []
          }
        },
        {
          "output_type": "stream",
          "text": [
            "/usr/local/lib/python3.6/dist-packages/fastai/core.py:302: VisibleDeprecationWarning: Creating an ndarray from ragged nested sequences (which is a list-or-tuple of lists-or-tuples-or ndarrays with different lengths or shapes) is deprecated. If you meant to do this, you must specify 'dtype=object' when creating the ndarray\n",
            "  return np.array(a, dtype=dtype, **kwargs)\n"
          ],
          "name": "stderr"
        },
        {
          "output_type": "display_data",
          "data": {
            "text/html": [
              ""
            ],
            "text/plain": [
              "<IPython.core.display.HTML object>"
            ]
          },
          "metadata": {
            "tags": []
          }
        },
        {
          "output_type": "stream",
          "text": [
            "/usr/local/lib/python3.6/dist-packages/numpy/core/_asarray.py:83: VisibleDeprecationWarning: Creating an ndarray from ragged nested sequences (which is a list-or-tuple of lists-or-tuples-or ndarrays with different lengths or shapes) is deprecated. If you meant to do this, you must specify 'dtype=object' when creating the ndarray\n",
            "  return array(a, dtype, copy=False, order=order)\n",
            "<string>:6: VisibleDeprecationWarning: Creating an ndarray from ragged nested sequences (which is a list-or-tuple of lists-or-tuples-or ndarrays with different lengths or shapes) is deprecated. If you meant to do this, you must specify 'dtype=object' when creating the ndarray\n"
          ],
          "name": "stderr"
        }
      ]
    },
    {
      "cell_type": "markdown",
      "metadata": {
        "id": "yt_zjeLdffb4"
      },
      "source": [
        "Now, we'll create a new data object that only grabs the labelled data and keeps those labels. Again, this line takes a bit of time."
      ]
    },
    {
      "cell_type": "code",
      "metadata": {
        "id": "ximKiRjnhoAO"
      },
      "source": [
        "data_clas.save('data_clas.pkl')"
      ],
      "execution_count": null,
      "outputs": []
    },
    {
      "cell_type": "code",
      "metadata": {
        "id": "AAzxv-bsffb7",
        "colab": {
          "base_uri": "https://localhost:8080/"
        },
        "outputId": "654a8b90-bece-4865-b831-9c8c0fa10687"
      },
      "source": [
        "data_clas = load_data(path, 'data_clas.pkl', bs=bs)"
      ],
      "execution_count": null,
      "outputs": [
        {
          "output_type": "stream",
          "text": [
            "/usr/local/lib/python3.6/dist-packages/numpy/core/_asarray.py:83: VisibleDeprecationWarning: Creating an ndarray from ragged nested sequences (which is a list-or-tuple of lists-or-tuples-or ndarrays with different lengths or shapes) is deprecated. If you meant to do this, you must specify 'dtype=object' when creating the ndarray\n",
            "  return array(a, dtype, copy=False, order=order)\n",
            "<string>:6: VisibleDeprecationWarning: Creating an ndarray from ragged nested sequences (which is a list-or-tuple of lists-or-tuples-or ndarrays with different lengths or shapes) is deprecated. If you meant to do this, you must specify 'dtype=object' when creating the ndarray\n"
          ],
          "name": "stderr"
        }
      ]
    },
    {
      "cell_type": "code",
      "metadata": {
        "id": "_OqPXVAMffb9",
        "colab": {
          "base_uri": "https://localhost:8080/",
          "height": 360
        },
        "outputId": "b4f49648-2485-43e2-8966-769d5f61722e"
      },
      "source": [
        "data_clas.show_batch()"
      ],
      "execution_count": null,
      "outputs": [
        {
          "output_type": "stream",
          "text": [
            "/usr/local/lib/python3.6/dist-packages/numpy/core/_asarray.py:83: VisibleDeprecationWarning: Creating an ndarray from ragged nested sequences (which is a list-or-tuple of lists-or-tuples-or ndarrays with different lengths or shapes) is deprecated. If you meant to do this, you must specify 'dtype=object' when creating the ndarray\n",
            "  return array(a, dtype, copy=False, order=order)\n",
            "<string>:6: VisibleDeprecationWarning: Creating an ndarray from ragged nested sequences (which is a list-or-tuple of lists-or-tuples-or ndarrays with different lengths or shapes) is deprecated. If you meant to do this, you must specify 'dtype=object' when creating the ndarray\n"
          ],
          "name": "stderr"
        },
        {
          "output_type": "display_data",
          "data": {
            "text/html": [
              "<table border=\"1\" class=\"dataframe\">\n",
              "  <thead>\n",
              "    <tr style=\"text-align: right;\">\n",
              "      <th>text</th>\n",
              "      <th>target</th>\n",
              "    </tr>\n",
              "  </thead>\n",
              "  <tbody>\n",
              "    <tr>\n",
              "      <td>xxbos xxmaj urinary tract infection , site not specified . xxmaj decreased libido . xxmaj degeneration of lumbar or lumbosacral intervertebral disc . xxmaj other malaise and fatigue . xxmaj hyposmolality and / or hyponatremia . xxmaj senile osteoporosis . xxmaj degeneration of cervical intervertebral disc . xxmaj cough . xxmaj other malaise and fatigue . xxmaj fever , unspecified . xxmaj acute bronchiolitis due to other infectious organisms .</td>\n",
              "      <td>0</td>\n",
              "    </tr>\n",
              "    <tr>\n",
              "      <td>xxbos xxmaj gout xxunk actinomycotic infection . xxmaj myalgia and myositis , unspecified . xxmaj abdominal pain , epigastric . xxmaj other vitamin xxup b12 deficiency anemia . xxmaj absence of menstruation . xxmaj cough . xxmaj seborrheic dermatitis . xxmaj routine general medical examination at a health care facility . xxmaj nonspecific elevation of levels of transaminase or lactic acid dehydrogenase [ xxunk , unspecified . xxmaj other and</td>\n",
              "      <td>0</td>\n",
              "    </tr>\n",
              "    <tr>\n",
              "      <td>xxbos xxmaj unspecified cerebrovascular disease . xxmaj memory loss xxunk vitamin d deficiency . xxmaj other protein - calorie malnutrition . xxmaj osteoporosis xxunk of lumbar or lumbosacral intervertebral disc . xxmaj pain in joint involving hand . xxmaj degeneration of thoracic or thoracolumbar intervertebral disc . xxmaj other specified gastritis , without mention of hemorrhage . xxmaj iron deficiency anemia secondary to blood loss ( xxunk and myositis ,</td>\n",
              "      <td>1</td>\n",
              "    </tr>\n",
              "    <tr>\n",
              "      <td>xxbos xxmaj nonsuppurative otitis media , not specified as acute or chronic . xxmaj pyrexia of unknown origin . xxmaj other malaise and fatigue . xxmaj irregular menstrual cycle . xxmaj diaper or napkin rash . xxmaj fever , unspecified . xxmaj other postsurgical status . xxmaj cough . xxmaj excessive or frequent menstruation . xxmaj benign essential hypertension . xxmaj acute bronchitis . xxmaj allergic rhinitis , cause unspecified</td>\n",
              "      <td>0</td>\n",
              "    </tr>\n",
              "    <tr>\n",
              "      <td>xxbos xxmaj obesity , unspecified . xxmaj migraine , unspecified , without mention of intractable migraine without mention of status migrainosus . xxmaj acute bronchitis . xxmaj abdominal pain , epigastric . xxmaj acute sinusitis , unspecified . xxmaj tear of medial cartilage or meniscus of knee , current . xxmaj routine gynecological examination . xxmaj acute pharyngitis . xxmaj seborrheic keratosis . xxmaj atypical face pain . xxmaj anxiety</td>\n",
              "      <td>0</td>\n",
              "    </tr>\n",
              "  </tbody>\n",
              "</table>"
            ],
            "text/plain": [
              "<IPython.core.display.HTML object>"
            ]
          },
          "metadata": {
            "tags": []
          }
        }
      ]
    },
    {
      "cell_type": "markdown",
      "metadata": {
        "id": "Cyb-UOMsffcA"
      },
      "source": [
        "We can then create a model to classify EHR Text and load the encoder we saved before."
      ]
    },
    {
      "cell_type": "code",
      "metadata": {
        "id": "Yh4HSy9tffcB",
        "colab": {
          "base_uri": "https://localhost:8080/"
        },
        "outputId": "cbc8761a-5220-4caf-a256-02440e1e99f2"
      },
      "source": [
        "learn = text_classifier_learner(data_clas, AWD_LSTM, drop_mult=0.5)\n",
        "learn.load_encoder('fine_tuned_enc')"
      ],
      "execution_count": null,
      "outputs": [
        {
          "output_type": "execute_result",
          "data": {
            "text/plain": [
              "RNNLearner(data=TextClasDataBunch;\n",
              "\n",
              "Train: LabelList (1651 items)\n",
              "x: TextList\n",
              "xxbos xxmaj encounter for long - term ( current ) use of other medications . xxmaj arthropathy unspecified , involving hand . xxmaj pure hypercholesterolemia . xxmaj spondylosis of unspecified site xxunk chronic bronchitis . xxmaj unspecified vitamin d deficiency . xxmaj closed fracture of neck of metacarpal xxunk of tympanic membrane , unspecified . xxmaj dermatomyositis . xxmaj closed fracture of lumbar vertebra without mention of spinal cord injury . xxmaj constipation , unspecified . xxmaj malignant neoplasm of prostate,xxbos xxmaj mixed hyperlipidemia . xxmaj malaise and fatigue . xxmaj xxunk problems , not elsewhere classified . xxmaj need for prophylactic vaccination and inoculation against viral hepatitis . xxmaj urinary tract infection , site not specified . xxmaj carpal tunnel syndrome . xxmaj other sleep disturbances . xxmaj other acute otitis externa . xxmaj nonspecific abnormal results of function study of liver . xxmaj borderline glaucoma ( xxmaj glaucoma xxunk ) xxunk 's disease . xxmaj other sleep disturbances . xxmaj myalgia and myositis , unspecified . xxmaj counseling on injury xxunk . xxmaj impaired fasting glucose . xxmaj depressive disorder , xxunk vaccination / inoculation against influenza . xxmaj acute bronchitis . xxmaj acute upper respiratory infections of unspecified site . xxmaj body xxmaj mass xxmaj index 29.0 - 29.9 , adult . xxmaj pain in joint involving ankle and foot . xxmaj abdominal pain , right upper quadrant,xxbos xxmaj generalized and unspecified atherosclerosis . xxmaj other acquired deformity of other parts of limb . xxmaj abnormality of gait . xxmaj obesity , unspecified . xxmaj mixed hyperlipidemia . xxmaj other chronic pain . xxmaj benign essential hypertension . xxmaj peripheral vascular disease , unspecified . xxmaj edema . xxmaj mixed hyperlipidemia . xxmaj osteoarthrosis , generalized , involving multiple sites . xxmaj cough . xxmaj acute bronchitis . xxmaj other chronic allergic conjunctivitis . xxmaj urinary tract infection , site not specified,xxbos xxmaj acute cystitis . xxmaj acute sinusitis xxunk bronchitis . xxmaj unspecified gastritis and gastroduodenitis , without mention of hemorrhage . xxmaj other and unspecified hyperlipidemia . xxmaj symptomatic menopausal or female climacteric states . xxmaj irritable bowel syndrome,xxbos xxmaj degeneration of cervical intervertebral disc . xxmaj other seborrheic keratosis . xxmaj other malignant neoplasm of skin of trunk , except scrotum . xxmaj other malignant neoplasm of skin of other and unspecified parts of face . xxmaj cellulitis and abscess of finger , unspecified . xxmaj candidiasis of vulva and vagina . xxmaj bipolar i disorder , most recent episode ( or current ) unspecified . xxmaj vaginitis and vulvovaginitis , unspecified . xxmaj panic disorder without agoraphobia . xxmaj degeneration of lumbar or lumbosacral intervertebral disc . xxmaj hiccough . xxmaj diarrhea of presumed infectious origin . xxmaj brachial neuritis or radiculitis xxunk and unspecified noninfectious gastroenteritis and colitis . xxmaj urinary tract infection , site not specified . xxup hiv disease . xxmaj esophageal reflux . xxmaj polyneuropathy in other diseases classified elsewhere . xxmaj unspecified endocrine disorder . xxmaj thoracic or lumbosacral neuritis or radiculitis , unspecified . xxmaj generalized anxiety disorder . xxmaj unspecified transient cerebral xxunk . xxmaj albumin / xxmaj globulin . xxmaj bilirubin . xxmaj chloride . xxmaj potassium . xxmaj protein . xxmaj cortisol . xxmaj hematocrit . xxmaj hemoglobin . xxmaj monocytes . xxmaj neutrophils . xxmaj platelets . xxmaj triglyceride . xxmaj bacteria . xxmaj urinalysis xxmaj reflex . xxmaj urobilinogen . xxmaj protein . xxmaj ketones . xxmaj appearance . xxmaj bilirubin . xxmaj color . xxmaj hemoglobin . xxunk . xxmaj protein . xxmaj ketones . xxmaj urinalysis xxmaj reflex . xxmaj appearance . xxmaj bacteria . xxmaj bilirubin . xxmaj color . xxmaj hemoglobin . xxunk . xxmaj hematocrit . xxmaj hemoglobin . xxmaj monocytes . xxmaj neutrophils . xxmaj platelets . xxmaj triglyceride . xxmaj bacteria . xxmaj crystals . xxmaj mucus . xxmaj urobilinogen . xxmaj protein . xxmaj ketones . xxmaj appearance . xxmaj bilirubin . xxmaj color . xxmaj hemoglobin . xxunk xxmaj reflex\n",
              "y: CategoryList\n",
              "1,1,1,1,0\n",
              "Path: /content;\n",
              "\n",
              "Valid: LabelList (413 items)\n",
              "x: TextList\n",
              "xxbos xxmaj diarrhea . xxmaj impotence of organic origin . xxmaj mixed hyperlipidemia . xxmaj cough . xxmaj thoracic or lumbosacral neuritis or radiculitis , unspecified . xxmaj esophageal reflux . xxmaj allergy , unspecified , not elsewhere classified . xxmaj abdominal pain . xxmaj anxiety state , unspecified,xxbos xxmaj personal history of allergy to sulfonamides . xxmaj prostatitis , unspecified,xxbos xxmaj atrial fibrillation . xxmaj benign essential hypertension . xxmaj other malaise and xxunk . xxmaj albumin / xxmaj globulin . xxmaj bilirubin . xxmaj chloride . xxmaj potassium . xxmaj protein . xxmaj triglyceride . xxmaj thyroxine,xxbos xxmaj obesity xxunk hypertension xxunk hyperlipidemia . xxmaj dehydration,xxbos xxmaj diarrhea . xxmaj encounter for long - term ( current ) use of other medications . xxmaj hyposmolality and / or hyponatremia . xxmaj other and unspecified hyperlipidemia . xxmaj tobacco use disorder . xxmaj essential thrombocythemia . xxmaj unspecified essential hypertension . xxup copd , xxunk\n",
              "y: CategoryList\n",
              "1,0,0,1,0\n",
              "Path: /content;\n",
              "\n",
              "Test: None, model=SequentialRNN(\n",
              "  (0): MultiBatchEncoder(\n",
              "    (module): AWD_LSTM(\n",
              "      (encoder): Embedding(2536, 400, padding_idx=1)\n",
              "      (encoder_dp): EmbeddingDropout(\n",
              "        (emb): Embedding(2536, 400, padding_idx=1)\n",
              "      )\n",
              "      (rnns): ModuleList(\n",
              "        (0): WeightDropout(\n",
              "          (module): LSTM(400, 1152, batch_first=True)\n",
              "        )\n",
              "        (1): WeightDropout(\n",
              "          (module): LSTM(1152, 1152, batch_first=True)\n",
              "        )\n",
              "        (2): WeightDropout(\n",
              "          (module): LSTM(1152, 400, batch_first=True)\n",
              "        )\n",
              "      )\n",
              "      (input_dp): RNNDropout()\n",
              "      (hidden_dps): ModuleList(\n",
              "        (0): RNNDropout()\n",
              "        (1): RNNDropout()\n",
              "        (2): RNNDropout()\n",
              "      )\n",
              "    )\n",
              "  )\n",
              "  (1): PoolingLinearClassifier(\n",
              "    (layers): Sequential(\n",
              "      (0): BatchNorm1d(1200, eps=1e-05, momentum=0.1, affine=True, track_running_stats=True)\n",
              "      (1): Dropout(p=0.2, inplace=False)\n",
              "      (2): Linear(in_features=1200, out_features=50, bias=True)\n",
              "      (3): ReLU(inplace=True)\n",
              "      (4): BatchNorm1d(50, eps=1e-05, momentum=0.1, affine=True, track_running_stats=True)\n",
              "      (5): Dropout(p=0.1, inplace=False)\n",
              "      (6): Linear(in_features=50, out_features=2, bias=True)\n",
              "    )\n",
              "  )\n",
              "), opt_func=functools.partial(<class 'torch.optim.adam.Adam'>, betas=(0.9, 0.99)), loss_func=FlattenedLoss of CrossEntropyLoss(), metrics=[<function accuracy at 0x7fc1df6012f0>], true_wd=True, bn_wd=True, wd=0.01, train_bn=True, path=PosixPath('/content'), model_dir='models', callback_fns=[functools.partial(<class 'fastai.basic_train.Recorder'>, add_time=True, silent=False)], callbacks=[RNNTrainer\n",
              "learn: RNNLearner(data=TextClasDataBunch;\n",
              "\n",
              "Train: LabelList (1651 items)\n",
              "x: TextList\n",
              "xxbos xxmaj encounter for long - term ( current ) use of other medications . xxmaj arthropathy unspecified , involving hand . xxmaj pure hypercholesterolemia . xxmaj spondylosis of unspecified site xxunk chronic bronchitis . xxmaj unspecified vitamin d deficiency . xxmaj closed fracture of neck of metacarpal xxunk of tympanic membrane , unspecified . xxmaj dermatomyositis . xxmaj closed fracture of lumbar vertebra without mention of spinal cord injury . xxmaj constipation , unspecified . xxmaj malignant neoplasm of prostate,xxbos xxmaj mixed hyperlipidemia . xxmaj malaise and fatigue . xxmaj xxunk problems , not elsewhere classified . xxmaj need for prophylactic vaccination and inoculation against viral hepatitis . xxmaj urinary tract infection , site not specified . xxmaj carpal tunnel syndrome . xxmaj other sleep disturbances . xxmaj other acute otitis externa . xxmaj nonspecific abnormal results of function study of liver . xxmaj borderline glaucoma ( xxmaj glaucoma xxunk ) xxunk 's disease . xxmaj other sleep disturbances . xxmaj myalgia and myositis , unspecified . xxmaj counseling on injury xxunk . xxmaj impaired fasting glucose . xxmaj depressive disorder , xxunk vaccination / inoculation against influenza . xxmaj acute bronchitis . xxmaj acute upper respiratory infections of unspecified site . xxmaj body xxmaj mass xxmaj index 29.0 - 29.9 , adult . xxmaj pain in joint involving ankle and foot . xxmaj abdominal pain , right upper quadrant,xxbos xxmaj generalized and unspecified atherosclerosis . xxmaj other acquired deformity of other parts of limb . xxmaj abnormality of gait . xxmaj obesity , unspecified . xxmaj mixed hyperlipidemia . xxmaj other chronic pain . xxmaj benign essential hypertension . xxmaj peripheral vascular disease , unspecified . xxmaj edema . xxmaj mixed hyperlipidemia . xxmaj osteoarthrosis , generalized , involving multiple sites . xxmaj cough . xxmaj acute bronchitis . xxmaj other chronic allergic conjunctivitis . xxmaj urinary tract infection , site not specified,xxbos xxmaj acute cystitis . xxmaj acute sinusitis xxunk bronchitis . xxmaj unspecified gastritis and gastroduodenitis , without mention of hemorrhage . xxmaj other and unspecified hyperlipidemia . xxmaj symptomatic menopausal or female climacteric states . xxmaj irritable bowel syndrome,xxbos xxmaj degeneration of cervical intervertebral disc . xxmaj other seborrheic keratosis . xxmaj other malignant neoplasm of skin of trunk , except scrotum . xxmaj other malignant neoplasm of skin of other and unspecified parts of face . xxmaj cellulitis and abscess of finger , unspecified . xxmaj candidiasis of vulva and vagina . xxmaj bipolar i disorder , most recent episode ( or current ) unspecified . xxmaj vaginitis and vulvovaginitis , unspecified . xxmaj panic disorder without agoraphobia . xxmaj degeneration of lumbar or lumbosacral intervertebral disc . xxmaj hiccough . xxmaj diarrhea of presumed infectious origin . xxmaj brachial neuritis or radiculitis xxunk and unspecified noninfectious gastroenteritis and colitis . xxmaj urinary tract infection , site not specified . xxup hiv disease . xxmaj esophageal reflux . xxmaj polyneuropathy in other diseases classified elsewhere . xxmaj unspecified endocrine disorder . xxmaj thoracic or lumbosacral neuritis or radiculitis , unspecified . xxmaj generalized anxiety disorder . xxmaj unspecified transient cerebral xxunk . xxmaj albumin / xxmaj globulin . xxmaj bilirubin . xxmaj chloride . xxmaj potassium . xxmaj protein . xxmaj cortisol . xxmaj hematocrit . xxmaj hemoglobin . xxmaj monocytes . xxmaj neutrophils . xxmaj platelets . xxmaj triglyceride . xxmaj bacteria . xxmaj urinalysis xxmaj reflex . xxmaj urobilinogen . xxmaj protein . xxmaj ketones . xxmaj appearance . xxmaj bilirubin . xxmaj color . xxmaj hemoglobin . xxunk . xxmaj protein . xxmaj ketones . xxmaj urinalysis xxmaj reflex . xxmaj appearance . xxmaj bacteria . xxmaj bilirubin . xxmaj color . xxmaj hemoglobin . xxunk . xxmaj hematocrit . xxmaj hemoglobin . xxmaj monocytes . xxmaj neutrophils . xxmaj platelets . xxmaj triglyceride . xxmaj bacteria . xxmaj crystals . xxmaj mucus . xxmaj urobilinogen . xxmaj protein . xxmaj ketones . xxmaj appearance . xxmaj bilirubin . xxmaj color . xxmaj hemoglobin . xxunk xxmaj reflex\n",
              "y: CategoryList\n",
              "1,1,1,1,0\n",
              "Path: /content;\n",
              "\n",
              "Valid: LabelList (413 items)\n",
              "x: TextList\n",
              "xxbos xxmaj diarrhea . xxmaj impotence of organic origin . xxmaj mixed hyperlipidemia . xxmaj cough . xxmaj thoracic or lumbosacral neuritis or radiculitis , unspecified . xxmaj esophageal reflux . xxmaj allergy , unspecified , not elsewhere classified . xxmaj abdominal pain . xxmaj anxiety state , unspecified,xxbos xxmaj personal history of allergy to sulfonamides . xxmaj prostatitis , unspecified,xxbos xxmaj atrial fibrillation . xxmaj benign essential hypertension . xxmaj other malaise and xxunk . xxmaj albumin / xxmaj globulin . xxmaj bilirubin . xxmaj chloride . xxmaj potassium . xxmaj protein . xxmaj triglyceride . xxmaj thyroxine,xxbos xxmaj obesity xxunk hypertension xxunk hyperlipidemia . xxmaj dehydration,xxbos xxmaj diarrhea . xxmaj encounter for long - term ( current ) use of other medications . xxmaj hyposmolality and / or hyponatremia . xxmaj other and unspecified hyperlipidemia . xxmaj tobacco use disorder . xxmaj essential thrombocythemia . xxmaj unspecified essential hypertension . xxup copd , xxunk\n",
              "y: CategoryList\n",
              "1,0,0,1,0\n",
              "Path: /content;\n",
              "\n",
              "Test: None, model=SequentialRNN(\n",
              "  (0): MultiBatchEncoder(\n",
              "    (module): AWD_LSTM(\n",
              "      (encoder): Embedding(2536, 400, padding_idx=1)\n",
              "      (encoder_dp): EmbeddingDropout(\n",
              "        (emb): Embedding(2536, 400, padding_idx=1)\n",
              "      )\n",
              "      (rnns): ModuleList(\n",
              "        (0): WeightDropout(\n",
              "          (module): LSTM(400, 1152, batch_first=True)\n",
              "        )\n",
              "        (1): WeightDropout(\n",
              "          (module): LSTM(1152, 1152, batch_first=True)\n",
              "        )\n",
              "        (2): WeightDropout(\n",
              "          (module): LSTM(1152, 400, batch_first=True)\n",
              "        )\n",
              "      )\n",
              "      (input_dp): RNNDropout()\n",
              "      (hidden_dps): ModuleList(\n",
              "        (0): RNNDropout()\n",
              "        (1): RNNDropout()\n",
              "        (2): RNNDropout()\n",
              "      )\n",
              "    )\n",
              "  )\n",
              "  (1): PoolingLinearClassifier(\n",
              "    (layers): Sequential(\n",
              "      (0): BatchNorm1d(1200, eps=1e-05, momentum=0.1, affine=True, track_running_stats=True)\n",
              "      (1): Dropout(p=0.2, inplace=False)\n",
              "      (2): Linear(in_features=1200, out_features=50, bias=True)\n",
              "      (3): ReLU(inplace=True)\n",
              "      (4): BatchNorm1d(50, eps=1e-05, momentum=0.1, affine=True, track_running_stats=True)\n",
              "      (5): Dropout(p=0.1, inplace=False)\n",
              "      (6): Linear(in_features=50, out_features=2, bias=True)\n",
              "    )\n",
              "  )\n",
              "), opt_func=functools.partial(<class 'torch.optim.adam.Adam'>, betas=(0.9, 0.99)), loss_func=FlattenedLoss of CrossEntropyLoss(), metrics=[<function accuracy at 0x7fc1df6012f0>], true_wd=True, bn_wd=True, wd=0.01, train_bn=True, path=PosixPath('/content'), model_dir='models', callback_fns=[functools.partial(<class 'fastai.basic_train.Recorder'>, add_time=True, silent=False)], callbacks=[...], layer_groups=[Sequential(\n",
              "  (0): Embedding(2536, 400, padding_idx=1)\n",
              "  (1): EmbeddingDropout(\n",
              "    (emb): Embedding(2536, 400, padding_idx=1)\n",
              "  )\n",
              "), Sequential(\n",
              "  (0): WeightDropout(\n",
              "    (module): LSTM(400, 1152, batch_first=True)\n",
              "  )\n",
              "  (1): RNNDropout()\n",
              "), Sequential(\n",
              "  (0): WeightDropout(\n",
              "    (module): LSTM(1152, 1152, batch_first=True)\n",
              "  )\n",
              "  (1): RNNDropout()\n",
              "), Sequential(\n",
              "  (0): WeightDropout(\n",
              "    (module): LSTM(1152, 400, batch_first=True)\n",
              "  )\n",
              "  (1): RNNDropout()\n",
              "), Sequential(\n",
              "  (0): PoolingLinearClassifier(\n",
              "    (layers): Sequential(\n",
              "      (0): BatchNorm1d(1200, eps=1e-05, momentum=0.1, affine=True, track_running_stats=True)\n",
              "      (1): Dropout(p=0.2, inplace=False)\n",
              "      (2): Linear(in_features=1200, out_features=50, bias=True)\n",
              "      (3): ReLU(inplace=True)\n",
              "      (4): BatchNorm1d(50, eps=1e-05, momentum=0.1, affine=True, track_running_stats=True)\n",
              "      (5): Dropout(p=0.1, inplace=False)\n",
              "      (6): Linear(in_features=50, out_features=2, bias=True)\n",
              "    )\n",
              "  )\n",
              ")], add_time=True, silent=False)\n",
              "alpha: 2.0\n",
              "beta: 1.0], layer_groups=[Sequential(\n",
              "  (0): Embedding(2536, 400, padding_idx=1)\n",
              "  (1): EmbeddingDropout(\n",
              "    (emb): Embedding(2536, 400, padding_idx=1)\n",
              "  )\n",
              "), Sequential(\n",
              "  (0): WeightDropout(\n",
              "    (module): LSTM(400, 1152, batch_first=True)\n",
              "  )\n",
              "  (1): RNNDropout()\n",
              "), Sequential(\n",
              "  (0): WeightDropout(\n",
              "    (module): LSTM(1152, 1152, batch_first=True)\n",
              "  )\n",
              "  (1): RNNDropout()\n",
              "), Sequential(\n",
              "  (0): WeightDropout(\n",
              "    (module): LSTM(1152, 400, batch_first=True)\n",
              "  )\n",
              "  (1): RNNDropout()\n",
              "), Sequential(\n",
              "  (0): PoolingLinearClassifier(\n",
              "    (layers): Sequential(\n",
              "      (0): BatchNorm1d(1200, eps=1e-05, momentum=0.1, affine=True, track_running_stats=True)\n",
              "      (1): Dropout(p=0.2, inplace=False)\n",
              "      (2): Linear(in_features=1200, out_features=50, bias=True)\n",
              "      (3): ReLU(inplace=True)\n",
              "      (4): BatchNorm1d(50, eps=1e-05, momentum=0.1, affine=True, track_running_stats=True)\n",
              "      (5): Dropout(p=0.1, inplace=False)\n",
              "      (6): Linear(in_features=50, out_features=2, bias=True)\n",
              "    )\n",
              "  )\n",
              ")], add_time=True, silent=False)"
            ]
          },
          "metadata": {
            "tags": []
          },
          "execution_count": 38
        }
      ]
    },
    {
      "cell_type": "code",
      "metadata": {
        "id": "lxJSX5P7ffcC",
        "colab": {
          "base_uri": "https://localhost:8080/",
          "height": 347
        },
        "outputId": "830b6517-d926-47ae-d8de-94ef5ed5795f"
      },
      "source": [
        "learn.lr_find()"
      ],
      "execution_count": null,
      "outputs": [
        {
          "output_type": "display_data",
          "data": {
            "text/html": [
              "\n",
              "    <div>\n",
              "        <style>\n",
              "            /* Turns off some styling */\n",
              "            progress {\n",
              "                /* gets rid of default border in Firefox and Opera. */\n",
              "                border: none;\n",
              "                /* Needs to be in here for Safari polyfill so background images work as expected. */\n",
              "                background-size: auto;\n",
              "            }\n",
              "            .progress-bar-interrupted, .progress-bar-interrupted::-webkit-progress-bar {\n",
              "                background: #F44336;\n",
              "            }\n",
              "        </style>\n",
              "      <progress value='2' class='' max='3' style='width:300px; height:20px; vertical-align: middle;'></progress>\n",
              "      66.67% [2/3 06:02<03:01]\n",
              "    </div>\n",
              "    \n",
              "<table border=\"1\" class=\"dataframe\">\n",
              "  <thead>\n",
              "    <tr style=\"text-align: left;\">\n",
              "      <th>epoch</th>\n",
              "      <th>train_loss</th>\n",
              "      <th>valid_loss</th>\n",
              "      <th>accuracy</th>\n",
              "      <th>time</th>\n",
              "    </tr>\n",
              "  </thead>\n",
              "  <tbody>\n",
              "    <tr>\n",
              "      <td>0</td>\n",
              "      <td>0.760152</td>\n",
              "      <td>#na#</td>\n",
              "      <td>03:06</td>\n",
              "    </tr>\n",
              "    <tr>\n",
              "      <td>1</td>\n",
              "      <td>0.753621</td>\n",
              "      <td>#na#</td>\n",
              "      <td>02:55</td>\n",
              "    </tr>\n",
              "  </tbody>\n",
              "</table><p>\n",
              "\n",
              "    <div>\n",
              "        <style>\n",
              "            /* Turns off some styling */\n",
              "            progress {\n",
              "                /* gets rid of default border in Firefox and Opera. */\n",
              "                border: none;\n",
              "                /* Needs to be in here for Safari polyfill so background images work as expected. */\n",
              "                background-size: auto;\n",
              "            }\n",
              "            .progress-bar-interrupted, .progress-bar-interrupted::-webkit-progress-bar {\n",
              "                background: #F44336;\n",
              "            }\n",
              "        </style>\n",
              "      <progress value='27' class='' max='34' style='width:300px; height:20px; vertical-align: middle;'></progress>\n",
              "      79.41% [27/34 02:31<00:39 2.6655]\n",
              "    </div>\n",
              "    "
            ],
            "text/plain": [
              "<IPython.core.display.HTML object>"
            ]
          },
          "metadata": {
            "tags": []
          }
        },
        {
          "output_type": "stream",
          "text": [
            "/usr/local/lib/python3.6/dist-packages/numpy/core/_asarray.py:83: VisibleDeprecationWarning: Creating an ndarray from ragged nested sequences (which is a list-or-tuple of lists-or-tuples-or ndarrays with different lengths or shapes) is deprecated. If you meant to do this, you must specify 'dtype=object' when creating the ndarray\n",
            "  return array(a, dtype, copy=False, order=order)\n",
            "<string>:6: VisibleDeprecationWarning: Creating an ndarray from ragged nested sequences (which is a list-or-tuple of lists-or-tuples-or ndarrays with different lengths or shapes) is deprecated. If you meant to do this, you must specify 'dtype=object' when creating the ndarray\n",
            "/usr/local/lib/python3.6/dist-packages/numpy/core/_asarray.py:83: VisibleDeprecationWarning: Creating an ndarray from ragged nested sequences (which is a list-or-tuple of lists-or-tuples-or ndarrays with different lengths or shapes) is deprecated. If you meant to do this, you must specify 'dtype=object' when creating the ndarray\n",
            "  return array(a, dtype, copy=False, order=order)\n",
            "<string>:6: VisibleDeprecationWarning: Creating an ndarray from ragged nested sequences (which is a list-or-tuple of lists-or-tuples-or ndarrays with different lengths or shapes) is deprecated. If you meant to do this, you must specify 'dtype=object' when creating the ndarray\n",
            "/usr/local/lib/python3.6/dist-packages/numpy/core/_asarray.py:83: VisibleDeprecationWarning: Creating an ndarray from ragged nested sequences (which is a list-or-tuple of lists-or-tuples-or ndarrays with different lengths or shapes) is deprecated. If you meant to do this, you must specify 'dtype=object' when creating the ndarray\n",
            "  return array(a, dtype, copy=False, order=order)\n",
            "<string>:6: VisibleDeprecationWarning: Creating an ndarray from ragged nested sequences (which is a list-or-tuple of lists-or-tuples-or ndarrays with different lengths or shapes) is deprecated. If you meant to do this, you must specify 'dtype=object' when creating the ndarray\n"
          ],
          "name": "stderr"
        },
        {
          "output_type": "stream",
          "text": [
            "LR Finder is complete, type {learner_name}.recorder.plot() to see the graph.\n"
          ],
          "name": "stdout"
        }
      ]
    },
    {
      "cell_type": "code",
      "metadata": {
        "id": "qkhn8XRKffcD",
        "colab": {
          "base_uri": "https://localhost:8080/",
          "height": 279
        },
        "outputId": "a6ff1764-b27b-493a-ced8-cd61de961212"
      },
      "source": [
        "learn.recorder.plot()"
      ],
      "execution_count": null,
      "outputs": [
        {
          "output_type": "display_data",
          "data": {
            "image/png": "[encoded data removed]",
            "text/plain": [
              "<Figure size 432x288 with 1 Axes>"
            ]
          },
          "metadata": {
            "tags": [],
            "needs_background": "light"
          }
        }
      ]
    },
    {
      "cell_type": "code",
      "metadata": {
        "id": "u2reJ75NffcF",
        "colab": {
          "base_uri": "https://localhost:8080/",
          "height": 151
        },
        "outputId": "64fd7a05-fd44-4b2d-f822-3199709f6e8c"
      },
      "source": [
        "learn.fit_one_cycle(1, 2e-2, moms=(0.8,0.7))"
      ],
      "execution_count": null,
      "outputs": [
        {
          "output_type": "display_data",
          "data": {
            "text/html": [
              "<table border=\"1\" class=\"dataframe\">\n",
              "  <thead>\n",
              "    <tr style=\"text-align: left;\">\n",
              "      <th>epoch</th>\n",
              "      <th>train_loss</th>\n",
              "      <th>valid_loss</th>\n",
              "      <th>accuracy</th>\n",
              "      <th>time</th>\n",
              "    </tr>\n",
              "  </thead>\n",
              "  <tbody>\n",
              "    <tr>\n",
              "      <td>0</td>\n",
              "      <td>0.726531</td>\n",
              "      <td>0.683267</td>\n",
              "      <td>0.556901</td>\n",
              "      <td>04:17</td>\n",
              "    </tr>\n",
              "  </tbody>\n",
              "</table>"
            ],
            "text/plain": [
              "<IPython.core.display.HTML object>"
            ]
          },
          "metadata": {
            "tags": []
          }
        },
        {
          "output_type": "stream",
          "text": [
            "/usr/local/lib/python3.6/dist-packages/numpy/core/_asarray.py:83: VisibleDeprecationWarning: Creating an ndarray from ragged nested sequences (which is a list-or-tuple of lists-or-tuples-or ndarrays with different lengths or shapes) is deprecated. If you meant to do this, you must specify 'dtype=object' when creating the ndarray\n",
            "  return array(a, dtype, copy=False, order=order)\n",
            "<string>:6: VisibleDeprecationWarning: Creating an ndarray from ragged nested sequences (which is a list-or-tuple of lists-or-tuples-or ndarrays with different lengths or shapes) is deprecated. If you meant to do this, you must specify 'dtype=object' when creating the ndarray\n"
          ],
          "name": "stderr"
        }
      ]
    },
    {
      "cell_type": "code",
      "metadata": {
        "id": "-PGAvDgXffcI"
      },
      "source": [
        "learn.save('first')"
      ],
      "execution_count": null,
      "outputs": []
    },
    {
      "cell_type": "code",
      "metadata": {
        "id": "zcRT3RF7ffcJ"
      },
      "source": [
        "learn.load('first');"
      ],
      "execution_count": null,
      "outputs": []
    },
    {
      "cell_type": "code",
      "metadata": {
        "id": "eIamFBn_ffcK",
        "colab": {
          "base_uri": "https://localhost:8080/",
          "height": 151
        },
        "outputId": "84852ffe-86ce-4d7e-ea73-84c8f5bbf9b9"
      },
      "source": [
        "learn.freeze_to(-2)\n",
        "learn.fit_one_cycle(1, slice(1e-2/(2.6**4),1e-2), moms=(0.8,0.7))"
      ],
      "execution_count": null,
      "outputs": [
        {
          "output_type": "display_data",
          "data": {
            "text/html": [
              "<table border=\"1\" class=\"dataframe\">\n",
              "  <thead>\n",
              "    <tr style=\"text-align: left;\">\n",
              "      <th>epoch</th>\n",
              "      <th>train_loss</th>\n",
              "      <th>valid_loss</th>\n",
              "      <th>accuracy</th>\n",
              "      <th>time</th>\n",
              "    </tr>\n",
              "  </thead>\n",
              "  <tbody>\n",
              "    <tr>\n",
              "      <td>0</td>\n",
              "      <td>0.686844</td>\n",
              "      <td>0.679980</td>\n",
              "      <td>0.561743</td>\n",
              "      <td>04:28</td>\n",
              "    </tr>\n",
              "  </tbody>\n",
              "</table>"
            ],
            "text/plain": [
              "<IPython.core.display.HTML object>"
            ]
          },
          "metadata": {
            "tags": []
          }
        },
        {
          "output_type": "stream",
          "text": [
            "/usr/local/lib/python3.6/dist-packages/numpy/core/_asarray.py:83: VisibleDeprecationWarning: Creating an ndarray from ragged nested sequences (which is a list-or-tuple of lists-or-tuples-or ndarrays with different lengths or shapes) is deprecated. If you meant to do this, you must specify 'dtype=object' when creating the ndarray\n",
            "  return array(a, dtype, copy=False, order=order)\n",
            "<string>:6: VisibleDeprecationWarning: Creating an ndarray from ragged nested sequences (which is a list-or-tuple of lists-or-tuples-or ndarrays with different lengths or shapes) is deprecated. If you meant to do this, you must specify 'dtype=object' when creating the ndarray\n"
          ],
          "name": "stderr"
        }
      ]
    },
    {
      "cell_type": "code",
      "metadata": {
        "id": "-U_bczJ8ffcM"
      },
      "source": [
        "learn.save('second')"
      ],
      "execution_count": null,
      "outputs": []
    },
    {
      "cell_type": "code",
      "metadata": {
        "id": "sEJh9v13ffcN"
      },
      "source": [
        "learn.load('second');"
      ],
      "execution_count": null,
      "outputs": []
    },
    {
      "cell_type": "code",
      "metadata": {
        "id": "LMRixfukffcO",
        "colab": {
          "base_uri": "https://localhost:8080/",
          "height": 151
        },
        "outputId": "7632ac1f-a504-4811-fc95-12fde42dfd0b"
      },
      "source": [
        "learn.freeze_to(-3)\n",
        "learn.fit_one_cycle(1, slice(5e-3/(2.6**4),5e-3), moms=(0.8,0.7))"
      ],
      "execution_count": null,
      "outputs": [
        {
          "output_type": "display_data",
          "data": {
            "text/html": [
              "<table border=\"1\" class=\"dataframe\">\n",
              "  <thead>\n",
              "    <tr style=\"text-align: left;\">\n",
              "      <th>epoch</th>\n",
              "      <th>train_loss</th>\n",
              "      <th>valid_loss</th>\n",
              "      <th>accuracy</th>\n",
              "      <th>time</th>\n",
              "    </tr>\n",
              "  </thead>\n",
              "  <tbody>\n",
              "    <tr>\n",
              "      <td>0</td>\n",
              "      <td>0.670842</td>\n",
              "      <td>0.666600</td>\n",
              "      <td>0.583535</td>\n",
              "      <td>07:04</td>\n",
              "    </tr>\n",
              "  </tbody>\n",
              "</table>"
            ],
            "text/plain": [
              "<IPython.core.display.HTML object>"
            ]
          },
          "metadata": {
            "tags": []
          }
        },
        {
          "output_type": "stream",
          "text": [
            "/usr/local/lib/python3.6/dist-packages/numpy/core/_asarray.py:83: VisibleDeprecationWarning: Creating an ndarray from ragged nested sequences (which is a list-or-tuple of lists-or-tuples-or ndarrays with different lengths or shapes) is deprecated. If you meant to do this, you must specify 'dtype=object' when creating the ndarray\n",
            "  return array(a, dtype, copy=False, order=order)\n",
            "<string>:6: VisibleDeprecationWarning: Creating an ndarray from ragged nested sequences (which is a list-or-tuple of lists-or-tuples-or ndarrays with different lengths or shapes) is deprecated. If you meant to do this, you must specify 'dtype=object' when creating the ndarray\n"
          ],
          "name": "stderr"
        }
      ]
    },
    {
      "cell_type": "code",
      "metadata": {
        "id": "K-yM3KzgffcR"
      },
      "source": [
        "learn.save('third')"
      ],
      "execution_count": null,
      "outputs": []
    },
    {
      "cell_type": "code",
      "metadata": {
        "id": "0vFsMhs1ffcS"
      },
      "source": [
        "learn.load('third');"
      ],
      "execution_count": null,
      "outputs": []
    },
    {
      "cell_type": "code",
      "metadata": {
        "id": "bBylNl1YffcT",
        "colab": {
          "base_uri": "https://localhost:8080/",
          "height": 233
        },
        "outputId": "6a3027b4-4243-4b80-8408-92f9c7983754"
      },
      "source": [
        "learn.unfreeze()\n",
        "learn.fit_one_cycle(2, slice(1e-3/(2.6**4),1e-3), moms=(0.8,0.7))"
      ],
      "execution_count": null,
      "outputs": [
        {
          "output_type": "display_data",
          "data": {
            "text/html": [
              "<table border=\"1\" class=\"dataframe\">\n",
              "  <thead>\n",
              "    <tr style=\"text-align: left;\">\n",
              "      <th>epoch</th>\n",
              "      <th>train_loss</th>\n",
              "      <th>valid_loss</th>\n",
              "      <th>accuracy</th>\n",
              "      <th>time</th>\n",
              "    </tr>\n",
              "  </thead>\n",
              "  <tbody>\n",
              "    <tr>\n",
              "      <td>0</td>\n",
              "      <td>0.630770</td>\n",
              "      <td>0.661876</td>\n",
              "      <td>0.583535</td>\n",
              "      <td>11:04</td>\n",
              "    </tr>\n",
              "    <tr>\n",
              "      <td>1</td>\n",
              "      <td>0.602475</td>\n",
              "      <td>0.669198</td>\n",
              "      <td>0.578692</td>\n",
              "      <td>10:19</td>\n",
              "    </tr>\n",
              "  </tbody>\n",
              "</table>"
            ],
            "text/plain": [
              "<IPython.core.display.HTML object>"
            ]
          },
          "metadata": {
            "tags": []
          }
        },
        {
          "output_type": "stream",
          "text": [
            "/usr/local/lib/python3.6/dist-packages/numpy/core/_asarray.py:83: VisibleDeprecationWarning: Creating an ndarray from ragged nested sequences (which is a list-or-tuple of lists-or-tuples-or ndarrays with different lengths or shapes) is deprecated. If you meant to do this, you must specify 'dtype=object' when creating the ndarray\n",
            "  return array(a, dtype, copy=False, order=order)\n",
            "<string>:6: VisibleDeprecationWarning: Creating an ndarray from ragged nested sequences (which is a list-or-tuple of lists-or-tuples-or ndarrays with different lengths or shapes) is deprecated. If you meant to do this, you must specify 'dtype=object' when creating the ndarray\n",
            "/usr/local/lib/python3.6/dist-packages/numpy/core/_asarray.py:83: VisibleDeprecationWarning: Creating an ndarray from ragged nested sequences (which is a list-or-tuple of lists-or-tuples-or ndarrays with different lengths or shapes) is deprecated. If you meant to do this, you must specify 'dtype=object' when creating the ndarray\n",
            "  return array(a, dtype, copy=False, order=order)\n",
            "<string>:6: VisibleDeprecationWarning: Creating an ndarray from ragged nested sequences (which is a list-or-tuple of lists-or-tuples-or ndarrays with different lengths or shapes) is deprecated. If you meant to do this, you must specify 'dtype=object' when creating the ndarray\n"
          ],
          "name": "stderr"
        }
      ]
    },
    {
      "cell_type": "code",
      "metadata": {
        "id": "g4_RN9p_YYxT"
      },
      "source": [
        "learn.save('finalclassifier')"
      ],
      "execution_count": null,
      "outputs": []
    },
    {
      "cell_type": "code",
      "metadata": {
        "id": "3j1Mxz96cWVZ"
      },
      "source": [
        ""
      ],
      "execution_count": null,
      "outputs": []
    },
    {
      "cell_type": "code",
      "metadata": {
        "id": "h2UPk7tDYYXf",
        "colab": {
          "base_uri": "https://localhost:8080/"
        },
        "outputId": "efdd3efa-1126-4452-dd28-880bf67ba35b"
      },
      "source": [
        "learn.load('finalclassifier')\n"
      ],
      "execution_count": null,
      "outputs": [
        {
          "output_type": "execute_result",
          "data": {
            "text/plain": [
              "RNNLearner(data=TextClasDataBunch;\n",
              "\n",
              "Train: LabelList (1651 items)\n",
              "x: TextList\n",
              "xxbos xxmaj encounter for long - term ( current ) use of other medications . xxmaj arthropathy unspecified , involving hand . xxmaj pure hypercholesterolemia . xxmaj spondylosis of unspecified site xxunk chronic bronchitis . xxmaj unspecified vitamin d deficiency . xxmaj closed fracture of neck of metacarpal xxunk of tympanic membrane , unspecified . xxmaj dermatomyositis . xxmaj closed fracture of lumbar vertebra without mention of spinal cord injury . xxmaj constipation , unspecified . xxmaj malignant neoplasm of prostate,xxbos xxmaj mixed hyperlipidemia . xxmaj malaise and fatigue . xxmaj xxunk problems , not elsewhere classified . xxmaj need for prophylactic vaccination and inoculation against viral hepatitis . xxmaj urinary tract infection , site not specified . xxmaj carpal tunnel syndrome . xxmaj other sleep disturbances . xxmaj other acute otitis externa . xxmaj nonspecific abnormal results of function study of liver . xxmaj borderline glaucoma ( xxmaj glaucoma xxunk ) xxunk 's disease . xxmaj other sleep disturbances . xxmaj myalgia and myositis , unspecified . xxmaj counseling on injury xxunk . xxmaj impaired fasting glucose . xxmaj depressive disorder , xxunk vaccination / inoculation against influenza . xxmaj acute bronchitis . xxmaj acute upper respiratory infections of unspecified site . xxmaj body xxmaj mass xxmaj index 29.0 - 29.9 , adult . xxmaj pain in joint involving ankle and foot . xxmaj abdominal pain , right upper quadrant,xxbos xxmaj generalized and unspecified atherosclerosis . xxmaj other acquired deformity of other parts of limb . xxmaj abnormality of gait . xxmaj obesity , unspecified . xxmaj mixed hyperlipidemia . xxmaj other chronic pain . xxmaj benign essential hypertension . xxmaj peripheral vascular disease , unspecified . xxmaj edema . xxmaj mixed hyperlipidemia . xxmaj osteoarthrosis , generalized , involving multiple sites . xxmaj cough . xxmaj acute bronchitis . xxmaj other chronic allergic conjunctivitis . xxmaj urinary tract infection , site not specified,xxbos xxmaj acute cystitis . xxmaj acute sinusitis xxunk bronchitis . xxmaj unspecified gastritis and gastroduodenitis , without mention of hemorrhage . xxmaj other and unspecified hyperlipidemia . xxmaj symptomatic menopausal or female climacteric states . xxmaj irritable bowel syndrome,xxbos xxmaj degeneration of cervical intervertebral disc . xxmaj other seborrheic keratosis . xxmaj other malignant neoplasm of skin of trunk , except scrotum . xxmaj other malignant neoplasm of skin of other and unspecified parts of face . xxmaj cellulitis and abscess of finger , unspecified . xxmaj candidiasis of vulva and vagina . xxmaj bipolar i disorder , most recent episode ( or current ) unspecified . xxmaj vaginitis and vulvovaginitis , unspecified . xxmaj panic disorder without agoraphobia . xxmaj degeneration of lumbar or lumbosacral intervertebral disc . xxmaj hiccough . xxmaj diarrhea of presumed infectious origin . xxmaj brachial neuritis or radiculitis xxunk and unspecified noninfectious gastroenteritis and colitis . xxmaj urinary tract infection , site not specified . xxup hiv disease . xxmaj esophageal reflux . xxmaj polyneuropathy in other diseases classified elsewhere . xxmaj unspecified endocrine disorder . xxmaj thoracic or lumbosacral neuritis or radiculitis , unspecified . xxmaj generalized anxiety disorder . xxmaj unspecified transient cerebral xxunk . xxmaj albumin / xxmaj globulin . xxmaj bilirubin . xxmaj chloride . xxmaj potassium . xxmaj protein . xxmaj cortisol . xxmaj hematocrit . xxmaj hemoglobin . xxmaj monocytes . xxmaj neutrophils . xxmaj platelets . xxmaj triglyceride . xxmaj bacteria . xxmaj urinalysis xxmaj reflex . xxmaj urobilinogen . xxmaj protein . xxmaj ketones . xxmaj appearance . xxmaj bilirubin . xxmaj color . xxmaj hemoglobin . xxunk . xxmaj protein . xxmaj ketones . xxmaj urinalysis xxmaj reflex . xxmaj appearance . xxmaj bacteria . xxmaj bilirubin . xxmaj color . xxmaj hemoglobin . xxunk . xxmaj hematocrit . xxmaj hemoglobin . xxmaj monocytes . xxmaj neutrophils . xxmaj platelets . xxmaj triglyceride . xxmaj bacteria . xxmaj crystals . xxmaj mucus . xxmaj urobilinogen . xxmaj protein . xxmaj ketones . xxmaj appearance . xxmaj bilirubin . xxmaj color . xxmaj hemoglobin . xxunk xxmaj reflex\n",
              "y: CategoryList\n",
              "1,1,1,1,0\n",
              "Path: /content;\n",
              "\n",
              "Valid: LabelList (413 items)\n",
              "x: TextList\n",
              "xxbos xxmaj diarrhea . xxmaj impotence of organic origin . xxmaj mixed hyperlipidemia . xxmaj cough . xxmaj thoracic or lumbosacral neuritis or radiculitis , unspecified . xxmaj esophageal reflux . xxmaj allergy , unspecified , not elsewhere classified . xxmaj abdominal pain . xxmaj anxiety state , unspecified,xxbos xxmaj personal history of allergy to sulfonamides . xxmaj prostatitis , unspecified,xxbos xxmaj atrial fibrillation . xxmaj benign essential hypertension . xxmaj other malaise and xxunk . xxmaj albumin / xxmaj globulin . xxmaj bilirubin . xxmaj chloride . xxmaj potassium . xxmaj protein . xxmaj triglyceride . xxmaj thyroxine,xxbos xxmaj obesity xxunk hypertension xxunk hyperlipidemia . xxmaj dehydration,xxbos xxmaj diarrhea . xxmaj encounter for long - term ( current ) use of other medications . xxmaj hyposmolality and / or hyponatremia . xxmaj other and unspecified hyperlipidemia . xxmaj tobacco use disorder . xxmaj essential thrombocythemia . xxmaj unspecified essential hypertension . xxup copd , xxunk\n",
              "y: CategoryList\n",
              "1,0,0,1,0\n",
              "Path: /content;\n",
              "\n",
              "Test: None, model=SequentialRNN(\n",
              "  (0): MultiBatchEncoder(\n",
              "    (module): AWD_LSTM(\n",
              "      (encoder): Embedding(2536, 400, padding_idx=1)\n",
              "      (encoder_dp): EmbeddingDropout(\n",
              "        (emb): Embedding(2536, 400, padding_idx=1)\n",
              "      )\n",
              "      (rnns): ModuleList(\n",
              "        (0): WeightDropout(\n",
              "          (module): LSTM(400, 1152, batch_first=True)\n",
              "        )\n",
              "        (1): WeightDropout(\n",
              "          (module): LSTM(1152, 1152, batch_first=True)\n",
              "        )\n",
              "        (2): WeightDropout(\n",
              "          (module): LSTM(1152, 400, batch_first=True)\n",
              "        )\n",
              "      )\n",
              "      (input_dp): RNNDropout()\n",
              "      (hidden_dps): ModuleList(\n",
              "        (0): RNNDropout()\n",
              "        (1): RNNDropout()\n",
              "        (2): RNNDropout()\n",
              "      )\n",
              "    )\n",
              "  )\n",
              "  (1): PoolingLinearClassifier(\n",
              "    (layers): Sequential(\n",
              "      (0): BatchNorm1d(1200, eps=1e-05, momentum=0.1, affine=True, track_running_stats=True)\n",
              "      (1): Dropout(p=0.2, inplace=False)\n",
              "      (2): Linear(in_features=1200, out_features=50, bias=True)\n",
              "      (3): ReLU(inplace=True)\n",
              "      (4): BatchNorm1d(50, eps=1e-05, momentum=0.1, affine=True, track_running_stats=True)\n",
              "      (5): Dropout(p=0.1, inplace=False)\n",
              "      (6): Linear(in_features=50, out_features=2, bias=True)\n",
              "    )\n",
              "  )\n",
              "), opt_func=functools.partial(<class 'torch.optim.adam.Adam'>, betas=(0.9, 0.99)), loss_func=FlattenedLoss of CrossEntropyLoss(), metrics=[<function accuracy at 0x7fc1df6012f0>], true_wd=True, bn_wd=True, wd=0.01, train_bn=True, path=PosixPath('/content'), model_dir='models', callback_fns=[functools.partial(<class 'fastai.basic_train.Recorder'>, add_time=True, silent=False)], callbacks=[RNNTrainer\n",
              "learn: RNNLearner(data=TextClasDataBunch;\n",
              "\n",
              "Train: LabelList (1651 items)\n",
              "x: TextList\n",
              "xxbos xxmaj encounter for long - term ( current ) use of other medications . xxmaj arthropathy unspecified , involving hand . xxmaj pure hypercholesterolemia . xxmaj spondylosis of unspecified site xxunk chronic bronchitis . xxmaj unspecified vitamin d deficiency . xxmaj closed fracture of neck of metacarpal xxunk of tympanic membrane , unspecified . xxmaj dermatomyositis . xxmaj closed fracture of lumbar vertebra without mention of spinal cord injury . xxmaj constipation , unspecified . xxmaj malignant neoplasm of prostate,xxbos xxmaj mixed hyperlipidemia . xxmaj malaise and fatigue . xxmaj xxunk problems , not elsewhere classified . xxmaj need for prophylactic vaccination and inoculation against viral hepatitis . xxmaj urinary tract infection , site not specified . xxmaj carpal tunnel syndrome . xxmaj other sleep disturbances . xxmaj other acute otitis externa . xxmaj nonspecific abnormal results of function study of liver . xxmaj borderline glaucoma ( xxmaj glaucoma xxunk ) xxunk 's disease . xxmaj other sleep disturbances . xxmaj myalgia and myositis , unspecified . xxmaj counseling on injury xxunk . xxmaj impaired fasting glucose . xxmaj depressive disorder , xxunk vaccination / inoculation against influenza . xxmaj acute bronchitis . xxmaj acute upper respiratory infections of unspecified site . xxmaj body xxmaj mass xxmaj index 29.0 - 29.9 , adult . xxmaj pain in joint involving ankle and foot . xxmaj abdominal pain , right upper quadrant,xxbos xxmaj generalized and unspecified atherosclerosis . xxmaj other acquired deformity of other parts of limb . xxmaj abnormality of gait . xxmaj obesity , unspecified . xxmaj mixed hyperlipidemia . xxmaj other chronic pain . xxmaj benign essential hypertension . xxmaj peripheral vascular disease , unspecified . xxmaj edema . xxmaj mixed hyperlipidemia . xxmaj osteoarthrosis , generalized , involving multiple sites . xxmaj cough . xxmaj acute bronchitis . xxmaj other chronic allergic conjunctivitis . xxmaj urinary tract infection , site not specified,xxbos xxmaj acute cystitis . xxmaj acute sinusitis xxunk bronchitis . xxmaj unspecified gastritis and gastroduodenitis , without mention of hemorrhage . xxmaj other and unspecified hyperlipidemia . xxmaj symptomatic menopausal or female climacteric states . xxmaj irritable bowel syndrome,xxbos xxmaj degeneration of cervical intervertebral disc . xxmaj other seborrheic keratosis . xxmaj other malignant neoplasm of skin of trunk , except scrotum . xxmaj other malignant neoplasm of skin of other and unspecified parts of face . xxmaj cellulitis and abscess of finger , unspecified . xxmaj candidiasis of vulva and vagina . xxmaj bipolar i disorder , most recent episode ( or current ) unspecified . xxmaj vaginitis and vulvovaginitis , unspecified . xxmaj panic disorder without agoraphobia . xxmaj degeneration of lumbar or lumbosacral intervertebral disc . xxmaj hiccough . xxmaj diarrhea of presumed infectious origin . xxmaj brachial neuritis or radiculitis xxunk and unspecified noninfectious gastroenteritis and colitis . xxmaj urinary tract infection , site not specified . xxup hiv disease . xxmaj esophageal reflux . xxmaj polyneuropathy in other diseases classified elsewhere . xxmaj unspecified endocrine disorder . xxmaj thoracic or lumbosacral neuritis or radiculitis , unspecified . xxmaj generalized anxiety disorder . xxmaj unspecified transient cerebral xxunk . xxmaj albumin / xxmaj globulin . xxmaj bilirubin . xxmaj chloride . xxmaj potassium . xxmaj protein . xxmaj cortisol . xxmaj hematocrit . xxmaj hemoglobin . xxmaj monocytes . xxmaj neutrophils . xxmaj platelets . xxmaj triglyceride . xxmaj bacteria . xxmaj urinalysis xxmaj reflex . xxmaj urobilinogen . xxmaj protein . xxmaj ketones . xxmaj appearance . xxmaj bilirubin . xxmaj color . xxmaj hemoglobin . xxunk . xxmaj protein . xxmaj ketones . xxmaj urinalysis xxmaj reflex . xxmaj appearance . xxmaj bacteria . xxmaj bilirubin . xxmaj color . xxmaj hemoglobin . xxunk . xxmaj hematocrit . xxmaj hemoglobin . xxmaj monocytes . xxmaj neutrophils . xxmaj platelets . xxmaj triglyceride . xxmaj bacteria . xxmaj crystals . xxmaj mucus . xxmaj urobilinogen . xxmaj protein . xxmaj ketones . xxmaj appearance . xxmaj bilirubin . xxmaj color . xxmaj hemoglobin . xxunk xxmaj reflex\n",
              "y: CategoryList\n",
              "1,1,1,1,0\n",
              "Path: /content;\n",
              "\n",
              "Valid: LabelList (413 items)\n",
              "x: TextList\n",
              "xxbos xxmaj diarrhea . xxmaj impotence of organic origin . xxmaj mixed hyperlipidemia . xxmaj cough . xxmaj thoracic or lumbosacral neuritis or radiculitis , unspecified . xxmaj esophageal reflux . xxmaj allergy , unspecified , not elsewhere classified . xxmaj abdominal pain . xxmaj anxiety state , unspecified,xxbos xxmaj personal history of allergy to sulfonamides . xxmaj prostatitis , unspecified,xxbos xxmaj atrial fibrillation . xxmaj benign essential hypertension . xxmaj other malaise and xxunk . xxmaj albumin / xxmaj globulin . xxmaj bilirubin . xxmaj chloride . xxmaj potassium . xxmaj protein . xxmaj triglyceride . xxmaj thyroxine,xxbos xxmaj obesity xxunk hypertension xxunk hyperlipidemia . xxmaj dehydration,xxbos xxmaj diarrhea . xxmaj encounter for long - term ( current ) use of other medications . xxmaj hyposmolality and / or hyponatremia . xxmaj other and unspecified hyperlipidemia . xxmaj tobacco use disorder . xxmaj essential thrombocythemia . xxmaj unspecified essential hypertension . xxup copd , xxunk\n",
              "y: CategoryList\n",
              "1,0,0,1,0\n",
              "Path: /content;\n",
              "\n",
              "Test: None, model=SequentialRNN(\n",
              "  (0): MultiBatchEncoder(\n",
              "    (module): AWD_LSTM(\n",
              "      (encoder): Embedding(2536, 400, padding_idx=1)\n",
              "      (encoder_dp): EmbeddingDropout(\n",
              "        (emb): Embedding(2536, 400, padding_idx=1)\n",
              "      )\n",
              "      (rnns): ModuleList(\n",
              "        (0): WeightDropout(\n",
              "          (module): LSTM(400, 1152, batch_first=True)\n",
              "        )\n",
              "        (1): WeightDropout(\n",
              "          (module): LSTM(1152, 1152, batch_first=True)\n",
              "        )\n",
              "        (2): WeightDropout(\n",
              "          (module): LSTM(1152, 400, batch_first=True)\n",
              "        )\n",
              "      )\n",
              "      (input_dp): RNNDropout()\n",
              "      (hidden_dps): ModuleList(\n",
              "        (0): RNNDropout()\n",
              "        (1): RNNDropout()\n",
              "        (2): RNNDropout()\n",
              "      )\n",
              "    )\n",
              "  )\n",
              "  (1): PoolingLinearClassifier(\n",
              "    (layers): Sequential(\n",
              "      (0): BatchNorm1d(1200, eps=1e-05, momentum=0.1, affine=True, track_running_stats=True)\n",
              "      (1): Dropout(p=0.2, inplace=False)\n",
              "      (2): Linear(in_features=1200, out_features=50, bias=True)\n",
              "      (3): ReLU(inplace=True)\n",
              "      (4): BatchNorm1d(50, eps=1e-05, momentum=0.1, affine=True, track_running_stats=True)\n",
              "      (5): Dropout(p=0.1, inplace=False)\n",
              "      (6): Linear(in_features=50, out_features=2, bias=True)\n",
              "    )\n",
              "  )\n",
              "), opt_func=functools.partial(<class 'torch.optim.adam.Adam'>, betas=(0.9, 0.99)), loss_func=FlattenedLoss of CrossEntropyLoss(), metrics=[<function accuracy at 0x7fc1df6012f0>], true_wd=True, bn_wd=True, wd=0.01, train_bn=True, path=PosixPath('/content'), model_dir='models', callback_fns=[functools.partial(<class 'fastai.basic_train.Recorder'>, add_time=True, silent=False)], callbacks=[...], layer_groups=[Sequential(\n",
              "  (0): Embedding(2536, 400, padding_idx=1)\n",
              "  (1): EmbeddingDropout(\n",
              "    (emb): Embedding(2536, 400, padding_idx=1)\n",
              "  )\n",
              "), Sequential(\n",
              "  (0): WeightDropout(\n",
              "    (module): LSTM(400, 1152, batch_first=True)\n",
              "  )\n",
              "  (1): RNNDropout()\n",
              "), Sequential(\n",
              "  (0): WeightDropout(\n",
              "    (module): LSTM(1152, 1152, batch_first=True)\n",
              "  )\n",
              "  (1): RNNDropout()\n",
              "), Sequential(\n",
              "  (0): WeightDropout(\n",
              "    (module): LSTM(1152, 400, batch_first=True)\n",
              "  )\n",
              "  (1): RNNDropout()\n",
              "), Sequential(\n",
              "  (0): PoolingLinearClassifier(\n",
              "    (layers): Sequential(\n",
              "      (0): BatchNorm1d(1200, eps=1e-05, momentum=0.1, affine=True, track_running_stats=True)\n",
              "      (1): Dropout(p=0.2, inplace=False)\n",
              "      (2): Linear(in_features=1200, out_features=50, bias=True)\n",
              "      (3): ReLU(inplace=True)\n",
              "      (4): BatchNorm1d(50, eps=1e-05, momentum=0.1, affine=True, track_running_stats=True)\n",
              "      (5): Dropout(p=0.1, inplace=False)\n",
              "      (6): Linear(in_features=50, out_features=2, bias=True)\n",
              "    )\n",
              "  )\n",
              ")], add_time=True, silent=False)\n",
              "alpha: 2.0\n",
              "beta: 1.0], layer_groups=[Sequential(\n",
              "  (0): Embedding(2536, 400, padding_idx=1)\n",
              "  (1): EmbeddingDropout(\n",
              "    (emb): Embedding(2536, 400, padding_idx=1)\n",
              "  )\n",
              "), Sequential(\n",
              "  (0): WeightDropout(\n",
              "    (module): LSTM(400, 1152, batch_first=True)\n",
              "  )\n",
              "  (1): RNNDropout()\n",
              "), Sequential(\n",
              "  (0): WeightDropout(\n",
              "    (module): LSTM(1152, 1152, batch_first=True)\n",
              "  )\n",
              "  (1): RNNDropout()\n",
              "), Sequential(\n",
              "  (0): WeightDropout(\n",
              "    (module): LSTM(1152, 400, batch_first=True)\n",
              "  )\n",
              "  (1): RNNDropout()\n",
              "), Sequential(\n",
              "  (0): PoolingLinearClassifier(\n",
              "    (layers): Sequential(\n",
              "      (0): BatchNorm1d(1200, eps=1e-05, momentum=0.1, affine=True, track_running_stats=True)\n",
              "      (1): Dropout(p=0.2, inplace=False)\n",
              "      (2): Linear(in_features=1200, out_features=50, bias=True)\n",
              "      (3): ReLU(inplace=True)\n",
              "      (4): BatchNorm1d(50, eps=1e-05, momentum=0.1, affine=True, track_running_stats=True)\n",
              "      (5): Dropout(p=0.1, inplace=False)\n",
              "      (6): Linear(in_features=50, out_features=2, bias=True)\n",
              "    )\n",
              "  )\n",
              ")], add_time=True, silent=False)"
            ]
          },
          "metadata": {
            "tags": []
          },
          "execution_count": 52
        }
      ]
    },
    {
      "cell_type": "code",
      "metadata": {
        "id": "xrQdX9tD00_m",
        "colab": {
          "base_uri": "https://localhost:8080/"
        },
        "outputId": "7fbf6892-dfd9-48b8-9d41-f9bd279dfd76"
      },
      "source": [
        "learn.predict(\"Acute bronchitis.Acute upper respiratory infections of unspecified site.Other abnormal glucose.Abnormality of gait.Carcinoma in situ of breast.Acromioclavicular (joint) (ligament) sprain.Osteoporosis   \")"
      ],
      "execution_count": null,
      "outputs": [
        {
          "output_type": "execute_result",
          "data": {
            "text/plain": [
              "(Category tensor(0), tensor(0), tensor([0.6955, 0.3045]))"
            ]
          },
          "metadata": {
            "tags": []
          },
          "execution_count": 53
        }
      ]
    },
    {
      "cell_type": "code",
      "metadata": {
        "id": "Gyx49JN01czC",
        "colab": {
          "base_uri": "https://localhost:8080/"
        },
        "outputId": "2388e9ac-d2f4-41dc-c59d-bf93da7846b1"
      },
      "source": [
        "learn.predict(\" Allergic rhinitis, cause unspecified.Other malaise and fatigue.Unspecified essential hypertension.Dysphagia, unspecified.Insomnia, unspecified.Anxiety states                                                                                                                                                                                                                                                 .Esophageal reflux.Loss of weight.Major depressive disorder, single episode, mild degree.Pharyngitis, acute.Neuralgia, neuritis, and radiculitis, unspecified.Pain in joint\")"
      ],
      "execution_count": null,
      "outputs": [
        {
          "output_type": "execute_result",
          "data": {
            "text/plain": [
              "(Category tensor(1), tensor(1), tensor([0.4161, 0.5839]))"
            ]
          },
          "metadata": {
            "tags": []
          },
          "execution_count": 54
        }
      ]
    },
    {
      "cell_type": "code",
      "metadata": {
        "id": "2UVeJn4Ft8F9",
        "colab": {
          "base_uri": "https://localhost:8080/",
          "height": 311
        },
        "outputId": "daef0279-a4a5-446e-bc2d-03bf755dc18c"
      },
      "source": [
        "interp = ClassificationInterpretation.from_learner(learn)\n",
        "interp.plot_confusion_matrix()"
      ],
      "execution_count": null,
      "outputs": [
        {
          "output_type": "display_data",
          "data": {
            "text/html": [
              ""
            ],
            "text/plain": [
              "<IPython.core.display.HTML object>"
            ]
          },
          "metadata": {
            "tags": []
          }
        },
        {
          "output_type": "display_data",
          "data": {
            "image/png": "[encoded data removed]",
            "text/plain": [
              "<Figure size 432x288 with 1 Axes>"
            ]
          },
          "metadata": {
            "tags": [],
            "needs_background": "light"
          }
        }
      ]
    },
    {
      "cell_type": "code",
      "metadata": {
        "id": "vVDgy62SuJTp",
        "colab": {
          "base_uri": "https://localhost:8080/"
        },
        "outputId": "402947d2-216b-489f-a6e5-0586f27bcf37"
      },
      "source": [
        "interp.top_losses()\n"
      ],
      "execution_count": null,
      "outputs": [
        {
          "output_type": "execute_result",
          "data": {
            "text/plain": [
              "torch.return_types.topk(...)"
            ]
          },
          "metadata": {
            "tags": []
          },
          "execution_count": 56
        }
      ]
    },
    {
      "cell_type": "code",
      "metadata": {
        "id": "BU2UF8foxP7K",
        "colab": {
          "base_uri": "https://localhost:8080/"
        },
        "outputId": "d54bcae9-525d-45d9-9072-e16b1392b775"
      },
      "source": [
        "interp.most_confused()\n"
      ],
      "execution_count": null,
      "outputs": [
        {
          "output_type": "execute_result",
          "data": {
            "text/plain": [
              "[(1, 0, 106), (0, 1, 68)]"
            ]
          },
          "metadata": {
            "tags": []
          },
          "execution_count": 57
        }
      ]
    },
    {
      "cell_type": "code",
      "metadata": {
        "id": "1_a77iNoZCkX",
        "colab": {
          "base_uri": "https://localhost:8080/",
          "height": 190
        },
        "outputId": "fc29df04-6893-4e3a-e5f9-c04d646df659"
      },
      "source": [
        "\n",
        "import matplotlib.cm as cm\n",
        "\n",
        "txt_ci = TextClassificationInterpretation.from_learner(learn)\n",
        "test_text = \"Urinary frequency.Spasm of muscle.Urinary tract infection, site not specified.Viral pneumonia, unspecified.Sprain of other specified sites of elbow and forearm.Need for prophylactic vaccination and inoculation against influenza.Routine general medical examination at a health care facility.Unspecified allergic alveolitis and pneumonitis.Enlargement of lymph nodes.Abdominal pain, other specified site; multiple sites.Acute sinusitis                                                                                                                                                                                                                                                .Pleurisy                                                                                                                                                                                                                                                       .Lumbago\"\n",
        "txt_ci.show_intrinsic_attention(test_text,cmap=cm.Purples)"
      ],
      "execution_count": null,
      "outputs": [
        {
          "output_type": "display_data",
          "data": {
            "text/html": [
              ""
            ],
            "text/plain": [
              "<IPython.core.display.HTML object>"
            ]
          },
          "metadata": {
            "tags": []
          }
        },
        {
          "output_type": "stream",
          "text": [
            "/usr/local/lib/python3.6/dist-packages/fastai/text/learner.py:226: UserWarning: masked_fill_ received a mask with dtype torch.uint8, this behavior is now deprecated,please use a mask with dtype torch.bool instead. (Triggered internally at  /pytorch/aten/src/ATen/native/TensorAdvancedIndexing.cpp:650.)\n",
            "  avg_pool = output.masked_fill(mask[:, :, None], 0).mean(dim=1)\n",
            "/usr/local/lib/python3.6/dist-packages/fastai/text/learner.py:228: UserWarning: masked_fill_ received a mask with dtype torch.uint8, this behavior is now deprecated,please use a mask with dtype torch.bool instead. (Triggered internally at  /pytorch/aten/src/ATen/native/TensorAdvancedIndexing.cpp:650.)\n",
            "  max_pool = output.masked_fill(mask[:,:,None], -float('inf')).max(dim=1)[0]\n",
            "/usr/local/lib/python3.6/dist-packages/torch/autograd/__init__.py:132: UserWarning: masked_fill_ received a mask with dtype torch.uint8, this behavior is now deprecated,please use a mask with dtype torch.bool instead. (Triggered internally at  /pytorch/aten/src/ATen/native/TensorAdvancedIndexing.cpp:650.)\n",
            "  allow_unreachable=True)  # allow_unreachable flag\n"
          ],
          "name": "stderr"
        },
        {
          "output_type": "display_data",
          "data": {
            "text/html": [
              "<span style=\"font-family: monospace;\"><span title=\"0.033\" style=\"background-color: rgba(248, 247, 250, 0.5);\">xxbos</span> <span title=\"0.019\" style=\"background-color: rgba(250, 249, 251, 0.5);\">xxmaj</span> <span title=\"0.285\" style=\"background-color: rgba(210, 210, 231, 0.5);\">urinary</span> <span title=\"0.053\" style=\"background-color: rgba(246, 245, 249, 0.5);\">frequency</span> <span title=\"0.017\" style=\"background-color: rgba(250, 249, 251, 0.5);\">.</span> <span title=\"0.020\" style=\"background-color: rgba(249, 248, 251, 0.5);\">xxmaj</span> <span title=\"0.419\" style=\"background-color: rgba(177, 176, 212, 0.5);\">spasm</span> <span title=\"0.036\" style=\"background-color: rgba(248, 247, 250, 0.5);\">of</span> <span title=\"0.059\" style=\"background-color: rgba(245, 244, 249, 0.5);\">muscle</span> <span title=\"0.014\" style=\"background-color: rgba(250, 249, 252, 0.5);\">.</span> <span title=\"0.023\" style=\"background-color: rgba(249, 248, 251, 0.5);\">xxmaj</span> <span title=\"0.291\" style=\"background-color: rgba(208, 208, 230, 0.5);\">urinary</span> <span title=\"0.094\" style=\"background-color: rgba(242, 240, 246, 0.5);\">tract</span> <span title=\"0.098\" style=\"background-color: rgba(241, 240, 246, 0.5);\">infection</span> <span title=\"0.023\" style=\"background-color: rgba(249, 248, 251, 0.5);\">,</span> <span title=\"0.059\" style=\"background-color: rgba(245, 244, 249, 0.5);\">site</span> <span title=\"0.031\" style=\"background-color: rgba(249, 247, 251, 0.5);\">not</span> <span title=\"0.020\" style=\"background-color: rgba(249, 248, 251, 0.5);\">specified</span> <span title=\"0.013\" style=\"background-color: rgba(250, 249, 252, 0.5);\">.</span> <span title=\"0.026\" style=\"background-color: rgba(249, 248, 251, 0.5);\">xxmaj</span> <span title=\"0.374\" style=\"background-color: rgba(188, 189, 220, 0.5);\">viral</span> <span title=\"0.176\" style=\"background-color: rgba(230, 229, 240, 0.5);\">pneumonia</span> <span title=\"0.015\" style=\"background-color: rgba(250, 249, 252, 0.5);\">,</span> <span title=\"0.029\" style=\"background-color: rgba(249, 247, 251, 0.5);\">unspecified</span> <span title=\"0.020\" style=\"background-color: rgba(249, 248, 251, 0.5);\">.</span> <span title=\"0.033\" style=\"background-color: rgba(248, 247, 250, 0.5);\">xxmaj</span> <span title=\"0.405\" style=\"background-color: rgba(181, 180, 215, 0.5);\">sprain</span> <span title=\"0.043\" style=\"background-color: rgba(247, 246, 250, 0.5);\">of</span> <span title=\"0.080\" style=\"background-color: rgba(243, 242, 247, 0.5);\">other</span> <span title=\"0.110\" style=\"background-color: rgba(240, 238, 245, 0.5);\">specified</span> <span title=\"0.099\" style=\"background-color: rgba(241, 240, 246, 0.5);\">sites</span> <span title=\"0.041\" style=\"background-color: rgba(247, 246, 250, 0.5);\">of</span> <span title=\"0.382\" style=\"background-color: rgba(186, 187, 219, 0.5);\">elbow</span> <span title=\"0.035\" style=\"background-color: rgba(248, 247, 250, 0.5);\">and</span> <span title=\"0.035\" style=\"background-color: rgba(248, 247, 250, 0.5);\">forearm</span> <span title=\"0.013\" style=\"background-color: rgba(250, 249, 252, 0.5);\">.</span> <span title=\"0.023\" style=\"background-color: rgba(249, 248, 251, 0.5);\">xxmaj</span> <span title=\"0.206\" style=\"background-color: rgba(225, 225, 238, 0.5);\">need</span> <span title=\"0.045\" style=\"background-color: rgba(247, 246, 250, 0.5);\">for</span> <span title=\"0.158\" style=\"background-color: rgba(233, 232, 242, 0.5);\">prophylactic</span> <span title=\"0.091\" style=\"background-color: rgba(242, 240, 247, 0.5);\">vaccination</span> <span title=\"0.020\" style=\"background-color: rgba(249, 248, 251, 0.5);\">and</span> <span title=\"0.091\" style=\"background-color: rgba(242, 240, 247, 0.5);\">inoculation</span> <span title=\"0.045\" style=\"background-color: rgba(247, 246, 250, 0.5);\">against</span> <span title=\"0.040\" style=\"background-color: rgba(247, 246, 250, 0.5);\">influenza</span> <span title=\"0.011\" style=\"background-color: rgba(251, 250, 252, 0.5);\">.</span> <span title=\"0.015\" style=\"background-color: rgba(250, 249, 252, 0.5);\">xxmaj</span> <span title=\"0.145\" style=\"background-color: rgba(235, 233, 243, 0.5);\">routine</span> <span title=\"0.066\" style=\"background-color: rgba(245, 243, 248, 0.5);\">general</span> <span title=\"0.064\" style=\"background-color: rgba(245, 243, 248, 0.5);\">medical</span> <span title=\"0.049\" style=\"background-color: rgba(247, 245, 249, 0.5);\">examination</span> <span title=\"0.029\" style=\"background-color: rgba(249, 247, 251, 0.5);\">at</span> <span title=\"0.019\" style=\"background-color: rgba(250, 249, 251, 0.5);\">a</span> <span title=\"0.063\" style=\"background-color: rgba(245, 243, 248, 0.5);\">health</span> <span title=\"0.026\" style=\"background-color: rgba(249, 248, 251, 0.5);\">care</span> <span title=\"0.011\" style=\"background-color: rgba(251, 250, 252, 0.5);\">facility</span> <span title=\"0.012\" style=\"background-color: rgba(250, 249, 252, 0.5);\">.</span> <span title=\"0.020\" style=\"background-color: rgba(249, 248, 251, 0.5);\">xxmaj</span> <span title=\"0.163\" style=\"background-color: rgba(232, 231, 242, 0.5);\">unspecified</span> <span title=\"0.411\" style=\"background-color: rgba(179, 178, 214, 0.5);\">allergic</span> <span title=\"0.042\" style=\"background-color: rgba(247, 246, 250, 0.5);\">xxunk</span> <span title=\"0.016\" style=\"background-color: rgba(250, 249, 251, 0.5);\">and</span> <span title=\"0.126\" style=\"background-color: rgba(238, 236, 244, 0.5);\">pneumonitis</span> <span title=\"0.029\" style=\"background-color: rgba(249, 247, 251, 0.5);\">.</span> <span title=\"0.037\" style=\"background-color: rgba(248, 247, 250, 0.5);\">xxmaj</span> <span title=\"0.670\" style=\"background-color: rgba(119, 108, 177, 0.5);\">enlargement</span> <span title=\"0.100\" style=\"background-color: rgba(241, 240, 246, 0.5);\">of</span> <span title=\"1.000\" style=\"background-color: rgba(63, 0, 125, 0.5);\">lymph</span> <span title=\"0.024\" style=\"background-color: rgba(249, 248, 251, 0.5);\">nodes</span> <span title=\"0.013\" style=\"background-color: rgba(250, 249, 252, 0.5);\">.</span> <span title=\"0.019\" style=\"background-color: rgba(250, 249, 251, 0.5);\">xxmaj</span> <span title=\"0.267\" style=\"background-color: rgba(214, 214, 233, 0.5);\">abdominal</span> <span title=\"0.108\" style=\"background-color: rgba(240, 239, 246, 0.5);\">pain</span> <span title=\"0.026\" style=\"background-color: rgba(249, 248, 251, 0.5);\">,</span> <span title=\"0.048\" style=\"background-color: rgba(247, 245, 249, 0.5);\">other</span> <span title=\"0.079\" style=\"background-color: rgba(243, 242, 247, 0.5);\">specified</span> <span title=\"0.070\" style=\"background-color: rgba(244, 243, 248, 0.5);\">site</span> <span title=\"0.043\" style=\"background-color: rgba(247, 246, 250, 0.5);\">;</span> <span title=\"0.151\" style=\"background-color: rgba(234, 233, 243, 0.5);\">multiple</span> <span title=\"0.043\" style=\"background-color: rgba(247, 246, 250, 0.5);\">sites</span> <span title=\"0.047\" style=\"background-color: rgba(247, 246, 250, 0.5);\">.</span> <span title=\"0.057\" style=\"background-color: rgba(246, 244, 249, 0.5);\">xxmaj</span> <span title=\"0.410\" style=\"background-color: rgba(180, 179, 214, 0.5);\">acute</span> <span title=\"0.839\" style=\"background-color: rgba(90, 51, 148, 0.5);\">sinusitis</span> <span title=\"0.367\" style=\"background-color: rgba(190, 191, 221, 0.5);\">xxunk</span> <span title=\"0.353\" style=\"background-color: rgba(193, 194, 222, 0.5);\">xxunk</span></span>"
            ],
            "text/plain": [
              "<IPython.core.display.HTML object>"
            ]
          },
          "metadata": {
            "tags": []
          }
        }
      ]
    },
    {
      "cell_type": "code",
      "metadata": {
        "id": "mVqCjm-uaN8o",
        "colab": {
          "base_uri": "https://localhost:8080/",
          "height": 190
        },
        "outputId": "70ae05bf-9cc7-4994-aa9e-a8e550133ed1"
      },
      "source": [
        "test_text = \"Urinary frequency.Spasm of muscle.Urinary tract infection, site not specified.Viral pneumonia, unspecified.Sprain of other specified sites of elbow and forearm.Need for prophylactic vaccination and inoculation against influenza.Routine general medical examination at a health care facility.Unspecified allergic alveolitis and pneumonitis.Enlargement of lymph nodes.Abdominal pain, other specified site; multiple sites.Acute sinusitis                                                                                                                         .Pleurisy                                                                                                                                                                            .Lumbago\"\n",
        "txt_ci.show_intrinsic_attention(test_text,cmap=cm.Purples)"
      ],
      "execution_count": null,
      "outputs": [
        {
          "output_type": "stream",
          "text": [
            "/usr/local/lib/python3.6/dist-packages/fastai/text/learner.py:226: UserWarning: masked_fill_ received a mask with dtype torch.uint8, this behavior is now deprecated,please use a mask with dtype torch.bool instead. (Triggered internally at  /pytorch/aten/src/ATen/native/TensorAdvancedIndexing.cpp:650.)\n",
            "  avg_pool = output.masked_fill(mask[:, :, None], 0).mean(dim=1)\n",
            "/usr/local/lib/python3.6/dist-packages/fastai/text/learner.py:228: UserWarning: masked_fill_ received a mask with dtype torch.uint8, this behavior is now deprecated,please use a mask with dtype torch.bool instead. (Triggered internally at  /pytorch/aten/src/ATen/native/TensorAdvancedIndexing.cpp:650.)\n",
            "  max_pool = output.masked_fill(mask[:,:,None], -float('inf')).max(dim=1)[0]\n",
            "/usr/local/lib/python3.6/dist-packages/torch/autograd/__init__.py:132: UserWarning: masked_fill_ received a mask with dtype torch.uint8, this behavior is now deprecated,please use a mask with dtype torch.bool instead. (Triggered internally at  /pytorch/aten/src/ATen/native/TensorAdvancedIndexing.cpp:650.)\n",
            "  allow_unreachable=True)  # allow_unreachable flag\n"
          ],
          "name": "stderr"
        },
        {
          "output_type": "display_data",
          "data": {
            "text/html": [
              "<span style=\"font-family: monospace;\"><span title=\"0.033\" style=\"background-color: rgba(248, 247, 250, 0.5);\">xxbos</span> <span title=\"0.019\" style=\"background-color: rgba(250, 249, 251, 0.5);\">xxmaj</span> <span title=\"0.285\" style=\"background-color: rgba(210, 210, 231, 0.5);\">urinary</span> <span title=\"0.053\" style=\"background-color: rgba(246, 245, 249, 0.5);\">frequency</span> <span title=\"0.017\" style=\"background-color: rgba(250, 249, 251, 0.5);\">.</span> <span title=\"0.020\" style=\"background-color: rgba(249, 248, 251, 0.5);\">xxmaj</span> <span title=\"0.419\" style=\"background-color: rgba(177, 176, 212, 0.5);\">spasm</span> <span title=\"0.036\" style=\"background-color: rgba(248, 247, 250, 0.5);\">of</span> <span title=\"0.059\" style=\"background-color: rgba(245, 244, 249, 0.5);\">muscle</span> <span title=\"0.014\" style=\"background-color: rgba(250, 249, 252, 0.5);\">.</span> <span title=\"0.023\" style=\"background-color: rgba(249, 248, 251, 0.5);\">xxmaj</span> <span title=\"0.291\" style=\"background-color: rgba(208, 208, 230, 0.5);\">urinary</span> <span title=\"0.094\" style=\"background-color: rgba(242, 240, 246, 0.5);\">tract</span> <span title=\"0.098\" style=\"background-color: rgba(241, 240, 246, 0.5);\">infection</span> <span title=\"0.023\" style=\"background-color: rgba(249, 248, 251, 0.5);\">,</span> <span title=\"0.059\" style=\"background-color: rgba(245, 244, 249, 0.5);\">site</span> <span title=\"0.031\" style=\"background-color: rgba(249, 247, 251, 0.5);\">not</span> <span title=\"0.020\" style=\"background-color: rgba(249, 248, 251, 0.5);\">specified</span> <span title=\"0.013\" style=\"background-color: rgba(250, 249, 252, 0.5);\">.</span> <span title=\"0.026\" style=\"background-color: rgba(249, 248, 251, 0.5);\">xxmaj</span> <span title=\"0.374\" style=\"background-color: rgba(188, 189, 220, 0.5);\">viral</span> <span title=\"0.176\" style=\"background-color: rgba(230, 229, 240, 0.5);\">pneumonia</span> <span title=\"0.015\" style=\"background-color: rgba(250, 249, 252, 0.5);\">,</span> <span title=\"0.029\" style=\"background-color: rgba(249, 247, 251, 0.5);\">unspecified</span> <span title=\"0.020\" style=\"background-color: rgba(249, 248, 251, 0.5);\">.</span> <span title=\"0.033\" style=\"background-color: rgba(248, 247, 250, 0.5);\">xxmaj</span> <span title=\"0.405\" style=\"background-color: rgba(181, 180, 215, 0.5);\">sprain</span> <span title=\"0.043\" style=\"background-color: rgba(247, 246, 250, 0.5);\">of</span> <span title=\"0.080\" style=\"background-color: rgba(243, 242, 247, 0.5);\">other</span> <span title=\"0.110\" style=\"background-color: rgba(240, 238, 245, 0.5);\">specified</span> <span title=\"0.099\" style=\"background-color: rgba(241, 240, 246, 0.5);\">sites</span> <span title=\"0.041\" style=\"background-color: rgba(247, 246, 250, 0.5);\">of</span> <span title=\"0.382\" style=\"background-color: rgba(186, 187, 219, 0.5);\">elbow</span> <span title=\"0.035\" style=\"background-color: rgba(248, 247, 250, 0.5);\">and</span> <span title=\"0.035\" style=\"background-color: rgba(248, 247, 250, 0.5);\">forearm</span> <span title=\"0.013\" style=\"background-color: rgba(250, 249, 252, 0.5);\">.</span> <span title=\"0.023\" style=\"background-color: rgba(249, 248, 251, 0.5);\">xxmaj</span> <span title=\"0.206\" style=\"background-color: rgba(225, 225, 238, 0.5);\">need</span> <span title=\"0.045\" style=\"background-color: rgba(247, 246, 250, 0.5);\">for</span> <span title=\"0.158\" style=\"background-color: rgba(233, 232, 242, 0.5);\">prophylactic</span> <span title=\"0.091\" style=\"background-color: rgba(242, 240, 247, 0.5);\">vaccination</span> <span title=\"0.020\" style=\"background-color: rgba(249, 248, 251, 0.5);\">and</span> <span title=\"0.091\" style=\"background-color: rgba(242, 240, 247, 0.5);\">inoculation</span> <span title=\"0.045\" style=\"background-color: rgba(247, 246, 250, 0.5);\">against</span> <span title=\"0.040\" style=\"background-color: rgba(247, 246, 250, 0.5);\">influenza</span> <span title=\"0.011\" style=\"background-color: rgba(251, 250, 252, 0.5);\">.</span> <span title=\"0.015\" style=\"background-color: rgba(250, 249, 252, 0.5);\">xxmaj</span> <span title=\"0.145\" style=\"background-color: rgba(235, 233, 243, 0.5);\">routine</span> <span title=\"0.066\" style=\"background-color: rgba(245, 243, 248, 0.5);\">general</span> <span title=\"0.064\" style=\"background-color: rgba(245, 243, 248, 0.5);\">medical</span> <span title=\"0.049\" style=\"background-color: rgba(247, 245, 249, 0.5);\">examination</span> <span title=\"0.029\" style=\"background-color: rgba(249, 247, 251, 0.5);\">at</span> <span title=\"0.019\" style=\"background-color: rgba(250, 249, 251, 0.5);\">a</span> <span title=\"0.063\" style=\"background-color: rgba(245, 243, 248, 0.5);\">health</span> <span title=\"0.026\" style=\"background-color: rgba(249, 248, 251, 0.5);\">care</span> <span title=\"0.011\" style=\"background-color: rgba(251, 250, 252, 0.5);\">facility</span> <span title=\"0.012\" style=\"background-color: rgba(250, 249, 252, 0.5);\">.</span> <span title=\"0.020\" style=\"background-color: rgba(249, 248, 251, 0.5);\">xxmaj</span> <span title=\"0.163\" style=\"background-color: rgba(232, 231, 242, 0.5);\">unspecified</span> <span title=\"0.411\" style=\"background-color: rgba(179, 178, 214, 0.5);\">allergic</span> <span title=\"0.042\" style=\"background-color: rgba(247, 246, 250, 0.5);\">xxunk</span> <span title=\"0.016\" style=\"background-color: rgba(250, 249, 251, 0.5);\">and</span> <span title=\"0.126\" style=\"background-color: rgba(238, 236, 244, 0.5);\">pneumonitis</span> <span title=\"0.029\" style=\"background-color: rgba(249, 247, 251, 0.5);\">.</span> <span title=\"0.037\" style=\"background-color: rgba(248, 247, 250, 0.5);\">xxmaj</span> <span title=\"0.670\" style=\"background-color: rgba(119, 108, 177, 0.5);\">enlargement</span> <span title=\"0.100\" style=\"background-color: rgba(241, 240, 246, 0.5);\">of</span> <span title=\"1.000\" style=\"background-color: rgba(63, 0, 125, 0.5);\">lymph</span> <span title=\"0.024\" style=\"background-color: rgba(249, 248, 251, 0.5);\">nodes</span> <span title=\"0.013\" style=\"background-color: rgba(250, 249, 252, 0.5);\">.</span> <span title=\"0.019\" style=\"background-color: rgba(250, 249, 251, 0.5);\">xxmaj</span> <span title=\"0.267\" style=\"background-color: rgba(214, 214, 233, 0.5);\">abdominal</span> <span title=\"0.108\" style=\"background-color: rgba(240, 239, 246, 0.5);\">pain</span> <span title=\"0.026\" style=\"background-color: rgba(249, 248, 251, 0.5);\">,</span> <span title=\"0.048\" style=\"background-color: rgba(247, 245, 249, 0.5);\">other</span> <span title=\"0.079\" style=\"background-color: rgba(243, 242, 247, 0.5);\">specified</span> <span title=\"0.070\" style=\"background-color: rgba(244, 243, 248, 0.5);\">site</span> <span title=\"0.043\" style=\"background-color: rgba(247, 246, 250, 0.5);\">;</span> <span title=\"0.151\" style=\"background-color: rgba(234, 233, 243, 0.5);\">multiple</span> <span title=\"0.043\" style=\"background-color: rgba(247, 246, 250, 0.5);\">sites</span> <span title=\"0.047\" style=\"background-color: rgba(247, 246, 250, 0.5);\">.</span> <span title=\"0.057\" style=\"background-color: rgba(246, 244, 249, 0.5);\">xxmaj</span> <span title=\"0.410\" style=\"background-color: rgba(180, 179, 214, 0.5);\">acute</span> <span title=\"0.839\" style=\"background-color: rgba(90, 51, 148, 0.5);\">sinusitis</span> <span title=\"0.367\" style=\"background-color: rgba(190, 191, 221, 0.5);\">xxunk</span> <span title=\"0.353\" style=\"background-color: rgba(193, 194, 222, 0.5);\">xxunk</span></span>"
            ],
            "text/plain": [
              "<IPython.core.display.HTML object>"
            ]
          },
          "metadata": {
            "tags": []
          }
        }
      ]
    },
    {
      "cell_type": "code",
      "metadata": {
        "id": "q-z1CkmEamHn",
        "colab": {
          "base_uri": "https://localhost:8080/",
          "height": 190
        },
        "outputId": "c4976f18-19d7-44b1-8ee8-15acbb7c0b67"
      },
      "source": [
        "test_text = \"Coronary atherosclerosis of native coronary artery.Hypertrophy (benign) of prostate without urinary obstruction and other lower urinary tract symptoms (LUTS).Chronic hepatitis C without mention of hepatic coma.Benign essential hypertension.Other chest pain.Pure hypercholesterolemia.Human immunodeficiency virus (HIV) disease.Abnormality of gaitGlobulin.Albumin/Globulin.Bilirubin.Chloride.Potassium.Protein \"\n",
        "txt_ci.show_intrinsic_attention(test_text,cmap=cm.Purples)"
      ],
      "execution_count": null,
      "outputs": [
        {
          "output_type": "stream",
          "text": [
            "/usr/local/lib/python3.6/dist-packages/fastai/text/learner.py:226: UserWarning: masked_fill_ received a mask with dtype torch.uint8, this behavior is now deprecated,please use a mask with dtype torch.bool instead. (Triggered internally at  /pytorch/aten/src/ATen/native/TensorAdvancedIndexing.cpp:650.)\n",
            "  avg_pool = output.masked_fill(mask[:, :, None], 0).mean(dim=1)\n",
            "/usr/local/lib/python3.6/dist-packages/fastai/text/learner.py:228: UserWarning: masked_fill_ received a mask with dtype torch.uint8, this behavior is now deprecated,please use a mask with dtype torch.bool instead. (Triggered internally at  /pytorch/aten/src/ATen/native/TensorAdvancedIndexing.cpp:650.)\n",
            "  max_pool = output.masked_fill(mask[:,:,None], -float('inf')).max(dim=1)[0]\n",
            "/usr/local/lib/python3.6/dist-packages/torch/autograd/__init__.py:132: UserWarning: masked_fill_ received a mask with dtype torch.uint8, this behavior is now deprecated,please use a mask with dtype torch.bool instead. (Triggered internally at  /pytorch/aten/src/ATen/native/TensorAdvancedIndexing.cpp:650.)\n",
            "  allow_unreachable=True)  # allow_unreachable flag\n"
          ],
          "name": "stderr"
        },
        {
          "output_type": "display_data",
          "data": {
            "text/html": [
              "<span style=\"font-family: monospace;\"><span title=\"0.076\" style=\"background-color: rgba(244, 242, 248, 0.5);\">xxbos</span> <span title=\"0.062\" style=\"background-color: rgba(245, 244, 249, 0.5);\">xxmaj</span> <span title=\"1.000\" style=\"background-color: rgba(63, 0, 125, 0.5);\">coronary</span> <span title=\"0.416\" style=\"background-color: rgba(178, 177, 213, 0.5);\">atherosclerosis</span> <span title=\"0.074\" style=\"background-color: rgba(244, 242, 248, 0.5);\">of</span> <span title=\"0.247\" style=\"background-color: rgba(218, 218, 235, 0.5);\">native</span> <span title=\"0.369\" style=\"background-color: rgba(189, 190, 220, 0.5);\">coronary</span> <span title=\"0.096\" style=\"background-color: rgba(242, 240, 246, 0.5);\">artery</span> <span title=\"0.034\" style=\"background-color: rgba(248, 247, 250, 0.5);\">.</span> <span title=\"0.047\" style=\"background-color: rgba(247, 246, 250, 0.5);\">xxmaj</span> <span title=\"0.821\" style=\"background-color: rgba(93, 56, 151, 0.5);\">hypertrophy</span> <span title=\"0.092\" style=\"background-color: rgba(242, 240, 247, 0.5);\">(</span> <span title=\"0.172\" style=\"background-color: rgba(231, 229, 241, 0.5);\">benign</span> <span title=\"0.060\" style=\"background-color: rgba(245, 244, 249, 0.5);\">)</span> <span title=\"0.056\" style=\"background-color: rgba(246, 244, 249, 0.5);\">of</span> <span title=\"0.277\" style=\"background-color: rgba(212, 212, 232, 0.5);\">prostate</span> <span title=\"0.125\" style=\"background-color: rgba(238, 236, 244, 0.5);\">without</span> <span title=\"0.265\" style=\"background-color: rgba(214, 215, 233, 0.5);\">urinary</span> <span title=\"0.171\" style=\"background-color: rgba(231, 230, 241, 0.5);\">obstruction</span> <span title=\"0.071\" style=\"background-color: rgba(244, 243, 248, 0.5);\">and</span> <span title=\"0.168\" style=\"background-color: rgba(232, 230, 241, 0.5);\">other</span> <span title=\"0.158\" style=\"background-color: rgba(233, 232, 242, 0.5);\">lower</span> <span title=\"0.275\" style=\"background-color: rgba(212, 212, 232, 0.5);\">urinary</span> <span title=\"0.196\" style=\"background-color: rgba(227, 226, 239, 0.5);\">tract</span> <span title=\"0.143\" style=\"background-color: rgba(236, 234, 243, 0.5);\">symptoms</span> <span title=\"0.055\" style=\"background-color: rgba(246, 244, 249, 0.5);\">(</span> <span title=\"0.078\" style=\"background-color: rgba(244, 242, 248, 0.5);\">xxunk</span> <span title=\"0.220\" style=\"background-color: rgba(223, 222, 237, 0.5);\">hepatitis</span> <span title=\"0.088\" style=\"background-color: rgba(243, 241, 247, 0.5);\">c</span> <span title=\"0.124\" style=\"background-color: rgba(239, 237, 245, 0.5);\">without</span> <span title=\"0.212\" style=\"background-color: rgba(224, 223, 238, 0.5);\">mention</span> <span title=\"0.082\" style=\"background-color: rgba(243, 241, 247, 0.5);\">of</span> <span title=\"0.753\" style=\"background-color: rgba(105, 80, 162, 0.5);\">hepatic</span> <span title=\"0.050\" style=\"background-color: rgba(247, 245, 249, 0.5);\">coma</span> <span title=\"0.025\" style=\"background-color: rgba(249, 248, 251, 0.5);\">.</span> <span title=\"0.026\" style=\"background-color: rgba(249, 248, 251, 0.5);\">xxmaj</span> <span title=\"0.231\" style=\"background-color: rgba(221, 220, 236, 0.5);\">benign</span> <span title=\"0.083\" style=\"background-color: rgba(243, 241, 247, 0.5);\">essential</span> <span title=\"0.054\" style=\"background-color: rgba(246, 245, 249, 0.5);\">hypertension</span> <span title=\"0.014\" style=\"background-color: rgba(250, 249, 252, 0.5);\">.</span> <span title=\"0.020\" style=\"background-color: rgba(249, 248, 251, 0.5);\">xxmaj</span> <span title=\"0.090\" style=\"background-color: rgba(242, 240, 247, 0.5);\">other</span> <span title=\"0.333\" style=\"background-color: rgba(198, 198, 225, 0.5);\">chest</span> <span title=\"0.081\" style=\"background-color: rgba(243, 242, 247, 0.5);\">pain</span> <span title=\"0.018\" style=\"background-color: rgba(250, 249, 251, 0.5);\">.</span> <span title=\"0.023\" style=\"background-color: rgba(249, 248, 251, 0.5);\">xxmaj</span> <span title=\"0.204\" style=\"background-color: rgba(225, 225, 238, 0.5);\">pure</span> <span title=\"0.320\" style=\"background-color: rgba(201, 202, 226, 0.5);\">hypercholesterolemia</span> <span title=\"0.039\" style=\"background-color: rgba(248, 247, 250, 0.5);\">.</span> <span title=\"0.057\" style=\"background-color: rgba(246, 244, 249, 0.5);\">xxmaj</span> <span title=\"0.561\" style=\"background-color: rgba(143, 139, 193, 0.5);\">human</span> <span title=\"0.617\" style=\"background-color: rgba(129, 126, 186, 0.5);\">immunodeficiency</span> <span title=\"0.400\" style=\"background-color: rgba(182, 182, 216, 0.5);\">virus</span> <span title=\"0.126\" style=\"background-color: rgba(238, 236, 244, 0.5);\">(</span> <span title=\"0.132\" style=\"background-color: rgba(238, 236, 244, 0.5);\">xxup</span> <span title=\"0.391\" style=\"background-color: rgba(184, 185, 217, 0.5);\">hiv</span> <span title=\"0.030\" style=\"background-color: rgba(249, 247, 251, 0.5);\">)</span> <span title=\"0.035\" style=\"background-color: rgba(248, 247, 250, 0.5);\">disease</span> <span title=\"0.019\" style=\"background-color: rgba(250, 249, 251, 0.5);\">.</span> <span title=\"0.024\" style=\"background-color: rgba(249, 248, 251, 0.5);\">xxmaj</span> <span title=\"0.344\" style=\"background-color: rgba(195, 195, 223, 0.5);\">abnormality</span> <span title=\"0.037\" style=\"background-color: rgba(248, 247, 250, 0.5);\">of</span> <span title=\"0.043\" style=\"background-color: rgba(247, 246, 250, 0.5);\">xxunk</span> <span title=\"0.031\" style=\"background-color: rgba(249, 247, 251, 0.5);\">.</span> <span title=\"0.032\" style=\"background-color: rgba(248, 247, 250, 0.5);\">xxmaj</span> <span title=\"0.541\" style=\"background-color: rgba(148, 144, 195, 0.5);\">albumin</span> <span title=\"0.082\" style=\"background-color: rgba(243, 242, 247, 0.5);\">/</span> <span title=\"0.039\" style=\"background-color: rgba(248, 247, 250, 0.5);\">xxmaj</span> <span title=\"0.081\" style=\"background-color: rgba(243, 242, 247, 0.5);\">globulin</span> <span title=\"0.014\" style=\"background-color: rgba(250, 249, 252, 0.5);\">.</span> <span title=\"0.022\" style=\"background-color: rgba(249, 248, 251, 0.5);\">xxmaj</span> <span title=\"0.194\" style=\"background-color: rgba(227, 226, 239, 0.5);\">bilirubin</span> <span title=\"0.026\" style=\"background-color: rgba(249, 248, 251, 0.5);\">.</span> <span title=\"0.028\" style=\"background-color: rgba(249, 247, 251, 0.5);\">xxmaj</span> <span title=\"0.196\" style=\"background-color: rgba(227, 226, 239, 0.5);\">chloride</span> <span title=\"0.038\" style=\"background-color: rgba(248, 247, 250, 0.5);\">.</span> <span title=\"0.052\" style=\"background-color: rgba(246, 245, 249, 0.5);\">xxmaj</span> <span title=\"0.355\" style=\"background-color: rgba(193, 194, 222, 0.5);\">potassium</span> <span title=\"0.136\" style=\"background-color: rgba(237, 235, 244, 0.5);\">.</span> <span title=\"0.129\" style=\"background-color: rgba(238, 236, 244, 0.5);\">xxmaj</span> <span title=\"0.847\" style=\"background-color: rgba(88, 48, 147, 0.5);\">protein</span></span>"
            ],
            "text/plain": [
              "<IPython.core.display.HTML object>"
            ]
          },
          "metadata": {
            "tags": []
          }
        }
      ]
    },
    {
      "cell_type": "code",
      "metadata": {
        "id": "kP5Yqe-Ga6DM",
        "colab": {
          "base_uri": "https://localhost:8080/",
          "height": 156
        },
        "outputId": "0179f096-2f8a-4743-c9b1-2ecb03fe25c1"
      },
      "source": [
        "test_text = \"Postnasal drip.Other acute sinusitis\"\n",
        "txt_ci.show_intrinsic_attention(test_text,cmap=cm.Purples)"
      ],
      "execution_count": null,
      "outputs": [
        {
          "output_type": "stream",
          "text": [
            "/usr/local/lib/python3.6/dist-packages/fastai/text/learner.py:226: UserWarning: masked_fill_ received a mask with dtype torch.uint8, this behavior is now deprecated,please use a mask with dtype torch.bool instead. (Triggered internally at  /pytorch/aten/src/ATen/native/TensorAdvancedIndexing.cpp:650.)\n",
            "  avg_pool = output.masked_fill(mask[:, :, None], 0).mean(dim=1)\n",
            "/usr/local/lib/python3.6/dist-packages/fastai/text/learner.py:228: UserWarning: masked_fill_ received a mask with dtype torch.uint8, this behavior is now deprecated,please use a mask with dtype torch.bool instead. (Triggered internally at  /pytorch/aten/src/ATen/native/TensorAdvancedIndexing.cpp:650.)\n",
            "  max_pool = output.masked_fill(mask[:,:,None], -float('inf')).max(dim=1)[0]\n",
            "/usr/local/lib/python3.6/dist-packages/torch/autograd/__init__.py:132: UserWarning: masked_fill_ received a mask with dtype torch.uint8, this behavior is now deprecated,please use a mask with dtype torch.bool instead. (Triggered internally at  /pytorch/aten/src/ATen/native/TensorAdvancedIndexing.cpp:650.)\n",
            "  allow_unreachable=True)  # allow_unreachable flag\n"
          ],
          "name": "stderr"
        },
        {
          "output_type": "display_data",
          "data": {
            "text/html": [
              "<span style=\"font-family: monospace;\"><span title=\"0.048\" style=\"background-color: rgba(247, 245, 249, 0.5);\">xxbos</span> <span title=\"0.052\" style=\"background-color: rgba(246, 245, 249, 0.5);\">xxmaj</span> <span title=\"1.000\" style=\"background-color: rgba(63, 0, 125, 0.5);\">postnasal</span> <span title=\"0.232\" style=\"background-color: rgba(221, 220, 236, 0.5);\">drip</span> <span title=\"0.035\" style=\"background-color: rgba(248, 247, 250, 0.5);\">.</span> <span title=\"0.027\" style=\"background-color: rgba(249, 248, 251, 0.5);\">xxmaj</span> <span title=\"0.084\" style=\"background-color: rgba(243, 241, 247, 0.5);\">other</span> <span title=\"0.170\" style=\"background-color: rgba(231, 230, 241, 0.5);\">acute</span> <span title=\"0.154\" style=\"background-color: rgba(234, 232, 242, 0.5);\">sinusitis</span></span>"
            ],
            "text/plain": [
              "<IPython.core.display.HTML object>"
            ]
          },
          "metadata": {
            "tags": []
          }
        }
      ]
    },
    {
      "cell_type": "code",
      "metadata": {
        "id": "tXWhXY2zb7nz"
      },
      "source": [
        ""
      ],
      "execution_count": null,
      "outputs": []
    },
    {
      "cell_type": "code",
      "metadata": {
        "id": "yZpAn56rbXIO",
        "colab": {
          "base_uri": "https://localhost:8080/",
          "height": 1000
        },
        "outputId": "462b11d2-249f-47f3-f28d-59da117b0fe6"
      },
      "source": [
        "txt_ci.show_top_losses(50)\n"
      ],
      "execution_count": null,
      "outputs": [
        {
          "output_type": "display_data",
          "data": {
            "text/html": [
              "<table border=\"1\" class=\"dataframe\">\n",
              "  <thead>\n",
              "    <tr style=\"text-align: right;\">\n",
              "      <th>Text</th>\n",
              "      <th>Prediction</th>\n",
              "      <th>Actual</th>\n",
              "      <th>Loss</th>\n",
              "      <th>Probability</th>\n",
              "    </tr>\n",
              "  </thead>\n",
              "  <tbody>\n",
              "    <tr>\n",
              "      <td>xxbos xxmaj abnormal weight gain . xxmaj depressive disorder , xxunk . xxmaj influenza xxunk essential hypertension . xxmaj family history of ischemic heart disease . xxmaj attention or concentration deficit</td>\n",
              "      <td>1</td>\n",
              "      <td>0</td>\n",
              "      <td>2.55</td>\n",
              "      <td>0.08</td>\n",
              "    </tr>\n",
              "    <tr>\n",
              "      <td>xxbos xxmaj acute frontal sinusitis . xxmaj acute nasopharyngitis [ common xxunk maxillary sinusitis . xxmaj mixed hyperlipidemia</td>\n",
              "      <td>0</td>\n",
              "      <td>1</td>\n",
              "      <td>2.40</td>\n",
              "      <td>0.09</td>\n",
              "    </tr>\n",
              "    <tr>\n",
              "      <td>xxbos xxmaj acute upper respiratory infections of unspecified site . xxmaj allergic rhinitis xxunk sinusitis xxunk suppurative otitis media without spontaneous rupture of ear drum</td>\n",
              "      <td>0</td>\n",
              "      <td>1</td>\n",
              "      <td>2.15</td>\n",
              "      <td>0.12</td>\n",
              "    </tr>\n",
              "    <tr>\n",
              "      <td>xxbos xxmaj insomnia with sleep apnea , unspecified . xxmaj screening for depression . xxmaj dysmetabolic syndrome xxunk deficiency anemia , unspecified . xxmaj mixed hyperlipidemia . xxmaj generalized anxiety disorder . xxmaj screening for alcoholism . xxmaj personal history of cervical dysplasia . xxmaj counseling on substance use and abuse . xxmaj family history of ischemic heart disease . xxmaj unspecified vitamin d deficiency . xxmaj migraine without aura</td>\n",
              "      <td>1</td>\n",
              "      <td>0</td>\n",
              "      <td>1.73</td>\n",
              "      <td>0.18</td>\n",
              "    </tr>\n",
              "    <tr>\n",
              "      <td>xxbos xxmaj need for prophylactic vaccination and inoculation against influenza . xxmaj benign essential hypertension . xxmaj polyneuropathy in other diseases classified elsewhere . xxmaj esophageal reflux . xxmaj other malaise and fatigue . xxmaj disturbance of skin sensation . xxmaj migraine without aura , without mention of intractable migraine without mention of status migrainosus . xxmaj mixed hyperlipidemia . xxmaj other atopic dermatitis and related conditions . xxmaj acute</td>\n",
              "      <td>1</td>\n",
              "      <td>0</td>\n",
              "      <td>1.70</td>\n",
              "      <td>0.18</td>\n",
              "    </tr>\n",
              "    <tr>\n",
              "      <td>xxbos xxmaj constipation , unspecified . xxmaj anxiety state , unspecified . xxmaj symptomatic menopausal or female climacteric states . xxmaj acute maxillary sinusitis . xxmaj unspecified disorder of kidney and ureter . xxmaj allergic rhinitis , cause unspecified . xxmaj depressive disorder , xxunk for long - term ( current ) use of anticoagulants . xxmaj anxiety state , unspecified . xxmaj body xxmaj mass xxmaj index 33.0 -</td>\n",
              "      <td>1</td>\n",
              "      <td>0</td>\n",
              "      <td>1.67</td>\n",
              "      <td>0.19</td>\n",
              "    </tr>\n",
              "    <tr>\n",
              "      <td>xxbos xxmaj acute cholecystitis . xxmaj diverticulosis of colon ( without mention of xxunk c - reactive protein ( xxunk hypercholesterolemia . xxmaj flatulence , eructation , and gas pain</td>\n",
              "      <td>0</td>\n",
              "      <td>1</td>\n",
              "      <td>1.65</td>\n",
              "      <td>0.19</td>\n",
              "    </tr>\n",
              "    <tr>\n",
              "      <td>xxbos xxmaj encounter for surveillance of contraceptive pill</td>\n",
              "      <td>0</td>\n",
              "      <td>1</td>\n",
              "      <td>1.65</td>\n",
              "      <td>0.19</td>\n",
              "    </tr>\n",
              "    <tr>\n",
              "      <td>xxbos xxmaj routine general medical examination at a health care facility . xxmaj nonspecific abnormal xxmaj papanicolaou smear of cervix . xxmaj general medical exam xxunk pain . xxmaj unspecified viral infection in conditions classified elsewhere and of unspecified site . xxmaj mixed hyperlipidemia . xxmaj lupus erythematosus . xxmaj premenopausal menorrhagia . xxmaj esophageal reflux . xxmaj tobacco use disorder . xxmaj urinary tract infection , site not specified</td>\n",
              "      <td>1</td>\n",
              "      <td>0</td>\n",
              "      <td>1.62</td>\n",
              "      <td>0.20</td>\n",
              "    </tr>\n",
              "    <tr>\n",
              "      <td>xxbos xxmaj reflux esophagitis . xxmaj unspecified essential hypertension . xxmaj asthma , unspecified type , without mention of status asthmaticus . xxmaj unspecified chest pain . xxmaj viral hepatitis b with hepatic coma , acute or unspecified , without mention of hepatitis delta . xxmaj actinic keratosis . xxmaj unspecified sleep apnea . xxmaj myalgia and myositis , unspecified . xxmaj infective otitis externa , unspecified . xxmaj nonspecific</td>\n",
              "      <td>1</td>\n",
              "      <td>0</td>\n",
              "      <td>1.61</td>\n",
              "      <td>0.20</td>\n",
              "    </tr>\n",
              "    <tr>\n",
              "      <td>xxbos xxmaj headache . xxmaj postconcussion syndrome . xxmaj alcohol abuse , episodic drinking behavior . xxmaj anxiety states xxunk chronic pain . xxmaj major depressive disorder , single episode , moderate degree . xxmaj bunion . xxmaj benign essential hypertension . xxmaj acute upper respiratory infections of unspecified site</td>\n",
              "      <td>0</td>\n",
              "      <td>1</td>\n",
              "      <td>1.58</td>\n",
              "      <td>0.21</td>\n",
              "    </tr>\n",
              "    <tr>\n",
              "      <td>xxbos xxmaj absence of menstruation . xxmaj routine general medical examination at a health care facility . xxmaj atopic dermatitis and related conditions xxunk in joint involving lower leg . xxmaj generalized anxiety disorder . xxmaj other acne . xxmaj iron deficiency anemia secondary to inadequate dietary iron intake . xxmaj acute bronchitis . xxmaj lumbago . xxmaj anxiety states xxunk or frequent menstruation . xxmaj prepatellar bursitis . xxmaj</td>\n",
              "      <td>1</td>\n",
              "      <td>0</td>\n",
              "      <td>1.57</td>\n",
              "      <td>0.21</td>\n",
              "    </tr>\n",
              "    <tr>\n",
              "      <td>xxbos xxmaj vaginitis and vulvovaginitis xxunk history of allergy , other than to medicinal agents . xxmaj xxunk ( xxunk atopic dermatitis and related conditions . xxmaj rash and other nonspecific skin eruption . xxmaj allergy to milk products . xxmaj acute upper respiratory infections of unspecified site . xxmaj other extrapyramidal diseases and abnormal movement disorders . xxmaj nontoxic multinodular goiter . xxmaj personal history of allergy to other</td>\n",
              "      <td>1</td>\n",
              "      <td>0</td>\n",
              "      <td>1.56</td>\n",
              "      <td>0.21</td>\n",
              "    </tr>\n",
              "    <tr>\n",
              "      <td>xxbos xxmaj benign essential hypertension . xxmaj malignant essential hypertension . xxmaj mixed hyperlipidemia . xxmaj sprain of lateral collateral ligament of knee . xxmaj sprain of medial collateral ligament of knee</td>\n",
              "      <td>0</td>\n",
              "      <td>1</td>\n",
              "      <td>1.53</td>\n",
              "      <td>0.22</td>\n",
              "    </tr>\n",
              "    <tr>\n",
              "      <td>xxbos xxmaj malignant neoplasm of colon , unspecified . xxmaj other unspecified alcohol dependence xxunk neoplasm of prostate . xxmaj occlusion and stenosis of carotid artery xxunk reflux . xxmaj glaucoma xxunk essential hypertension . xxmaj spinal stenosis of lumbar region</td>\n",
              "      <td>1</td>\n",
              "      <td>0</td>\n",
              "      <td>1.47</td>\n",
              "      <td>0.23</td>\n",
              "    </tr>\n",
              "    <tr>\n",
              "      <td>xxbos xxmaj edema . xxmaj headache . xxmaj extrinsic asthma without mention of status asthmaticus . xxmaj other organic insomnia . xxmaj edema . xxmaj contusion of multiple sites , not elsewhere classified . xxmaj extrinsic asthma with status asthmaticus . xxmaj bite by unspecified animal . xxmaj mixed hyperlipidemia . xxmaj need for prophylactic vaccination and inoculation against influenza . xxmaj lumbar sprain . xxmaj gout with other specified</td>\n",
              "      <td>1</td>\n",
              "      <td>0</td>\n",
              "      <td>1.45</td>\n",
              "      <td>0.23</td>\n",
              "    </tr>\n",
              "    <tr>\n",
              "      <td>xxbos xxmaj other vitamin xxup b12 deficiency anemia . xxmaj atrial fibrillation . xxmaj unspecified essential hypertension . xxmaj cellulitis and abscess of unspecified sites . xxmaj allergy , unspecified , not elsewhere classified . xxmaj impacted cerumen</td>\n",
              "      <td>1</td>\n",
              "      <td>0</td>\n",
              "      <td>1.43</td>\n",
              "      <td>0.24</td>\n",
              "    </tr>\n",
              "    <tr>\n",
              "      <td>xxbos xxmaj keratoconus , unspecified . xxmaj percutaneous transluminal coronary angioplasty , postsurgical status . xxmaj calculus of kidney . xxmaj other and unspecified hyperlipidemia . xxmaj psoriasis and similar disorders xxunk premature beats . xxmaj venous ( peripheral ) insufficiency , unspecified . xxmaj mitral valve insufficiency and aortic valve insufficiency . xxmaj unspecified hypertensive heart disease without heart failure . xxmaj obesity</td>\n",
              "      <td>1</td>\n",
              "      <td>0</td>\n",
              "      <td>1.41</td>\n",
              "      <td>0.25</td>\n",
              "    </tr>\n",
              "    <tr>\n",
              "      <td>xxbos xxmaj unspecified essential hypertension . xxmaj other atopic dermatitis and related conditions . xxmaj blepharitis , unspecified . xxmaj other malaise and fatigue . xxmaj myalgia and myositis , unspecified . xxmaj family history of malignant neoplasm of ovary . xxmaj asymptomatic postmenopausal status ( age - related ) ( xxunk and unspecified hyperlipidemia</td>\n",
              "      <td>1</td>\n",
              "      <td>0</td>\n",
              "      <td>1.40</td>\n",
              "      <td>0.25</td>\n",
              "    </tr>\n",
              "    <tr>\n",
              "      <td>xxbos xxmaj encounter for long - term ( current ) use of other medications . xxmaj acute pharyngitis . xxmaj urge incontinence . xxmaj lateral epicondylitis . xxmaj osteoarthrosis , localized , primary , involving forearm . xxmaj routine gynecological examination . xxmaj symptomatic menopausal or female climacteric states . xxmaj routine general medical examination at a health care facility</td>\n",
              "      <td>1</td>\n",
              "      <td>0</td>\n",
              "      <td>1.37</td>\n",
              "      <td>0.25</td>\n",
              "    </tr>\n",
              "    <tr>\n",
              "      <td>xxbos xxmaj general medical exam xxunk general medical examination at a health care facility . xxmaj acute upper respiratory infections of unspecified site . xxmaj intestinal disaccharidase deficiencies and disaccharide malabsorption . xxmaj sprain of other specified sites of knee and leg . xxmaj need for prophylactic vaccination and inoculation against influenza . xxmaj contact dermatitis and other eczema due to oils and greases</td>\n",
              "      <td>1</td>\n",
              "      <td>0</td>\n",
              "      <td>1.35</td>\n",
              "      <td>0.26</td>\n",
              "    </tr>\n",
              "    <tr>\n",
              "      <td>xxbos xxmaj other acute reactions to stress . xxmaj elevated blood pressure reading without diagnosis of hypertension . xxmaj marital problems . xxmaj dysthymic disorder . xxmaj headache . xxmaj unspecified essential hypertension . xxmaj other malaise and fatigue . xxmaj overweight . xxmaj dermatophytosis of foot</td>\n",
              "      <td>0</td>\n",
              "      <td>1</td>\n",
              "      <td>1.33</td>\n",
              "      <td>0.26</td>\n",
              "    </tr>\n",
              "    <tr>\n",
              "      <td>xxbos xxmaj acute sinusitis , unspecified . xxmaj epistaxis . xxmaj routine general medical examination at a health care facility</td>\n",
              "      <td>0</td>\n",
              "      <td>1</td>\n",
              "      <td>1.33</td>\n",
              "      <td>0.26</td>\n",
              "    </tr>\n",
              "    <tr>\n",
              "      <td>xxbos xxmaj pain in joint involving lower leg . xxmaj pure xxunk . xxmaj potassium . xxmaj hematocrit . xxmaj hemoglobin . xxmaj monocytes . xxmaj neutrophils . xxmaj platelets . xxmaj bacteria . xxmaj crystals . xxmaj urobilinogen . xxmaj protein . xxmaj ketones . xxmaj appearance . xxmaj bilirubin . xxmaj color . xxmaj hemoglobin . xxunk . xxmaj potassium . xxmaj hematocrit . xxmaj hemoglobin . xxmaj</td>\n",
              "      <td>0</td>\n",
              "      <td>1</td>\n",
              "      <td>1.30</td>\n",
              "      <td>0.27</td>\n",
              "    </tr>\n",
              "    <tr>\n",
              "      <td>xxbos xxmaj mixed hyperlipidemia . xxmaj neck sprain . xxmaj gross hematuria . xxmaj abdominal pain , generalized . xxmaj displacement of lumbar intervertebral disc without myelopathy . xxmaj cervicalgia . xxmaj degeneration of thoracic or thoracolumbar intervertebral disc . xxmaj mixed hyperlipidemia . xxmaj dizziness and giddiness . xxmaj visual disturbances xxunk cellulitis and abscess xxunk specified sites of sprains and strains . xxmaj unspecified vitamin d deficiency .</td>\n",
              "      <td>1</td>\n",
              "      <td>0</td>\n",
              "      <td>1.30</td>\n",
              "      <td>0.27</td>\n",
              "    </tr>\n",
              "    <tr>\n",
              "      <td>xxbos xxmaj rosacea . xxmaj constipation . xxmaj chronic obstructive asthma xxunk maxillary sinusitis . xxmaj degeneration of lumbar or lumbosacral intervertebral disc . xxmaj mixed hyperlipidemia . xxmaj major depressive disorder , single episode , moderate degree . xxmaj other chronic pain . xxmaj morbid obesity . xxmaj major depressive disorder , single episode , moderate degree</td>\n",
              "      <td>0</td>\n",
              "      <td>1</td>\n",
              "      <td>1.23</td>\n",
              "      <td>0.29</td>\n",
              "    </tr>\n",
              "    <tr>\n",
              "      <td>xxbos xxmaj acute sinusitis , unspecified . xxmaj esophageal reflux . xxmaj acute frontal sinusitis . xxmaj routine general medical examination at a health care facility . xxmaj allergy , unspecified , not elsewhere classified</td>\n",
              "      <td>0</td>\n",
              "      <td>1</td>\n",
              "      <td>1.23</td>\n",
              "      <td>0.29</td>\n",
              "    </tr>\n",
              "    <tr>\n",
              "      <td>xxbos xxmaj extrinsic asthma with acute exacerbation . xxmaj extrinsic asthma without mention of status asthmaticus . xxmaj alcohol abuse , unspecified drinking behavior . xxmaj transient disorder of initiating or maintaining sleep . xxmaj unspecified essential hypertension . xxmaj personal history of other malignant neoplasm of skin . xxmaj need for prophylactic vaccination and inoculation against influenza . xxmaj persistent disorder of initiating or maintaining sleep . xxmaj other</td>\n",
              "      <td>1</td>\n",
              "      <td>0</td>\n",
              "      <td>1.23</td>\n",
              "      <td>0.29</td>\n",
              "    </tr>\n",
              "    <tr>\n",
              "      <td>xxbos xxmaj symptomatic menopausal or female climacteric states . xxmaj benign essential hypertension . xxmaj closed fracture of cervical vertebra , unspecified level . xxmaj pure hypercholesterolemia . xxmaj cervical spondylosis without myelopathy . xxmaj polymyalgia rheumatica . xxmaj mixed hyperlipidemia . xxmaj history of fall</td>\n",
              "      <td>1</td>\n",
              "      <td>0</td>\n",
              "      <td>1.20</td>\n",
              "      <td>0.30</td>\n",
              "    </tr>\n",
              "    <tr>\n",
              "      <td>xxbos xxmaj routine general medical examination at a health care facility . xxmaj obesity , unspecified . xxmaj dizziness and giddiness . xxmaj hypersomnia with sleep apnea , unspecified . xxmaj other specified hypotension . xxmaj other vitamin xxup b12 deficiency anemia . xxmaj acute upper respiratory infection of multiple or unspecified sites xxunk , unspecified . xxmaj acute pharyngitis . xxmaj unspecified monoarthritis involving hand</td>\n",
              "      <td>1</td>\n",
              "      <td>0</td>\n",
              "      <td>1.19</td>\n",
              "      <td>0.30</td>\n",
              "    </tr>\n",
              "    <tr>\n",
              "      <td>xxbos xxmaj lump or mass in breast . xxmaj dyspepsia and other specified disorders of function of stomach . xxmaj symptomatic menopausal or female climacteric states . xxmaj other bursitis disorders . xxmaj sprains and strains of shoulder and upper arm xxunk otitis media . xxmaj allergic rhinitis xxunk epicondylitis . xxmaj barotrauma , otitic . xxmaj mixed hyperlipidemia . xxmaj osteoporosis xxunk</td>\n",
              "      <td>1</td>\n",
              "      <td>0</td>\n",
              "      <td>1.19</td>\n",
              "      <td>0.31</td>\n",
              "    </tr>\n",
              "    <tr>\n",
              "      <td>xxbos xxmaj gout xxunk fasting glucose . xxmaj mixed hyperlipidemia . xxmaj screening for malignant neoplasms of prostate . xxmaj unspecified essential hypertension . xxmaj history of tobacco use . xxmaj gout , unspecified . xxmaj obesity , unspecified . xxmaj need for prophylactic vaccination and inoculation against influenza</td>\n",
              "      <td>1</td>\n",
              "      <td>0</td>\n",
              "      <td>1.18</td>\n",
              "      <td>0.31</td>\n",
              "    </tr>\n",
              "    <tr>\n",
              "      <td>xxbos xxmaj ingrowing nail . xxmaj abdominal pain , other specified site ; multiple sites . xxmaj tinnitus xxunk rhinitis , cause unspecified . xxmaj unspecified essential hypertension . xxmaj sprain of unspecified site of wrist . xxmaj viral warts , unspecified . xxmaj urinary incontinence , unspecified . xxmaj unspec adverse effect of drug due to proper administration . xxmaj diarrhea . xxmaj urinary frequency . xxmaj constipation .</td>\n",
              "      <td>0</td>\n",
              "      <td>1</td>\n",
              "      <td>1.17</td>\n",
              "      <td>0.31</td>\n",
              "    </tr>\n",
              "    <tr>\n",
              "      <td>xxbos xxmaj acute sinusitis , unspecified . xxup copd , xxunk use disorder . xxmaj routine general medical examination at a health care facility . xxmaj unspecified vitamin d deficiency . xxmaj pure hypercholesterolemia . xxmaj pain in joint involving multiple sites . xxup copd , xxunk fatigue syndrome . xxmaj myalgia and myositis , unspecified . xxmaj esophageal reflux . xxmaj impaired fasting glucose . xxmaj cough . xxmaj</td>\n",
              "      <td>0</td>\n",
              "      <td>1</td>\n",
              "      <td>1.17</td>\n",
              "      <td>0.31</td>\n",
              "    </tr>\n",
              "    <tr>\n",
              "      <td>xxbos xxmaj migraine with aura , without mention of intractable migraine without mention of status migrainosus . xxmaj pharyngitis , acute . xxmaj insomnia , unspecified . xxmaj mixed hyperlipidemia</td>\n",
              "      <td>0</td>\n",
              "      <td>1</td>\n",
              "      <td>1.17</td>\n",
              "      <td>0.31</td>\n",
              "    </tr>\n",
              "    <tr>\n",
              "      <td>xxbos xxmaj other specified forms of chronic ischemic heart disease . xxmaj unspecified essential hypertension . xxmaj disorders of bursae and tendons in shoulder region , unspecified . xxmaj pure hypercholesterolemia . xxmaj occlusion and stenosis of carotid artery</td>\n",
              "      <td>1</td>\n",
              "      <td>0</td>\n",
              "      <td>1.15</td>\n",
              "      <td>0.32</td>\n",
              "    </tr>\n",
              "    <tr>\n",
              "      <td>xxbos xxmaj chronic hepatitis c without mention of hepatic coma . xxmaj obesity , unspecified</td>\n",
              "      <td>0</td>\n",
              "      <td>1</td>\n",
              "      <td>1.12</td>\n",
              "      <td>0.33</td>\n",
              "    </tr>\n",
              "    <tr>\n",
              "      <td>xxbos xxmaj screening examination for pulmonary tuberculosis . xxmaj unspecified vitamin d deficiency . xxmaj xxunk xxunk . xxmaj contact dermatitis and other eczema xxunk general medical examination at a health care facility</td>\n",
              "      <td>1</td>\n",
              "      <td>0</td>\n",
              "      <td>1.11</td>\n",
              "      <td>0.33</td>\n",
              "    </tr>\n",
              "    <tr>\n",
              "      <td>xxbos xxmaj routine general medical examination at a health care facility . xxmaj diseases of tricuspid valve . xxmaj acute upper respiratory infections of unspecified site . xxmaj essential and other specified forms of tremor . xxmaj anorexia . xxmaj personal history of other malignant neoplasm of skin . xxmaj contusion of forearm . xxmaj contusion of xxunk malignant neoplasm of scalp and skin of neck . xxmaj generalized anxiety</td>\n",
              "      <td>1</td>\n",
              "      <td>0</td>\n",
              "      <td>1.11</td>\n",
              "      <td>0.33</td>\n",
              "    </tr>\n",
              "    <tr>\n",
              "      <td>xxbos xxmaj malignant neoplasm of rectum . xxmaj personality change due to conditions classified elsewhere . xxmaj cellulitis and abscess of trunk . xxmaj mixed hyperlipidemia . xxmaj benign essential hypertension . xxmaj open wound of foot except toe(s ) alone , complicated . xxmaj decubitus ulcer , heel . xxmaj hypertrophy ( benign ) of prostate with urinary obstruction and other lower urinary tract symptoms ( xxunk disorder of</td>\n",
              "      <td>1</td>\n",
              "      <td>0</td>\n",
              "      <td>1.11</td>\n",
              "      <td>0.33</td>\n",
              "    </tr>\n",
              "    <tr>\n",
              "      <td>xxbos xxmaj pure hypercholesterolemia . xxmaj obesity</td>\n",
              "      <td>0</td>\n",
              "      <td>1</td>\n",
              "      <td>1.11</td>\n",
              "      <td>0.33</td>\n",
              "    </tr>\n",
              "    <tr>\n",
              "      <td>xxbos xxmaj mild cognitive impairment , so stated . xxmaj constipation . xxmaj mixed hyperlipidemia . xxmaj seborrheic keratosis . xxmaj screening for osteoporosis . xxmaj cardiac pacemaker in situ . xxmaj unspecified essential hypertension . xxmaj prophylactic vaccination / inoculation against influenza . xxmaj depressive disorder , not elsewhere classified . xxmaj senile dementia , uncomplicated . xxmaj other specified diseases of sebaceous glands . xxmaj allergic rhinitis due</td>\n",
              "      <td>0</td>\n",
              "      <td>1</td>\n",
              "      <td>1.10</td>\n",
              "      <td>0.33</td>\n",
              "    </tr>\n",
              "    <tr>\n",
              "      <td>xxbos xxmaj chronic kidney disease , xxmaj stage xxup iii ( xxunk hyperlipidemia . xxmaj proteinuria . xxmaj benign essential hypertension . xxmaj polymyalgia rheumatica . xxmaj hypertrophy ( benign ) of prostate with urinary obstruction and other lower urinary tract symptoms ( xxunk bowel syndrome . xxmaj extrinsic asthma without mention of status asthmaticus . xxmaj other testicular hypofunction . xxmaj abdominal pain , epigastric</td>\n",
              "      <td>0</td>\n",
              "      <td>1</td>\n",
              "      <td>1.10</td>\n",
              "      <td>0.33</td>\n",
              "    </tr>\n",
              "    <tr>\n",
              "      <td>xxbos xxmaj pure hypercholesterolemia . xxmaj unspecified essential hypertension</td>\n",
              "      <td>0</td>\n",
              "      <td>1</td>\n",
              "      <td>1.09</td>\n",
              "      <td>0.33</td>\n",
              "    </tr>\n",
              "    <tr>\n",
              "      <td>xxbos xxmaj overweight</td>\n",
              "      <td>0</td>\n",
              "      <td>1</td>\n",
              "      <td>1.09</td>\n",
              "      <td>0.34</td>\n",
              "    </tr>\n",
              "    <tr>\n",
              "      <td>xxbos xxmaj encounter for long - term ( current ) use of other medications . xxmaj routine general medical examination at a health care facility . xxmaj essential hypertension xxunk depressive disorder , single episode , unspecified degree . xxmaj mixed hyperlipidemia</td>\n",
              "      <td>0</td>\n",
              "      <td>1</td>\n",
              "      <td>1.09</td>\n",
              "      <td>0.34</td>\n",
              "    </tr>\n",
              "    <tr>\n",
              "      <td>xxbos xxmaj influenza xxunk abscess . xxmaj acute maxillary sinusitis . xxmaj cough . xxmaj routine general medical examination at a health care facility . xxmaj obesity xxunk blood pressure reading without diagnosis of hypertension</td>\n",
              "      <td>0</td>\n",
              "      <td>1</td>\n",
              "      <td>1.07</td>\n",
              "      <td>0.34</td>\n",
              "    </tr>\n",
              "    <tr>\n",
              "      <td>xxbos xxmaj acute sinusitis , unspecified . xxmaj unspecified essential hypertension . xxmaj thoracic spondylosis without myelopathy . xxmaj nontoxic multinodular goiter . xxmaj allergic rhinitis , cause unspecified . xxmaj hordeolum externum</td>\n",
              "      <td>0</td>\n",
              "      <td>1</td>\n",
              "      <td>1.06</td>\n",
              "      <td>0.35</td>\n",
              "    </tr>\n",
              "    <tr>\n",
              "      <td>xxbos xxmaj disorder of bone and cartilage , unspecified . xxmaj unspecified essential hypertension . xxmaj sprain of medial collateral ligament of knee . xxmaj degeneration of intervertebral disc , site unspecified . xxmaj migraine xxunk</td>\n",
              "      <td>0</td>\n",
              "      <td>1</td>\n",
              "      <td>1.06</td>\n",
              "      <td>0.35</td>\n",
              "    </tr>\n",
              "    <tr>\n",
              "      <td>xxbos xxmaj chronic or unspecified peptic ulcer of unspecified site with hemorrhage , without mention of obstruction . xxmaj coronary atherosclerosis of native coronary artery . xxmaj benign hypertensive heart disease xxunk hypertensive heart disease without heart failure . xxmaj atherosclerosis of aorta . xxmaj barrett 's esophagus . xxmaj diverticulosis of colon ( without mention of hemorrhage )</td>\n",
              "      <td>0</td>\n",
              "      <td>1</td>\n",
              "      <td>1.06</td>\n",
              "      <td>0.35</td>\n",
              "    </tr>\n",
              "  </tbody>\n",
              "</table>"
            ],
            "text/plain": [
              "<IPython.core.display.HTML object>"
            ]
          },
          "metadata": {
            "tags": []
          }
        }
      ]
    },
    {
      "cell_type": "code",
      "metadata": {
        "id": "j8N-h948cb_X",
        "colab": {
          "base_uri": "https://localhost:8080/"
        },
        "outputId": "0407d7dc-c845-4498-8191-7fde05b2978f"
      },
      "source": [
        "learn.predict(\"Other abscess of vulva.Symptomatic menopausal or female climacteric states.Acute sinusitis                                                                                                                                                                                                                                                .Insect bite, nonvenomous, of other, multiple, and unspecified sites, without mention of infection.Otalgia, unspecified.Other atopic dermatitis and related conditions.Pain in joint involving upper arm\")"
      ],
      "execution_count": null,
      "outputs": [
        {
          "output_type": "execute_result",
          "data": {
            "text/plain": [
              "(Category tensor(1), tensor(1), tensor([0.3354, 0.6646]))"
            ]
          },
          "metadata": {
            "tags": []
          },
          "execution_count": 63
        }
      ]
    },
    {
      "cell_type": "code",
      "metadata": {
        "id": "RtvsuwFVk7Jq"
      },
      "source": [
        "!pwd"
      ],
      "execution_count": null,
      "outputs": []
    },
    {
      "cell_type": "code",
      "metadata": {
        "id": "2dvpSq-hk6z_"
      },
      "source": [
        "!ls"
      ],
      "execution_count": null,
      "outputs": []
    },
    {
      "cell_type": "code",
      "metadata": {
        "id": "hH4uepRpk6ej"
      },
      "source": [
        ""
      ],
      "execution_count": null,
      "outputs": []
    },
    {
      "cell_type": "code",
      "metadata": {
        "id": "h_rIjgulk6JL"
      },
      "source": [
        ""
      ],
      "execution_count": null,
      "outputs": []
    }
  ]
}