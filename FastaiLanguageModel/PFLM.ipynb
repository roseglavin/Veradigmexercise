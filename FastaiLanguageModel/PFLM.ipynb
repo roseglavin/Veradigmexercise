{
  "nbformat": 4,
  "nbformat_minor": 0,
  "metadata": {
    "kernelspec": {
      "display_name": "Python 3",
      "language": "python",
      "name": "python3"
    },
    "colab": {
      "name": "PFLM.ipynb",
      "provenance": [],
      "collapsed_sections": []
    }
  },
  "cells": [
    {
      "cell_type": "markdown",
      "metadata": {
        "id": "reuFr2JDffao"
      },
      "source": [
        "# Practice Fusion (fast.ai) Language Model and Hypothyroid Classifier\r\n",
        "\r\n",
        "*   Takes in Practice Fusion diagnosis and lab text and creates a language model\r\n",
        "*   Builds a classifier on top of the (transfer learned) LM.  \r\n",
        "Written by Rose Glavin. Feb 18th 2021\r\n",
        "\r\n"
      ]
    },
    {
      "cell_type": "markdown",
      "metadata": {
        "id": "wiP5NbKIAgeD"
      },
      "source": [
        "INITIAL SETUP "
      ]
    },
    {
      "cell_type": "code",
      "metadata": {
        "id": "nIzjcswNAjyp",
        "colab": {
          "base_uri": "https://localhost:8080/"
        },
        "outputId": "97dafd6f-bb1a-4145-8643-ac3c21afaa80"
      },
      "source": [
        "from google.colab import auth\n",
        "auth.authenticate_user()\n",
        "project_id = 'hashi-nlp'\n",
        "!gcloud config set project {project_id}\n",
        "bucket_name = 'roseglavinhashi'\n",
        "\n",
        "TASK = 'LanguageModel' #@param {type:\"string\"}\n",
        "\n",
        "TASK_DATA_DIR =  TASK\n",
        "print('***** Task data directory: {} *****'.format(TASK_DATA_DIR))\n",
        "!mkdir -p $TASK_DATA_DIR\n",
        "!ls $TASK_DATA_DIR\n",
        "\n",
        "BUCKET = 'roseglavinhashi' #@param {type:\"string\"}\n",
        "\n",
        "OUTPUT_DIR = 'gs://{}/models/{}'.format(BUCKET, TASK)\n",
        "!mkdir -p  OUTPUT_DIR \n",
        "print('***** Model output directory: {} *****'.format(OUTPUT_DIR))\n",
        "\n",
        "\n",
        "import bs4 as bs\n",
        "import pandas as pd\n",
        "import numpy as np\n",
        "import matplotlib.pyplot as plt\n",
        "import seaborn as sns\n",
        "import os as matplotlib\n",
        "import requests as requests\n",
        "import csv\n"
      ],
      "execution_count": null,
      "outputs": [
        {
          "output_type": "stream",
          "text": [
            "Updated property [core/project].\n",
            "***** Task data directory: LanguageModel *****\n",
            "***** Model output directory: gs://roseglavinhashi/models/LanguageModel *****\n"
          ],
          "name": "stdout"
        }
      ]
    },
    {
      "cell_type": "code",
      "metadata": {
        "colab": {
          "base_uri": "https://localhost:8080/"
        },
        "id": "I-cAfyrp3djV",
        "outputId": "d373187f-b1ac-45ce-c6d8-22446f0ca7d4"
      },
      "source": [
        "!gsutil -m cp  gs://roseglavinhashi/Dtext.csv . \r\n",
        "!gsutil -m cp  gs://roseglavinhashi/Ltext.csv . \r\n",
        "!gsutil -m cp  gs://roseglavinhashi/Mtext.csv . \r\n",
        "\r\n",
        "!gsutil -m cp  gs://roseglavinhashi/PFModelInHypo.csv .\r\n",
        "!gsutil -m cp  gs://roseglavinhashi/PFModelInOmitHypo.csv .\r\n",
        "!gsutil -m cp  gs://roseglavinhashi/TestInHypo.csv .\r\n",
        "!gsutil -m cp  gs://roseglavinhashi/TestInOmitHypo.csv ."
      ],
      "execution_count": null,
      "outputs": [
        {
          "output_type": "stream",
          "text": [
            "Copying gs://roseglavinhashi/Dtext.csv...\n",
            "- [1/1 files][  5.7 MiB/  5.7 MiB] 100% Done                                    \n",
            "Operation completed over 1 objects/5.7 MiB.                                      \n",
            "Copying gs://roseglavinhashi/Ltext.csv...\n",
            "/ [1/1 files][630.2 KiB/630.2 KiB] 100% Done                                    \n",
            "Operation completed over 1 objects/630.2 KiB.                                    \n",
            "Copying gs://roseglavinhashi/Mtext.csv...\n",
            "/ [1/1 files][  2.3 MiB/  2.3 MiB] 100% Done                                    \n",
            "Operation completed over 1 objects/2.3 MiB.                                      \n",
            "Copying gs://roseglavinhashi/PFModelInHypo.csv...\n",
            "/ [1/1 files][  1.2 MiB/  1.2 MiB] 100% Done                                    \n",
            "Operation completed over 1 objects/1.2 MiB.                                      \n",
            "Copying gs://roseglavinhashi/PFModelInOmitHypo.csv...\n",
            "/ [1/1 files][  1.1 MiB/  1.1 MiB] 100% Done                                    \n",
            "Operation completed over 1 objects/1.1 MiB.                                      \n",
            "Copying gs://roseglavinhashi/TestInHypo.csv...\n",
            "/ [1/1 files][ 58.1 KiB/ 58.1 KiB] 100% Done                                    \n",
            "Operation completed over 1 objects/58.1 KiB.                                     \n",
            "Copying gs://roseglavinhashi/TestInOmitHypo.csv...\n",
            "/ [1/1 files][ 58.0 KiB/ 58.0 KiB] 100% Done                                    \n",
            "Operation completed over 1 objects/58.0 KiB.                                     \n"
          ],
          "name": "stdout"
        }
      ]
    },
    {
      "cell_type": "code",
      "metadata": {
        "colab": {
          "base_uri": "https://localhost:8080/"
        },
        "id": "fg7QOi7Y3qbe",
        "outputId": "4e83d3d4-6962-46ef-c719-4b007f0631ac"
      },
      "source": [
        "!ls\r\n"
      ],
      "execution_count": null,
      "outputs": [
        {
          "output_type": "stream",
          "text": [
            "adc.json       Ltext.csv   PFModelInHypo.csv\t  TestInHypo.csv\n",
            "Dtext.csv      Mtext.csv   PFModelInOmitHypo.csv  TestInOmitHypo.csv\n",
            "LanguageModel  OUTPUT_DIR  sample_data\n"
          ],
          "name": "stdout"
        }
      ]
    },
    {
      "cell_type": "code",
      "metadata": {
        "id": "642cgvgsffaq"
      },
      "source": [
        "%reload_ext autoreload\n",
        "%autoreload 2\n",
        "%matplotlib inline"
      ],
      "execution_count": null,
      "outputs": []
    },
    {
      "cell_type": "code",
      "metadata": {
        "id": "FP9MHLB7ffat"
      },
      "source": [
        "import fastai\n",
        "from fastai import * \n",
        "from fastai.text import *\n",
        "from fastai.datasets import URLs"
      ],
      "execution_count": null,
      "outputs": []
    },
    {
      "cell_type": "code",
      "metadata": {
        "id": "D7RyRyEJ1fP6"
      },
      "source": [
        ""
      ],
      "execution_count": null,
      "outputs": []
    },
    {
      "cell_type": "markdown",
      "metadata": {
        "id": "BxBbPOW31f7Y"
      },
      "source": [
        "Add all the diagnosis descriptions and lab results to train the LM\r\n",
        "It contains a row for each patient with either all of the diagnosis description text or the Lab description text (HL7Text). Will be shuffled before batched."
      ]
    },
    {
      "cell_type": "code",
      "metadata": {
        "id": "DwdGo6kJ0kGt"
      },
      "source": [
        "diagdf = pd.read_csv('Dtext.csv')\r\n",
        "labsdf = pd.read_csv('Ltext.csv')\r\n",
        "df = pd.concat ([diagdf,labsdf])\r\n",
        "f=open(\"medtxt.csv\",mode='w', newline='')\r\n",
        "df.to_csv(f, encoding='utf-8', index=False)\r\n"
      ],
      "execution_count": null,
      "outputs": []
    },
    {
      "cell_type": "code",
      "metadata": {
        "colab": {
          "base_uri": "https://localhost:8080/",
          "height": 419
        },
        "id": "Twa71nQQ04a0",
        "outputId": "1e6c4eb0-f965-466e-f8a2-bed2e57ce537"
      },
      "source": [
        "df"
      ],
      "execution_count": null,
      "outputs": [
        {
          "output_type": "execute_result",
          "data": {
            "text/html": [
              "<div>\n",
              "<style scoped>\n",
              "    .dataframe tbody tr th:only-of-type {\n",
              "        vertical-align: middle;\n",
              "    }\n",
              "\n",
              "    .dataframe tbody tr th {\n",
              "        vertical-align: top;\n",
              "    }\n",
              "\n",
              "    .dataframe thead th {\n",
              "        text-align: right;\n",
              "    }\n",
              "</style>\n",
              "<table border=\"1\" class=\"dataframe\">\n",
              "  <thead>\n",
              "    <tr style=\"text-align: right;\">\n",
              "      <th></th>\n",
              "      <th>Unnamed: 0</th>\n",
              "      <th>MedicalText</th>\n",
              "    </tr>\n",
              "  </thead>\n",
              "  <tbody>\n",
              "    <tr>\n",
              "      <th>0</th>\n",
              "      <td>1</td>\n",
              "      <td>Fracture of calcaneus, closed</td>\n",
              "    </tr>\n",
              "    <tr>\n",
              "      <th>1</th>\n",
              "      <td>2</td>\n",
              "      <td>Headache</td>\n",
              "    </tr>\n",
              "    <tr>\n",
              "      <th>2</th>\n",
              "      <td>3</td>\n",
              "      <td>Acute sinusitis, unspecified</td>\n",
              "    </tr>\n",
              "    <tr>\n",
              "      <th>3</th>\n",
              "      <td>4</td>\n",
              "      <td>Routine gynecological examination</td>\n",
              "    </tr>\n",
              "    <tr>\n",
              "      <th>4</th>\n",
              "      <td>5</td>\n",
              "      <td>Epilepsy, unspecified, without mention of intr...</td>\n",
              "    </tr>\n",
              "    <tr>\n",
              "      <th>...</th>\n",
              "      <td>...</td>\n",
              "      <td>...</td>\n",
              "    </tr>\n",
              "    <tr>\n",
              "      <th>29009</th>\n",
              "      <td>29010</td>\n",
              "      <td>Sex Hormone Binding Globulin</td>\n",
              "    </tr>\n",
              "    <tr>\n",
              "      <th>29010</th>\n",
              "      <td>29011</td>\n",
              "      <td>Sex Hormone Binding Globulin</td>\n",
              "    </tr>\n",
              "    <tr>\n",
              "      <th>29011</th>\n",
              "      <td>29012</td>\n",
              "      <td>Sex Hormone Binding Globulin</td>\n",
              "    </tr>\n",
              "    <tr>\n",
              "      <th>29012</th>\n",
              "      <td>29013</td>\n",
              "      <td>T3, Free</td>\n",
              "    </tr>\n",
              "    <tr>\n",
              "      <th>29013</th>\n",
              "      <td>29014</td>\n",
              "      <td>T3, Free</td>\n",
              "    </tr>\n",
              "  </tbody>\n",
              "</table>\n",
              "<p>123844 rows × 2 columns</p>\n",
              "</div>"
            ],
            "text/plain": [
              "       Unnamed: 0                                        MedicalText\n",
              "0               1                      Fracture of calcaneus, closed\n",
              "1               2                                           Headache\n",
              "2               3                       Acute sinusitis, unspecified\n",
              "3               4                  Routine gynecological examination\n",
              "4               5  Epilepsy, unspecified, without mention of intr...\n",
              "...           ...                                                ...\n",
              "29009       29010                       Sex Hormone Binding Globulin\n",
              "29010       29011                       Sex Hormone Binding Globulin\n",
              "29011       29012                       Sex Hormone Binding Globulin\n",
              "29012       29013                                           T3, Free\n",
              "29013       29014                                           T3, Free\n",
              "\n",
              "[123844 rows x 2 columns]"
            ]
          },
          "metadata": {
            "tags": []
          },
          "execution_count": 7
        }
      ]
    },
    {
      "cell_type": "code",
      "metadata": {
        "id": "P9ClDVV2CIg1"
      },
      "source": [
        ""
      ],
      "execution_count": null,
      "outputs": []
    },
    {
      "cell_type": "code",
      "metadata": {
        "id": "9PkFlt7Z4vm2",
        "colab": {
          "base_uri": "https://localhost:8080/",
          "height": 35
        },
        "outputId": "1f9abc7f-1b0f-4960-f2b7-48f3938fe773"
      },
      "source": [
        "path = %pwd\n",
        "path"
      ],
      "execution_count": null,
      "outputs": [
        {
          "output_type": "execute_result",
          "data": {
            "application/vnd.google.colaboratory.intrinsic+json": {
              "type": "string"
            },
            "text/plain": [
              "'/content'"
            ]
          },
          "metadata": {
            "tags": []
          },
          "execution_count": 8
        }
      ]
    },
    {
      "cell_type": "markdown",
      "metadata": {
        "id": "0iJuMosxffbB"
      },
      "source": [
        "### Tokenization"
      ]
    },
    {
      "cell_type": "code",
      "metadata": {
        "id": "6ldhOQCPffbC",
        "colab": {
          "base_uri": "https://localhost:8080/",
          "height": 445
        },
        "outputId": "fabfd54b-cdb3-4221-917f-d8d22fd72185"
      },
      "source": [
        "data = TextLMDataBunch.from_csv(path, 'medtxt.csv')\n",
        "data.show_batch()"
      ],
      "execution_count": null,
      "outputs": [
        {
          "output_type": "display_data",
          "data": {
            "text/html": [
              ""
            ],
            "text/plain": [
              "<IPython.core.display.HTML object>"
            ]
          },
          "metadata": {
            "tags": []
          }
        },
        {
          "output_type": "stream",
          "text": [
            "/usr/local/lib/python3.6/dist-packages/fastai/core.py:302: VisibleDeprecationWarning: Creating an ndarray from ragged nested sequences (which is a list-or-tuple of lists-or-tuples-or ndarrays with different lengths or shapes) is deprecated. If you meant to do this, you must specify 'dtype=object' when creating the ndarray\n",
            "  return np.array(a, dtype=dtype, **kwargs)\n"
          ],
          "name": "stderr"
        },
        {
          "output_type": "display_data",
          "data": {
            "text/html": [
              ""
            ],
            "text/plain": [
              "<IPython.core.display.HTML object>"
            ]
          },
          "metadata": {
            "tags": []
          }
        },
        {
          "output_type": "stream",
          "text": [
            "/usr/local/lib/python3.6/dist-packages/fastai/text/data.py:339: UserWarning: This overload of nonzero is deprecated:\n",
            "\tnonzero()\n",
            "Consider using one of the following signatures instead:\n",
            "\tnonzero(*, bool as_tuple) (Triggered internally at  /pytorch/torch/csrc/utils/python_arg_parser.cpp:882.)\n",
            "  idx_min = (t != self.pad_idx).nonzero().min()\n"
          ],
          "name": "stderr"
        },
        {
          "output_type": "display_data",
          "data": {
            "text/html": [
              "<table border=\"1\" class=\"dataframe\">\n",
              "  <thead>\n",
              "    <tr style=\"text-align: right;\">\n",
              "      <th>idx</th>\n",
              "      <th>text</th>\n",
              "    </tr>\n",
              "  </thead>\n",
              "  <tbody>\n",
              "    <tr>\n",
              "      <td>0</td>\n",
              "      <td>xxbos xxmaj urinary tract infection , site not specified xxbos xxmaj hypertrophy ( benign ) of prostate without urinary obstruction and other lower urinary tract symptoms ( xxup luts ) xxbos xxmaj neutrophils xxbos xxmaj other acne xxbos xxmaj potassium xxbos xxmaj excessive or frequent menstruation xxbos xxup wbc xxbos xxmaj insomnia , unspecified xxbos xxmaj other and unspecified hyperlipidemia xxbos xxmaj chronic kidney disease , xxmaj stage xxup iii</td>\n",
              "    </tr>\n",
              "    <tr>\n",
              "      <td>1</td>\n",
              "      <td>of anticoagulants xxbos xxmaj routine infant or child health check xxbos xxmaj pure hypercholesterolemia xxbos xxmaj unspecified hypothyroidism xxbos xxmaj esophageal reflux xxbos xxmaj dermatophytosis of the body xxbos xxmaj essential hypertension xxbos xxup wbc xxbos monocytes(absolute ) xxbos xxmaj albumin / xxmaj globulin xxbos xxmaj degeneration of lumbar or lumbosacral intervertebral disc xxbos xxmaj unspecified disorder of skin and subcutaneous tissue xxbos xxmaj allergic rhinitis , cause unspecified xxbos</td>\n",
              "    </tr>\n",
              "    <tr>\n",
              "      <td>2</td>\n",
              "      <td>without exacerbation xxbos xxmaj acute cystitis xxbos xxmaj anemia , unspecified xxbos xxmaj polymyalgia rheumatica xxbos xxmaj hemoglobin xxbos xxmaj bilirubin , xxmaj total xxbos xxmaj bilirubin xxbos xxmaj calcifying tendinitis of shoulder xxbos xxmaj senile osteoporosis xxbos xxmaj neutrophils xxbos xxmaj cellulitis and abscess of upper arm and forearm xxbos xxmaj globulin xxbos xxmaj routine general medical examination at a health care facility xxbos xxmaj congestive heart failure ,</td>\n",
              "    </tr>\n",
              "    <tr>\n",
              "      <td>3</td>\n",
              "      <td>mild mental retardation xxbos xxmaj anxiety state , unspecified xxbos xxmaj orthostatic hypotension xxbos xxmaj mixed hyperlipidemia xxbos xxmaj other abnormal blood chemistry xxbos xxmaj other chest pain xxbos xxmaj allergic rhinitis xxbos xxmaj unspecified functional disorder of stomach xxbos xxmaj neutrophils xxbos xxmaj other abnormal glucose xxbos xxmaj estimated xxup gfr ( egfr ) xxbos xxmaj abnormal loss of weight xxbos xxmaj insect bite , nonvenomous , of hip</td>\n",
              "    </tr>\n",
              "    <tr>\n",
              "      <td>4</td>\n",
              "      <td>xxmaj insomnia , unspecified xxbos xxmaj other abnormal glucose xxbos xxmaj proteinuria xxbos xxmaj screening for malignant neoplasms of colon xxbos xxmaj dysphonia xxbos xxmaj pityriasis versicolor xxbos xxmaj asthma , unspecified type , with acute exacerbation xxbos xxmaj other specified visual disturbances xxbos xxmaj unspecified hypothyroidism xxbos xxmaj hemoglobin xxbos xxmaj plantar fascial fibromatosis xxbos xxmaj thyroxine xxbos xxmaj need for prophylactic vaccination and inoculation against influenza xxbos xxmaj</td>\n",
              "    </tr>\n",
              "  </tbody>\n",
              "</table>"
            ],
            "text/plain": [
              "<IPython.core.display.HTML object>"
            ]
          },
          "metadata": {
            "tags": []
          }
        }
      ]
    },
    {
      "cell_type": "markdown",
      "metadata": {
        "id": "4sY7vENXffbF"
      },
      "source": [
        "### Numericalization"
      ]
    },
    {
      "cell_type": "code",
      "metadata": {
        "id": "Dorrr7nqffbG",
        "colab": {
          "base_uri": "https://localhost:8080/"
        },
        "outputId": "a13bfb14-ce6e-449e-bcf4-3cec4f9ef8c8"
      },
      "source": [
        "data.vocab.itos[:10]"
      ],
      "execution_count": null,
      "outputs": [
        {
          "output_type": "execute_result",
          "data": {
            "text/plain": [
              "['xxunk',\n",
              " 'xxpad',\n",
              " 'xxbos',\n",
              " 'xxeos',\n",
              " 'xxfld',\n",
              " 'xxmaj',\n",
              " 'xxup',\n",
              " 'xxrep',\n",
              " 'xxwrep',\n",
              " ',']"
            ]
          },
          "metadata": {
            "tags": []
          },
          "execution_count": 10
        }
      ]
    },
    {
      "cell_type": "code",
      "metadata": {
        "id": "cH5WM9etffbI",
        "colab": {
          "base_uri": "https://localhost:8080/"
        },
        "outputId": "fe66cf7a-3c3d-4e16-f6fb-a22b74798f8f"
      },
      "source": [
        "data.train_ds[0][0]"
      ],
      "execution_count": null,
      "outputs": [
        {
          "output_type": "execute_result",
          "data": {
            "text/plain": [
              "Text [ 2  5 29 17 15]"
            ]
          },
          "metadata": {
            "tags": []
          },
          "execution_count": 11
        }
      ]
    },
    {
      "cell_type": "markdown",
      "metadata": {
        "id": "kD2HxxJCffbP"
      },
      "source": [
        "## Language model"
      ]
    },
    {
      "cell_type": "code",
      "metadata": {
        "id": "2fFSb6pRffbQ"
      },
      "source": [
        "bs=48"
      ],
      "execution_count": null,
      "outputs": []
    },
    {
      "cell_type": "code",
      "metadata": {
        "id": "r9Kaszs5Ws62"
      },
      "source": [
        "data.save('data_lm.pkl')"
      ],
      "execution_count": null,
      "outputs": []
    },
    {
      "cell_type": "code",
      "metadata": {
        "id": "Wlo37sNQffbb"
      },
      "source": [
        "data_lm = load_data(path, 'data_lm.pkl', bs=bs)"
      ],
      "execution_count": null,
      "outputs": []
    },
    {
      "cell_type": "code",
      "metadata": {
        "id": "eGOalCQRffbc",
        "colab": {
          "base_uri": "https://localhost:8080/",
          "height": 306
        },
        "outputId": "a36193c8-eb44-4911-8556-84d0cbd12a6f"
      },
      "source": [
        "data_lm.show_batch()"
      ],
      "execution_count": null,
      "outputs": [
        {
          "output_type": "display_data",
          "data": {
            "text/html": [
              "<table border=\"1\" class=\"dataframe\">\n",
              "  <thead>\n",
              "    <tr style=\"text-align: right;\">\n",
              "      <th>idx</th>\n",
              "      <th>text</th>\n",
              "    </tr>\n",
              "  </thead>\n",
              "  <tbody>\n",
              "    <tr>\n",
              "      <td>0</td>\n",
              "      <td>xxbos xxmaj urinary tract infection , site not specified xxbos xxmaj hypertrophy ( benign ) of prostate without urinary obstruction and other lower urinary tract symptoms ( xxup luts ) xxbos xxmaj neutrophils xxbos xxmaj other acne xxbos xxmaj potassium xxbos xxmaj excessive or frequent menstruation xxbos xxup wbc xxbos xxmaj insomnia , unspecified xxbos xxmaj other and unspecified hyperlipidemia xxbos xxmaj chronic kidney disease , xxmaj stage xxup iii</td>\n",
              "    </tr>\n",
              "    <tr>\n",
              "      <td>1</td>\n",
              "      <td>xxbos xxmaj degeneration of lumbar or lumbosacral intervertebral disc xxbos xxmaj chronic sinusitis xxbos xxmaj tonsillitis , acute xxbos xxmaj hematocrit xxbos xxmaj cervicalgia xxbos xxmaj bilirubin xxbos xxmaj other abnormal glucose xxbos xxmaj globulin xxbos xxmaj acute mucoid otitis media xxbos xxmaj mixed hyperlipidemia xxbos xxmaj decubitus ulcer , buttock xxbos xxmaj streptococcal sore throat xxbos xxmaj urobilinogen xxbos xxmaj thrombocytopenia , unspecified xxbos xxmaj headache xxbos xxmaj subjective</td>\n",
              "    </tr>\n",
              "    <tr>\n",
              "      <td>2</td>\n",
              "      <td>conjunctivitis , unspecified xxbos xxmaj creatinine , xxmaj serum xxbos xxmaj neutrophils - xxmaj absolute xxbos xxmaj malignant neoplasm of prostate xxbos xxmaj pure hypercholesterolemia xxbos xxmaj suppurative and unspecified otitis media xxbos xxmaj gout , unspecified xxbos xxmaj neutrophils ( xxmaj absolute ) xxbos xxmaj hematocrit xxbos xxmaj unspecified chest pain xxbos xxmaj allergic rhinitis , cause unspecified xxbos xxmaj acute upper respiratory infections of unspecified site xxbos xxmaj</td>\n",
              "    </tr>\n",
              "    <tr>\n",
              "      <td>3</td>\n",
              "      <td>xxmaj insomnia , unspecified xxbos xxmaj other abnormal glucose xxbos xxmaj proteinuria xxbos xxmaj screening for malignant neoplasms of colon xxbos xxmaj dysphonia xxbos xxmaj pityriasis versicolor xxbos xxmaj asthma , unspecified type , with acute exacerbation xxbos xxmaj other specified visual disturbances xxbos xxmaj unspecified hypothyroidism xxbos xxmaj hemoglobin xxbos xxmaj plantar fascial fibromatosis xxbos xxmaj thyroxine xxbos xxmaj need for prophylactic vaccination and inoculation against influenza xxbos xxmaj</td>\n",
              "    </tr>\n",
              "    <tr>\n",
              "      <td>4</td>\n",
              "      <td>moderate degree xxbos xxmaj abdominal pain , left lower quadrant xxbos xxmaj routine general medical examination at a health care facility xxbos xxmaj shortness of breath xxbos xxmaj other malaise and fatigue xxbos xxmaj malignant neoplasm of colon , unspecified xxbos xxmaj appearance xxbos xxmaj xxunk disorder xxbos xxmaj unspecified essential hypertension xxbos xxmaj carpal tunnel syndrome xxbos xxmaj leukocytopenia , unspecified xxbos xxmaj acute conjunctivitis , unspecified xxbos xxmaj</td>\n",
              "    </tr>\n",
              "  </tbody>\n",
              "</table>"
            ],
            "text/plain": [
              "<IPython.core.display.HTML object>"
            ]
          },
          "metadata": {
            "tags": []
          }
        }
      ]
    },
    {
      "cell_type": "markdown",
      "metadata": {
        "id": "zRgo0OG1ffbf"
      },
      "source": [
        "We can then put this in a learner object very easily with a model loaded with the pretrained weights. They'll be downloaded the first time you'll execute the following line and stored in `~/.fastai/models/` (or elsewhere if you specified different paths in your config file)."
      ]
    },
    {
      "cell_type": "code",
      "metadata": {
        "id": "Kqa9kr5Offbg",
        "colab": {
          "base_uri": "https://localhost:8080/",
          "height": 34
        },
        "outputId": "7ac1a6b6-2330-4dc3-ac8a-f634c1e89566"
      },
      "source": [
        "learn = language_model_learner(data, AWD_LSTM, drop_mult=0.3)"
      ],
      "execution_count": null,
      "outputs": [
        {
          "output_type": "stream",
          "text": [
            "Downloading https://s3.amazonaws.com/fast-ai-modelzoo/wt103-fwd.tgz\n"
          ],
          "name": "stdout"
        },
        {
          "output_type": "display_data",
          "data": {
            "text/html": [
              ""
            ],
            "text/plain": [
              "<IPython.core.display.HTML object>"
            ]
          },
          "metadata": {
            "tags": []
          }
        }
      ]
    },
    {
      "cell_type": "code",
      "metadata": {
        "id": "w0lUJGo0ffbh",
        "colab": {
          "base_uri": "https://localhost:8080/",
          "height": 112
        },
        "outputId": "cfe3928f-8030-42b5-edd3-38d1fe3a13c6"
      },
      "source": [
        "learn.lr_find()"
      ],
      "execution_count": null,
      "outputs": [
        {
          "output_type": "display_data",
          "data": {
            "text/html": [
              "\n",
              "    <div>\n",
              "        <style>\n",
              "            /* Turns off some styling */\n",
              "            progress {\n",
              "                /* gets rid of default border in Firefox and Opera. */\n",
              "                border: none;\n",
              "                /* Needs to be in here for Safari polyfill so background images work as expected. */\n",
              "                background-size: auto;\n",
              "            }\n",
              "            .progress-bar-interrupted, .progress-bar-interrupted::-webkit-progress-bar {\n",
              "                background: #F44336;\n",
              "            }\n",
              "        </style>\n",
              "      <progress value='0' class='' max='1' style='width:300px; height:20px; vertical-align: middle;'></progress>\n",
              "      0.00% [0/1 00:00<00:00]\n",
              "    </div>\n",
              "    \n",
              "<table border=\"1\" class=\"dataframe\">\n",
              "  <thead>\n",
              "    <tr style=\"text-align: left;\">\n",
              "      <th>epoch</th>\n",
              "      <th>train_loss</th>\n",
              "      <th>valid_loss</th>\n",
              "      <th>accuracy</th>\n",
              "      <th>time</th>\n",
              "    </tr>\n",
              "  </thead>\n",
              "  <tbody>\n",
              "  </tbody>\n",
              "</table><p>\n",
              "\n",
              "    <div>\n",
              "        <style>\n",
              "            /* Turns off some styling */\n",
              "            progress {\n",
              "                /* gets rid of default border in Firefox and Opera. */\n",
              "                border: none;\n",
              "                /* Needs to be in here for Safari polyfill so background images work as expected. */\n",
              "                background-size: auto;\n",
              "            }\n",
              "            .progress-bar-interrupted, .progress-bar-interrupted::-webkit-progress-bar {\n",
              "                background: #F44336;\n",
              "            }\n",
              "        </style>\n",
              "      <progress value='99' class='' max='131' style='width:300px; height:20px; vertical-align: middle;'></progress>\n",
              "      75.57% [99/131 12:58<04:11 4.9237]\n",
              "    </div>\n",
              "    "
            ],
            "text/plain": [
              "<IPython.core.display.HTML object>"
            ]
          },
          "metadata": {
            "tags": []
          }
        },
        {
          "output_type": "stream",
          "text": [
            "LR Finder is complete, type {learner_name}.recorder.plot() to see the graph.\n"
          ],
          "name": "stdout"
        }
      ]
    },
    {
      "cell_type": "code",
      "metadata": {
        "id": "SyfNBE_Rffbj",
        "colab": {
          "base_uri": "https://localhost:8080/",
          "height": 279
        },
        "outputId": "d15bde18-1374-44da-edc1-0debdff5b8ce"
      },
      "source": [
        "learn.recorder.plot(skip_end=15)"
      ],
      "execution_count": null,
      "outputs": [
        {
          "output_type": "display_data",
          "data": {
            "image/png": "[encoded data removed]",
            "text/plain": [
              "<Figure size 432x288 with 1 Axes>"
            ]
          },
          "metadata": {
            "tags": [],
            "needs_background": "light"
          }
        }
      ]
    },
    {
      "cell_type": "code",
      "metadata": {
        "id": "uvuIXFOHffbl",
        "colab": {
          "base_uri": "https://localhost:8080/",
          "height": 80
        },
        "outputId": "2f072fe0-72d0-4d77-8e08-5f57cce0b26a"
      },
      "source": [
        "learn.fit_one_cycle(1, 1e-2, moms=(0.8,0.7))"
      ],
      "execution_count": null,
      "outputs": [
        {
          "output_type": "display_data",
          "data": {
            "text/html": [
              "<table border=\"1\" class=\"dataframe\">\n",
              "  <thead>\n",
              "    <tr style=\"text-align: left;\">\n",
              "      <th>epoch</th>\n",
              "      <th>train_loss</th>\n",
              "      <th>valid_loss</th>\n",
              "      <th>accuracy</th>\n",
              "      <th>time</th>\n",
              "    </tr>\n",
              "  </thead>\n",
              "  <tbody>\n",
              "    <tr>\n",
              "      <td>0</td>\n",
              "      <td>1.792426</td>\n",
              "      <td>1.361697</td>\n",
              "      <td>0.732095</td>\n",
              "      <td>18:35</td>\n",
              "    </tr>\n",
              "  </tbody>\n",
              "</table>"
            ],
            "text/plain": [
              "<IPython.core.display.HTML object>"
            ]
          },
          "metadata": {
            "tags": []
          }
        }
      ]
    },
    {
      "cell_type": "code",
      "metadata": {
        "id": "iBxiLREvffbn"
      },
      "source": [
        "learn.save('fit_head')"
      ],
      "execution_count": null,
      "outputs": []
    },
    {
      "cell_type": "code",
      "metadata": {
        "id": "mQOIR1uAffbp"
      },
      "source": [
        "learn.load('fit_head');"
      ],
      "execution_count": null,
      "outputs": []
    },
    {
      "cell_type": "markdown",
      "metadata": {
        "id": "CDi2_oY-ffbr"
      },
      "source": [
        "To complete the fine-tuning, we can then unfeeze and launch a new training."
      ]
    },
    {
      "cell_type": "code",
      "metadata": {
        "id": "kg2AXur2ffbs"
      },
      "source": [
        "learn.unfreeze()"
      ],
      "execution_count": null,
      "outputs": []
    },
    {
      "cell_type": "markdown",
      "metadata": {
        "id": "VNo-NKwEg9OV"
      },
      "source": [
        "THis time change to only train the whole model for 2 epochs"
      ]
    },
    {
      "cell_type": "code",
      "metadata": {
        "id": "zS0a-FH-ffbv",
        "colab": {
          "base_uri": "https://localhost:8080/",
          "height": 111
        },
        "outputId": "d0c92ccf-c3ad-482a-b2c0-94a4ea984df2"
      },
      "source": [
        "learn.fit_one_cycle(2, 1e-3, moms=(0.8,0.7))"
      ],
      "execution_count": null,
      "outputs": [
        {
          "output_type": "display_data",
          "data": {
            "text/html": [
              "<table border=\"1\" class=\"dataframe\">\n",
              "  <thead>\n",
              "    <tr style=\"text-align: left;\">\n",
              "      <th>epoch</th>\n",
              "      <th>train_loss</th>\n",
              "      <th>valid_loss</th>\n",
              "      <th>accuracy</th>\n",
              "      <th>time</th>\n",
              "    </tr>\n",
              "  </thead>\n",
              "  <tbody>\n",
              "    <tr>\n",
              "      <td>0</td>\n",
              "      <td>1.328573</td>\n",
              "      <td>1.230075</td>\n",
              "      <td>0.753632</td>\n",
              "      <td>28:43</td>\n",
              "    </tr>\n",
              "    <tr>\n",
              "      <td>1</td>\n",
              "      <td>1.237270</td>\n",
              "      <td>1.195637</td>\n",
              "      <td>0.758455</td>\n",
              "      <td>28:40</td>\n",
              "    </tr>\n",
              "  </tbody>\n",
              "</table>"
            ],
            "text/plain": [
              "<IPython.core.display.HTML object>"
            ]
          },
          "metadata": {
            "tags": []
          }
        }
      ]
    },
    {
      "cell_type": "code",
      "metadata": {
        "id": "x5ifELOdffbx"
      },
      "source": [
        "learn.save('fine_tuned')\n",
        "learn.save_encoder('fine_tuned_enc')"
      ],
      "execution_count": null,
      "outputs": []
    },
    {
      "cell_type": "markdown",
      "metadata": {
        "id": "scEXkDP6ffby"
      },
      "source": [
        "How good is our model? Well let's try to see what it predicts after a few given words."
      ]
    },
    {
      "cell_type": "code",
      "metadata": {
        "id": "abbxz5Qzffby"
      },
      "source": [
        "learn.load('fine_tuned');"
      ],
      "execution_count": null,
      "outputs": []
    },
    {
      "cell_type": "code",
      "metadata": {
        "id": "_GoW8FQ0ffb0"
      },
      "source": [
        "TEXT = \"Pain in the lower leg. Fungal Infection. UTI \"\n",
        "N_WORDS = 20\n",
        "N_SENTENCES = 2"
      ],
      "execution_count": null,
      "outputs": []
    },
    {
      "cell_type": "code",
      "metadata": {
        "id": "Wzo4WsQOffb1",
        "colab": {
          "base_uri": "https://localhost:8080/"
        },
        "outputId": "e5d3fdae-279c-46e7-ddee-df8a4ad11d52"
      },
      "source": [
        "print(\"\\n\".join(learn.predict(TEXT, N_WORDS, temperature=0.8) for _ in range(N_SENTENCES)))"
      ],
      "execution_count": null,
      "outputs": [
        {
          "output_type": "stream",
          "text": [
            "Pain in the lower leg. Fungal Infection. UTI  : Acute maxillary sinusitis xxbos Encounter for long - term ( current ) use of anticoagulants xxbos Anxiety state , unspecified xxbos Other specified idiopathic peripheral neuropathy xxbos Depressive disorder , NOS xxbos\n",
            "Pain in the lower leg. Fungal Infection. UTI  WHITE CELL COUNT xxbos Other specified visual disturbances xxbos Appearance xxbos Routine general medical examination at a health care facility xxbos Chloride xxbos Benign essential hypertension xxbos Other and unspecified hyperlipidemia\n"
          ],
          "name": "stdout"
        }
      ]
    },
    {
      "cell_type": "code",
      "metadata": {
        "id": "_6BpTBeXwYcH",
        "colab": {
          "base_uri": "https://localhost:8080/"
        },
        "outputId": "fa3662b7-2f2b-4fdb-cd7a-d69c7b9e7897"
      },
      "source": [
        "TEXT = \"essential hypertension   \"\n",
        "print(\"\\n\".join(learn.predict(TEXT, N_WORDS, temperature=0.7) for _ in range(N_SENTENCES)))\n"
      ],
      "execution_count": null,
      "outputs": [
        {
          "output_type": "stream",
          "text": [
            "essential hypertension    xxbos Acute bronchitis xxbos Routine general medical examination at a health care facility xxbos Benign essential hypertension xxbos Triglyceride xxbos Globulin xxbos Dysphagia , unspecified xxbos Hemoglobin xxbos Encounter for long -\n",
            "essential hypertension    xxbos Unspecified essential hypertension xxbos Carpal tunnel syndrome xxbos COMPLETE BLOOD COUNT xxbos Anxiety state , unspecified xxbos Cough xxbos Coronary atherosclerosis of native coronary artery xxbos Chloride xxbos Prophylactic\n"
          ],
          "name": "stdout"
        }
      ]
    },
    {
      "cell_type": "code",
      "metadata": {
        "colab": {
          "base_uri": "https://localhost:8080/"
        },
        "id": "bqeAXxaOb9mY",
        "outputId": "bd986187-1d0c-445a-b524-a2f07073b949"
      },
      "source": [
        "TEXT = \"Urinary Tract Infection  lower leg \"\r\n",
        "print(\"\\n\".join(learn.predict(TEXT, N_WORDS, temperature=0.7) for _ in range(N_SENTENCES)))"
      ],
      "execution_count": null,
      "outputs": [
        {
          "output_type": "stream",
          "text": [
            "Urinary Tract Infection  lower leg  xxbos Acute bronchitis xxbos Dermatophytosis of nail xxbos Other specified acquired hypothyroidism xxbos Headache xxbos Acute bronchitis xxbos Unspecified essential hypertension xxbos Meniere 's disease xxbos Globulin xxbos Chloride xxbos\n",
            "Urinary Tract Infection  lower leg  , not specified xxbos Protein xxbos Other and unspecified hyperlipidemia xxbos Dermatophytosis of foot xxbos Globulin xxbos COPD , NOS xxbos Other colitis xxbos Protein xxbos Vaginitis and vulvovaginitis xxbos\n"
          ],
          "name": "stdout"
        }
      ]
    },
    {
      "cell_type": "code",
      "metadata": {
        "id": "rVoPqHhDffb3"
      },
      "source": [
        "learn.save_encoder('fine_tuned_enc')"
      ],
      "execution_count": null,
      "outputs": []
    },
    {
      "cell_type": "markdown",
      "metadata": {
        "id": "KPoA4Ffaffb4"
      },
      "source": [
        "## Classifier"
      ]
    },
    {
      "cell_type": "code",
      "metadata": {
        "colab": {
          "base_uri": "https://localhost:8080/"
        },
        "id": "7k_HJw_qp52Q",
        "outputId": "d6219007-4ea2-4136-e99c-2ef9488853e0"
      },
      "source": [
        "!gsutil -m cp    gs://roseglavinhashi/PFModelIN.csv .\r\n"
      ],
      "execution_count": null,
      "outputs": [
        {
          "output_type": "stream",
          "text": [
            "Copying gs://roseglavinhashi/PFModelIN.csv...\n",
            "/ [1/1 files][  1.2 MiB/  1.2 MiB] 100% Done                                    \n",
            "Operation completed over 1 objects/1.2 MiB.                                      \n"
          ],
          "name": "stdout"
        }
      ]
    },
    {
      "cell_type": "code",
      "metadata": {
        "colab": {
          "base_uri": "https://localhost:8080/",
          "height": 419
        },
        "id": "hGLqPJPlq14-",
        "outputId": "ebb0f81e-4d79-482a-e06c-332b72cd98ba"
      },
      "source": [
        "PFindf = pd.read_csv('PFModelInOmitHypo.csv')\r\n",
        "PFindf"
      ],
      "execution_count": null,
      "outputs": [
        {
          "output_type": "execute_result",
          "data": {
            "text/html": [
              "<div>\n",
              "<style scoped>\n",
              "    .dataframe tbody tr th:only-of-type {\n",
              "        vertical-align: middle;\n",
              "    }\n",
              "\n",
              "    .dataframe tbody tr th {\n",
              "        vertical-align: top;\n",
              "    }\n",
              "\n",
              "    .dataframe thead th {\n",
              "        text-align: right;\n",
              "    }\n",
              "</style>\n",
              "<table border=\"1\" class=\"dataframe\">\n",
              "  <thead>\n",
              "    <tr style=\"text-align: right;\">\n",
              "      <th></th>\n",
              "      <th>Y_Label</th>\n",
              "      <th>MedicalText</th>\n",
              "    </tr>\n",
              "  </thead>\n",
              "  <tbody>\n",
              "    <tr>\n",
              "      <th>0</th>\n",
              "      <td>1</td>\n",
              "      <td>Pure hypercholesterolemia.Premenstrual tension...</td>\n",
              "    </tr>\n",
              "    <tr>\n",
              "      <th>1</th>\n",
              "      <td>0</td>\n",
              "      <td>Obesity, unspecified</td>\n",
              "    </tr>\n",
              "    <tr>\n",
              "      <th>2</th>\n",
              "      <td>1</td>\n",
              "      <td>Infertility, female, of unspecified origin.Fla...</td>\n",
              "    </tr>\n",
              "    <tr>\n",
              "      <th>3</th>\n",
              "      <td>0</td>\n",
              "      <td>Diarrhea.Encounter for long-term (current) use...</td>\n",
              "    </tr>\n",
              "    <tr>\n",
              "      <th>4</th>\n",
              "      <td>0</td>\n",
              "      <td>Lumbago.Scoliosis [and kyphoscoliosis], idiopa...</td>\n",
              "    </tr>\n",
              "    <tr>\n",
              "      <th>...</th>\n",
              "      <td>...</td>\n",
              "      <td>...</td>\n",
              "    </tr>\n",
              "    <tr>\n",
              "      <th>2059</th>\n",
              "      <td>1</td>\n",
              "      <td>Dysthymic disorder.Mixed hyperlipidemia.Iron d...</td>\n",
              "    </tr>\n",
              "    <tr>\n",
              "      <th>2060</th>\n",
              "      <td>1</td>\n",
              "      <td>Benign essential hypertension.Fever, unspecifi...</td>\n",
              "    </tr>\n",
              "    <tr>\n",
              "      <th>2061</th>\n",
              "      <td>0</td>\n",
              "      <td>Flatulence, eructation, and gas pain.Abdominal...</td>\n",
              "    </tr>\n",
              "    <tr>\n",
              "      <th>2062</th>\n",
              "      <td>0</td>\n",
              "      <td>Supervision of normal first pregnancy.Group B ...</td>\n",
              "    </tr>\n",
              "    <tr>\n",
              "      <th>2063</th>\n",
              "      <td>1</td>\n",
              "      <td>Hirsutism.Pain in joint involving shoulder reg...</td>\n",
              "    </tr>\n",
              "  </tbody>\n",
              "</table>\n",
              "<p>2064 rows × 2 columns</p>\n",
              "</div>"
            ],
            "text/plain": [
              "      Y_Label                                        MedicalText\n",
              "0           1  Pure hypercholesterolemia.Premenstrual tension...\n",
              "1           0                               Obesity, unspecified\n",
              "2           1  Infertility, female, of unspecified origin.Fla...\n",
              "3           0  Diarrhea.Encounter for long-term (current) use...\n",
              "4           0  Lumbago.Scoliosis [and kyphoscoliosis], idiopa...\n",
              "...       ...                                                ...\n",
              "2059        1  Dysthymic disorder.Mixed hyperlipidemia.Iron d...\n",
              "2060        1  Benign essential hypertension.Fever, unspecifi...\n",
              "2061        0  Flatulence, eructation, and gas pain.Abdominal...\n",
              "2062        0  Supervision of normal first pregnancy.Group B ...\n",
              "2063        1  Hirsutism.Pain in joint involving shoulder reg...\n",
              "\n",
              "[2064 rows x 2 columns]"
            ]
          },
          "metadata": {
            "tags": []
          },
          "execution_count": 32
        }
      ]
    },
    {
      "cell_type": "code",
      "metadata": {
        "id": "QUw_uwCK7mct",
        "colab": {
          "base_uri": "https://localhost:8080/",
          "height": 122
        },
        "outputId": "e0dc975c-3b93-4a1e-c743-0139a2418122"
      },
      "source": [
        "\n",
        "data_clas = TextClasDataBunch.from_csv(path, 'PFModelInHypo.csv', vocab=data_lm.train_ds.vocab, bs=bs)"
      ],
      "execution_count": null,
      "outputs": [
        {
          "output_type": "display_data",
          "data": {
            "text/html": [
              ""
            ],
            "text/plain": [
              "<IPython.core.display.HTML object>"
            ]
          },
          "metadata": {
            "tags": []
          }
        },
        {
          "output_type": "stream",
          "text": [
            "/usr/local/lib/python3.6/dist-packages/fastai/core.py:302: VisibleDeprecationWarning: Creating an ndarray from ragged nested sequences (which is a list-or-tuple of lists-or-tuples-or ndarrays with different lengths or shapes) is deprecated. If you meant to do this, you must specify 'dtype=object' when creating the ndarray\n",
            "  return np.array(a, dtype=dtype, **kwargs)\n"
          ],
          "name": "stderr"
        },
        {
          "output_type": "display_data",
          "data": {
            "text/html": [
              ""
            ],
            "text/plain": [
              "<IPython.core.display.HTML object>"
            ]
          },
          "metadata": {
            "tags": []
          }
        },
        {
          "output_type": "stream",
          "text": [
            "/usr/local/lib/python3.6/dist-packages/numpy/core/_asarray.py:83: VisibleDeprecationWarning: Creating an ndarray from ragged nested sequences (which is a list-or-tuple of lists-or-tuples-or ndarrays with different lengths or shapes) is deprecated. If you meant to do this, you must specify 'dtype=object' when creating the ndarray\n",
            "  return array(a, dtype, copy=False, order=order)\n",
            "<string>:6: VisibleDeprecationWarning: Creating an ndarray from ragged nested sequences (which is a list-or-tuple of lists-or-tuples-or ndarrays with different lengths or shapes) is deprecated. If you meant to do this, you must specify 'dtype=object' when creating the ndarray\n"
          ],
          "name": "stderr"
        }
      ]
    },
    {
      "cell_type": "markdown",
      "metadata": {
        "id": "yt_zjeLdffb4"
      },
      "source": [
        "Now, we'll create a new data object that only grabs the labelled data and keeps those labels. Again, this line takes a bit of time."
      ]
    },
    {
      "cell_type": "code",
      "metadata": {
        "id": "ximKiRjnhoAO"
      },
      "source": [
        "data_clas.save('data_clas.pkl')"
      ],
      "execution_count": null,
      "outputs": []
    },
    {
      "cell_type": "code",
      "metadata": {
        "id": "AAzxv-bsffb7",
        "colab": {
          "base_uri": "https://localhost:8080/"
        },
        "outputId": "cd45243d-1deb-48b3-a5c0-cdb0bac0a334"
      },
      "source": [
        "data_clas = load_data(path, 'data_clas.pkl', bs=bs)"
      ],
      "execution_count": null,
      "outputs": [
        {
          "output_type": "stream",
          "text": [
            "/usr/local/lib/python3.6/dist-packages/numpy/core/_asarray.py:83: VisibleDeprecationWarning: Creating an ndarray from ragged nested sequences (which is a list-or-tuple of lists-or-tuples-or ndarrays with different lengths or shapes) is deprecated. If you meant to do this, you must specify 'dtype=object' when creating the ndarray\n",
            "  return array(a, dtype, copy=False, order=order)\n",
            "<string>:6: VisibleDeprecationWarning: Creating an ndarray from ragged nested sequences (which is a list-or-tuple of lists-or-tuples-or ndarrays with different lengths or shapes) is deprecated. If you meant to do this, you must specify 'dtype=object' when creating the ndarray\n"
          ],
          "name": "stderr"
        }
      ]
    },
    {
      "cell_type": "code",
      "metadata": {
        "id": "_OqPXVAMffb9",
        "colab": {
          "base_uri": "https://localhost:8080/",
          "height": 360
        },
        "outputId": "8dbd0f2f-007a-43d4-de3f-79008968e260"
      },
      "source": [
        "data_clas.show_batch()"
      ],
      "execution_count": null,
      "outputs": [
        {
          "output_type": "stream",
          "text": [
            "/usr/local/lib/python3.6/dist-packages/numpy/core/_asarray.py:83: VisibleDeprecationWarning: Creating an ndarray from ragged nested sequences (which is a list-or-tuple of lists-or-tuples-or ndarrays with different lengths or shapes) is deprecated. If you meant to do this, you must specify 'dtype=object' when creating the ndarray\n",
            "  return array(a, dtype, copy=False, order=order)\n",
            "<string>:6: VisibleDeprecationWarning: Creating an ndarray from ragged nested sequences (which is a list-or-tuple of lists-or-tuples-or ndarrays with different lengths or shapes) is deprecated. If you meant to do this, you must specify 'dtype=object' when creating the ndarray\n"
          ],
          "name": "stderr"
        },
        {
          "output_type": "display_data",
          "data": {
            "text/html": [
              "<table border=\"1\" class=\"dataframe\">\n",
              "  <thead>\n",
              "    <tr style=\"text-align: right;\">\n",
              "      <th>text</th>\n",
              "      <th>target</th>\n",
              "    </tr>\n",
              "  </thead>\n",
              "  <tbody>\n",
              "    <tr>\n",
              "      <td>xxbos xxmaj urinary tract infection , site not specified . xxmaj decreased libido . xxmaj degeneration of lumbar or lumbosacral intervertebral disc . xxmaj other malaise and fatigue . xxmaj hyposmolality and / or hyponatremia . xxmaj senile osteoporosis . xxmaj degeneration of cervical intervertebral disc . xxmaj cough . xxmaj other malaise and fatigue . xxmaj fever , unspecified . xxmaj acute bronchiolitis due to other infectious organisms .</td>\n",
              "      <td>0</td>\n",
              "    </tr>\n",
              "    <tr>\n",
              "      <td>xxbos xxmaj unspecified cerebrovascular disease . xxmaj memory loss xxunk vitamin d deficiency . xxmaj other protein - calorie malnutrition . xxmaj osteoporosis xxunk of lumbar or lumbosacral intervertebral disc . xxmaj pain in joint involving hand . xxmaj degeneration of thoracic or thoracolumbar intervertebral disc . xxmaj other specified gastritis , without mention of hemorrhage . xxmaj iron deficiency anemia secondary to blood loss ( xxunk and myositis ,</td>\n",
              "      <td>1</td>\n",
              "    </tr>\n",
              "    <tr>\n",
              "      <td>xxbos xxmaj nonsuppurative otitis media , not specified as acute or chronic . xxmaj pyrexia of unknown origin . xxmaj other malaise and fatigue . xxmaj irregular menstrual cycle . xxmaj diaper or napkin rash . xxmaj fever , unspecified . xxmaj other postsurgical status . xxmaj cough . xxmaj excessive or frequent menstruation . xxmaj benign essential hypertension . xxmaj acute bronchitis . xxmaj allergic rhinitis , cause unspecified</td>\n",
              "      <td>0</td>\n",
              "    </tr>\n",
              "    <tr>\n",
              "      <td>xxbos xxmaj obesity , unspecified . xxmaj migraine , unspecified , without mention of intractable migraine without mention of status migrainosus . xxmaj acute bronchitis . xxmaj abdominal pain , epigastric . xxmaj acute sinusitis , unspecified . xxmaj tear of medial cartilage or meniscus of knee , current . xxmaj routine gynecological examination . xxmaj acute pharyngitis . xxmaj seborrheic keratosis . xxmaj atypical face pain . xxmaj anxiety</td>\n",
              "      <td>0</td>\n",
              "    </tr>\n",
              "    <tr>\n",
              "      <td>xxbos xxmaj unspecified hypothyroidism . xxmaj major depressive disorder , recurrent episode , moderate degree . xxmaj abrasion or friction burn of other , multiple , and unspecified sites , infected . xxmaj mixed hyperlipidemia . xxmaj atherosclerosis of native arteries of the extremities , unspecified . xxmaj thoracic or lumbosacral neuritis or radiculitis , unspecified . xxmaj mixed hyperlipidemia . xxmaj obstructive chronic bronchitis , without exacerbation . xxup</td>\n",
              "      <td>1</td>\n",
              "    </tr>\n",
              "  </tbody>\n",
              "</table>"
            ],
            "text/plain": [
              "<IPython.core.display.HTML object>"
            ]
          },
          "metadata": {
            "tags": []
          }
        }
      ]
    },
    {
      "cell_type": "markdown",
      "metadata": {
        "id": "Cyb-UOMsffcA"
      },
      "source": [
        "We can then create a model to classify EHR Text and load the encoder we saved before."
      ]
    },
    {
      "cell_type": "code",
      "metadata": {
        "id": "Yh4HSy9tffcB",
        "colab": {
          "base_uri": "https://localhost:8080/"
        },
        "outputId": "21812d18-68fd-4b3c-9cd2-534c4a9996e5"
      },
      "source": [
        "learn = text_classifier_learner(data_clas, AWD_LSTM, drop_mult=0.5)\n",
        "learn.load_encoder('fine_tuned_enc')"
      ],
      "execution_count": null,
      "outputs": [
        {
          "output_type": "execute_result",
          "data": {
            "text/plain": [
              "RNNLearner(data=TextClasDataBunch;\n",
              "\n",
              "Train: LabelList (1656 items)\n",
              "x: TextList\n",
              "xxbos xxmaj hypoxemia . xxmaj generalized anxiety disorder . xxmaj frequency of urination and polyuria . xxmaj generalized anxiety disorder . xxmaj hypertrophy ( benign ) of prostate without urinary obstruction and other lower urinary tract symptoms ( xxunk hypertension xxunk hypertension xxunk cerebrovascular infarction or hemorrhage,xxbos xxmaj mixed disorders as reaction to stress . xxmaj headache . xxmaj dyspepsia and other specified disorders of function of stomach . xxmaj preoperative examination , unspecified . xxmaj acute upper respiratory infection of multiple or unspecified sites xxunk neoplasm of colon . xxmaj syncope and collapse . xxmaj other primary cardiomyopathies . xxmaj general medical exam xxunk . xxmaj adjustment reaction xxunk pain,xxbos xxmaj edema . xxmaj fasciitis , unspecified . xxmaj dermatitis due to drugs and medicines taken internally . xxmaj unspecified essential hypertension . xxmaj acute bronchitis . xxmaj contact dermatitis and other eczema , unspecified cause,xxbos xxmaj pharyngitis , acute . xxmaj wrist sprain xxunk with sleep apnea , unspecified . xxmaj urinary frequency . xxmaj esophageal reflux . xxmaj depressive disorder , xxunk essential hypertension . xxmaj acute upper respiratory infections of unspecified site . xxmaj other and unspecified hyperlipidemia . xxmaj unspecified hypothyroidism . xxmaj other chest pain . xxmaj osteoarthrosis , unspecified whether generalized or localized , involving xxunk . xxmaj hematocrit . xxunk . xxmaj immature xxmaj granulocytes . xxmaj lymphs . xxmaj monocytes . xxmaj eos . xxmaj basos . xxmaj platelets . xxmaj neutrophils ( xxunk xxmaj grans ( xxunk ( xxunk ( xxunk ( xxunk , xxmaj serum . xxunk , xxmaj total , xxmaj serum . xxmaj albumin , xxmaj serum . xxmaj bilirubin , xxmaj total . xxmaj alkaline xxmaj phosphatase , xxup xxunk ( xxunk , xxmaj serum . xxmaj sodium , xxmaj serum . xxmaj chloride , xxmaj serum . xxmaj creatinine , xxmaj serum . xxup alt ( xxunk xxmaj dioxide , xxmaj total . xxup bun / xxmaj creatinine xxmaj ratio . xxmaj globulin , xxmaj total . a / g xxunk africanamerican . xxmaj cholesterol , xxmaj total . xxup vldl xxmaj cholesterol xxmaj cal . xxup ldl xxmaj cholesterol xxmaj calc . xxmaj globulin . xxmaj albumin / xxmaj globulin . xxmaj bilirubin . xxmaj chloride . xxmaj potassium . xxmaj protein . xxmaj triglyceride,xxbos xxmaj pure hyperglyceridemia . xxmaj unspecified hypothyroidism . xxmaj unspecified hypothyroidism . xxmaj diverticulitis of colon without mention of hemorrhage . xxmaj encounter for long - term ( current ) use of other medications . xxmaj urinary tract infection , site not specified . xxmaj nausea with vomiting . xxmaj osteoarthrosis , unspecified whether generalized or localized , involving unspecified site . xxmaj uric acid nephrolithiasis . xxmaj unspecified essential hypertension . xxmaj infectious colitis , enteritis , and gastroenteritis . xxmaj acute bronchitis . xxmaj nonorganic sleep disorder , unspecified . xxmaj syncope and collapse . xxmaj iron deficiency anemia , unspecified . xxmaj malaise and fatigue . xxmaj anxiety state , unspecified . xxmaj other viral enteritis . xxmaj allergic rhinitis due to pollen . xxmaj lumbago . xxmaj acute and chronic cholecystitis . xxmaj dysphagia , unspecified . xxmaj neoplasm of uncertain behavior of skin . xxmaj esophageal reflux . xxmaj pain in joint involving lower leg . xxmaj spondylosis with myelopathy , thoracic region . xxmaj acute bronchitis . xxmaj insomnia , unspecified . xxmaj acute sinusitis , unspecified\n",
              "y: CategoryList\n",
              "0,0,0,1,1\n",
              "Path: /content;\n",
              "\n",
              "Valid: LabelList (415 items)\n",
              "x: TextList\n",
              "xxbos xxmaj other seborrheic keratosis . xxmaj extrinsic asthma with acute exacerbation . xxmaj acute sinusitis xxunk upper respiratory infections of unspecified site . xxmaj obesity xxunk varicose veins . xxmaj rosacea . xxmaj chronic serous otitis media , simple or unspecified . xxmaj unspecified essential hypertension . xxmaj impacted cerumen . xxmaj impaired fasting glucose . xxmaj routine gynecological examination . xxmaj acute bronchitis . xxmaj lipoma of other skin and subcutaneous tissue . xxmaj depressive disorder , xxup nos,xxbos xxmaj benign essential hypertension . xxmaj unspecified hypothyroidism . xxmaj coronary atherosclerosis of unspecified type of vessel , native or graft . xxmaj other and unspecified xxunk . xxmaj albumin / xxmaj globulin . xxmaj bilirubin . xxmaj chloride . xxmaj potassium . xxmaj protein . xxmaj triglyceride . xxmaj thyroxine,xxbos xxmaj supervision of other normal pregnancy . xxmaj candidiasis of vulva and xxunk . xxmaj hemoglobin . xxmaj monocytes . xxmaj neutrophils . xxmaj platelets . xxmaj please note :,xxbos xxmaj pure hyperglyceridemia . xxmaj acute sinusitis , unspecified . xxmaj lumbago . xxmaj tobacco use disorder . xxmaj generalized anxiety disorder . xxmaj abdominal pain , other specified site ; multiple sites . xxmaj impaired fasting glucose . xxmaj unspecified essential hypertension . xxmaj acute bronchitis,xxbos xxmaj other and unspecified hyperlipidemia . xxmaj unspecified viral infection in conditions classified elsewhere and of unspecified site . xxmaj alopecia , unspecified . xxmaj unspecified hypothyroidism . xxmaj acute upper respiratory infections of unspecified site . xxmaj acute sinusitis xxunk viral infection in conditions classified elsewhere and of unspecified site . xxmaj acute maxillary sinusitis\n",
              "y: CategoryList\n",
              "0,1,0,0,1\n",
              "Path: /content;\n",
              "\n",
              "Test: None, model=SequentialRNN(\n",
              "  (0): MultiBatchEncoder(\n",
              "    (module): AWD_LSTM(\n",
              "      (encoder): Embedding(2536, 400, padding_idx=1)\n",
              "      (encoder_dp): EmbeddingDropout(\n",
              "        (emb): Embedding(2536, 400, padding_idx=1)\n",
              "      )\n",
              "      (rnns): ModuleList(\n",
              "        (0): WeightDropout(\n",
              "          (module): LSTM(400, 1152, batch_first=True)\n",
              "        )\n",
              "        (1): WeightDropout(\n",
              "          (module): LSTM(1152, 1152, batch_first=True)\n",
              "        )\n",
              "        (2): WeightDropout(\n",
              "          (module): LSTM(1152, 400, batch_first=True)\n",
              "        )\n",
              "      )\n",
              "      (input_dp): RNNDropout()\n",
              "      (hidden_dps): ModuleList(\n",
              "        (0): RNNDropout()\n",
              "        (1): RNNDropout()\n",
              "        (2): RNNDropout()\n",
              "      )\n",
              "    )\n",
              "  )\n",
              "  (1): PoolingLinearClassifier(\n",
              "    (layers): Sequential(\n",
              "      (0): BatchNorm1d(1200, eps=1e-05, momentum=0.1, affine=True, track_running_stats=True)\n",
              "      (1): Dropout(p=0.2, inplace=False)\n",
              "      (2): Linear(in_features=1200, out_features=50, bias=True)\n",
              "      (3): ReLU(inplace=True)\n",
              "      (4): BatchNorm1d(50, eps=1e-05, momentum=0.1, affine=True, track_running_stats=True)\n",
              "      (5): Dropout(p=0.1, inplace=False)\n",
              "      (6): Linear(in_features=50, out_features=2, bias=True)\n",
              "    )\n",
              "  )\n",
              "), opt_func=functools.partial(<class 'torch.optim.adam.Adam'>, betas=(0.9, 0.99)), loss_func=FlattenedLoss of CrossEntropyLoss(), metrics=[<function accuracy at 0x7fc1df6012f0>], true_wd=True, bn_wd=True, wd=0.01, train_bn=True, path=PosixPath('/content'), model_dir='models', callback_fns=[functools.partial(<class 'fastai.basic_train.Recorder'>, add_time=True, silent=False)], callbacks=[RNNTrainer\n",
              "learn: RNNLearner(data=TextClasDataBunch;\n",
              "\n",
              "Train: LabelList (1656 items)\n",
              "x: TextList\n",
              "xxbos xxmaj hypoxemia . xxmaj generalized anxiety disorder . xxmaj frequency of urination and polyuria . xxmaj generalized anxiety disorder . xxmaj hypertrophy ( benign ) of prostate without urinary obstruction and other lower urinary tract symptoms ( xxunk hypertension xxunk hypertension xxunk cerebrovascular infarction or hemorrhage,xxbos xxmaj mixed disorders as reaction to stress . xxmaj headache . xxmaj dyspepsia and other specified disorders of function of stomach . xxmaj preoperative examination , unspecified . xxmaj acute upper respiratory infection of multiple or unspecified sites xxunk neoplasm of colon . xxmaj syncope and collapse . xxmaj other primary cardiomyopathies . xxmaj general medical exam xxunk . xxmaj adjustment reaction xxunk pain,xxbos xxmaj edema . xxmaj fasciitis , unspecified . xxmaj dermatitis due to drugs and medicines taken internally . xxmaj unspecified essential hypertension . xxmaj acute bronchitis . xxmaj contact dermatitis and other eczema , unspecified cause,xxbos xxmaj pharyngitis , acute . xxmaj wrist sprain xxunk with sleep apnea , unspecified . xxmaj urinary frequency . xxmaj esophageal reflux . xxmaj depressive disorder , xxunk essential hypertension . xxmaj acute upper respiratory infections of unspecified site . xxmaj other and unspecified hyperlipidemia . xxmaj unspecified hypothyroidism . xxmaj other chest pain . xxmaj osteoarthrosis , unspecified whether generalized or localized , involving xxunk . xxmaj hematocrit . xxunk . xxmaj immature xxmaj granulocytes . xxmaj lymphs . xxmaj monocytes . xxmaj eos . xxmaj basos . xxmaj platelets . xxmaj neutrophils ( xxunk xxmaj grans ( xxunk ( xxunk ( xxunk ( xxunk , xxmaj serum . xxunk , xxmaj total , xxmaj serum . xxmaj albumin , xxmaj serum . xxmaj bilirubin , xxmaj total . xxmaj alkaline xxmaj phosphatase , xxup xxunk ( xxunk , xxmaj serum . xxmaj sodium , xxmaj serum . xxmaj chloride , xxmaj serum . xxmaj creatinine , xxmaj serum . xxup alt ( xxunk xxmaj dioxide , xxmaj total . xxup bun / xxmaj creatinine xxmaj ratio . xxmaj globulin , xxmaj total . a / g xxunk africanamerican . xxmaj cholesterol , xxmaj total . xxup vldl xxmaj cholesterol xxmaj cal . xxup ldl xxmaj cholesterol xxmaj calc . xxmaj globulin . xxmaj albumin / xxmaj globulin . xxmaj bilirubin . xxmaj chloride . xxmaj potassium . xxmaj protein . xxmaj triglyceride,xxbos xxmaj pure hyperglyceridemia . xxmaj unspecified hypothyroidism . xxmaj unspecified hypothyroidism . xxmaj diverticulitis of colon without mention of hemorrhage . xxmaj encounter for long - term ( current ) use of other medications . xxmaj urinary tract infection , site not specified . xxmaj nausea with vomiting . xxmaj osteoarthrosis , unspecified whether generalized or localized , involving unspecified site . xxmaj uric acid nephrolithiasis . xxmaj unspecified essential hypertension . xxmaj infectious colitis , enteritis , and gastroenteritis . xxmaj acute bronchitis . xxmaj nonorganic sleep disorder , unspecified . xxmaj syncope and collapse . xxmaj iron deficiency anemia , unspecified . xxmaj malaise and fatigue . xxmaj anxiety state , unspecified . xxmaj other viral enteritis . xxmaj allergic rhinitis due to pollen . xxmaj lumbago . xxmaj acute and chronic cholecystitis . xxmaj dysphagia , unspecified . xxmaj neoplasm of uncertain behavior of skin . xxmaj esophageal reflux . xxmaj pain in joint involving lower leg . xxmaj spondylosis with myelopathy , thoracic region . xxmaj acute bronchitis . xxmaj insomnia , unspecified . xxmaj acute sinusitis , unspecified\n",
              "y: CategoryList\n",
              "0,0,0,1,1\n",
              "Path: /content;\n",
              "\n",
              "Valid: LabelList (415 items)\n",
              "x: TextList\n",
              "xxbos xxmaj other seborrheic keratosis . xxmaj extrinsic asthma with acute exacerbation . xxmaj acute sinusitis xxunk upper respiratory infections of unspecified site . xxmaj obesity xxunk varicose veins . xxmaj rosacea . xxmaj chronic serous otitis media , simple or unspecified . xxmaj unspecified essential hypertension . xxmaj impacted cerumen . xxmaj impaired fasting glucose . xxmaj routine gynecological examination . xxmaj acute bronchitis . xxmaj lipoma of other skin and subcutaneous tissue . xxmaj depressive disorder , xxup nos,xxbos xxmaj benign essential hypertension . xxmaj unspecified hypothyroidism . xxmaj coronary atherosclerosis of unspecified type of vessel , native or graft . xxmaj other and unspecified xxunk . xxmaj albumin / xxmaj globulin . xxmaj bilirubin . xxmaj chloride . xxmaj potassium . xxmaj protein . xxmaj triglyceride . xxmaj thyroxine,xxbos xxmaj supervision of other normal pregnancy . xxmaj candidiasis of vulva and xxunk . xxmaj hemoglobin . xxmaj monocytes . xxmaj neutrophils . xxmaj platelets . xxmaj please note :,xxbos xxmaj pure hyperglyceridemia . xxmaj acute sinusitis , unspecified . xxmaj lumbago . xxmaj tobacco use disorder . xxmaj generalized anxiety disorder . xxmaj abdominal pain , other specified site ; multiple sites . xxmaj impaired fasting glucose . xxmaj unspecified essential hypertension . xxmaj acute bronchitis,xxbos xxmaj other and unspecified hyperlipidemia . xxmaj unspecified viral infection in conditions classified elsewhere and of unspecified site . xxmaj alopecia , unspecified . xxmaj unspecified hypothyroidism . xxmaj acute upper respiratory infections of unspecified site . xxmaj acute sinusitis xxunk viral infection in conditions classified elsewhere and of unspecified site . xxmaj acute maxillary sinusitis\n",
              "y: CategoryList\n",
              "0,1,0,0,1\n",
              "Path: /content;\n",
              "\n",
              "Test: None, model=SequentialRNN(\n",
              "  (0): MultiBatchEncoder(\n",
              "    (module): AWD_LSTM(\n",
              "      (encoder): Embedding(2536, 400, padding_idx=1)\n",
              "      (encoder_dp): EmbeddingDropout(\n",
              "        (emb): Embedding(2536, 400, padding_idx=1)\n",
              "      )\n",
              "      (rnns): ModuleList(\n",
              "        (0): WeightDropout(\n",
              "          (module): LSTM(400, 1152, batch_first=True)\n",
              "        )\n",
              "        (1): WeightDropout(\n",
              "          (module): LSTM(1152, 1152, batch_first=True)\n",
              "        )\n",
              "        (2): WeightDropout(\n",
              "          (module): LSTM(1152, 400, batch_first=True)\n",
              "        )\n",
              "      )\n",
              "      (input_dp): RNNDropout()\n",
              "      (hidden_dps): ModuleList(\n",
              "        (0): RNNDropout()\n",
              "        (1): RNNDropout()\n",
              "        (2): RNNDropout()\n",
              "      )\n",
              "    )\n",
              "  )\n",
              "  (1): PoolingLinearClassifier(\n",
              "    (layers): Sequential(\n",
              "      (0): BatchNorm1d(1200, eps=1e-05, momentum=0.1, affine=True, track_running_stats=True)\n",
              "      (1): Dropout(p=0.2, inplace=False)\n",
              "      (2): Linear(in_features=1200, out_features=50, bias=True)\n",
              "      (3): ReLU(inplace=True)\n",
              "      (4): BatchNorm1d(50, eps=1e-05, momentum=0.1, affine=True, track_running_stats=True)\n",
              "      (5): Dropout(p=0.1, inplace=False)\n",
              "      (6): Linear(in_features=50, out_features=2, bias=True)\n",
              "    )\n",
              "  )\n",
              "), opt_func=functools.partial(<class 'torch.optim.adam.Adam'>, betas=(0.9, 0.99)), loss_func=FlattenedLoss of CrossEntropyLoss(), metrics=[<function accuracy at 0x7fc1df6012f0>], true_wd=True, bn_wd=True, wd=0.01, train_bn=True, path=PosixPath('/content'), model_dir='models', callback_fns=[functools.partial(<class 'fastai.basic_train.Recorder'>, add_time=True, silent=False)], callbacks=[...], layer_groups=[Sequential(\n",
              "  (0): Embedding(2536, 400, padding_idx=1)\n",
              "  (1): EmbeddingDropout(\n",
              "    (emb): Embedding(2536, 400, padding_idx=1)\n",
              "  )\n",
              "), Sequential(\n",
              "  (0): WeightDropout(\n",
              "    (module): LSTM(400, 1152, batch_first=True)\n",
              "  )\n",
              "  (1): RNNDropout()\n",
              "), Sequential(\n",
              "  (0): WeightDropout(\n",
              "    (module): LSTM(1152, 1152, batch_first=True)\n",
              "  )\n",
              "  (1): RNNDropout()\n",
              "), Sequential(\n",
              "  (0): WeightDropout(\n",
              "    (module): LSTM(1152, 400, batch_first=True)\n",
              "  )\n",
              "  (1): RNNDropout()\n",
              "), Sequential(\n",
              "  (0): PoolingLinearClassifier(\n",
              "    (layers): Sequential(\n",
              "      (0): BatchNorm1d(1200, eps=1e-05, momentum=0.1, affine=True, track_running_stats=True)\n",
              "      (1): Dropout(p=0.2, inplace=False)\n",
              "      (2): Linear(in_features=1200, out_features=50, bias=True)\n",
              "      (3): ReLU(inplace=True)\n",
              "      (4): BatchNorm1d(50, eps=1e-05, momentum=0.1, affine=True, track_running_stats=True)\n",
              "      (5): Dropout(p=0.1, inplace=False)\n",
              "      (6): Linear(in_features=50, out_features=2, bias=True)\n",
              "    )\n",
              "  )\n",
              ")], add_time=True, silent=False)\n",
              "alpha: 2.0\n",
              "beta: 1.0], layer_groups=[Sequential(\n",
              "  (0): Embedding(2536, 400, padding_idx=1)\n",
              "  (1): EmbeddingDropout(\n",
              "    (emb): Embedding(2536, 400, padding_idx=1)\n",
              "  )\n",
              "), Sequential(\n",
              "  (0): WeightDropout(\n",
              "    (module): LSTM(400, 1152, batch_first=True)\n",
              "  )\n",
              "  (1): RNNDropout()\n",
              "), Sequential(\n",
              "  (0): WeightDropout(\n",
              "    (module): LSTM(1152, 1152, batch_first=True)\n",
              "  )\n",
              "  (1): RNNDropout()\n",
              "), Sequential(\n",
              "  (0): WeightDropout(\n",
              "    (module): LSTM(1152, 400, batch_first=True)\n",
              "  )\n",
              "  (1): RNNDropout()\n",
              "), Sequential(\n",
              "  (0): PoolingLinearClassifier(\n",
              "    (layers): Sequential(\n",
              "      (0): BatchNorm1d(1200, eps=1e-05, momentum=0.1, affine=True, track_running_stats=True)\n",
              "      (1): Dropout(p=0.2, inplace=False)\n",
              "      (2): Linear(in_features=1200, out_features=50, bias=True)\n",
              "      (3): ReLU(inplace=True)\n",
              "      (4): BatchNorm1d(50, eps=1e-05, momentum=0.1, affine=True, track_running_stats=True)\n",
              "      (5): Dropout(p=0.1, inplace=False)\n",
              "      (6): Linear(in_features=50, out_features=2, bias=True)\n",
              "    )\n",
              "  )\n",
              ")], add_time=True, silent=False)"
            ]
          },
          "metadata": {
            "tags": []
          },
          "execution_count": 75
        }
      ]
    },
    {
      "cell_type": "code",
      "metadata": {
        "id": "lxJSX5P7ffcC",
        "colab": {
          "base_uri": "https://localhost:8080/",
          "height": 347
        },
        "outputId": "56f3f60e-be01-488e-ae5a-f61ac74cc00e"
      },
      "source": [
        "learn.lr_find()"
      ],
      "execution_count": null,
      "outputs": [
        {
          "output_type": "display_data",
          "data": {
            "text/html": [
              "\n",
              "    <div>\n",
              "        <style>\n",
              "            /* Turns off some styling */\n",
              "            progress {\n",
              "                /* gets rid of default border in Firefox and Opera. */\n",
              "                border: none;\n",
              "                /* Needs to be in here for Safari polyfill so background images work as expected. */\n",
              "                background-size: auto;\n",
              "            }\n",
              "            .progress-bar-interrupted, .progress-bar-interrupted::-webkit-progress-bar {\n",
              "                background: #F44336;\n",
              "            }\n",
              "        </style>\n",
              "      <progress value='2' class='' max='3' style='width:300px; height:20px; vertical-align: middle;'></progress>\n",
              "      66.67% [2/3 06:20<03:10]\n",
              "    </div>\n",
              "    \n",
              "<table border=\"1\" class=\"dataframe\">\n",
              "  <thead>\n",
              "    <tr style=\"text-align: left;\">\n",
              "      <th>epoch</th>\n",
              "      <th>train_loss</th>\n",
              "      <th>valid_loss</th>\n",
              "      <th>accuracy</th>\n",
              "      <th>time</th>\n",
              "    </tr>\n",
              "  </thead>\n",
              "  <tbody>\n",
              "    <tr>\n",
              "      <td>0</td>\n",
              "      <td>0.751186</td>\n",
              "      <td>#na#</td>\n",
              "      <td>03:10</td>\n",
              "    </tr>\n",
              "    <tr>\n",
              "      <td>1</td>\n",
              "      <td>0.710049</td>\n",
              "      <td>#na#</td>\n",
              "      <td>03:09</td>\n",
              "    </tr>\n",
              "  </tbody>\n",
              "</table><p>\n",
              "\n",
              "    <div>\n",
              "        <style>\n",
              "            /* Turns off some styling */\n",
              "            progress {\n",
              "                /* gets rid of default border in Firefox and Opera. */\n",
              "                border: none;\n",
              "                /* Needs to be in here for Safari polyfill so background images work as expected. */\n",
              "                background-size: auto;\n",
              "            }\n",
              "            .progress-bar-interrupted, .progress-bar-interrupted::-webkit-progress-bar {\n",
              "                background: #F44336;\n",
              "            }\n",
              "        </style>\n",
              "      <progress value='26' class='' max='34' style='width:300px; height:20px; vertical-align: middle;'></progress>\n",
              "      76.47% [26/34 02:35<00:47 2.3521]\n",
              "    </div>\n",
              "    "
            ],
            "text/plain": [
              "<IPython.core.display.HTML object>"
            ]
          },
          "metadata": {
            "tags": []
          }
        },
        {
          "output_type": "stream",
          "text": [
            "/usr/local/lib/python3.6/dist-packages/numpy/core/_asarray.py:83: VisibleDeprecationWarning: Creating an ndarray from ragged nested sequences (which is a list-or-tuple of lists-or-tuples-or ndarrays with different lengths or shapes) is deprecated. If you meant to do this, you must specify 'dtype=object' when creating the ndarray\n",
            "  return array(a, dtype, copy=False, order=order)\n",
            "<string>:6: VisibleDeprecationWarning: Creating an ndarray from ragged nested sequences (which is a list-or-tuple of lists-or-tuples-or ndarrays with different lengths or shapes) is deprecated. If you meant to do this, you must specify 'dtype=object' when creating the ndarray\n",
            "/usr/local/lib/python3.6/dist-packages/numpy/core/_asarray.py:83: VisibleDeprecationWarning: Creating an ndarray from ragged nested sequences (which is a list-or-tuple of lists-or-tuples-or ndarrays with different lengths or shapes) is deprecated. If you meant to do this, you must specify 'dtype=object' when creating the ndarray\n",
            "  return array(a, dtype, copy=False, order=order)\n",
            "<string>:6: VisibleDeprecationWarning: Creating an ndarray from ragged nested sequences (which is a list-or-tuple of lists-or-tuples-or ndarrays with different lengths or shapes) is deprecated. If you meant to do this, you must specify 'dtype=object' when creating the ndarray\n",
            "/usr/local/lib/python3.6/dist-packages/numpy/core/_asarray.py:83: VisibleDeprecationWarning: Creating an ndarray from ragged nested sequences (which is a list-or-tuple of lists-or-tuples-or ndarrays with different lengths or shapes) is deprecated. If you meant to do this, you must specify 'dtype=object' when creating the ndarray\n",
            "  return array(a, dtype, copy=False, order=order)\n",
            "<string>:6: VisibleDeprecationWarning: Creating an ndarray from ragged nested sequences (which is a list-or-tuple of lists-or-tuples-or ndarrays with different lengths or shapes) is deprecated. If you meant to do this, you must specify 'dtype=object' when creating the ndarray\n"
          ],
          "name": "stderr"
        },
        {
          "output_type": "stream",
          "text": [
            "LR Finder is complete, type {learner_name}.recorder.plot() to see the graph.\n"
          ],
          "name": "stdout"
        }
      ]
    },
    {
      "cell_type": "code",
      "metadata": {
        "id": "qkhn8XRKffcD",
        "colab": {
          "base_uri": "https://localhost:8080/",
          "height": 279
        },
        "outputId": "0aa438b4-0bfc-4a82-c488-f6e1c0e4c1ae"
      },
      "source": [
        "learn.recorder.plot()"
      ],
      "execution_count": null,
      "outputs": [
        {
          "output_type": "display_data",
          "data": {
            "image/png": "[encoded data removed]",
            "text/plain": [
              "<Figure size 432x288 with 1 Axes>"
            ]
          },
          "metadata": {
            "tags": [],
            "needs_background": "light"
          }
        }
      ]
    },
    {
      "cell_type": "code",
      "metadata": {
        "id": "u2reJ75NffcF",
        "colab": {
          "base_uri": "https://localhost:8080/",
          "height": 151
        },
        "outputId": "8733bb1f-b6cb-482f-8bbb-7878bffbfa28"
      },
      "source": [
        "learn.fit_one_cycle(1, 2e-2, moms=(0.8,0.7))"
      ],
      "execution_count": null,
      "outputs": [
        {
          "output_type": "display_data",
          "data": {
            "text/html": [
              "<table border=\"1\" class=\"dataframe\">\n",
              "  <thead>\n",
              "    <tr style=\"text-align: left;\">\n",
              "      <th>epoch</th>\n",
              "      <th>train_loss</th>\n",
              "      <th>valid_loss</th>\n",
              "      <th>accuracy</th>\n",
              "      <th>time</th>\n",
              "    </tr>\n",
              "  </thead>\n",
              "  <tbody>\n",
              "    <tr>\n",
              "      <td>0</td>\n",
              "      <td>0.653937</td>\n",
              "      <td>0.640994</td>\n",
              "      <td>0.616867</td>\n",
              "      <td>04:41</td>\n",
              "    </tr>\n",
              "  </tbody>\n",
              "</table>"
            ],
            "text/plain": [
              "<IPython.core.display.HTML object>"
            ]
          },
          "metadata": {
            "tags": []
          }
        },
        {
          "output_type": "stream",
          "text": [
            "/usr/local/lib/python3.6/dist-packages/numpy/core/_asarray.py:83: VisibleDeprecationWarning: Creating an ndarray from ragged nested sequences (which is a list-or-tuple of lists-or-tuples-or ndarrays with different lengths or shapes) is deprecated. If you meant to do this, you must specify 'dtype=object' when creating the ndarray\n",
            "  return array(a, dtype, copy=False, order=order)\n",
            "<string>:6: VisibleDeprecationWarning: Creating an ndarray from ragged nested sequences (which is a list-or-tuple of lists-or-tuples-or ndarrays with different lengths or shapes) is deprecated. If you meant to do this, you must specify 'dtype=object' when creating the ndarray\n"
          ],
          "name": "stderr"
        }
      ]
    },
    {
      "cell_type": "code",
      "metadata": {
        "id": "-PGAvDgXffcI"
      },
      "source": [
        "learn.save('first')"
      ],
      "execution_count": null,
      "outputs": []
    },
    {
      "cell_type": "code",
      "metadata": {
        "id": "zcRT3RF7ffcJ"
      },
      "source": [
        "learn.load('first');"
      ],
      "execution_count": null,
      "outputs": []
    },
    {
      "cell_type": "code",
      "metadata": {
        "id": "eIamFBn_ffcK",
        "colab": {
          "base_uri": "https://localhost:8080/",
          "height": 151
        },
        "outputId": "687c13d6-5ace-49a6-9cc0-4998bcdbb3ea"
      },
      "source": [
        "learn.freeze_to(-2)\n",
        "learn.fit_one_cycle(1, slice(1e-2/(2.6**4),1e-2), moms=(0.8,0.7))"
      ],
      "execution_count": null,
      "outputs": [
        {
          "output_type": "display_data",
          "data": {
            "text/html": [
              "<table border=\"1\" class=\"dataframe\">\n",
              "  <thead>\n",
              "    <tr style=\"text-align: left;\">\n",
              "      <th>epoch</th>\n",
              "      <th>train_loss</th>\n",
              "      <th>valid_loss</th>\n",
              "      <th>accuracy</th>\n",
              "      <th>time</th>\n",
              "    </tr>\n",
              "  </thead>\n",
              "  <tbody>\n",
              "    <tr>\n",
              "      <td>0</td>\n",
              "      <td>0.579301</td>\n",
              "      <td>0.525977</td>\n",
              "      <td>0.734940</td>\n",
              "      <td>04:54</td>\n",
              "    </tr>\n",
              "  </tbody>\n",
              "</table>"
            ],
            "text/plain": [
              "<IPython.core.display.HTML object>"
            ]
          },
          "metadata": {
            "tags": []
          }
        },
        {
          "output_type": "stream",
          "text": [
            "/usr/local/lib/python3.6/dist-packages/numpy/core/_asarray.py:83: VisibleDeprecationWarning: Creating an ndarray from ragged nested sequences (which is a list-or-tuple of lists-or-tuples-or ndarrays with different lengths or shapes) is deprecated. If you meant to do this, you must specify 'dtype=object' when creating the ndarray\n",
            "  return array(a, dtype, copy=False, order=order)\n",
            "<string>:6: VisibleDeprecationWarning: Creating an ndarray from ragged nested sequences (which is a list-or-tuple of lists-or-tuples-or ndarrays with different lengths or shapes) is deprecated. If you meant to do this, you must specify 'dtype=object' when creating the ndarray\n"
          ],
          "name": "stderr"
        }
      ]
    },
    {
      "cell_type": "code",
      "metadata": {
        "id": "-U_bczJ8ffcM"
      },
      "source": [
        "learn.save('second')"
      ],
      "execution_count": null,
      "outputs": []
    },
    {
      "cell_type": "code",
      "metadata": {
        "id": "sEJh9v13ffcN"
      },
      "source": [
        "learn.load('second');"
      ],
      "execution_count": null,
      "outputs": []
    },
    {
      "cell_type": "code",
      "metadata": {
        "id": "LMRixfukffcO",
        "colab": {
          "base_uri": "https://localhost:8080/",
          "height": 151
        },
        "outputId": "fabccd4d-e9b3-4e9b-e57b-58c756fff564"
      },
      "source": [
        "learn.freeze_to(-3)\n",
        "learn.fit_one_cycle(1, slice(5e-3/(2.6**4),5e-3), moms=(0.8,0.7))"
      ],
      "execution_count": null,
      "outputs": [
        {
          "output_type": "display_data",
          "data": {
            "text/html": [
              "<table border=\"1\" class=\"dataframe\">\n",
              "  <thead>\n",
              "    <tr style=\"text-align: left;\">\n",
              "      <th>epoch</th>\n",
              "      <th>train_loss</th>\n",
              "      <th>valid_loss</th>\n",
              "      <th>accuracy</th>\n",
              "      <th>time</th>\n",
              "    </tr>\n",
              "  </thead>\n",
              "  <tbody>\n",
              "    <tr>\n",
              "      <td>0</td>\n",
              "      <td>0.399091</td>\n",
              "      <td>0.200549</td>\n",
              "      <td>0.934940</td>\n",
              "      <td>07:45</td>\n",
              "    </tr>\n",
              "  </tbody>\n",
              "</table>"
            ],
            "text/plain": [
              "<IPython.core.display.HTML object>"
            ]
          },
          "metadata": {
            "tags": []
          }
        },
        {
          "output_type": "stream",
          "text": [
            "/usr/local/lib/python3.6/dist-packages/numpy/core/_asarray.py:83: VisibleDeprecationWarning: Creating an ndarray from ragged nested sequences (which is a list-or-tuple of lists-or-tuples-or ndarrays with different lengths or shapes) is deprecated. If you meant to do this, you must specify 'dtype=object' when creating the ndarray\n",
            "  return array(a, dtype, copy=False, order=order)\n",
            "<string>:6: VisibleDeprecationWarning: Creating an ndarray from ragged nested sequences (which is a list-or-tuple of lists-or-tuples-or ndarrays with different lengths or shapes) is deprecated. If you meant to do this, you must specify 'dtype=object' when creating the ndarray\n"
          ],
          "name": "stderr"
        }
      ]
    },
    {
      "cell_type": "code",
      "metadata": {
        "id": "K-yM3KzgffcR"
      },
      "source": [
        "learn.save('third')"
      ],
      "execution_count": null,
      "outputs": []
    },
    {
      "cell_type": "code",
      "metadata": {
        "id": "0vFsMhs1ffcS"
      },
      "source": [
        "learn.load('third');"
      ],
      "execution_count": null,
      "outputs": []
    },
    {
      "cell_type": "code",
      "metadata": {
        "id": "bBylNl1YffcT",
        "colab": {
          "base_uri": "https://localhost:8080/",
          "height": 233
        },
        "outputId": "22f3f697-cd6f-47c4-af12-67363b24386b"
      },
      "source": [
        "learn.unfreeze()\n",
        "learn.fit_one_cycle(2, slice(1e-3/(2.6**4),1e-3), moms=(0.8,0.7))"
      ],
      "execution_count": null,
      "outputs": [
        {
          "output_type": "display_data",
          "data": {
            "text/html": [
              "<table border=\"1\" class=\"dataframe\">\n",
              "  <thead>\n",
              "    <tr style=\"text-align: left;\">\n",
              "      <th>epoch</th>\n",
              "      <th>train_loss</th>\n",
              "      <th>valid_loss</th>\n",
              "      <th>accuracy</th>\n",
              "      <th>time</th>\n",
              "    </tr>\n",
              "  </thead>\n",
              "  <tbody>\n",
              "    <tr>\n",
              "      <td>0</td>\n",
              "      <td>0.223297</td>\n",
              "      <td>0.114752</td>\n",
              "      <td>0.961446</td>\n",
              "      <td>10:06</td>\n",
              "    </tr>\n",
              "    <tr>\n",
              "      <td>1</td>\n",
              "      <td>0.168014</td>\n",
              "      <td>0.086557</td>\n",
              "      <td>0.978313</td>\n",
              "      <td>10:24</td>\n",
              "    </tr>\n",
              "  </tbody>\n",
              "</table>"
            ],
            "text/plain": [
              "<IPython.core.display.HTML object>"
            ]
          },
          "metadata": {
            "tags": []
          }
        },
        {
          "output_type": "stream",
          "text": [
            "/usr/local/lib/python3.6/dist-packages/numpy/core/_asarray.py:83: VisibleDeprecationWarning: Creating an ndarray from ragged nested sequences (which is a list-or-tuple of lists-or-tuples-or ndarrays with different lengths or shapes) is deprecated. If you meant to do this, you must specify 'dtype=object' when creating the ndarray\n",
            "  return array(a, dtype, copy=False, order=order)\n",
            "<string>:6: VisibleDeprecationWarning: Creating an ndarray from ragged nested sequences (which is a list-or-tuple of lists-or-tuples-or ndarrays with different lengths or shapes) is deprecated. If you meant to do this, you must specify 'dtype=object' when creating the ndarray\n",
            "/usr/local/lib/python3.6/dist-packages/numpy/core/_asarray.py:83: VisibleDeprecationWarning: Creating an ndarray from ragged nested sequences (which is a list-or-tuple of lists-or-tuples-or ndarrays with different lengths or shapes) is deprecated. If you meant to do this, you must specify 'dtype=object' when creating the ndarray\n",
            "  return array(a, dtype, copy=False, order=order)\n",
            "<string>:6: VisibleDeprecationWarning: Creating an ndarray from ragged nested sequences (which is a list-or-tuple of lists-or-tuples-or ndarrays with different lengths or shapes) is deprecated. If you meant to do this, you must specify 'dtype=object' when creating the ndarray\n"
          ],
          "name": "stderr"
        }
      ]
    },
    {
      "cell_type": "code",
      "metadata": {
        "id": "g4_RN9p_YYxT"
      },
      "source": [
        "learn.save('finalclassifier')"
      ],
      "execution_count": null,
      "outputs": []
    },
    {
      "cell_type": "code",
      "metadata": {
        "id": "3j1Mxz96cWVZ"
      },
      "source": [
        ""
      ],
      "execution_count": null,
      "outputs": []
    },
    {
      "cell_type": "code",
      "metadata": {
        "id": "h2UPk7tDYYXf",
        "colab": {
          "base_uri": "https://localhost:8080/"
        },
        "outputId": "38118b69-5a6e-45fd-f951-b2d7cf613d28"
      },
      "source": [
        "learn.load('finalclassifier')\n"
      ],
      "execution_count": null,
      "outputs": [
        {
          "output_type": "execute_result",
          "data": {
            "text/plain": [
              "RNNLearner(data=TextClasDataBunch;\n",
              "\n",
              "Train: LabelList (1656 items)\n",
              "x: TextList\n",
              "xxbos xxmaj hypoxemia . xxmaj generalized anxiety disorder . xxmaj frequency of urination and polyuria . xxmaj generalized anxiety disorder . xxmaj hypertrophy ( benign ) of prostate without urinary obstruction and other lower urinary tract symptoms ( xxunk hypertension xxunk hypertension xxunk cerebrovascular infarction or hemorrhage,xxbos xxmaj mixed disorders as reaction to stress . xxmaj headache . xxmaj dyspepsia and other specified disorders of function of stomach . xxmaj preoperative examination , unspecified . xxmaj acute upper respiratory infection of multiple or unspecified sites xxunk neoplasm of colon . xxmaj syncope and collapse . xxmaj other primary cardiomyopathies . xxmaj general medical exam xxunk . xxmaj adjustment reaction xxunk pain,xxbos xxmaj edema . xxmaj fasciitis , unspecified . xxmaj dermatitis due to drugs and medicines taken internally . xxmaj unspecified essential hypertension . xxmaj acute bronchitis . xxmaj contact dermatitis and other eczema , unspecified cause,xxbos xxmaj pharyngitis , acute . xxmaj wrist sprain xxunk with sleep apnea , unspecified . xxmaj urinary frequency . xxmaj esophageal reflux . xxmaj depressive disorder , xxunk essential hypertension . xxmaj acute upper respiratory infections of unspecified site . xxmaj other and unspecified hyperlipidemia . xxmaj unspecified hypothyroidism . xxmaj other chest pain . xxmaj osteoarthrosis , unspecified whether generalized or localized , involving xxunk . xxmaj hematocrit . xxunk . xxmaj immature xxmaj granulocytes . xxmaj lymphs . xxmaj monocytes . xxmaj eos . xxmaj basos . xxmaj platelets . xxmaj neutrophils ( xxunk xxmaj grans ( xxunk ( xxunk ( xxunk ( xxunk , xxmaj serum . xxunk , xxmaj total , xxmaj serum . xxmaj albumin , xxmaj serum . xxmaj bilirubin , xxmaj total . xxmaj alkaline xxmaj phosphatase , xxup xxunk ( xxunk , xxmaj serum . xxmaj sodium , xxmaj serum . xxmaj chloride , xxmaj serum . xxmaj creatinine , xxmaj serum . xxup alt ( xxunk xxmaj dioxide , xxmaj total . xxup bun / xxmaj creatinine xxmaj ratio . xxmaj globulin , xxmaj total . a / g xxunk africanamerican . xxmaj cholesterol , xxmaj total . xxup vldl xxmaj cholesterol xxmaj cal . xxup ldl xxmaj cholesterol xxmaj calc . xxmaj globulin . xxmaj albumin / xxmaj globulin . xxmaj bilirubin . xxmaj chloride . xxmaj potassium . xxmaj protein . xxmaj triglyceride,xxbos xxmaj pure hyperglyceridemia . xxmaj unspecified hypothyroidism . xxmaj unspecified hypothyroidism . xxmaj diverticulitis of colon without mention of hemorrhage . xxmaj encounter for long - term ( current ) use of other medications . xxmaj urinary tract infection , site not specified . xxmaj nausea with vomiting . xxmaj osteoarthrosis , unspecified whether generalized or localized , involving unspecified site . xxmaj uric acid nephrolithiasis . xxmaj unspecified essential hypertension . xxmaj infectious colitis , enteritis , and gastroenteritis . xxmaj acute bronchitis . xxmaj nonorganic sleep disorder , unspecified . xxmaj syncope and collapse . xxmaj iron deficiency anemia , unspecified . xxmaj malaise and fatigue . xxmaj anxiety state , unspecified . xxmaj other viral enteritis . xxmaj allergic rhinitis due to pollen . xxmaj lumbago . xxmaj acute and chronic cholecystitis . xxmaj dysphagia , unspecified . xxmaj neoplasm of uncertain behavior of skin . xxmaj esophageal reflux . xxmaj pain in joint involving lower leg . xxmaj spondylosis with myelopathy , thoracic region . xxmaj acute bronchitis . xxmaj insomnia , unspecified . xxmaj acute sinusitis , unspecified\n",
              "y: CategoryList\n",
              "0,0,0,1,1\n",
              "Path: /content;\n",
              "\n",
              "Valid: LabelList (415 items)\n",
              "x: TextList\n",
              "xxbos xxmaj other seborrheic keratosis . xxmaj extrinsic asthma with acute exacerbation . xxmaj acute sinusitis xxunk upper respiratory infections of unspecified site . xxmaj obesity xxunk varicose veins . xxmaj rosacea . xxmaj chronic serous otitis media , simple or unspecified . xxmaj unspecified essential hypertension . xxmaj impacted cerumen . xxmaj impaired fasting glucose . xxmaj routine gynecological examination . xxmaj acute bronchitis . xxmaj lipoma of other skin and subcutaneous tissue . xxmaj depressive disorder , xxup nos,xxbos xxmaj benign essential hypertension . xxmaj unspecified hypothyroidism . xxmaj coronary atherosclerosis of unspecified type of vessel , native or graft . xxmaj other and unspecified xxunk . xxmaj albumin / xxmaj globulin . xxmaj bilirubin . xxmaj chloride . xxmaj potassium . xxmaj protein . xxmaj triglyceride . xxmaj thyroxine,xxbos xxmaj supervision of other normal pregnancy . xxmaj candidiasis of vulva and xxunk . xxmaj hemoglobin . xxmaj monocytes . xxmaj neutrophils . xxmaj platelets . xxmaj please note :,xxbos xxmaj pure hyperglyceridemia . xxmaj acute sinusitis , unspecified . xxmaj lumbago . xxmaj tobacco use disorder . xxmaj generalized anxiety disorder . xxmaj abdominal pain , other specified site ; multiple sites . xxmaj impaired fasting glucose . xxmaj unspecified essential hypertension . xxmaj acute bronchitis,xxbos xxmaj other and unspecified hyperlipidemia . xxmaj unspecified viral infection in conditions classified elsewhere and of unspecified site . xxmaj alopecia , unspecified . xxmaj unspecified hypothyroidism . xxmaj acute upper respiratory infections of unspecified site . xxmaj acute sinusitis xxunk viral infection in conditions classified elsewhere and of unspecified site . xxmaj acute maxillary sinusitis\n",
              "y: CategoryList\n",
              "0,1,0,0,1\n",
              "Path: /content;\n",
              "\n",
              "Test: None, model=SequentialRNN(\n",
              "  (0): MultiBatchEncoder(\n",
              "    (module): AWD_LSTM(\n",
              "      (encoder): Embedding(2536, 400, padding_idx=1)\n",
              "      (encoder_dp): EmbeddingDropout(\n",
              "        (emb): Embedding(2536, 400, padding_idx=1)\n",
              "      )\n",
              "      (rnns): ModuleList(\n",
              "        (0): WeightDropout(\n",
              "          (module): LSTM(400, 1152, batch_first=True)\n",
              "        )\n",
              "        (1): WeightDropout(\n",
              "          (module): LSTM(1152, 1152, batch_first=True)\n",
              "        )\n",
              "        (2): WeightDropout(\n",
              "          (module): LSTM(1152, 400, batch_first=True)\n",
              "        )\n",
              "      )\n",
              "      (input_dp): RNNDropout()\n",
              "      (hidden_dps): ModuleList(\n",
              "        (0): RNNDropout()\n",
              "        (1): RNNDropout()\n",
              "        (2): RNNDropout()\n",
              "      )\n",
              "    )\n",
              "  )\n",
              "  (1): PoolingLinearClassifier(\n",
              "    (layers): Sequential(\n",
              "      (0): BatchNorm1d(1200, eps=1e-05, momentum=0.1, affine=True, track_running_stats=True)\n",
              "      (1): Dropout(p=0.2, inplace=False)\n",
              "      (2): Linear(in_features=1200, out_features=50, bias=True)\n",
              "      (3): ReLU(inplace=True)\n",
              "      (4): BatchNorm1d(50, eps=1e-05, momentum=0.1, affine=True, track_running_stats=True)\n",
              "      (5): Dropout(p=0.1, inplace=False)\n",
              "      (6): Linear(in_features=50, out_features=2, bias=True)\n",
              "    )\n",
              "  )\n",
              "), opt_func=functools.partial(<class 'torch.optim.adam.Adam'>, betas=(0.9, 0.99)), loss_func=FlattenedLoss of CrossEntropyLoss(), metrics=[<function accuracy at 0x7fc1df6012f0>], true_wd=True, bn_wd=True, wd=0.01, train_bn=True, path=PosixPath('/content'), model_dir='models', callback_fns=[functools.partial(<class 'fastai.basic_train.Recorder'>, add_time=True, silent=False)], callbacks=[RNNTrainer\n",
              "learn: RNNLearner(data=TextClasDataBunch;\n",
              "\n",
              "Train: LabelList (1656 items)\n",
              "x: TextList\n",
              "xxbos xxmaj hypoxemia . xxmaj generalized anxiety disorder . xxmaj frequency of urination and polyuria . xxmaj generalized anxiety disorder . xxmaj hypertrophy ( benign ) of prostate without urinary obstruction and other lower urinary tract symptoms ( xxunk hypertension xxunk hypertension xxunk cerebrovascular infarction or hemorrhage,xxbos xxmaj mixed disorders as reaction to stress . xxmaj headache . xxmaj dyspepsia and other specified disorders of function of stomach . xxmaj preoperative examination , unspecified . xxmaj acute upper respiratory infection of multiple or unspecified sites xxunk neoplasm of colon . xxmaj syncope and collapse . xxmaj other primary cardiomyopathies . xxmaj general medical exam xxunk . xxmaj adjustment reaction xxunk pain,xxbos xxmaj edema . xxmaj fasciitis , unspecified . xxmaj dermatitis due to drugs and medicines taken internally . xxmaj unspecified essential hypertension . xxmaj acute bronchitis . xxmaj contact dermatitis and other eczema , unspecified cause,xxbos xxmaj pharyngitis , acute . xxmaj wrist sprain xxunk with sleep apnea , unspecified . xxmaj urinary frequency . xxmaj esophageal reflux . xxmaj depressive disorder , xxunk essential hypertension . xxmaj acute upper respiratory infections of unspecified site . xxmaj other and unspecified hyperlipidemia . xxmaj unspecified hypothyroidism . xxmaj other chest pain . xxmaj osteoarthrosis , unspecified whether generalized or localized , involving xxunk . xxmaj hematocrit . xxunk . xxmaj immature xxmaj granulocytes . xxmaj lymphs . xxmaj monocytes . xxmaj eos . xxmaj basos . xxmaj platelets . xxmaj neutrophils ( xxunk xxmaj grans ( xxunk ( xxunk ( xxunk ( xxunk , xxmaj serum . xxunk , xxmaj total , xxmaj serum . xxmaj albumin , xxmaj serum . xxmaj bilirubin , xxmaj total . xxmaj alkaline xxmaj phosphatase , xxup xxunk ( xxunk , xxmaj serum . xxmaj sodium , xxmaj serum . xxmaj chloride , xxmaj serum . xxmaj creatinine , xxmaj serum . xxup alt ( xxunk xxmaj dioxide , xxmaj total . xxup bun / xxmaj creatinine xxmaj ratio . xxmaj globulin , xxmaj total . a / g xxunk africanamerican . xxmaj cholesterol , xxmaj total . xxup vldl xxmaj cholesterol xxmaj cal . xxup ldl xxmaj cholesterol xxmaj calc . xxmaj globulin . xxmaj albumin / xxmaj globulin . xxmaj bilirubin . xxmaj chloride . xxmaj potassium . xxmaj protein . xxmaj triglyceride,xxbos xxmaj pure hyperglyceridemia . xxmaj unspecified hypothyroidism . xxmaj unspecified hypothyroidism . xxmaj diverticulitis of colon without mention of hemorrhage . xxmaj encounter for long - term ( current ) use of other medications . xxmaj urinary tract infection , site not specified . xxmaj nausea with vomiting . xxmaj osteoarthrosis , unspecified whether generalized or localized , involving unspecified site . xxmaj uric acid nephrolithiasis . xxmaj unspecified essential hypertension . xxmaj infectious colitis , enteritis , and gastroenteritis . xxmaj acute bronchitis . xxmaj nonorganic sleep disorder , unspecified . xxmaj syncope and collapse . xxmaj iron deficiency anemia , unspecified . xxmaj malaise and fatigue . xxmaj anxiety state , unspecified . xxmaj other viral enteritis . xxmaj allergic rhinitis due to pollen . xxmaj lumbago . xxmaj acute and chronic cholecystitis . xxmaj dysphagia , unspecified . xxmaj neoplasm of uncertain behavior of skin . xxmaj esophageal reflux . xxmaj pain in joint involving lower leg . xxmaj spondylosis with myelopathy , thoracic region . xxmaj acute bronchitis . xxmaj insomnia , unspecified . xxmaj acute sinusitis , unspecified\n",
              "y: CategoryList\n",
              "0,0,0,1,1\n",
              "Path: /content;\n",
              "\n",
              "Valid: LabelList (415 items)\n",
              "x: TextList\n",
              "xxbos xxmaj other seborrheic keratosis . xxmaj extrinsic asthma with acute exacerbation . xxmaj acute sinusitis xxunk upper respiratory infections of unspecified site . xxmaj obesity xxunk varicose veins . xxmaj rosacea . xxmaj chronic serous otitis media , simple or unspecified . xxmaj unspecified essential hypertension . xxmaj impacted cerumen . xxmaj impaired fasting glucose . xxmaj routine gynecological examination . xxmaj acute bronchitis . xxmaj lipoma of other skin and subcutaneous tissue . xxmaj depressive disorder , xxup nos,xxbos xxmaj benign essential hypertension . xxmaj unspecified hypothyroidism . xxmaj coronary atherosclerosis of unspecified type of vessel , native or graft . xxmaj other and unspecified xxunk . xxmaj albumin / xxmaj globulin . xxmaj bilirubin . xxmaj chloride . xxmaj potassium . xxmaj protein . xxmaj triglyceride . xxmaj thyroxine,xxbos xxmaj supervision of other normal pregnancy . xxmaj candidiasis of vulva and xxunk . xxmaj hemoglobin . xxmaj monocytes . xxmaj neutrophils . xxmaj platelets . xxmaj please note :,xxbos xxmaj pure hyperglyceridemia . xxmaj acute sinusitis , unspecified . xxmaj lumbago . xxmaj tobacco use disorder . xxmaj generalized anxiety disorder . xxmaj abdominal pain , other specified site ; multiple sites . xxmaj impaired fasting glucose . xxmaj unspecified essential hypertension . xxmaj acute bronchitis,xxbos xxmaj other and unspecified hyperlipidemia . xxmaj unspecified viral infection in conditions classified elsewhere and of unspecified site . xxmaj alopecia , unspecified . xxmaj unspecified hypothyroidism . xxmaj acute upper respiratory infections of unspecified site . xxmaj acute sinusitis xxunk viral infection in conditions classified elsewhere and of unspecified site . xxmaj acute maxillary sinusitis\n",
              "y: CategoryList\n",
              "0,1,0,0,1\n",
              "Path: /content;\n",
              "\n",
              "Test: None, model=SequentialRNN(\n",
              "  (0): MultiBatchEncoder(\n",
              "    (module): AWD_LSTM(\n",
              "      (encoder): Embedding(2536, 400, padding_idx=1)\n",
              "      (encoder_dp): EmbeddingDropout(\n",
              "        (emb): Embedding(2536, 400, padding_idx=1)\n",
              "      )\n",
              "      (rnns): ModuleList(\n",
              "        (0): WeightDropout(\n",
              "          (module): LSTM(400, 1152, batch_first=True)\n",
              "        )\n",
              "        (1): WeightDropout(\n",
              "          (module): LSTM(1152, 1152, batch_first=True)\n",
              "        )\n",
              "        (2): WeightDropout(\n",
              "          (module): LSTM(1152, 400, batch_first=True)\n",
              "        )\n",
              "      )\n",
              "      (input_dp): RNNDropout()\n",
              "      (hidden_dps): ModuleList(\n",
              "        (0): RNNDropout()\n",
              "        (1): RNNDropout()\n",
              "        (2): RNNDropout()\n",
              "      )\n",
              "    )\n",
              "  )\n",
              "  (1): PoolingLinearClassifier(\n",
              "    (layers): Sequential(\n",
              "      (0): BatchNorm1d(1200, eps=1e-05, momentum=0.1, affine=True, track_running_stats=True)\n",
              "      (1): Dropout(p=0.2, inplace=False)\n",
              "      (2): Linear(in_features=1200, out_features=50, bias=True)\n",
              "      (3): ReLU(inplace=True)\n",
              "      (4): BatchNorm1d(50, eps=1e-05, momentum=0.1, affine=True, track_running_stats=True)\n",
              "      (5): Dropout(p=0.1, inplace=False)\n",
              "      (6): Linear(in_features=50, out_features=2, bias=True)\n",
              "    )\n",
              "  )\n",
              "), opt_func=functools.partial(<class 'torch.optim.adam.Adam'>, betas=(0.9, 0.99)), loss_func=FlattenedLoss of CrossEntropyLoss(), metrics=[<function accuracy at 0x7fc1df6012f0>], true_wd=True, bn_wd=True, wd=0.01, train_bn=True, path=PosixPath('/content'), model_dir='models', callback_fns=[functools.partial(<class 'fastai.basic_train.Recorder'>, add_time=True, silent=False)], callbacks=[...], layer_groups=[Sequential(\n",
              "  (0): Embedding(2536, 400, padding_idx=1)\n",
              "  (1): EmbeddingDropout(\n",
              "    (emb): Embedding(2536, 400, padding_idx=1)\n",
              "  )\n",
              "), Sequential(\n",
              "  (0): WeightDropout(\n",
              "    (module): LSTM(400, 1152, batch_first=True)\n",
              "  )\n",
              "  (1): RNNDropout()\n",
              "), Sequential(\n",
              "  (0): WeightDropout(\n",
              "    (module): LSTM(1152, 1152, batch_first=True)\n",
              "  )\n",
              "  (1): RNNDropout()\n",
              "), Sequential(\n",
              "  (0): WeightDropout(\n",
              "    (module): LSTM(1152, 400, batch_first=True)\n",
              "  )\n",
              "  (1): RNNDropout()\n",
              "), Sequential(\n",
              "  (0): PoolingLinearClassifier(\n",
              "    (layers): Sequential(\n",
              "      (0): BatchNorm1d(1200, eps=1e-05, momentum=0.1, affine=True, track_running_stats=True)\n",
              "      (1): Dropout(p=0.2, inplace=False)\n",
              "      (2): Linear(in_features=1200, out_features=50, bias=True)\n",
              "      (3): ReLU(inplace=True)\n",
              "      (4): BatchNorm1d(50, eps=1e-05, momentum=0.1, affine=True, track_running_stats=True)\n",
              "      (5): Dropout(p=0.1, inplace=False)\n",
              "      (6): Linear(in_features=50, out_features=2, bias=True)\n",
              "    )\n",
              "  )\n",
              ")], add_time=True, silent=False)\n",
              "alpha: 2.0\n",
              "beta: 1.0], layer_groups=[Sequential(\n",
              "  (0): Embedding(2536, 400, padding_idx=1)\n",
              "  (1): EmbeddingDropout(\n",
              "    (emb): Embedding(2536, 400, padding_idx=1)\n",
              "  )\n",
              "), Sequential(\n",
              "  (0): WeightDropout(\n",
              "    (module): LSTM(400, 1152, batch_first=True)\n",
              "  )\n",
              "  (1): RNNDropout()\n",
              "), Sequential(\n",
              "  (0): WeightDropout(\n",
              "    (module): LSTM(1152, 1152, batch_first=True)\n",
              "  )\n",
              "  (1): RNNDropout()\n",
              "), Sequential(\n",
              "  (0): WeightDropout(\n",
              "    (module): LSTM(1152, 400, batch_first=True)\n",
              "  )\n",
              "  (1): RNNDropout()\n",
              "), Sequential(\n",
              "  (0): PoolingLinearClassifier(\n",
              "    (layers): Sequential(\n",
              "      (0): BatchNorm1d(1200, eps=1e-05, momentum=0.1, affine=True, track_running_stats=True)\n",
              "      (1): Dropout(p=0.2, inplace=False)\n",
              "      (2): Linear(in_features=1200, out_features=50, bias=True)\n",
              "      (3): ReLU(inplace=True)\n",
              "      (4): BatchNorm1d(50, eps=1e-05, momentum=0.1, affine=True, track_running_stats=True)\n",
              "      (5): Dropout(p=0.1, inplace=False)\n",
              "      (6): Linear(in_features=50, out_features=2, bias=True)\n",
              "    )\n",
              "  )\n",
              ")], add_time=True, silent=False)"
            ]
          },
          "metadata": {
            "tags": []
          },
          "execution_count": 89
        }
      ]
    },
    {
      "cell_type": "code",
      "metadata": {
        "id": "xrQdX9tD00_m",
        "colab": {
          "base_uri": "https://localhost:8080/"
        },
        "outputId": "3edaefb9-4bbb-4305-9a86-d2396e88c2f3"
      },
      "source": [
        "learn.predict(\"Acute bronchitis.Acute upper respiratory infections of unspecified site.Other abnormal glucose.Abnormality of gait.Carcinoma in situ of breast.Acromioclavicular (joint) (ligament) sprain.Osteoporosis   \")"
      ],
      "execution_count": null,
      "outputs": [
        {
          "output_type": "execute_result",
          "data": {
            "text/plain": [
              "(Category tensor(0), tensor(0), tensor([0.9951, 0.0049]))"
            ]
          },
          "metadata": {
            "tags": []
          },
          "execution_count": 90
        }
      ]
    },
    {
      "cell_type": "code",
      "metadata": {
        "id": "Gyx49JN01czC",
        "colab": {
          "base_uri": "https://localhost:8080/"
        },
        "outputId": "9010a8d7-0c8d-4374-a1b6-6d51226fc521"
      },
      "source": [
        "learn.predict(\" Allergic rhinitis, cause unspecified.Other malaise and fatigue.Unspecified essential hypertension.Dysphagia, unspecified.Insomnia, unspecified.Anxiety states                                                                                                                                                                                                                                                 .Esophageal reflux.Loss of weight.Major depressive disorder, single episode, mild degree.Pharyngitis, acute.Neuralgia, neuritis, and radiculitis, unspecified.Pain in joint\")"
      ],
      "execution_count": null,
      "outputs": [
        {
          "output_type": "execute_result",
          "data": {
            "text/plain": [
              "(Category tensor(0), tensor(0), tensor([0.7857, 0.2143]))"
            ]
          },
          "metadata": {
            "tags": []
          },
          "execution_count": 91
        }
      ]
    },
    {
      "cell_type": "code",
      "metadata": {
        "id": "2UVeJn4Ft8F9",
        "colab": {
          "base_uri": "https://localhost:8080/",
          "height": 311
        },
        "outputId": "d19215da-d96a-4bc6-f344-7c927d1a43b1"
      },
      "source": [
        "interp = ClassificationInterpretation.from_learner(learn)\n",
        "interp.plot_confusion_matrix()"
      ],
      "execution_count": null,
      "outputs": [
        {
          "output_type": "display_data",
          "data": {
            "text/html": [
              ""
            ],
            "text/plain": [
              "<IPython.core.display.HTML object>"
            ]
          },
          "metadata": {
            "tags": []
          }
        },
        {
          "output_type": "display_data",
          "data": {
            "image/png": "[encoded data removed]",
            "text/plain": [
              "<Figure size 432x288 with 1 Axes>"
            ]
          },
          "metadata": {
            "tags": [],
            "needs_background": "light"
          }
        }
      ]
    },
    {
      "cell_type": "code",
      "metadata": {
        "id": "vVDgy62SuJTp",
        "colab": {
          "base_uri": "https://localhost:8080/"
        },
        "outputId": "18950087-8f0a-434e-8f5d-e9f11174a552"
      },
      "source": [
        "interp.top_losses()\n"
      ],
      "execution_count": null,
      "outputs": [
        {
          "output_type": "execute_result",
          "data": {
            "text/plain": [
              "torch.return_types.topk(...)"
            ]
          },
          "metadata": {
            "tags": []
          },
          "execution_count": 93
        }
      ]
    },
    {
      "cell_type": "code",
      "metadata": {
        "id": "BU2UF8foxP7K",
        "colab": {
          "base_uri": "https://localhost:8080/"
        },
        "outputId": "b5e798e8-a445-4c8b-d44a-6115cf8ef848"
      },
      "source": [
        "interp.most_confused()\n"
      ],
      "execution_count": null,
      "outputs": [
        {
          "output_type": "execute_result",
          "data": {
            "text/plain": [
              "[(1, 0, 7), (0, 1, 2)]"
            ]
          },
          "metadata": {
            "tags": []
          },
          "execution_count": 94
        }
      ]
    },
    {
      "cell_type": "code",
      "metadata": {
        "id": "1_a77iNoZCkX",
        "colab": {
          "base_uri": "https://localhost:8080/",
          "height": 190
        },
        "outputId": "0f80c61f-8ec6-433e-9fcd-02398b440be5"
      },
      "source": [
        "\n",
        "import matplotlib.cm as cm\n",
        "\n",
        "txt_ci = TextClassificationInterpretation.from_learner(learn)\n",
        "test_text = \"Urinary frequency.Spasm of muscle.Urinary tract infection, site not specified.Viral pneumonia, unspecified.Sprain of other specified sites of elbow and forearm.Need for prophylactic vaccination and inoculation against influenza.Routine general medical examination at a health care facility.Unspecified allergic alveolitis and pneumonitis.Enlargement of lymph nodes.Abdominal pain, other specified site; multiple sites.Acute sinusitis                                                                                                                                                                                                                                                .Pleurisy                                                                                                                                                                                                                                                       .Lumbago\"\n",
        "txt_ci.show_intrinsic_attention(test_text,cmap=cm.Purples)"
      ],
      "execution_count": null,
      "outputs": [
        {
          "output_type": "display_data",
          "data": {
            "text/html": [
              ""
            ],
            "text/plain": [
              "<IPython.core.display.HTML object>"
            ]
          },
          "metadata": {
            "tags": []
          }
        },
        {
          "output_type": "stream",
          "text": [
            "/usr/local/lib/python3.6/dist-packages/fastai/text/learner.py:226: UserWarning: masked_fill_ received a mask with dtype torch.uint8, this behavior is now deprecated,please use a mask with dtype torch.bool instead. (Triggered internally at  /pytorch/aten/src/ATen/native/TensorAdvancedIndexing.cpp:650.)\n",
            "  avg_pool = output.masked_fill(mask[:, :, None], 0).mean(dim=1)\n",
            "/usr/local/lib/python3.6/dist-packages/fastai/text/learner.py:228: UserWarning: masked_fill_ received a mask with dtype torch.uint8, this behavior is now deprecated,please use a mask with dtype torch.bool instead. (Triggered internally at  /pytorch/aten/src/ATen/native/TensorAdvancedIndexing.cpp:650.)\n",
            "  max_pool = output.masked_fill(mask[:,:,None], -float('inf')).max(dim=1)[0]\n",
            "/usr/local/lib/python3.6/dist-packages/torch/autograd/__init__.py:132: UserWarning: masked_fill_ received a mask with dtype torch.uint8, this behavior is now deprecated,please use a mask with dtype torch.bool instead. (Triggered internally at  /pytorch/aten/src/ATen/native/TensorAdvancedIndexing.cpp:650.)\n",
            "  allow_unreachable=True)  # allow_unreachable flag\n"
          ],
          "name": "stderr"
        },
        {
          "output_type": "display_data",
          "data": {
            "text/html": [
              "<span style=\"font-family: monospace;\"><span title=\"0.029\" style=\"background-color: rgba(249, 247, 251, 0.5);\">xxbos</span> <span title=\"0.017\" style=\"background-color: rgba(250, 249, 251, 0.5);\">xxmaj</span> <span title=\"0.217\" style=\"background-color: rgba(223, 223, 237, 0.5);\">urinary</span> <span title=\"0.102\" style=\"background-color: rgba(241, 239, 246, 0.5);\">frequency</span> <span title=\"0.024\" style=\"background-color: rgba(249, 248, 251, 0.5);\">.</span> <span title=\"0.022\" style=\"background-color: rgba(249, 248, 251, 0.5);\">xxmaj</span> <span title=\"0.390\" style=\"background-color: rgba(184, 185, 217, 0.5);\">spasm</span> <span title=\"0.033\" style=\"background-color: rgba(248, 247, 250, 0.5);\">of</span> <span title=\"0.068\" style=\"background-color: rgba(245, 243, 248, 0.5);\">muscle</span> <span title=\"0.016\" style=\"background-color: rgba(250, 249, 251, 0.5);\">.</span> <span title=\"0.019\" style=\"background-color: rgba(250, 249, 251, 0.5);\">xxmaj</span> <span title=\"0.240\" style=\"background-color: rgba(219, 219, 235, 0.5);\">urinary</span> <span title=\"0.118\" style=\"background-color: rgba(239, 237, 245, 0.5);\">tract</span> <span title=\"0.107\" style=\"background-color: rgba(240, 239, 246, 0.5);\">infection</span> <span title=\"0.024\" style=\"background-color: rgba(249, 248, 251, 0.5);\">,</span> <span title=\"0.055\" style=\"background-color: rgba(246, 245, 249, 0.5);\">site</span> <span title=\"0.029\" style=\"background-color: rgba(249, 247, 251, 0.5);\">not</span> <span title=\"0.038\" style=\"background-color: rgba(248, 247, 250, 0.5);\">specified</span> <span title=\"0.016\" style=\"background-color: rgba(250, 249, 251, 0.5);\">.</span> <span title=\"0.020\" style=\"background-color: rgba(249, 248, 251, 0.5);\">xxmaj</span> <span title=\"0.290\" style=\"background-color: rgba(208, 208, 230, 0.5);\">viral</span> <span title=\"0.243\" style=\"background-color: rgba(219, 219, 235, 0.5);\">pneumonia</span> <span title=\"0.034\" style=\"background-color: rgba(248, 247, 250, 0.5);\">,</span> <span title=\"0.042\" style=\"background-color: rgba(247, 246, 250, 0.5);\">unspecified</span> <span title=\"0.027\" style=\"background-color: rgba(249, 248, 251, 0.5);\">.</span> <span title=\"0.040\" style=\"background-color: rgba(247, 246, 250, 0.5);\">xxmaj</span> <span title=\"0.482\" style=\"background-color: rgba(162, 158, 202, 0.5);\">sprain</span> <span title=\"0.053\" style=\"background-color: rgba(246, 245, 249, 0.5);\">of</span> <span title=\"0.088\" style=\"background-color: rgba(243, 241, 247, 0.5);\">other</span> <span title=\"0.179\" style=\"background-color: rgba(230, 229, 240, 0.5);\">specified</span> <span title=\"0.104\" style=\"background-color: rgba(241, 239, 246, 0.5);\">sites</span> <span title=\"0.049\" style=\"background-color: rgba(247, 245, 249, 0.5);\">of</span> <span title=\"0.362\" style=\"background-color: rgba(191, 192, 221, 0.5);\">elbow</span> <span title=\"0.030\" style=\"background-color: rgba(249, 247, 251, 0.5);\">and</span> <span title=\"0.078\" style=\"background-color: rgba(244, 242, 248, 0.5);\">forearm</span> <span title=\"0.020\" style=\"background-color: rgba(250, 249, 251, 0.5);\">.</span> <span title=\"0.023\" style=\"background-color: rgba(249, 248, 251, 0.5);\">xxmaj</span> <span title=\"0.152\" style=\"background-color: rgba(234, 233, 243, 0.5);\">need</span> <span title=\"0.044\" style=\"background-color: rgba(247, 246, 250, 0.5);\">for</span> <span title=\"0.177\" style=\"background-color: rgba(230, 229, 240, 0.5);\">prophylactic</span> <span title=\"0.098\" style=\"background-color: rgba(242, 240, 246, 0.5);\">vaccination</span> <span title=\"0.017\" style=\"background-color: rgba(250, 249, 251, 0.5);\">and</span> <span title=\"0.097\" style=\"background-color: rgba(242, 240, 246, 0.5);\">inoculation</span> <span title=\"0.044\" style=\"background-color: rgba(247, 246, 250, 0.5);\">against</span> <span title=\"0.059\" style=\"background-color: rgba(245, 244, 249, 0.5);\">influenza</span> <span title=\"0.012\" style=\"background-color: rgba(250, 249, 252, 0.5);\">.</span> <span title=\"0.023\" style=\"background-color: rgba(249, 248, 251, 0.5);\">xxmaj</span> <span title=\"0.158\" style=\"background-color: rgba(233, 232, 242, 0.5);\">routine</span> <span title=\"0.072\" style=\"background-color: rgba(244, 243, 248, 0.5);\">general</span> <span title=\"0.082\" style=\"background-color: rgba(243, 241, 247, 0.5);\">medical</span> <span title=\"0.053\" style=\"background-color: rgba(246, 245, 249, 0.5);\">examination</span> <span title=\"0.029\" style=\"background-color: rgba(249, 247, 251, 0.5);\">at</span> <span title=\"0.037\" style=\"background-color: rgba(248, 247, 250, 0.5);\">a</span> <span title=\"0.067\" style=\"background-color: rgba(245, 243, 248, 0.5);\">health</span> <span title=\"0.068\" style=\"background-color: rgba(245, 243, 248, 0.5);\">care</span> <span title=\"0.040\" style=\"background-color: rgba(247, 246, 250, 0.5);\">facility</span> <span title=\"0.028\" style=\"background-color: rgba(249, 247, 251, 0.5);\">.</span> <span title=\"0.077\" style=\"background-color: rgba(244, 242, 248, 0.5);\">xxmaj</span> <span title=\"0.531\" style=\"background-color: rgba(150, 146, 196, 0.5);\">unspecified</span> <span title=\"0.604\" style=\"background-color: rgba(133, 129, 188, 0.5);\">allergic</span> <span title=\"0.052\" style=\"background-color: rgba(246, 245, 249, 0.5);\">xxunk</span> <span title=\"0.027\" style=\"background-color: rgba(249, 248, 251, 0.5);\">and</span> <span title=\"0.192\" style=\"background-color: rgba(227, 226, 239, 0.5);\">pneumonitis</span> <span title=\"0.022\" style=\"background-color: rgba(249, 248, 251, 0.5);\">.</span> <span title=\"0.039\" style=\"background-color: rgba(248, 247, 250, 0.5);\">xxmaj</span> <span title=\"0.567\" style=\"background-color: rgba(141, 138, 192, 0.5);\">enlargement</span> <span title=\"0.059\" style=\"background-color: rgba(245, 244, 249, 0.5);\">of</span> <span title=\"0.418\" style=\"background-color: rgba(177, 176, 212, 0.5);\">lymph</span> <span title=\"0.051\" style=\"background-color: rgba(246, 245, 249, 0.5);\">nodes</span> <span title=\"0.022\" style=\"background-color: rgba(249, 248, 251, 0.5);\">.</span> <span title=\"0.039\" style=\"background-color: rgba(248, 247, 250, 0.5);\">xxmaj</span> <span title=\"0.586\" style=\"background-color: rgba(136, 133, 190, 0.5);\">abdominal</span> <span title=\"0.261\" style=\"background-color: rgba(215, 215, 233, 0.5);\">pain</span> <span title=\"0.073\" style=\"background-color: rgba(244, 243, 248, 0.5);\">,</span> <span title=\"0.145\" style=\"background-color: rgba(235, 233, 243, 0.5);\">other</span> <span title=\"0.245\" style=\"background-color: rgba(219, 219, 235, 0.5);\">specified</span> <span title=\"0.230\" style=\"background-color: rgba(221, 221, 236, 0.5);\">site</span> <span title=\"0.093\" style=\"background-color: rgba(242, 240, 247, 0.5);\">;</span> <span title=\"0.284\" style=\"background-color: rgba(210, 210, 231, 0.5);\">multiple</span> <span title=\"0.127\" style=\"background-color: rgba(238, 236, 244, 0.5);\">sites</span> <span title=\"0.046\" style=\"background-color: rgba(247, 246, 250, 0.5);\">.</span> <span title=\"0.058\" style=\"background-color: rgba(246, 244, 249, 0.5);\">xxmaj</span> <span title=\"0.450\" style=\"background-color: rgba(169, 167, 207, 0.5);\">acute</span> <span title=\"1.000\" style=\"background-color: rgba(63, 0, 125, 0.5);\">sinusitis</span> <span title=\"0.235\" style=\"background-color: rgba(220, 220, 236, 0.5);\">xxunk</span> <span title=\"0.232\" style=\"background-color: rgba(221, 220, 236, 0.5);\">xxunk</span></span>"
            ],
            "text/plain": [
              "<IPython.core.display.HTML object>"
            ]
          },
          "metadata": {
            "tags": []
          }
        }
      ]
    },
    {
      "cell_type": "code",
      "metadata": {
        "id": "q-z1CkmEamHn",
        "colab": {
          "base_uri": "https://localhost:8080/",
          "height": 190
        },
        "outputId": "04245713-6874-47f4-edb2-77d9f70edfda"
      },
      "source": [
        "test_text = \"Coronary atherosclerosis of native coronary artery.Hypertrophy (benign) of prostate without urinary obstruction and other lower urinary tract symptoms (LUTS).Chronic hepatitis C without mention of hepatic coma.Benign essential hypertension.Other chest pain.Pure hypercholesterolemia.Human immunodeficiency virus (HIV) disease.Abnormality of gaitGlobulin.Albumin/Globulin.Bilirubin.Chloride.Potassium.Protein \"\n",
        "txt_ci.show_intrinsic_attention(test_text,cmap=cm.Purples)"
      ],
      "execution_count": null,
      "outputs": [
        {
          "output_type": "stream",
          "text": [
            "/usr/local/lib/python3.6/dist-packages/fastai/text/learner.py:226: UserWarning: masked_fill_ received a mask with dtype torch.uint8, this behavior is now deprecated,please use a mask with dtype torch.bool instead. (Triggered internally at  /pytorch/aten/src/ATen/native/TensorAdvancedIndexing.cpp:650.)\n",
            "  avg_pool = output.masked_fill(mask[:, :, None], 0).mean(dim=1)\n",
            "/usr/local/lib/python3.6/dist-packages/fastai/text/learner.py:228: UserWarning: masked_fill_ received a mask with dtype torch.uint8, this behavior is now deprecated,please use a mask with dtype torch.bool instead. (Triggered internally at  /pytorch/aten/src/ATen/native/TensorAdvancedIndexing.cpp:650.)\n",
            "  max_pool = output.masked_fill(mask[:,:,None], -float('inf')).max(dim=1)[0]\n",
            "/usr/local/lib/python3.6/dist-packages/torch/autograd/__init__.py:132: UserWarning: masked_fill_ received a mask with dtype torch.uint8, this behavior is now deprecated,please use a mask with dtype torch.bool instead. (Triggered internally at  /pytorch/aten/src/ATen/native/TensorAdvancedIndexing.cpp:650.)\n",
            "  allow_unreachable=True)  # allow_unreachable flag\n"
          ],
          "name": "stderr"
        },
        {
          "output_type": "display_data",
          "data": {
            "text/html": [
              "<span style=\"font-family: monospace;\"><span title=\"0.063\" style=\"background-color: rgba(245, 243, 248, 0.5);\">xxbos</span> <span title=\"0.033\" style=\"background-color: rgba(248, 247, 250, 0.5);\">xxmaj</span> <span title=\"0.651\" style=\"background-color: rgba(123, 115, 181, 0.5);\">coronary</span> <span title=\"0.420\" style=\"background-color: rgba(177, 176, 212, 0.5);\">atherosclerosis</span> <span title=\"0.050\" style=\"background-color: rgba(247, 245, 249, 0.5);\">of</span> <span title=\"0.165\" style=\"background-color: rgba(232, 230, 241, 0.5);\">native</span> <span title=\"0.241\" style=\"background-color: rgba(219, 219, 235, 0.5);\">coronary</span> <span title=\"0.095\" style=\"background-color: rgba(242, 240, 246, 0.5);\">artery</span> <span title=\"0.043\" style=\"background-color: rgba(247, 246, 250, 0.5);\">.</span> <span title=\"0.044\" style=\"background-color: rgba(247, 246, 250, 0.5);\">xxmaj</span> <span title=\"0.701\" style=\"background-color: rgba(114, 97, 171, 0.5);\">hypertrophy</span> <span title=\"0.083\" style=\"background-color: rgba(243, 241, 247, 0.5);\">(</span> <span title=\"0.177\" style=\"background-color: rgba(230, 229, 240, 0.5);\">benign</span> <span title=\"0.074\" style=\"background-color: rgba(244, 243, 248, 0.5);\">)</span> <span title=\"0.081\" style=\"background-color: rgba(243, 242, 247, 0.5);\">of</span> <span title=\"0.319\" style=\"background-color: rgba(201, 202, 226, 0.5);\">prostate</span> <span title=\"0.125\" style=\"background-color: rgba(239, 237, 245, 0.5);\">without</span> <span title=\"0.174\" style=\"background-color: rgba(231, 229, 241, 0.5);\">urinary</span> <span title=\"0.109\" style=\"background-color: rgba(240, 239, 246, 0.5);\">obstruction</span> <span title=\"0.037\" style=\"background-color: rgba(248, 247, 250, 0.5);\">and</span> <span title=\"0.096\" style=\"background-color: rgba(242, 240, 246, 0.5);\">other</span> <span title=\"0.113\" style=\"background-color: rgba(240, 238, 245, 0.5);\">lower</span> <span title=\"0.216\" style=\"background-color: rgba(223, 223, 237, 0.5);\">urinary</span> <span title=\"0.196\" style=\"background-color: rgba(227, 226, 239, 0.5);\">tract</span> <span title=\"0.173\" style=\"background-color: rgba(231, 229, 241, 0.5);\">symptoms</span> <span title=\"0.042\" style=\"background-color: rgba(247, 246, 250, 0.5);\">(</span> <span title=\"0.072\" style=\"background-color: rgba(244, 243, 248, 0.5);\">xxunk</span> <span title=\"0.287\" style=\"background-color: rgba(209, 209, 230, 0.5);\">hepatitis</span> <span title=\"0.080\" style=\"background-color: rgba(243, 242, 247, 0.5);\">c</span> <span title=\"0.117\" style=\"background-color: rgba(240, 238, 245, 0.5);\">without</span> <span title=\"0.129\" style=\"background-color: rgba(238, 236, 244, 0.5);\">mention</span> <span title=\"0.058\" style=\"background-color: rgba(246, 244, 249, 0.5);\">of</span> <span title=\"0.592\" style=\"background-color: rgba(135, 132, 189, 0.5);\">hepatic</span> <span title=\"0.100\" style=\"background-color: rgba(241, 240, 246, 0.5);\">coma</span> <span title=\"0.029\" style=\"background-color: rgba(249, 247, 251, 0.5);\">.</span> <span title=\"0.035\" style=\"background-color: rgba(248, 247, 250, 0.5);\">xxmaj</span> <span title=\"0.236\" style=\"background-color: rgba(220, 220, 236, 0.5);\">benign</span> <span title=\"0.153\" style=\"background-color: rgba(234, 232, 242, 0.5);\">essential</span> <span title=\"0.159\" style=\"background-color: rgba(233, 232, 242, 0.5);\">hypertension</span> <span title=\"0.030\" style=\"background-color: rgba(249, 247, 251, 0.5);\">.</span> <span title=\"0.038\" style=\"background-color: rgba(248, 247, 250, 0.5);\">xxmaj</span> <span title=\"0.129\" style=\"background-color: rgba(238, 236, 244, 0.5);\">other</span> <span title=\"0.367\" style=\"background-color: rgba(190, 191, 221, 0.5);\">chest</span> <span title=\"0.195\" style=\"background-color: rgba(227, 226, 239, 0.5);\">pain</span> <span title=\"0.029\" style=\"background-color: rgba(249, 247, 251, 0.5);\">.</span> <span title=\"0.039\" style=\"background-color: rgba(247, 246, 250, 0.5);\">xxmaj</span> <span title=\"0.275\" style=\"background-color: rgba(212, 212, 232, 0.5);\">pure</span> <span title=\"0.501\" style=\"background-color: rgba(157, 153, 199, 0.5);\">hypercholesterolemia</span> <span title=\"0.041\" style=\"background-color: rgba(247, 246, 250, 0.5);\">.</span> <span title=\"0.083\" style=\"background-color: rgba(243, 241, 247, 0.5);\">xxmaj</span> <span title=\"0.838\" style=\"background-color: rgba(90, 51, 148, 0.5);\">human</span> <span title=\"1.000\" style=\"background-color: rgba(63, 0, 125, 0.5);\">immunodeficiency</span> <span title=\"0.426\" style=\"background-color: rgba(176, 175, 212, 0.5);\">virus</span> <span title=\"0.089\" style=\"background-color: rgba(243, 241, 247, 0.5);\">(</span> <span title=\"0.095\" style=\"background-color: rgba(242, 240, 246, 0.5);\">xxup</span> <span title=\"0.330\" style=\"background-color: rgba(198, 199, 225, 0.5);\">hiv</span> <span title=\"0.042\" style=\"background-color: rgba(247, 246, 250, 0.5);\">)</span> <span title=\"0.095\" style=\"background-color: rgba(242, 240, 246, 0.5);\">disease</span> <span title=\"0.025\" style=\"background-color: rgba(249, 248, 251, 0.5);\">.</span> <span title=\"0.025\" style=\"background-color: rgba(249, 248, 251, 0.5);\">xxmaj</span> <span title=\"0.468\" style=\"background-color: rgba(166, 163, 205, 0.5);\">abnormality</span> <span title=\"0.042\" style=\"background-color: rgba(247, 246, 250, 0.5);\">of</span> <span title=\"0.035\" style=\"background-color: rgba(248, 247, 250, 0.5);\">xxunk</span> <span title=\"0.021\" style=\"background-color: rgba(249, 248, 251, 0.5);\">.</span> <span title=\"0.023\" style=\"background-color: rgba(249, 248, 251, 0.5);\">xxmaj</span> <span title=\"0.351\" style=\"background-color: rgba(194, 195, 223, 0.5);\">albumin</span> <span title=\"0.049\" style=\"background-color: rgba(247, 245, 249, 0.5);\">/</span> <span title=\"0.021\" style=\"background-color: rgba(249, 248, 251, 0.5);\">xxmaj</span> <span title=\"0.159\" style=\"background-color: rgba(233, 232, 242, 0.5);\">globulin</span> <span title=\"0.019\" style=\"background-color: rgba(250, 249, 251, 0.5);\">.</span> <span title=\"0.021\" style=\"background-color: rgba(249, 248, 251, 0.5);\">xxmaj</span> <span title=\"0.323\" style=\"background-color: rgba(200, 201, 226, 0.5);\">bilirubin</span> <span title=\"0.031\" style=\"background-color: rgba(248, 247, 250, 0.5);\">.</span> <span title=\"0.027\" style=\"background-color: rgba(249, 248, 251, 0.5);\">xxmaj</span> <span title=\"0.249\" style=\"background-color: rgba(218, 218, 235, 0.5);\">chloride</span> <span title=\"0.033\" style=\"background-color: rgba(248, 247, 250, 0.5);\">.</span> <span title=\"0.040\" style=\"background-color: rgba(247, 246, 250, 0.5);\">xxmaj</span> <span title=\"0.330\" style=\"background-color: rgba(198, 199, 225, 0.5);\">potassium</span> <span title=\"0.111\" style=\"background-color: rgba(240, 238, 245, 0.5);\">.</span> <span title=\"0.081\" style=\"background-color: rgba(243, 242, 247, 0.5);\">xxmaj</span> <span title=\"0.593\" style=\"background-color: rgba(135, 132, 189, 0.5);\">protein</span></span>"
            ],
            "text/plain": [
              "<IPython.core.display.HTML object>"
            ]
          },
          "metadata": {
            "tags": []
          }
        }
      ]
    },
    {
      "cell_type": "code",
      "metadata": {
        "id": "kP5Yqe-Ga6DM",
        "colab": {
          "base_uri": "https://localhost:8080/",
          "height": 156
        },
        "outputId": "44300a8f-08a5-4d61-9b5a-f64b44b6783d"
      },
      "source": [
        "test_text = \"Postnasal drip.Other acute sinusitis\"\n",
        "txt_ci.show_intrinsic_attention(test_text,cmap=cm.Purples)"
      ],
      "execution_count": null,
      "outputs": [
        {
          "output_type": "stream",
          "text": [
            "/usr/local/lib/python3.6/dist-packages/fastai/text/learner.py:226: UserWarning: masked_fill_ received a mask with dtype torch.uint8, this behavior is now deprecated,please use a mask with dtype torch.bool instead. (Triggered internally at  /pytorch/aten/src/ATen/native/TensorAdvancedIndexing.cpp:650.)\n",
            "  avg_pool = output.masked_fill(mask[:, :, None], 0).mean(dim=1)\n",
            "/usr/local/lib/python3.6/dist-packages/fastai/text/learner.py:228: UserWarning: masked_fill_ received a mask with dtype torch.uint8, this behavior is now deprecated,please use a mask with dtype torch.bool instead. (Triggered internally at  /pytorch/aten/src/ATen/native/TensorAdvancedIndexing.cpp:650.)\n",
            "  max_pool = output.masked_fill(mask[:,:,None], -float('inf')).max(dim=1)[0]\n",
            "/usr/local/lib/python3.6/dist-packages/torch/autograd/__init__.py:132: UserWarning: masked_fill_ received a mask with dtype torch.uint8, this behavior is now deprecated,please use a mask with dtype torch.bool instead. (Triggered internally at  /pytorch/aten/src/ATen/native/TensorAdvancedIndexing.cpp:650.)\n",
            "  allow_unreachable=True)  # allow_unreachable flag\n"
          ],
          "name": "stderr"
        },
        {
          "output_type": "display_data",
          "data": {
            "text/html": [
              "<span style=\"font-family: monospace;\"><span title=\"0.065\" style=\"background-color: rgba(245, 243, 248, 0.5);\">xxbos</span> <span title=\"0.055\" style=\"background-color: rgba(246, 245, 249, 0.5);\">xxmaj</span> <span title=\"1.000\" style=\"background-color: rgba(63, 0, 125, 0.5);\">postnasal</span> <span title=\"0.292\" style=\"background-color: rgba(208, 208, 230, 0.5);\">drip</span> <span title=\"0.044\" style=\"background-color: rgba(247, 246, 250, 0.5);\">.</span> <span title=\"0.034\" style=\"background-color: rgba(248, 247, 250, 0.5);\">xxmaj</span> <span title=\"0.114\" style=\"background-color: rgba(240, 238, 245, 0.5);\">other</span> <span title=\"0.230\" style=\"background-color: rgba(221, 221, 236, 0.5);\">acute</span> <span title=\"0.284\" style=\"background-color: rgba(210, 210, 231, 0.5);\">sinusitis</span></span>"
            ],
            "text/plain": [
              "<IPython.core.display.HTML object>"
            ]
          },
          "metadata": {
            "tags": []
          }
        }
      ]
    },
    {
      "cell_type": "code",
      "metadata": {
        "colab": {
          "base_uri": "https://localhost:8080/",
          "height": 156
        },
        "id": "_Rb7Wt8S7QIf",
        "outputId": "b6beebc0-fcaf-4d89-9190-c47576cb5a3a"
      },
      "source": [
        "test_text = \"Malaise and fatigue.Pure hypercholesterolemia.Acquired hypothyroidism\"\r\n",
        "txt_ci.show_intrinsic_attention(test_text,cmap=cm.Purples)"
      ],
      "execution_count": null,
      "outputs": [
        {
          "output_type": "stream",
          "text": [
            "/usr/local/lib/python3.6/dist-packages/fastai/text/learner.py:226: UserWarning: masked_fill_ received a mask with dtype torch.uint8, this behavior is now deprecated,please use a mask with dtype torch.bool instead. (Triggered internally at  /pytorch/aten/src/ATen/native/TensorAdvancedIndexing.cpp:650.)\n",
            "  avg_pool = output.masked_fill(mask[:, :, None], 0).mean(dim=1)\n",
            "/usr/local/lib/python3.6/dist-packages/fastai/text/learner.py:228: UserWarning: masked_fill_ received a mask with dtype torch.uint8, this behavior is now deprecated,please use a mask with dtype torch.bool instead. (Triggered internally at  /pytorch/aten/src/ATen/native/TensorAdvancedIndexing.cpp:650.)\n",
            "  max_pool = output.masked_fill(mask[:,:,None], -float('inf')).max(dim=1)[0]\n",
            "/usr/local/lib/python3.6/dist-packages/torch/autograd/__init__.py:132: UserWarning: masked_fill_ received a mask with dtype torch.uint8, this behavior is now deprecated,please use a mask with dtype torch.bool instead. (Triggered internally at  /pytorch/aten/src/ATen/native/TensorAdvancedIndexing.cpp:650.)\n",
            "  allow_unreachable=True)  # allow_unreachable flag\n"
          ],
          "name": "stderr"
        },
        {
          "output_type": "display_data",
          "data": {
            "text/html": [
              "<span style=\"font-family: monospace;\"><span title=\"0.079\" style=\"background-color: rgba(243, 242, 247, 0.5);\">xxbos</span> <span title=\"0.041\" style=\"background-color: rgba(247, 246, 250, 0.5);\">xxmaj</span> <span title=\"0.601\" style=\"background-color: rgba(134, 130, 188, 0.5);\">malaise</span> <span title=\"0.056\" style=\"background-color: rgba(246, 244, 249, 0.5);\">and</span> <span title=\"0.151\" style=\"background-color: rgba(234, 233, 243, 0.5);\">fatigue</span> <span title=\"0.053\" style=\"background-color: rgba(246, 245, 249, 0.5);\">.</span> <span title=\"0.066\" style=\"background-color: rgba(245, 243, 248, 0.5);\">xxmaj</span> <span title=\"0.357\" style=\"background-color: rgba(192, 193, 222, 0.5);\">pure</span> <span title=\"0.673\" style=\"background-color: rgba(119, 107, 176, 0.5);\">hypercholesterolemia</span> <span title=\"0.157\" style=\"background-color: rgba(233, 232, 242, 0.5);\">.</span> <span title=\"0.163\" style=\"background-color: rgba(232, 231, 242, 0.5);\">xxmaj</span> <span title=\"1.000\" style=\"background-color: rgba(63, 0, 125, 0.5);\">acquired</span> <span title=\"1.000\" style=\"background-color: rgba(63, 0, 125, 0.5);\">hypothyroidism</span></span>"
            ],
            "text/plain": [
              "<IPython.core.display.HTML object>"
            ]
          },
          "metadata": {
            "tags": []
          }
        }
      ]
    },
    {
      "cell_type": "code",
      "metadata": {
        "id": "tXWhXY2zb7nz",
        "colab": {
          "base_uri": "https://localhost:8080/",
          "height": 207
        },
        "outputId": "92537645-c413-4f3a-c819-404547d31442"
      },
      "source": [
        "test_text = \"Unspecified hypothyroidism.Other chronic nonalcoholic liver disease.Other and unspecified hyperlipidemia.Routine gynecological examination.Unspecified essential hypertension.Tachycardia, unspecifiedCalcium, Serum.BUN.Protein, Total, Serum.Albumin, Serum.Bilirubin, Total.Alkaline Phosphatase, S.AST (SGOT).Potassium, Serum.Sodium, Serum.Chloride, Serum.Creatinine, Serum.ALT (SGPT).Carbon Dioxide, Total.BUN/Creatinine Ratio.Globulin, Total.A/G Ratio.eGFR.eGFR AfricanAmerican.TSH\"\r\n",
        "txt_ci.show_intrinsic_attention(test_text,cmap=cm.Purples)"
      ],
      "execution_count": null,
      "outputs": [
        {
          "output_type": "stream",
          "text": [
            "/usr/local/lib/python3.6/dist-packages/fastai/text/learner.py:226: UserWarning: masked_fill_ received a mask with dtype torch.uint8, this behavior is now deprecated,please use a mask with dtype torch.bool instead. (Triggered internally at  /pytorch/aten/src/ATen/native/TensorAdvancedIndexing.cpp:650.)\n",
            "  avg_pool = output.masked_fill(mask[:, :, None], 0).mean(dim=1)\n",
            "/usr/local/lib/python3.6/dist-packages/fastai/text/learner.py:228: UserWarning: masked_fill_ received a mask with dtype torch.uint8, this behavior is now deprecated,please use a mask with dtype torch.bool instead. (Triggered internally at  /pytorch/aten/src/ATen/native/TensorAdvancedIndexing.cpp:650.)\n",
            "  max_pool = output.masked_fill(mask[:,:,None], -float('inf')).max(dim=1)[0]\n",
            "/usr/local/lib/python3.6/dist-packages/torch/autograd/__init__.py:132: UserWarning: masked_fill_ received a mask with dtype torch.uint8, this behavior is now deprecated,please use a mask with dtype torch.bool instead. (Triggered internally at  /pytorch/aten/src/ATen/native/TensorAdvancedIndexing.cpp:650.)\n",
            "  allow_unreachable=True)  # allow_unreachable flag\n"
          ],
          "name": "stderr"
        },
        {
          "output_type": "display_data",
          "data": {
            "text/html": [
              "<span style=\"font-family: monospace;\"><span title=\"0.105\" style=\"background-color: rgba(241, 239, 246, 0.5);\">xxbos</span> <span title=\"0.078\" style=\"background-color: rgba(244, 242, 248, 0.5);\">xxmaj</span> <span title=\"0.621\" style=\"background-color: rgba(129, 126, 186, 0.5);\">unspecified</span> <span title=\"1.000\" style=\"background-color: rgba(63, 0, 125, 0.5);\">hypothyroidism</span> <span title=\"0.069\" style=\"background-color: rgba(245, 243, 248, 0.5);\">.</span> <span title=\"0.042\" style=\"background-color: rgba(247, 246, 250, 0.5);\">xxmaj</span> <span title=\"0.153\" style=\"background-color: rgba(234, 232, 242, 0.5);\">other</span> <span title=\"0.340\" style=\"background-color: rgba(196, 196, 224, 0.5);\">chronic</span> <span title=\"0.556\" style=\"background-color: rgba(144, 140, 193, 0.5);\">nonalcoholic</span> <span title=\"0.131\" style=\"background-color: rgba(238, 236, 244, 0.5);\">liver</span> <span title=\"0.057\" style=\"background-color: rgba(246, 244, 249, 0.5);\">disease</span> <span title=\"0.018\" style=\"background-color: rgba(250, 249, 251, 0.5);\">.</span> <span title=\"0.015\" style=\"background-color: rgba(250, 249, 252, 0.5);\">xxmaj</span> <span title=\"0.078\" style=\"background-color: rgba(243, 242, 247, 0.5);\">other</span> <span title=\"0.038\" style=\"background-color: rgba(248, 247, 250, 0.5);\">and</span> <span title=\"0.074\" style=\"background-color: rgba(244, 243, 248, 0.5);\">unspecified</span> <span title=\"0.170\" style=\"background-color: rgba(231, 230, 241, 0.5);\">hyperlipidemia</span> <span title=\"0.015\" style=\"background-color: rgba(250, 249, 252, 0.5);\">.</span> <span title=\"0.015\" style=\"background-color: rgba(250, 249, 252, 0.5);\">xxmaj</span> <span title=\"0.174\" style=\"background-color: rgba(231, 229, 241, 0.5);\">routine</span> <span title=\"0.096\" style=\"background-color: rgba(242, 240, 246, 0.5);\">gynecological</span> <span title=\"0.023\" style=\"background-color: rgba(249, 248, 251, 0.5);\">examination</span> <span title=\"0.009\" style=\"background-color: rgba(251, 250, 252, 0.5);\">.</span> <span title=\"0.013\" style=\"background-color: rgba(250, 249, 252, 0.5);\">xxmaj</span> <span title=\"0.099\" style=\"background-color: rgba(241, 240, 246, 0.5);\">unspecified</span> <span title=\"0.162\" style=\"background-color: rgba(232, 231, 242, 0.5);\">essential</span> <span title=\"0.055\" style=\"background-color: rgba(246, 244, 249, 0.5);\">hypertension</span> <span title=\"0.007\" style=\"background-color: rgba(251, 250, 252, 0.5);\">.</span> <span title=\"0.013\" style=\"background-color: rgba(250, 249, 252, 0.5);\">xxmaj</span> <span title=\"0.259\" style=\"background-color: rgba(215, 215, 233, 0.5);\">tachycardia</span> <span title=\"0.015\" style=\"background-color: rgba(250, 249, 252, 0.5);\">,</span> <span title=\"0.025\" style=\"background-color: rgba(249, 248, 251, 0.5);\">xxunk</span> <span title=\"0.009\" style=\"background-color: rgba(251, 250, 252, 0.5);\">,</span> <span title=\"0.006\" style=\"background-color: rgba(251, 250, 252, 0.5);\">xxmaj</span> <span title=\"0.056\" style=\"background-color: rgba(246, 244, 249, 0.5);\">serum</span> <span title=\"0.015\" style=\"background-color: rgba(250, 249, 252, 0.5);\">.</span> <span title=\"0.046\" style=\"background-color: rgba(247, 246, 250, 0.5);\">xxunk</span> <span title=\"0.021\" style=\"background-color: rgba(249, 248, 251, 0.5);\">,</span> <span title=\"0.015\" style=\"background-color: rgba(250, 249, 252, 0.5);\">xxmaj</span> <span title=\"0.049\" style=\"background-color: rgba(247, 245, 249, 0.5);\">total</span> <span title=\"0.017\" style=\"background-color: rgba(250, 249, 251, 0.5);\">,</span> <span title=\"0.012\" style=\"background-color: rgba(250, 249, 252, 0.5);\">xxmaj</span> <span title=\"0.046\" style=\"background-color: rgba(247, 246, 250, 0.5);\">serum</span> <span title=\"0.008\" style=\"background-color: rgba(251, 250, 252, 0.5);\">.</span> <span title=\"0.010\" style=\"background-color: rgba(251, 250, 252, 0.5);\">xxmaj</span> <span title=\"0.228\" style=\"background-color: rgba(221, 221, 236, 0.5);\">albumin</span> <span title=\"0.018\" style=\"background-color: rgba(250, 249, 251, 0.5);\">,</span> <span title=\"0.010\" style=\"background-color: rgba(251, 250, 252, 0.5);\">xxmaj</span> <span title=\"0.032\" style=\"background-color: rgba(248, 247, 250, 0.5);\">serum</span> <span title=\"0.007\" style=\"background-color: rgba(251, 250, 252, 0.5);\">.</span> <span title=\"0.010\" style=\"background-color: rgba(251, 250, 252, 0.5);\">xxmaj</span> <span title=\"0.169\" style=\"background-color: rgba(231, 230, 241, 0.5);\">bilirubin</span> <span title=\"0.012\" style=\"background-color: rgba(251, 250, 252, 0.5);\">,</span> <span title=\"0.007\" style=\"background-color: rgba(251, 250, 252, 0.5);\">xxmaj</span> <span title=\"0.024\" style=\"background-color: rgba(249, 248, 251, 0.5);\">total</span> <span title=\"0.018\" style=\"background-color: rgba(250, 249, 251, 0.5);\">.</span> <span title=\"0.020\" style=\"background-color: rgba(249, 248, 251, 0.5);\">xxmaj</span> <span title=\"0.454\" style=\"background-color: rgba(168, 166, 207, 0.5);\">alkaline</span> <span title=\"0.024\" style=\"background-color: rgba(249, 248, 251, 0.5);\">xxmaj</span> <span title=\"0.215\" style=\"background-color: rgba(224, 223, 238, 0.5);\">phosphatase</span> <span title=\"0.017\" style=\"background-color: rgba(250, 249, 251, 0.5);\">,</span> <span title=\"0.015\" style=\"background-color: rgba(250, 249, 252, 0.5);\">xxup</span> <span title=\"0.034\" style=\"background-color: rgba(248, 247, 250, 0.5);\">xxunk</span> <span title=\"0.026\" style=\"background-color: rgba(249, 248, 251, 0.5);\">(</span> <span title=\"0.045\" style=\"background-color: rgba(247, 246, 250, 0.5);\">xxunk</span> <span title=\"0.019\" style=\"background-color: rgba(250, 249, 251, 0.5);\">,</span> <span title=\"0.010\" style=\"background-color: rgba(251, 250, 252, 0.5);\">xxmaj</span> <span title=\"0.042\" style=\"background-color: rgba(247, 246, 250, 0.5);\">serum</span> <span title=\"0.008\" style=\"background-color: rgba(251, 250, 252, 0.5);\">.</span> <span title=\"0.012\" style=\"background-color: rgba(251, 250, 252, 0.5);\">xxmaj</span> <span title=\"0.143\" style=\"background-color: rgba(236, 234, 243, 0.5);\">sodium</span> <span title=\"0.011\" style=\"background-color: rgba(251, 250, 252, 0.5);\">,</span> <span title=\"0.008\" style=\"background-color: rgba(251, 250, 252, 0.5);\">xxmaj</span> <span title=\"0.022\" style=\"background-color: rgba(249, 248, 251, 0.5);\">serum</span> <span title=\"0.007\" style=\"background-color: rgba(251, 250, 252, 0.5);\">.</span> <span title=\"0.008\" style=\"background-color: rgba(251, 250, 252, 0.5);\">xxmaj</span> <span title=\"0.073\" style=\"background-color: rgba(244, 243, 248, 0.5);\">chloride</span> <span title=\"0.008\" style=\"background-color: rgba(251, 250, 252, 0.5);\">,</span> <span title=\"0.005\" style=\"background-color: rgba(251, 250, 252, 0.5);\">xxmaj</span> <span title=\"0.031\" style=\"background-color: rgba(249, 247, 251, 0.5);\">serum</span> <span title=\"0.010\" style=\"background-color: rgba(251, 250, 252, 0.5);\">.</span> <span title=\"0.013\" style=\"background-color: rgba(250, 249, 252, 0.5);\">xxmaj</span> <span title=\"0.249\" style=\"background-color: rgba(218, 218, 235, 0.5);\">creatinine</span> <span title=\"0.011\" style=\"background-color: rgba(251, 250, 252, 0.5);\">,</span> <span title=\"0.007\" style=\"background-color: rgba(251, 250, 252, 0.5);\">xxmaj</span> <span title=\"0.041\" style=\"background-color: rgba(247, 246, 250, 0.5);\">serum</span> <span title=\"0.014\" style=\"background-color: rgba(250, 249, 252, 0.5);\">.</span> <span title=\"0.029\" style=\"background-color: rgba(249, 247, 251, 0.5);\">xxup</span> <span title=\"0.213\" style=\"background-color: rgba(224, 223, 238, 0.5);\">alt</span> <span title=\"0.025\" style=\"background-color: rgba(249, 248, 251, 0.5);\">(</span> <span title=\"0.046\" style=\"background-color: rgba(247, 246, 250, 0.5);\">xxunk</span> <span title=\"0.024\" style=\"background-color: rgba(249, 248, 251, 0.5);\">xxmaj</span> <span title=\"0.226\" style=\"background-color: rgba(222, 222, 237, 0.5);\">dioxide</span> <span title=\"0.029\" style=\"background-color: rgba(249, 247, 251, 0.5);\">,</span> <span title=\"0.023\" style=\"background-color: rgba(249, 248, 251, 0.5);\">xxmaj</span> <span title=\"0.061\" style=\"background-color: rgba(245, 244, 249, 0.5);\">total</span> <span title=\"0.047\" style=\"background-color: rgba(247, 245, 249, 0.5);\">.</span> <span title=\"0.057\" style=\"background-color: rgba(246, 244, 249, 0.5);\">xxup</span> <span title=\"0.232\" style=\"background-color: rgba(221, 220, 236, 0.5);\">bun</span> <span title=\"0.055\" style=\"background-color: rgba(246, 245, 249, 0.5);\">/</span> <span title=\"0.022\" style=\"background-color: rgba(249, 248, 251, 0.5);\">xxmaj</span> <span title=\"0.132\" style=\"background-color: rgba(238, 236, 244, 0.5);\">creatinine</span> <span title=\"0.006\" style=\"background-color: rgba(251, 250, 252, 0.5);\">xxmaj</span> <span title=\"0.016\" style=\"background-color: rgba(250, 249, 251, 0.5);\">ratio</span> <span title=\"0.007\" style=\"background-color: rgba(251, 250, 252, 0.5);\">.</span> <span title=\"0.012\" style=\"background-color: rgba(250, 249, 252, 0.5);\">xxmaj</span> <span title=\"0.173\" style=\"background-color: rgba(231, 229, 241, 0.5);\">globulin</span> <span title=\"0.014\" style=\"background-color: rgba(250, 249, 252, 0.5);\">,</span> <span title=\"0.011\" style=\"background-color: rgba(251, 250, 252, 0.5);\">xxmaj</span> <span title=\"0.038\" style=\"background-color: rgba(248, 247, 250, 0.5);\">total</span> <span title=\"0.032\" style=\"background-color: rgba(248, 247, 250, 0.5);\">.</span> <span title=\"0.051\" style=\"background-color: rgba(247, 245, 249, 0.5);\">a</span> <span title=\"0.039\" style=\"background-color: rgba(248, 247, 250, 0.5);\">/</span> <span title=\"0.039\" style=\"background-color: rgba(247, 246, 250, 0.5);\">g</span> <span title=\"0.038\" style=\"background-color: rgba(248, 247, 250, 0.5);\">xxunk</span> <span title=\"0.129\" style=\"background-color: rgba(238, 236, 244, 0.5);\">africanamerican</span> <span title=\"0.050\" style=\"background-color: rgba(247, 245, 249, 0.5);\">.</span> <span title=\"0.070\" style=\"background-color: rgba(245, 243, 248, 0.5);\">xxup</span> <span title=\"0.554\" style=\"background-color: rgba(145, 141, 194, 0.5);\">tsh</span></span>"
            ],
            "text/plain": [
              "<IPython.core.display.HTML object>"
            ]
          },
          "metadata": {
            "tags": []
          }
        }
      ]
    },
    {
      "cell_type": "code",
      "metadata": {
        "colab": {
          "base_uri": "https://localhost:8080/",
          "height": 173
        },
        "id": "So-91tXR8B2G",
        "outputId": "8ced0436-f8dc-4f17-e92b-9b82be0cc558"
      },
      "source": [
        "test_text = \"Coronary atherosclerosis of native coronary artery.Osteoarthrosis, unspecified whether generalized or localized, involving unspecified site.Unspecified hearing loss.Mixed hyperlipidemia.Unspecified hypothyroidism.Obesity, unspecified.Atrial fibrillation.Anxiety state, unspecified.Dizziness and giddiness.Essential hypertension     \"\r\n",
        "txt_ci.show_intrinsic_attention(test_text,cmap=cm.Purples)"
      ],
      "execution_count": null,
      "outputs": [
        {
          "output_type": "stream",
          "text": [
            "/usr/local/lib/python3.6/dist-packages/fastai/text/learner.py:226: UserWarning: masked_fill_ received a mask with dtype torch.uint8, this behavior is now deprecated,please use a mask with dtype torch.bool instead. (Triggered internally at  /pytorch/aten/src/ATen/native/TensorAdvancedIndexing.cpp:650.)\n",
            "  avg_pool = output.masked_fill(mask[:, :, None], 0).mean(dim=1)\n",
            "/usr/local/lib/python3.6/dist-packages/fastai/text/learner.py:228: UserWarning: masked_fill_ received a mask with dtype torch.uint8, this behavior is now deprecated,please use a mask with dtype torch.bool instead. (Triggered internally at  /pytorch/aten/src/ATen/native/TensorAdvancedIndexing.cpp:650.)\n",
            "  max_pool = output.masked_fill(mask[:,:,None], -float('inf')).max(dim=1)[0]\n",
            "/usr/local/lib/python3.6/dist-packages/torch/autograd/__init__.py:132: UserWarning: masked_fill_ received a mask with dtype torch.uint8, this behavior is now deprecated,please use a mask with dtype torch.bool instead. (Triggered internally at  /pytorch/aten/src/ATen/native/TensorAdvancedIndexing.cpp:650.)\n",
            "  allow_unreachable=True)  # allow_unreachable flag\n"
          ],
          "name": "stderr"
        },
        {
          "output_type": "display_data",
          "data": {
            "text/html": [
              "<span style=\"font-family: monospace;\"><span title=\"0.046\" style=\"background-color: rgba(247, 246, 250, 0.5);\">xxbos</span> <span title=\"0.026\" style=\"background-color: rgba(249, 248, 251, 0.5);\">xxmaj</span> <span title=\"0.464\" style=\"background-color: rgba(166, 164, 205, 0.5);\">coronary</span> <span title=\"0.230\" style=\"background-color: rgba(221, 221, 236, 0.5);\">atherosclerosis</span> <span title=\"0.038\" style=\"background-color: rgba(248, 247, 250, 0.5);\">of</span> <span title=\"0.110\" style=\"background-color: rgba(240, 238, 245, 0.5);\">native</span> <span title=\"0.211\" style=\"background-color: rgba(224, 223, 238, 0.5);\">coronary</span> <span title=\"0.064\" style=\"background-color: rgba(245, 243, 248, 0.5);\">artery</span> <span title=\"0.025\" style=\"background-color: rgba(249, 248, 251, 0.5);\">.</span> <span title=\"0.034\" style=\"background-color: rgba(248, 247, 250, 0.5);\">xxmaj</span> <span title=\"0.441\" style=\"background-color: rgba(172, 171, 209, 0.5);\">osteoarthrosis</span> <span title=\"0.034\" style=\"background-color: rgba(248, 247, 250, 0.5);\">,</span> <span title=\"0.104\" style=\"background-color: rgba(241, 239, 246, 0.5);\">unspecified</span> <span title=\"0.123\" style=\"background-color: rgba(239, 237, 245, 0.5);\">whether</span> <span title=\"0.136\" style=\"background-color: rgba(237, 235, 244, 0.5);\">generalized</span> <span title=\"0.032\" style=\"background-color: rgba(248, 247, 250, 0.5);\">or</span> <span title=\"0.064\" style=\"background-color: rgba(245, 243, 248, 0.5);\">localized</span> <span title=\"0.025\" style=\"background-color: rgba(249, 248, 251, 0.5);\">,</span> <span title=\"0.059\" style=\"background-color: rgba(246, 244, 249, 0.5);\">involving</span> <span title=\"0.090\" style=\"background-color: rgba(242, 240, 247, 0.5);\">unspecified</span> <span title=\"0.055\" style=\"background-color: rgba(246, 244, 249, 0.5);\">site</span> <span title=\"0.027\" style=\"background-color: rgba(249, 248, 251, 0.5);\">.</span> <span title=\"0.038\" style=\"background-color: rgba(248, 247, 250, 0.5);\">xxmaj</span> <span title=\"0.279\" style=\"background-color: rgba(211, 211, 231, 0.5);\">unspecified</span> <span title=\"0.464\" style=\"background-color: rgba(166, 164, 205, 0.5);\">hearing</span> <span title=\"0.088\" style=\"background-color: rgba(243, 241, 247, 0.5);\">loss</span> <span title=\"0.033\" style=\"background-color: rgba(248, 247, 250, 0.5);\">.</span> <span title=\"0.034\" style=\"background-color: rgba(248, 247, 250, 0.5);\">xxmaj</span> <span title=\"0.197\" style=\"background-color: rgba(227, 226, 239, 0.5);\">mixed</span> <span title=\"0.407\" style=\"background-color: rgba(180, 179, 214, 0.5);\">hyperlipidemia</span> <span title=\"0.091\" style=\"background-color: rgba(242, 240, 247, 0.5);\">.</span> <span title=\"0.119\" style=\"background-color: rgba(239, 237, 245, 0.5);\">xxmaj</span> <span title=\"0.704\" style=\"background-color: rgba(113, 96, 171, 0.5);\">unspecified</span> <span title=\"1.000\" style=\"background-color: rgba(63, 0, 125, 0.5);\">hypothyroidism</span> <span title=\"0.075\" style=\"background-color: rgba(244, 242, 248, 0.5);\">.</span> <span title=\"0.055\" style=\"background-color: rgba(246, 244, 249, 0.5);\">xxmaj</span> <span title=\"0.465\" style=\"background-color: rgba(166, 163, 205, 0.5);\">obesity</span> <span title=\"0.037\" style=\"background-color: rgba(248, 247, 250, 0.5);\">,</span> <span title=\"0.073\" style=\"background-color: rgba(244, 243, 248, 0.5);\">unspecified</span> <span title=\"0.025\" style=\"background-color: rgba(249, 248, 251, 0.5);\">.</span> <span title=\"0.026\" style=\"background-color: rgba(249, 248, 251, 0.5);\">xxmaj</span> <span title=\"0.353\" style=\"background-color: rgba(193, 194, 222, 0.5);\">atrial</span> <span title=\"0.101\" style=\"background-color: rgba(241, 240, 246, 0.5);\">fibrillation</span> <span title=\"0.012\" style=\"background-color: rgba(250, 249, 252, 0.5);\">.</span> <span title=\"0.010\" style=\"background-color: rgba(251, 250, 252, 0.5);\">xxmaj</span> <span title=\"0.109\" style=\"background-color: rgba(240, 238, 245, 0.5);\">anxiety</span> <span title=\"0.019\" style=\"background-color: rgba(250, 249, 251, 0.5);\">state</span> <span title=\"0.011\" style=\"background-color: rgba(251, 250, 252, 0.5);\">,</span> <span title=\"0.028\" style=\"background-color: rgba(249, 247, 251, 0.5);\">unspecified</span> <span title=\"0.013\" style=\"background-color: rgba(250, 249, 252, 0.5);\">.</span> <span title=\"0.015\" style=\"background-color: rgba(250, 249, 252, 0.5);\">xxmaj</span> <span title=\"0.290\" style=\"background-color: rgba(208, 208, 230, 0.5);\">dizziness</span> <span title=\"0.020\" style=\"background-color: rgba(249, 248, 251, 0.5);\">and</span> <span title=\"0.073\" style=\"background-color: rgba(244, 243, 248, 0.5);\">giddiness</span> <span title=\"0.019\" style=\"background-color: rgba(250, 249, 251, 0.5);\">.</span> <span title=\"0.029\" style=\"background-color: rgba(249, 247, 251, 0.5);\">xxmaj</span> <span title=\"0.363\" style=\"background-color: rgba(191, 192, 221, 0.5);\">essential</span> <span title=\"0.259\" style=\"background-color: rgba(215, 215, 233, 0.5);\">hypertension</span></span>"
            ],
            "text/plain": [
              "<IPython.core.display.HTML object>"
            ]
          },
          "metadata": {
            "tags": []
          }
        }
      ]
    },
    {
      "cell_type": "code",
      "metadata": {
        "colab": {
          "base_uri": "https://localhost:8080/",
          "height": 156
        },
        "id": "K1wmF2r28B_T",
        "outputId": "62911aea-bf71-4850-fd3c-6f3644e974ec"
      },
      "source": [
        "test_text = \"Sprain of medial collateral ligament of knee.Acute upper respiratory infections of unspecified site.Epiphora due to excess lacrimation.Obesity                                                                                                                                                                                                                                                        .Dysthymic disorder.General medical\"\r\n",
        "txt_ci.show_intrinsic_attention(test_text,cmap=cm.Purples)"
      ],
      "execution_count": null,
      "outputs": [
        {
          "output_type": "stream",
          "text": [
            "/usr/local/lib/python3.6/dist-packages/fastai/text/learner.py:226: UserWarning: masked_fill_ received a mask with dtype torch.uint8, this behavior is now deprecated,please use a mask with dtype torch.bool instead. (Triggered internally at  /pytorch/aten/src/ATen/native/TensorAdvancedIndexing.cpp:650.)\n",
            "  avg_pool = output.masked_fill(mask[:, :, None], 0).mean(dim=1)\n",
            "/usr/local/lib/python3.6/dist-packages/fastai/text/learner.py:228: UserWarning: masked_fill_ received a mask with dtype torch.uint8, this behavior is now deprecated,please use a mask with dtype torch.bool instead. (Triggered internally at  /pytorch/aten/src/ATen/native/TensorAdvancedIndexing.cpp:650.)\n",
            "  max_pool = output.masked_fill(mask[:,:,None], -float('inf')).max(dim=1)[0]\n",
            "/usr/local/lib/python3.6/dist-packages/torch/autograd/__init__.py:132: UserWarning: masked_fill_ received a mask with dtype torch.uint8, this behavior is now deprecated,please use a mask with dtype torch.bool instead. (Triggered internally at  /pytorch/aten/src/ATen/native/TensorAdvancedIndexing.cpp:650.)\n",
            "  allow_unreachable=True)  # allow_unreachable flag\n"
          ],
          "name": "stderr"
        },
        {
          "output_type": "display_data",
          "data": {
            "text/html": [
              "<span style=\"font-family: monospace;\"><span title=\"0.053\" style=\"background-color: rgba(246, 245, 249, 0.5);\">xxbos</span> <span title=\"0.040\" style=\"background-color: rgba(247, 246, 250, 0.5);\">xxmaj</span> <span title=\"0.657\" style=\"background-color: rgba(122, 113, 179, 0.5);\">sprain</span> <span title=\"0.081\" style=\"background-color: rgba(243, 242, 247, 0.5);\">of</span> <span title=\"0.485\" style=\"background-color: rgba(161, 157, 202, 0.5);\">medial</span> <span title=\"0.249\" style=\"background-color: rgba(218, 218, 235, 0.5);\">collateral</span> <span title=\"0.215\" style=\"background-color: rgba(223, 223, 237, 0.5);\">ligament</span> <span title=\"0.033\" style=\"background-color: rgba(248, 247, 250, 0.5);\">of</span> <span title=\"0.133\" style=\"background-color: rgba(237, 235, 244, 0.5);\">knee</span> <span title=\"0.042\" style=\"background-color: rgba(247, 246, 250, 0.5);\">.</span> <span title=\"0.034\" style=\"background-color: rgba(248, 247, 250, 0.5);\">xxmaj</span> <span title=\"0.176\" style=\"background-color: rgba(231, 229, 241, 0.5);\">acute</span> <span title=\"0.177\" style=\"background-color: rgba(230, 229, 240, 0.5);\">upper</span> <span title=\"0.160\" style=\"background-color: rgba(232, 231, 242, 0.5);\">respiratory</span> <span title=\"0.251\" style=\"background-color: rgba(217, 217, 234, 0.5);\">infections</span> <span title=\"0.038\" style=\"background-color: rgba(248, 247, 250, 0.5);\">of</span> <span title=\"0.099\" style=\"background-color: rgba(241, 240, 246, 0.5);\">unspecified</span> <span title=\"0.126\" style=\"background-color: rgba(238, 236, 244, 0.5);\">site</span> <span title=\"0.035\" style=\"background-color: rgba(248, 247, 250, 0.5);\">.</span> <span title=\"0.059\" style=\"background-color: rgba(245, 244, 249, 0.5);\">xxmaj</span> <span title=\"1.000\" style=\"background-color: rgba(63, 0, 125, 0.5);\">epiphora</span> <span title=\"0.182\" style=\"background-color: rgba(229, 228, 240, 0.5);\">due</span> <span title=\"0.076\" style=\"background-color: rgba(244, 242, 248, 0.5);\">to</span> <span title=\"0.056\" style=\"background-color: rgba(246, 244, 249, 0.5);\">xxunk</span> <span title=\"0.048\" style=\"background-color: rgba(247, 245, 249, 0.5);\">xxunk</span> <span title=\"0.042\" style=\"background-color: rgba(247, 246, 250, 0.5);\">.</span> <span title=\"0.024\" style=\"background-color: rgba(249, 248, 251, 0.5);\">xxmaj</span> <span title=\"0.254\" style=\"background-color: rgba(216, 216, 234, 0.5);\">obesity</span> <span title=\"0.070\" style=\"background-color: rgba(245, 243, 248, 0.5);\">xxunk</span> <span title=\"0.168\" style=\"background-color: rgba(232, 230, 241, 0.5);\">disorder</span> <span title=\"0.051\" style=\"background-color: rgba(246, 245, 249, 0.5);\">.</span> <span title=\"0.049\" style=\"background-color: rgba(247, 245, 249, 0.5);\">xxmaj</span> <span title=\"0.405\" style=\"background-color: rgba(181, 180, 215, 0.5);\">general</span> <span title=\"0.438\" style=\"background-color: rgba(172, 171, 209, 0.5);\">medical</span></span>"
            ],
            "text/plain": [
              "<IPython.core.display.HTML object>"
            ]
          },
          "metadata": {
            "tags": []
          }
        }
      ]
    },
    {
      "cell_type": "code",
      "metadata": {
        "colab": {
          "base_uri": "https://localhost:8080/",
          "height": 156
        },
        "id": "LdQMG4Q78CIa",
        "outputId": "35be41eb-17a7-49ca-b0bf-52cc0bf3a523"
      },
      "source": [
        "test_text = \"Lumbago.Cough.Morbid obesity.Acute bronchitis.Influenza                                                                                                                                                                                                                                                      .Hemorrhoids                                                                                                                                                                                                                                                    \"\r\n",
        "txt_ci.show_intrinsic_attention(test_text,cmap=cm.Purples)"
      ],
      "execution_count": null,
      "outputs": [
        {
          "output_type": "stream",
          "text": [
            "/usr/local/lib/python3.6/dist-packages/fastai/text/learner.py:226: UserWarning: masked_fill_ received a mask with dtype torch.uint8, this behavior is now deprecated,please use a mask with dtype torch.bool instead. (Triggered internally at  /pytorch/aten/src/ATen/native/TensorAdvancedIndexing.cpp:650.)\n",
            "  avg_pool = output.masked_fill(mask[:, :, None], 0).mean(dim=1)\n",
            "/usr/local/lib/python3.6/dist-packages/fastai/text/learner.py:228: UserWarning: masked_fill_ received a mask with dtype torch.uint8, this behavior is now deprecated,please use a mask with dtype torch.bool instead. (Triggered internally at  /pytorch/aten/src/ATen/native/TensorAdvancedIndexing.cpp:650.)\n",
            "  max_pool = output.masked_fill(mask[:,:,None], -float('inf')).max(dim=1)[0]\n",
            "/usr/local/lib/python3.6/dist-packages/torch/autograd/__init__.py:132: UserWarning: masked_fill_ received a mask with dtype torch.uint8, this behavior is now deprecated,please use a mask with dtype torch.bool instead. (Triggered internally at  /pytorch/aten/src/ATen/native/TensorAdvancedIndexing.cpp:650.)\n",
            "  allow_unreachable=True)  # allow_unreachable flag\n"
          ],
          "name": "stderr"
        },
        {
          "output_type": "display_data",
          "data": {
            "text/html": [
              "<span style=\"font-family: monospace;\"><span title=\"0.070\" style=\"background-color: rgba(245, 243, 248, 0.5);\">xxbos</span> <span title=\"0.044\" style=\"background-color: rgba(247, 246, 250, 0.5);\">xxmaj</span> <span title=\"0.848\" style=\"background-color: rgba(88, 47, 146, 0.5);\">lumbago</span> <span title=\"0.067\" style=\"background-color: rgba(245, 243, 248, 0.5);\">.</span> <span title=\"0.035\" style=\"background-color: rgba(248, 247, 250, 0.5);\">xxmaj</span> <span title=\"0.496\" style=\"background-color: rgba(158, 154, 200, 0.5);\">cough</span> <span title=\"0.061\" style=\"background-color: rgba(245, 244, 249, 0.5);\">.</span> <span title=\"0.040\" style=\"background-color: rgba(247, 246, 250, 0.5);\">xxmaj</span> <span title=\"1.000\" style=\"background-color: rgba(63, 0, 125, 0.5);\">morbid</span> <span title=\"0.354\" style=\"background-color: rgba(193, 194, 222, 0.5);\">obesity</span> <span title=\"0.037\" style=\"background-color: rgba(248, 247, 250, 0.5);\">.</span> <span title=\"0.036\" style=\"background-color: rgba(248, 247, 250, 0.5);\">xxmaj</span> <span title=\"0.275\" style=\"background-color: rgba(212, 212, 232, 0.5);\">acute</span> <span title=\"0.436\" style=\"background-color: rgba(173, 172, 210, 0.5);\">bronchitis</span> <span title=\"0.036\" style=\"background-color: rgba(248, 247, 250, 0.5);\">.</span> <span title=\"0.040\" style=\"background-color: rgba(247, 246, 250, 0.5);\">xxmaj</span> <span title=\"0.466\" style=\"background-color: rgba(166, 163, 205, 0.5);\">influenza</span> <span title=\"0.205\" style=\"background-color: rgba(225, 225, 238, 0.5);\">xxunk</span></span>"
            ],
            "text/plain": [
              "<IPython.core.display.HTML object>"
            ]
          },
          "metadata": {
            "tags": []
          }
        }
      ]
    },
    {
      "cell_type": "code",
      "metadata": {
        "colab": {
          "base_uri": "https://localhost:8080/",
          "height": 173
        },
        "id": "szS7ox9A8CRk",
        "outputId": "8f267feb-bbc1-4330-d5ec-6bf4dbfc9675"
      },
      "source": [
        "test_text = \"Routine general medical examination at a health care facility.Mixed hyperlipidemia.Simple type schizophrenia, chronic state.Unspecified essential hypertension.Unspecified hypothyroidism.Manic disorder, recurrent episode, unspecified degree.Screening for malignant neoplasms of the cervix\"\r\n",
        "txt_ci.show_intrinsic_attention(test_text,cmap=cm.Purples)"
      ],
      "execution_count": null,
      "outputs": [
        {
          "output_type": "stream",
          "text": [
            "/usr/local/lib/python3.6/dist-packages/fastai/text/learner.py:226: UserWarning: masked_fill_ received a mask with dtype torch.uint8, this behavior is now deprecated,please use a mask with dtype torch.bool instead. (Triggered internally at  /pytorch/aten/src/ATen/native/TensorAdvancedIndexing.cpp:650.)\n",
            "  avg_pool = output.masked_fill(mask[:, :, None], 0).mean(dim=1)\n",
            "/usr/local/lib/python3.6/dist-packages/fastai/text/learner.py:228: UserWarning: masked_fill_ received a mask with dtype torch.uint8, this behavior is now deprecated,please use a mask with dtype torch.bool instead. (Triggered internally at  /pytorch/aten/src/ATen/native/TensorAdvancedIndexing.cpp:650.)\n",
            "  max_pool = output.masked_fill(mask[:,:,None], -float('inf')).max(dim=1)[0]\n",
            "/usr/local/lib/python3.6/dist-packages/torch/autograd/__init__.py:132: UserWarning: masked_fill_ received a mask with dtype torch.uint8, this behavior is now deprecated,please use a mask with dtype torch.bool instead. (Triggered internally at  /pytorch/aten/src/ATen/native/TensorAdvancedIndexing.cpp:650.)\n",
            "  allow_unreachable=True)  # allow_unreachable flag\n"
          ],
          "name": "stderr"
        },
        {
          "output_type": "display_data",
          "data": {
            "text/html": [
              "<span style=\"font-family: monospace;\"><span title=\"0.036\" style=\"background-color: rgba(248, 247, 250, 0.5);\">xxbos</span> <span title=\"0.017\" style=\"background-color: rgba(250, 249, 251, 0.5);\">xxmaj</span> <span title=\"0.172\" style=\"background-color: rgba(231, 229, 241, 0.5);\">routine</span> <span title=\"0.065\" style=\"background-color: rgba(245, 243, 248, 0.5);\">general</span> <span title=\"0.079\" style=\"background-color: rgba(243, 242, 247, 0.5);\">medical</span> <span title=\"0.051\" style=\"background-color: rgba(246, 245, 249, 0.5);\">examination</span> <span title=\"0.020\" style=\"background-color: rgba(249, 248, 251, 0.5);\">at</span> <span title=\"0.020\" style=\"background-color: rgba(249, 248, 251, 0.5);\">a</span> <span title=\"0.049\" style=\"background-color: rgba(247, 245, 249, 0.5);\">health</span> <span title=\"0.043\" style=\"background-color: rgba(247, 246, 250, 0.5);\">care</span> <span title=\"0.019\" style=\"background-color: rgba(250, 249, 251, 0.5);\">facility</span> <span title=\"0.016\" style=\"background-color: rgba(250, 249, 252, 0.5);\">.</span> <span title=\"0.017\" style=\"background-color: rgba(250, 249, 251, 0.5);\">xxmaj</span> <span title=\"0.107\" style=\"background-color: rgba(240, 239, 246, 0.5);\">mixed</span> <span title=\"0.181\" style=\"background-color: rgba(229, 228, 240, 0.5);\">hyperlipidemia</span> <span title=\"0.024\" style=\"background-color: rgba(249, 248, 251, 0.5);\">.</span> <span title=\"0.023\" style=\"background-color: rgba(249, 248, 251, 0.5);\">xxmaj</span> <span title=\"0.189\" style=\"background-color: rgba(228, 227, 239, 0.5);\">simple</span> <span title=\"0.118\" style=\"background-color: rgba(239, 237, 245, 0.5);\">type</span> <span title=\"0.234\" style=\"background-color: rgba(221, 220, 236, 0.5);\">schizophrenia</span> <span title=\"0.031\" style=\"background-color: rgba(248, 247, 250, 0.5);\">,</span> <span title=\"0.159\" style=\"background-color: rgba(233, 232, 242, 0.5);\">chronic</span> <span title=\"0.029\" style=\"background-color: rgba(249, 247, 251, 0.5);\">state</span> <span title=\"0.020\" style=\"background-color: rgba(249, 248, 251, 0.5);\">.</span> <span title=\"0.025\" style=\"background-color: rgba(249, 248, 251, 0.5);\">xxmaj</span> <span title=\"0.159\" style=\"background-color: rgba(233, 232, 242, 0.5);\">unspecified</span> <span title=\"0.244\" style=\"background-color: rgba(219, 219, 235, 0.5);\">essential</span> <span title=\"0.191\" style=\"background-color: rgba(228, 227, 239, 0.5);\">hypertension</span> <span title=\"0.042\" style=\"background-color: rgba(247, 246, 250, 0.5);\">.</span> <span title=\"0.101\" style=\"background-color: rgba(241, 240, 246, 0.5);\">xxmaj</span> <span title=\"0.698\" style=\"background-color: rgba(115, 99, 172, 0.5);\">unspecified</span> <span title=\"1.000\" style=\"background-color: rgba(63, 0, 125, 0.5);\">hypothyroidism</span> <span title=\"0.065\" style=\"background-color: rgba(245, 243, 248, 0.5);\">.</span> <span title=\"0.051\" style=\"background-color: rgba(246, 245, 249, 0.5);\">xxmaj</span> <span title=\"0.578\" style=\"background-color: rgba(138, 135, 190, 0.5);\">manic</span> <span title=\"0.150\" style=\"background-color: rgba(234, 233, 243, 0.5);\">disorder</span> <span title=\"0.025\" style=\"background-color: rgba(249, 248, 251, 0.5);\">,</span> <span title=\"0.099\" style=\"background-color: rgba(241, 240, 246, 0.5);\">recurrent</span> <span title=\"0.041\" style=\"background-color: rgba(247, 246, 250, 0.5);\">episode</span> <span title=\"0.017\" style=\"background-color: rgba(250, 249, 251, 0.5);\">,</span> <span title=\"0.072\" style=\"background-color: rgba(244, 243, 248, 0.5);\">unspecified</span> <span title=\"0.053\" style=\"background-color: rgba(246, 245, 249, 0.5);\">degree</span> <span title=\"0.016\" style=\"background-color: rgba(250, 249, 251, 0.5);\">.</span> <span title=\"0.029\" style=\"background-color: rgba(249, 247, 251, 0.5);\">xxmaj</span> <span title=\"0.318\" style=\"background-color: rgba(201, 202, 226, 0.5);\">screening</span> <span title=\"0.085\" style=\"background-color: rgba(243, 241, 247, 0.5);\">for</span> <span title=\"0.281\" style=\"background-color: rgba(211, 211, 231, 0.5);\">malignant</span> <span title=\"0.350\" style=\"background-color: rgba(194, 195, 223, 0.5);\">neoplasms</span> <span title=\"0.053\" style=\"background-color: rgba(246, 245, 249, 0.5);\">of</span> <span title=\"0.067\" style=\"background-color: rgba(245, 243, 248, 0.5);\">the</span> <span title=\"0.497\" style=\"background-color: rgba(158, 154, 200, 0.5);\">cervix</span></span>"
            ],
            "text/plain": [
              "<IPython.core.display.HTML object>"
            ]
          },
          "metadata": {
            "tags": []
          }
        }
      ]
    },
    {
      "cell_type": "code",
      "metadata": {
        "id": "yZpAn56rbXIO",
        "colab": {
          "base_uri": "https://localhost:8080/",
          "height": 1000
        },
        "outputId": "89a9edf5-f9ab-43b2-960d-7967729bb566"
      },
      "source": [
        "txt_ci.show_top_losses(50)\n"
      ],
      "execution_count": null,
      "outputs": [
        {
          "output_type": "display_data",
          "data": {
            "text/html": [
              "<table border=\"1\" class=\"dataframe\">\n",
              "  <thead>\n",
              "    <tr style=\"text-align: right;\">\n",
              "      <th>Text</th>\n",
              "      <th>Prediction</th>\n",
              "      <th>Actual</th>\n",
              "      <th>Loss</th>\n",
              "      <th>Probability</th>\n",
              "    </tr>\n",
              "  </thead>\n",
              "  <tbody>\n",
              "    <tr>\n",
              "      <td>xxbos xxup copd , xxunk hypothyroidism . xxmaj mixed hyperlipidemia . xxmaj coronary atherosclerosis xxunk essential hypertension . xxmaj benign essential hypertension . xxmaj chronic pain syndrome . xxmaj encounter for long - term ( current ) use of other medications . xxmaj arthropathy , unspecified , site unspecified . xxmaj chronic pain syndrome . xxmaj lumbago . xxmaj other peripheral vertigo . xxmaj generalized anxiety disorder . xxmaj pain</td>\n",
              "      <td>0</td>\n",
              "      <td>1</td>\n",
              "      <td>1.81</td>\n",
              "      <td>0.16</td>\n",
              "    </tr>\n",
              "    <tr>\n",
              "      <td>xxbos xxmaj abdominal pain , unspecified site . xxmaj migraine , unspecified , without mention of intractable migraine without mention of status migrainosus . xxmaj unspecified idiopathic peripheral neuropathy . xxmaj iron deficiency anemia secondary to blood loss ( xxunk hypothyroidism . xxmaj personal history of allergy to penicillin . xxmaj acute venous embolism and thrombosis of unspecified deep vessels of lower extremity . xxmaj systolic heart failure , chronic</td>\n",
              "      <td>0</td>\n",
              "      <td>1</td>\n",
              "      <td>1.63</td>\n",
              "      <td>0.20</td>\n",
              "    </tr>\n",
              "    <tr>\n",
              "      <td>xxbos xxmaj cough . xxmaj other psoriasis and similar disorders . xxmaj other iatrogenic hypothyroidism . xxmaj headache . xxmaj acute conjunctivitis , unspecified . xxmaj pain in limb . xxmaj dizziness and giddiness . xxmaj otogenic pain . xxmaj acute suppurative otitis media without spontaneous rupture of ear drum . xxmaj spasm of muscle . xxmaj acute bronchitis . xxmaj shortness of breath . xxmaj pain in joint involving</td>\n",
              "      <td>0</td>\n",
              "      <td>1</td>\n",
              "      <td>1.36</td>\n",
              "      <td>0.26</td>\n",
              "    </tr>\n",
              "    <tr>\n",
              "      <td>xxbos xxmaj nausea with vomiting . xxmaj pain in joint involving ankle and foot . xxmaj other and unspecified hyperlipidemia . xxmaj vertigo as late effect of cerebrovascular disease . xxmaj acute pancreatitis . xxmaj benign essential hypertension . xxmaj other chronic hepatitis . xxmaj chronic kidney disease , unspecified . xxmaj trigger finger ( xxunk hypothyroidism . xxmaj labyrinthitis , unspecified . xxmaj abdominal pain , left upper quadrant</td>\n",
              "      <td>0</td>\n",
              "      <td>1</td>\n",
              "      <td>1.31</td>\n",
              "      <td>0.27</td>\n",
              "    </tr>\n",
              "    <tr>\n",
              "      <td>xxbos xxmaj other and unspecified hyperlipidemia . xxmaj asthma , unspecified type , with acute exacerbation . xxmaj special screening for malignant neoplasms of breast . xxmaj unspecified essential hypertension . xxmaj lumbago . xxmaj other and unspecified disc disorder of lumbar region . xxmaj cough . xxmaj major depressive disorder , recurrent episode , severe degree , without mention of psychotic behavior . xxmaj pneumonia , organism unspecified .</td>\n",
              "      <td>0</td>\n",
              "      <td>1</td>\n",
              "      <td>1.28</td>\n",
              "      <td>0.28</td>\n",
              "    </tr>\n",
              "    <tr>\n",
              "      <td>xxbos xxmaj elevated prostate specific antigen [ xxunk vitamin d deficiency . xxmaj unspecified essential hypertension . xxmaj mixed hyperlipidemia . xxmaj esophageal reflux</td>\n",
              "      <td>1</td>\n",
              "      <td>0</td>\n",
              "      <td>1.20</td>\n",
              "      <td>0.30</td>\n",
              "    </tr>\n",
              "    <tr>\n",
              "      <td>xxbos xxmaj depressive disorder , xxunk hypothyroidism . xxmaj mixed hyperlipidemia . xxmaj lumbago . xxmaj disorder of bone and cartilage , unspecified . xxmaj symptomatic menopausal or female climacteric states . xxmaj benign essential hypertension . xxmaj myalgia and myositis , unspecified . xxmaj other and unspecified hyperlipidemia . xxmaj urinary tract infection , site not specified . xxmaj unspecified chest pain . xxmaj dyspepsia and other specified disorders</td>\n",
              "      <td>0</td>\n",
              "      <td>1</td>\n",
              "      <td>1.01</td>\n",
              "      <td>0.36</td>\n",
              "    </tr>\n",
              "    <tr>\n",
              "      <td>xxbos xxmaj urinary frequency . xxmaj dysplasia of prostate . xxmaj urgency of urination . xxmaj neoplasm of uncertain behavior of prostate . xxmaj elevated prostate specific antigen [ xxunk cystitis . xxmaj hypertrophy ( benign ) of prostate with urinary obstruction and other lower urinary tract symptoms ( xxunk of organic origin . xxmaj phimosis</td>\n",
              "      <td>1</td>\n",
              "      <td>0</td>\n",
              "      <td>0.95</td>\n",
              "      <td>0.39</td>\n",
              "    </tr>\n",
              "    <tr>\n",
              "      <td>xxbos xxmaj iron deficiency anemia secondary to blood loss ( xxunk essential hypertension . xxmaj postsurgical hypothyroidism . xxmaj anemia , unspecified . xxmaj unspecified gastritis and gastroduodenitis , without mention of hemorrhage . xxmaj allergic rhinitis , cause unspecified . xxmaj flatulence , eructation , and gas pain . xxmaj throat pain . xxmaj osteoporosis , unspecified . xxmaj unspecified chest pain . xxmaj sprain of unspecified site of</td>\n",
              "      <td>0</td>\n",
              "      <td>1</td>\n",
              "      <td>0.88</td>\n",
              "      <td>0.42</td>\n",
              "    </tr>\n",
              "    <tr>\n",
              "      <td>xxbos xxmaj hypertrophy ( benign ) of prostate without urinary obstruction and other lower urinary tract symptoms ( xxunk sleep disorder , unspecified . xxmaj anxiety state , unspecified . xxmaj hemorrhoids xxunk hypertension xxunk rhythm sleep disorder , shift work type . xxmaj right bundle branch block . xxmaj mixed hyperlipidemia . xxmaj overflow incontinence . xxmaj calculus of kidney . xxmaj allergic rhinitis xxunk of lumbar intervertebral disc</td>\n",
              "      <td>0</td>\n",
              "      <td>0</td>\n",
              "      <td>0.65</td>\n",
              "      <td>0.52</td>\n",
              "    </tr>\n",
              "    <tr>\n",
              "      <td>xxbos xxmaj anxiety state , unspecified . xxmaj abdominal pain , generalized . xxmaj migraine , unspecified xxunk disorder , xxunk hypothyroidism . xxmaj unspecified vitamin d deficiency . xxmaj migraine with aura , without mention of intractable migraine without mention of status migrainosus . xxmaj temporomandibular joint disorders , unspecified . xxmaj enlargement of lymph nodes . xxmaj acute nonsuppurative otitis media , unspecified . xxmaj myalgia and myositis</td>\n",
              "      <td>1</td>\n",
              "      <td>1</td>\n",
              "      <td>0.59</td>\n",
              "      <td>0.56</td>\n",
              "    </tr>\n",
              "    <tr>\n",
              "      <td>xxbos xxmaj frequency of urination and polyuria . xxmaj elevated prostate specific antigen [ xxunk essential hypertension . xxmaj screening for malignant neoplasms of prostate . xxmaj unspecified sleep apnea . xxmaj morbid obesity . xxmaj obesity , unspecified . xxmaj other abnormal glucose . xxmaj mixed hyperlipidemia . xxmaj reflux esophagitis</td>\n",
              "      <td>0</td>\n",
              "      <td>0</td>\n",
              "      <td>0.55</td>\n",
              "      <td>0.58</td>\n",
              "    </tr>\n",
              "    <tr>\n",
              "      <td>xxbos xxmaj depressive disorder , xxunk malaise and fatigue . xxmaj esophageal reflux . xxmaj dizziness and giddiness . xxmaj pain in limb . xxmaj cough . xxmaj acute bronchitis . xxmaj cramp of limb . xxmaj symptomatic menopausal or female climacteric states . xxmaj mixed hyperlipidemia</td>\n",
              "      <td>0</td>\n",
              "      <td>0</td>\n",
              "      <td>0.53</td>\n",
              "      <td>0.59</td>\n",
              "    </tr>\n",
              "    <tr>\n",
              "      <td>xxbos xxmaj backache , unspecified . xxmaj insomnia , unspecified . xxup copd , xxunk abnormal glucose . xxmaj myalgia and myositis , unspecified . xxmaj dysmetabolic syndrome xxunk reflux . xxmaj unspecified essential hypertension . xxmaj constipation . xxmaj arterial embolism and thrombosis of lower extremity . xxmaj anemia , unspecified . xxmaj malignant neoplasm of prostate . xxmaj cervicalgia . xxmaj abdominal pain , unspecified site</td>\n",
              "      <td>0</td>\n",
              "      <td>0</td>\n",
              "      <td>0.53</td>\n",
              "      <td>0.59</td>\n",
              "    </tr>\n",
              "    <tr>\n",
              "      <td>xxbos xxmaj epilepsy , unspecified xxunk corneal dystrophy . xxmaj mixed hyperlipidemia</td>\n",
              "      <td>0</td>\n",
              "      <td>0</td>\n",
              "      <td>0.45</td>\n",
              "      <td>0.64</td>\n",
              "    </tr>\n",
              "    <tr>\n",
              "      <td>xxbos xxmaj infective otitis externa , unspecified . xxmaj anxiety state , unspecified . xxmaj mixed hyperlipidemia . xxmaj infectious colitis , enteritis , and gastroenteritis . xxmaj depressive disorder , xxunk bronchitis . xxmaj unspecified essential hypertension . xxmaj chronic pancreatitis . xxmaj diarrhea . xxmaj obesity xxunk hypothyroidism . xxmaj hypotension , unspecified . xxmaj hypopotassemia . xxmaj disturbance of salivary secretion . xxmaj other malaise and fatigue</td>\n",
              "      <td>1</td>\n",
              "      <td>1</td>\n",
              "      <td>0.44</td>\n",
              "      <td>0.64</td>\n",
              "    </tr>\n",
              "    <tr>\n",
              "      <td>xxbos xxmaj other malaise and fatigue . xxmaj contusion of xxunk and furuncle of other specified sites . xxmaj peptic ulcer , site unspecified xxunk . xxmaj pain in limb . xxmaj abdominal pain , other specified site ; multiple sites . xxmaj mastodynia . xxmaj narcolepsy xxunk specified iron deficiency anemias . xxmaj chronic pain syndrome . xxmaj lumbago . xxmaj unspecified intestinal malabsorption . xxmaj depressive disorder ,</td>\n",
              "      <td>0</td>\n",
              "      <td>0</td>\n",
              "      <td>0.44</td>\n",
              "      <td>0.64</td>\n",
              "    </tr>\n",
              "    <tr>\n",
              "      <td>xxbos xxmaj essential and other specified forms of tremor . xxmaj traumatic arthropathy involving ankle and foot . xxmaj depressive disorder , xxunk hypothyroidism . xxmaj lumbago</td>\n",
              "      <td>1</td>\n",
              "      <td>1</td>\n",
              "      <td>0.42</td>\n",
              "      <td>0.66</td>\n",
              "    </tr>\n",
              "    <tr>\n",
              "      <td>xxbos xxmaj mixed hyperlipidemia . xxmaj unspecified essential hypertension . xxup copd , xxunk bronchitis</td>\n",
              "      <td>0</td>\n",
              "      <td>0</td>\n",
              "      <td>0.40</td>\n",
              "      <td>0.67</td>\n",
              "    </tr>\n",
              "    <tr>\n",
              "      <td>xxbos xxmaj mixed hyperlipidemia . xxmaj actinic keratosis . xxmaj osteoarthrosis , generalized , involving multiple sites . xxmaj impacted cerumen . xxmaj acute bronchitis . xxmaj nonspecific abnormal findings on radiological and other examination of lung field . xxmaj calculus of gallbladder without mention of cholecystitis , without mention of obstruction . xxmaj swelling , mass , or lump in chest . xxmaj coronary atherosclerosis xxunk hypothyroidism xxunk cataract</td>\n",
              "      <td>1</td>\n",
              "      <td>1</td>\n",
              "      <td>0.39</td>\n",
              "      <td>0.68</td>\n",
              "    </tr>\n",
              "    <tr>\n",
              "      <td>xxbos xxmaj urge incontinence . xxmaj urinary tract infection , site not specified . xxmaj mixed hyperlipidemia . xxmaj other and unspecified hyperlipidemia . xxmaj unspecified essential hypertension . xxmaj unspecified idiopathic peripheral neuropathy . xxmaj postmenopausal bleeding</td>\n",
              "      <td>0</td>\n",
              "      <td>0</td>\n",
              "      <td>0.33</td>\n",
              "      <td>0.72</td>\n",
              "    </tr>\n",
              "    <tr>\n",
              "      <td>xxbos xxup copd , xxunk xxunk bronchitis . xxmaj urinary incontinence xxunk use disorder . xxmaj colonic polyps . xxmaj plantar fascial fibromatosis . xxmaj mixed hyperlipidemia . xxmaj diarrhea</td>\n",
              "      <td>0</td>\n",
              "      <td>0</td>\n",
              "      <td>0.30</td>\n",
              "      <td>0.74</td>\n",
              "    </tr>\n",
              "    <tr>\n",
              "      <td>xxbos xxmaj other iatrogenic hypothyroidism . xxmaj malaise and fatigue . xxmaj cervicalgia . xxmaj pain in joint involving ankle and foot . xxmaj chills ( without xxunk abscess of vulva . xxmaj genital herpes , unspecified . xxmaj methicillin resistant xxmaj staphylococcus aureus in conditions classified elsewhere and of unspecified site . xxmaj acute pyelonephritis xxunk malaise and fatigue . xxmaj abnormal weight gain . xxmaj headache . xxmaj</td>\n",
              "      <td>1</td>\n",
              "      <td>1</td>\n",
              "      <td>0.30</td>\n",
              "      <td>0.74</td>\n",
              "    </tr>\n",
              "    <tr>\n",
              "      <td>xxbos xxmaj asthma xxunk hypothyroidism . xxmaj other and unspecified xxunk xxup count : xxup platelet xxup xxunk xxup blood xxup count : xxup white xxup blood xxup cell xxup xxunk : xxup xxunk xxup blood xxup xxunk xxup distribution xxup xxunk xxup blood xxup cell xxup xxunk xxup xxunk xxup xxunk xxup xxunk xxup xxunk xxup xxunk</td>\n",
              "      <td>1</td>\n",
              "      <td>1</td>\n",
              "      <td>0.29</td>\n",
              "      <td>0.75</td>\n",
              "    </tr>\n",
              "    <tr>\n",
              "      <td>xxbos xxmaj insomnia , unspecified . xxmaj closed dislocation , thoracic vertebra . xxmaj mild intellectual disabilities . xxmaj bipolar affective disorder , depressed , mild degree . xxmaj closed dislocation , fifth cervical vertebra . xxmaj closed dislocation , lumbar xxunk . xxmaj barbiturates . xxmaj methadone . xxmaj benzodiazepines . xxmaj propoxyphene . xxmaj cocaine . xxmaj methaqualone . xxmaj opiates</td>\n",
              "      <td>0</td>\n",
              "      <td>0</td>\n",
              "      <td>0.28</td>\n",
              "      <td>0.75</td>\n",
              "    </tr>\n",
              "    <tr>\n",
              "      <td>xxbos xxmaj diarrhea . xxmaj encounter for long - term ( current ) use of other medications . xxmaj hyposmolality and / or hyponatremia . xxmaj other and unspecified hyperlipidemia . xxmaj tobacco use disorder . xxmaj essential thrombocythemia . xxmaj unspecified essential hypertension . xxup copd , xxunk</td>\n",
              "      <td>0</td>\n",
              "      <td>0</td>\n",
              "      <td>0.28</td>\n",
              "      <td>0.75</td>\n",
              "    </tr>\n",
              "    <tr>\n",
              "      <td>xxbos xxmaj chronic lymphoid leukemia without mention of having achieved remission . xxmaj malignant neoplasm of thyroid gland . xxmaj unspecified essential hypertension . xxmaj mixed hyperlipidemia</td>\n",
              "      <td>0</td>\n",
              "      <td>0</td>\n",
              "      <td>0.28</td>\n",
              "      <td>0.76</td>\n",
              "    </tr>\n",
              "    <tr>\n",
              "      <td>xxbos xxmaj abdominal pain , other specified site ; multiple sites . xxmaj depressive disorder , not elsewhere classified . xxmaj anxiety state , unspecified . xxmaj unspecified essential hypertension . xxmaj asthma , unspecified type , without mention of status asthmaticus . xxmaj dysuria . xxmaj transient disorder of initiating or maintaining sleep . xxmaj iron deficiency anemia , unspecified . xxmaj routine gynecological examination . xxmaj headache .</td>\n",
              "      <td>0</td>\n",
              "      <td>0</td>\n",
              "      <td>0.27</td>\n",
              "      <td>0.76</td>\n",
              "    </tr>\n",
              "    <tr>\n",
              "      <td>xxbos xxmaj corn / callus . xxmaj acute cystitis . xxmaj mixed hyperlipidemia . xxmaj abdominal pain , right lower quadrant . xxmaj vomiting alone . xxmaj unspecified essential hypertension . xxmaj routine general medical examination at a health care facility . xxmaj chronic hepatitis c without mention of hepatic coma . xxmaj otalgia xxunk hyperlipidemia . xxmaj unspecified essential hypertension . xxmaj hemoptysis . xxmaj asymptomatic postmenopausal status (</td>\n",
              "      <td>0</td>\n",
              "      <td>0</td>\n",
              "      <td>0.26</td>\n",
              "      <td>0.77</td>\n",
              "    </tr>\n",
              "    <tr>\n",
              "      <td>xxbos xxmaj knee joint replaced by other means . xxmaj personal history of peptic ulcer disease . xxmaj acute nonsuppurative otitis media , unspecified . xxmaj dysthymic disorder . xxmaj nausea and vomiting . xxmaj benign essential hypertension . xxmaj other acquired deformities of knee . xxmaj mixed xxunk . xxmaj hemoglobin . xxmaj monocytes . xxmaj neutrophils . xxmaj platelets . xxmaj globulin . xxmaj albumin / xxmaj globulin</td>\n",
              "      <td>0</td>\n",
              "      <td>0</td>\n",
              "      <td>0.25</td>\n",
              "      <td>0.78</td>\n",
              "    </tr>\n",
              "    <tr>\n",
              "      <td>xxbos xxmaj coronary atherosclerosis xxunk hypothyroidism . xxmaj essential hypertension xxunk hypercholesterolemia . xxmaj transient disorder of initiating or maintaining sleep . xxmaj thrombocytopenia , unspecified . xxmaj vitamin d deficiency xxunk dementia , xxunk . xxmaj mucus . xxmaj urobilinogen . xxmaj protein . xxmaj ketones . xxmaj appearance . xxmaj bilirubin . xxmaj color . xxmaj hemoglobin . xxunk</td>\n",
              "      <td>1</td>\n",
              "      <td>1</td>\n",
              "      <td>0.24</td>\n",
              "      <td>0.78</td>\n",
              "    </tr>\n",
              "    <tr>\n",
              "      <td>xxbos xxmaj headache . xxmaj carpal tunnel syndrome . xxmaj dermatophytosis of nail . xxmaj unspecified vitamin d deficiency . xxmaj muscle weakness ( xxunk of skin sensation . xxmaj depressive disorder , xxunk for prophylactic vaccination and inoculation against influenza . xxunk . xxmaj hemoglobin . xxmaj monocytes . xxmaj neutrophils . xxmaj platelets . xxmaj globulin . xxmaj albumin / xxmaj globulin . xxmaj bilirubin . xxmaj chloride</td>\n",
              "      <td>0</td>\n",
              "      <td>0</td>\n",
              "      <td>0.24</td>\n",
              "      <td>0.78</td>\n",
              "    </tr>\n",
              "    <tr>\n",
              "      <td>xxbos xxmaj abnormal weight gain . xxmaj depressive disorder , xxunk . xxmaj influenza xxunk essential hypertension . xxmaj family history of ischemic heart disease . xxmaj attention or concentration deficit</td>\n",
              "      <td>0</td>\n",
              "      <td>0</td>\n",
              "      <td>0.24</td>\n",
              "      <td>0.79</td>\n",
              "    </tr>\n",
              "    <tr>\n",
              "      <td>xxbos xxmaj hypotension , unspecified . xxmaj dizziness and giddiness . xxmaj anxiety states xxunk hypothyroidism . xxmaj lipoma of other skin and subcutaneous tissue . xxmaj acute allergic serous otitis media . xxmaj mixed hyperlipidemia . xxmaj depressive disorder , xxup nos</td>\n",
              "      <td>1</td>\n",
              "      <td>1</td>\n",
              "      <td>0.24</td>\n",
              "      <td>0.79</td>\n",
              "    </tr>\n",
              "    <tr>\n",
              "      <td>xxbos xxmaj rheumatoid arthritis and other inflam polyarthropathies xxunk b - complex deficiencies . xxmaj osteoporosis , unspecified . xxmaj esophageal reflux . xxup copd , xxunk hyperlipidemia . xxmaj leukocytosis , unspecified . xxmaj other hernia of abdominal cavity no obstruction or gangrene xxunk upper respiratory infections of unspecified site . xxmaj essential hypertension xxunk and fatigue . xxmaj rheumatoid arthritis and other inflam polyarthropathies xxmaj globulin . xxmaj</td>\n",
              "      <td>0</td>\n",
              "      <td>0</td>\n",
              "      <td>0.23</td>\n",
              "      <td>0.79</td>\n",
              "    </tr>\n",
              "    <tr>\n",
              "      <td>xxbos xxmaj enlargement of lymph nodes . xxmaj personal history of colonic polyps . xxmaj mixed hyperlipidemia . xxmaj other convulsions . xxmaj esophageal reflux</td>\n",
              "      <td>0</td>\n",
              "      <td>0</td>\n",
              "      <td>0.23</td>\n",
              "      <td>0.79</td>\n",
              "    </tr>\n",
              "    <tr>\n",
              "      <td>xxbos xxmaj gout xxunk actinomycotic infection . xxmaj myalgia and myositis , unspecified . xxmaj abdominal pain , epigastric . xxmaj other vitamin xxup b12 deficiency anemia . xxmaj absence of menstruation . xxmaj cough . xxmaj seborrheic dermatitis . xxmaj routine general medical examination at a health care facility . xxmaj nonspecific elevation of levels of transaminase or lactic acid dehydrogenase [ xxunk , unspecified . xxmaj other and</td>\n",
              "      <td>0</td>\n",
              "      <td>0</td>\n",
              "      <td>0.21</td>\n",
              "      <td>0.81</td>\n",
              "    </tr>\n",
              "    <tr>\n",
              "      <td>xxbos xxmaj intrinsic asthma without mention of status asthmaticus . xxmaj obesity xxunk hypothyroidism . xxmaj pain in joint involving lower leg . xxmaj lumbago . xxmaj allergic rhinitis , due to animal ( cat ) ( dog ) hair and dander . xxmaj history of tobacco use . xxmaj other chronic otitis externa . xxmaj acute bronchitis and bronchiolitis xxunk surveillance and counseling . xxmaj acute bronchitis . xxmaj</td>\n",
              "      <td>1</td>\n",
              "      <td>1</td>\n",
              "      <td>0.21</td>\n",
              "      <td>0.81</td>\n",
              "    </tr>\n",
              "    <tr>\n",
              "      <td>xxbos xxmaj benign essential hypertension . xxmaj allergic rhinitis xxunk intellectual disabilities . xxmaj elevated blood pressure reading without diagnosis of hypertension . xxmaj other and unspecified hyperlipidemia . xxmaj overweight . xxmaj allergic rhinitis , cause unspecified . xxmaj cough . xxmaj acute maxillary sinusitis</td>\n",
              "      <td>0</td>\n",
              "      <td>0</td>\n",
              "      <td>0.19</td>\n",
              "      <td>0.82</td>\n",
              "    </tr>\n",
              "    <tr>\n",
              "      <td>xxbos xxmaj chronic tension type headache . xxmaj benign essential hypertension . xxmaj unspecified late effects of cerebrovascular disease . xxmaj mixed hyperlipidemia . xxup copd , xxup nos</td>\n",
              "      <td>0</td>\n",
              "      <td>0</td>\n",
              "      <td>0.19</td>\n",
              "      <td>0.83</td>\n",
              "    </tr>\n",
              "    <tr>\n",
              "      <td>xxbos xxmaj generalized anxiety disorder . xxmaj esophageal reflux . xxmaj tension headache . xxmaj other acquired deformities of ankle and foot . xxmaj major depressive disorder , recurrent episode , moderate degree . xxmaj mixed hyperlipidemia . xxmaj pain in thoracic spine . xxmaj acute bronchitis . xxmaj rheumatoid arthritis . xxmaj need for prophylactic vaccination and inoculation against influenza . xxmaj persistent disorder of initiating or maintaining sleep</td>\n",
              "      <td>0</td>\n",
              "      <td>0</td>\n",
              "      <td>0.18</td>\n",
              "      <td>0.83</td>\n",
              "    </tr>\n",
              "    <tr>\n",
              "      <td>xxbos xxmaj routine general medical examination at a health care facility . xxmaj unspecified visual disturbance . xxmaj panic disorder without agoraphobia . xxmaj benign neoplasm of skin , site unspecified . xxmaj irritable bowel syndrome . xxmaj other and unspecified hyperlipidemia . xxmaj dysphagia . xxmaj urinary frequency . xxmaj abdominal pain , unspecified site . xxmaj nontraumatic hematoma of soft tissue . xxmaj acute sinusitis , xxunk .</td>\n",
              "      <td>0</td>\n",
              "      <td>0</td>\n",
              "      <td>0.18</td>\n",
              "      <td>0.83</td>\n",
              "    </tr>\n",
              "    <tr>\n",
              "      <td>xxbos xxmaj osteoporosis xxunk hypothyroidism . xxmaj polyuria . xxmaj cervicalgia . xxmaj sprains and strains of other unspecified parts of back xxunk hypercholesterolemia . xxmaj phlebitis and thrombophlebitis of superficial vessels of lower extremities . xxmaj pharyngitis , acute . xxmaj dysfunction of xxmaj eustachian tube . xxmaj cellulitis and abscess of leg , except foot . xxmaj adjustment disorder with mixed anxiety and depressed mood . xxmaj allergic</td>\n",
              "      <td>1</td>\n",
              "      <td>1</td>\n",
              "      <td>0.17</td>\n",
              "      <td>0.84</td>\n",
              "    </tr>\n",
              "    <tr>\n",
              "      <td>xxbos xxmaj other syndromes affecting cervical region . xxmaj restless legs syndrome ( xxunk and myositis , unspecified . xxmaj obstructive chronic bronchitis , without exacerbation . xxmaj dysthymic disorder . xxmaj unspecified essential hypertension . xxmaj obstructive sleep apnea ( adult ) ( pediatric )</td>\n",
              "      <td>0</td>\n",
              "      <td>0</td>\n",
              "      <td>0.17</td>\n",
              "      <td>0.84</td>\n",
              "    </tr>\n",
              "    <tr>\n",
              "      <td>xxbos xxmaj acute upper respiratory infections of unspecified site . xxmaj allergic rhinitis xxunk hypothyroidism . xxmaj cough . xxmaj dysmetabolic syndrome xxunk type schizophrenia , chronic state . xxmaj gonadal dysgenesis . xxmaj tobacco use disorder . xxup copd , xxunk affective disorder , manic , severe degree , without mention of psychotic behavior . xxmaj obesity xxunk insufficiency . xxmaj constipation</td>\n",
              "      <td>1</td>\n",
              "      <td>1</td>\n",
              "      <td>0.17</td>\n",
              "      <td>0.85</td>\n",
              "    </tr>\n",
              "    <tr>\n",
              "      <td>xxbos xxmaj acute maxillary sinusitis . xxmaj unspecified essential hypertension . xxmaj other and unspecified hyperlipidemia . xxmaj symptomatic menopausal or female climacteric states . xxmaj unspecified essential hypertension . xxmaj hereditary hemorrhagic telangiectasia . xxmaj herpes simplex with other specified complications . xxmaj unspecified essential hypertension . xxmaj ankle sprain xxunk , unspecified . xxmaj hypoactive sexual desire disorder . xxmaj stomatitis and mucositis , unspecified . xxmaj rosacea</td>\n",
              "      <td>0</td>\n",
              "      <td>0</td>\n",
              "      <td>0.16</td>\n",
              "      <td>0.85</td>\n",
              "    </tr>\n",
              "    <tr>\n",
              "      <td>xxbos xxmaj other specified acquired hypothyroidism . xxmaj mixed hyperlipidemia . xxmaj osteoarthrosis , localized , primary , involving pelvic region and thigh . xxmaj spasm of muscle . xxmaj acute upper respiratory infections of unspecified site . xxmaj abnormality of gait . xxmaj morbid obesity . xxmaj allergic rhinitis due to other allergen . xxmaj other specified peripheral vascular diseases . xxmaj outlet dysfunction constipation . xxmaj urinary tract</td>\n",
              "      <td>1</td>\n",
              "      <td>1</td>\n",
              "      <td>0.16</td>\n",
              "      <td>0.85</td>\n",
              "    </tr>\n",
              "    <tr>\n",
              "      <td>xxbos xxmaj unspecified chest pain . xxmaj intervertebral disc disorder with myelopathy , cervical region . xxmaj displacement of lumbar intervertebral disc without myelopathy . xxmaj viral warts , unspecified . xxmaj dermatophytosis of nail . xxmaj oral aphthae . xxmaj urinary frequency . xxmaj other and unspecified hyperlipidemia . xxmaj sprain of unspecified site of knee and leg . xxmaj routine general medical examination at a health care facility</td>\n",
              "      <td>0</td>\n",
              "      <td>0</td>\n",
              "      <td>0.16</td>\n",
              "      <td>0.85</td>\n",
              "    </tr>\n",
              "    <tr>\n",
              "      <td>xxbos xxmaj supervision of other normal pregnancy . xxmaj normal delivery . xxmaj dysplasia of cervix , unspecified . xxmaj postpartum care and examination immediately after delivery xxunk xxunk xxmaj report1 xxunk xxunk xxunk . xxmaj hemoglobin . xxmaj monocytes . xxmaj neutrophils . xxmaj platelets</td>\n",
              "      <td>0</td>\n",
              "      <td>0</td>\n",
              "      <td>0.16</td>\n",
              "      <td>0.85</td>\n",
              "    </tr>\n",
              "    <tr>\n",
              "      <td>xxbos xxmaj dysthymic disorder . xxmaj hypertrophy ( benign ) of prostate without urinary obstruction and other lower urinary tract symptoms ( xxunk and unspecified hyperlipidemia . xxmaj lumbago . xxmaj syncope and collapse . xxmaj candidiasis of skin and nails</td>\n",
              "      <td>0</td>\n",
              "      <td>0</td>\n",
              "      <td>0.16</td>\n",
              "      <td>0.86</td>\n",
              "    </tr>\n",
              "  </tbody>\n",
              "</table>"
            ],
            "text/plain": [
              "<IPython.core.display.HTML object>"
            ]
          },
          "metadata": {
            "tags": []
          }
        }
      ]
    },
    {
      "cell_type": "code",
      "metadata": {
        "id": "j8N-h948cb_X",
        "colab": {
          "base_uri": "https://localhost:8080/"
        },
        "outputId": "0703f94a-9c01-4c5c-9d74-3e8e042113fa"
      },
      "source": [
        "learn.predict(\"Other abscess of vulva.Symptomatic menopausal or female climacteric states.Acute sinusitis                                                                                                                                                                                                                                                .Insect bite, nonvenomous, of other, multiple, and unspecified sites, without mention of infection.Otalgia, unspecified.Other atopic dermatitis and related conditions.Pain in joint involving upper arm\")"
      ],
      "execution_count": null,
      "outputs": [
        {
          "output_type": "execute_result",
          "data": {
            "text/plain": [
              "(Category tensor(0), tensor(0), tensor([0.9893, 0.0107]))"
            ]
          },
          "metadata": {
            "tags": []
          },
          "execution_count": 100
        }
      ]
    },
    {
      "cell_type": "code",
      "metadata": {
        "id": "RtvsuwFVk7Jq",
        "colab": {
          "base_uri": "https://localhost:8080/"
        },
        "outputId": "2a2afa5e-d33d-49dc-dacc-48efc1494b64"
      },
      "source": [
        "!pwd"
      ],
      "execution_count": null,
      "outputs": [
        {
          "output_type": "stream",
          "text": [
            "/content\n"
          ],
          "name": "stdout"
        }
      ]
    },
    {
      "cell_type": "code",
      "metadata": {
        "id": "2dvpSq-hk6z_",
        "colab": {
          "base_uri": "https://localhost:8080/"
        },
        "outputId": "79fb9f8d-19db-49cd-e8ff-86162c8b8c49"
      },
      "source": [
        "!ls"
      ],
      "execution_count": null,
      "outputs": [
        {
          "output_type": "stream",
          "text": [
            "adc.json       LanguageModel  Mtext.csv\t\t PFModelInOmitHypo.csv\n",
            "data_clas.pkl  Ltext.csv      OUTPUT_DIR\t sample_data\n",
            "data_lm.pkl    medtxt.csv     PFModelIN.csv\t TestInHypo.csv\n",
            "Dtext.csv      models\t      PFModelInHypo.csv  TestInOmitHypo.csv\n"
          ],
          "name": "stdout"
        }
      ]
    },
    {
      "cell_type": "code",
      "metadata": {
        "id": "hH4uepRpk6ej",
        "colab": {
          "base_uri": "https://localhost:8080/"
        },
        "outputId": "b621c8fb-4c72-47bf-db21-057a81248847"
      },
      "source": [
        ""
      ],
      "execution_count": null,
      "outputs": [
        {
          "output_type": "stream",
          "text": [
            "Copying file://medtxt.csv [Content-Type=text/csv]...\n",
            "Copying file://adc.json [Content-Type=application/json]...\n",
            "/ [0/26 files][    0.0 B/  1.2 GiB]   0% Done                                   \r/ [0/26 files][    0.0 B/  1.2 GiB]   0% Done                                   \rCopying file://models/tmp.pth [Content-Type=application/octet-stream]...\n",
            "Copying file://data_clas.pkl [Content-Type=application/octet-stream]...\n",
            "/ [0/26 files][    0.0 B/  1.2 GiB]   0% Done                                   \r/ [0/26 files][    0.0 B/  1.2 GiB]   0% Done                                   \rCopying file://models/second.pth [Content-Type=application/octet-stream]...\n",
            "/ [0/26 files][    0.0 B/  1.2 GiB]   0% Done                                   \rCopying file://Dtext.csv [Content-Type=text/csv]...\n",
            "/ [0/26 files][    0.0 B/  1.2 GiB]   0% Done                                   \rCopying file://models/fine_tuned.pth [Content-Type=application/octet-stream]...\n",
            "Copying file://data_lm.pkl [Content-Type=application/octet-stream]...\n",
            "/ [0/26 files][    0.0 B/  1.2 GiB]   0% Done                                   \rCopying file://models/finalclassifier.pth [Content-Type=application/octet-stream]...\n",
            "/ [0/26 files][    0.0 B/  1.2 GiB]   0% Done                                   \r/ [0/26 files][    0.0 B/  1.2 GiB]   0% Done                                   \rCopying file://Ltext.csv [Content-Type=text/csv]...\n",
            "/ [0/26 files][    0.0 B/  1.2 GiB]   0% Done                                   \r==> NOTE: You are uploading one or more large file(s), which would run\n",
            "significantly faster if you enable parallel composite uploads. This\n",
            "feature can be enabled by editing the\n",
            "\"parallel_composite_upload_threshold\" value in your .boto\n",
            "configuration file. However, note that if you do this large files will\n",
            "be uploaded as `composite objects\n",
            "<https://cloud.google.com/storage/docs/composite-objects>`_,which\n",
            "means that any user who downloads such objects will need to have a\n",
            "compiled crcmod installed (see \"gsutil help crcmod\"). This is because\n",
            "without a compiled crcmod, computing checksums on composite objects is\n",
            "so slow that gsutil disables downloads of composite objects.\n",
            "\n",
            "Copying file://models/third.pth [Content-Type=application/octet-stream]...\n",
            "Copying file://models/fine_tuned_enc.pth [Content-Type=application/octet-stream]...\n",
            "Copying file://models/fit_head.pth [Content-Type=application/octet-stream]...\n",
            "Copying file://models/first.pth [Content-Type=application/octet-stream]...\n",
            "Copying file://Mtext.csv [Content-Type=text/csv]...\n",
            "Copying file://PFModelIN.csv [Content-Type=text/csv]...\n",
            "Copying file://PFModelInHypo.csv [Content-Type=text/csv]...\n",
            "Copying file://PFModelInOmitHypo.csv [Content-Type=text/csv]...\n",
            "Copying file://sample_data/anscombe.json [Content-Type=application/json]...\n",
            "Copying file://sample_data/README.md [Content-Type=text/markdown]...\n",
            "Copying file://sample_data/california_housing_train.csv [Content-Type=text/csv]...\n",
            "Copying file://sample_data/mnist_train_small.csv [Content-Type=text/csv]...\n",
            "Copying file://sample_data/california_housing_test.csv [Content-Type=text/csv]...\n",
            "Copying file://sample_data/mnist_test.csv [Content-Type=text/csv]...\n",
            "Copying file://TestInHypo.csv [Content-Type=text/csv]...\n",
            "Copying file://TestInOmitHypo.csv [Content-Type=text/csv]...\n",
            "|\n",
            "Operation completed over 26 objects/1.2 GiB.                                     \n"
          ],
          "name": "stdout"
        }
      ]
    },
    {
      "cell_type": "code",
      "metadata": {
        "id": "h_rIjgulk6JL",
        "colab": {
          "base_uri": "https://localhost:8080/"
        },
        "outputId": "9f077ab5-2585-4668-8227-b14cd2fecbc9"
      },
      "source": [
        ""
      ],
      "execution_count": null,
      "outputs": [
        {
          "output_type": "stream",
          "text": [
            "/content\n"
          ],
          "name": "stdout"
        }
      ]
    }
  ]
}